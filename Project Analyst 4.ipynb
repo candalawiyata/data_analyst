{
 "cells": [
  {
   "cell_type": "markdown",
   "metadata": {},
   "source": [
    "# **Faktor apakah yang mempengaruhi sebuah penjualan mobil?**\n",
    "Kamu adalah seorang analis di Crankshaft List. Ratusan iklan kendaraan gratis ditayangkan di situs web perusahaan setiap harinya. Nah, kamu ditugaskan untuk mempelajari data yang telah dikumpulkan selama beberapa tahun terakhir guna menentukan faktor-faktor yang memengaruhi harga sebuah kendaraan."
   ]
  },
  {
   "cell_type": "markdown",
   "metadata": {},
   "source": [
    "##  Pendahuluan  <a id='intro'></a>\n",
    "Kamu adalah seorang analis di Crankshaft List. Ratusan iklan kendaraan gratis ditayangkan di situs web perusahaan setiap harinya. Nah, kamu ditugaskan untuk mempelajari data yang telah dikumpulkan selama beberapa tahun terakhir guna menentukan faktor-faktor yang memengaruhi harga sebuah kendaraan.\n",
    "\n",
    "Dalam proyek kali ini, kami lakukan adalah mengidentifikasi faktor-faktor yang memiliki pengaruh terhadap harga kendaraan. Proses ini dimulai dengan tahap eksplorasi data, termasuk penanganan nilai-nilai yang hilang. Kami juga memeriksa dan melakukan perbaikan pada tipe data yang tidak sesuai jika ditemukan, serta mengidentifikasi dan menghapus data yang duplikat. Selanjutnya, kami menjalani tahap khusus untuk memeriksa dan menangani outlier dalam data. Terakhir, analisis data dilakukan menggunakan histogram, dan kesimpulan akhir ditarik dari hasil analisis ini.\n",
    "\n",
    "### Tujuan: \n",
    "\n",
    "Tujuan dari proyek ini adalah untuk melakukan analisis data eksplorasi sederhana untuk menemukan pola menarik yang \n",
    "dapat menjawab pertanyaan:\n",
    "\n",
    "* Temuan apa saja yang menarik dari situs web iklan ini?\n",
    "* Faktor-faktor apakah yang dapat membuat mobil terjual?\n",
    "\n",
    "### Tahapan\n",
    "\n",
    "Data disimpan pada File path: `/datasets/vehicles_us.csv` dan proyek ini memiliki 2 tahapan diantaranya:\n",
    "1.  Pra-pemrosesan\n",
    "2. Exploratory Data Analysis\n"
   ]
  },
  {
   "cell_type": "markdown",
   "metadata": {},
   "source": [
    "## Pra-pemrosesan"
   ]
  },
  {
   "cell_type": "code",
   "execution_count": 36,
   "metadata": {},
   "outputs": [],
   "source": [
    "# Muat semua library\n",
    "import pandas as pd\n",
    "import numpy as np\n",
    "import matplotlib.pyplot as plt\n",
    "import seaborn as sns"
   ]
  },
  {
   "cell_type": "markdown",
   "metadata": {},
   "source": [
    "### Memuat Data"
   ]
  },
  {
   "cell_type": "markdown",
   "metadata": {},
   "source": [
    "[Muat data proyek ini dan baca informasi umumnya.]"
   ]
  },
  {
   "cell_type": "code",
   "execution_count": 37,
   "metadata": {},
   "outputs": [],
   "source": [
    "# Muat file data menjadi DataFrame\n",
    "data = pd.read_csv('/datasets/vehicles_us.csv')"
   ]
  },
  {
   "cell_type": "markdown",
   "metadata": {},
   "source": [
    "### Mengeksplorasi Data Awal"
   ]
  },
  {
   "cell_type": "markdown",
   "metadata": {},
   "source": [
    "Dataset yang kamu miliki berisi kolom-kolom berikut:\n",
    "\n",
    "- `price`\n",
    "- `model_year`\n",
    "- `model`\n",
    "- `condition`\n",
    "- `cylinders`\n",
    "- `fuel` — gas, disel, dan lain-lain.\n",
    "- `odometer` — jarak tempuh kendaraan saat iklan ditayangkan  \n",
    "- `transmission`\n",
    "- `paint_color`\n",
    "- `is_4wd` — apakah kendaraan memiliki penggerak 4 roda (tipe Boolean)- `date_posted` — tanggal iklan ditayangkan- `days_listed` — jumlah hari iklan ditayangkan hingga dihapus\n"
   ]
  },
  {
   "cell_type": "code",
   "execution_count": 38,
   "metadata": {
    "scrolled": true
   },
   "outputs": [
    {
     "name": "stdout",
     "output_type": "stream",
     "text": [
      "<class 'pandas.core.frame.DataFrame'>\n",
      "RangeIndex: 51525 entries, 0 to 51524\n",
      "Data columns (total 13 columns):\n",
      " #   Column        Non-Null Count  Dtype  \n",
      "---  ------        --------------  -----  \n",
      " 0   price         51525 non-null  int64  \n",
      " 1   model_year    47906 non-null  float64\n",
      " 2   model         51525 non-null  object \n",
      " 3   condition     51525 non-null  object \n",
      " 4   cylinders     46265 non-null  float64\n",
      " 5   fuel          51525 non-null  object \n",
      " 6   odometer      43633 non-null  float64\n",
      " 7   transmission  51525 non-null  object \n",
      " 8   type          51525 non-null  object \n",
      " 9   paint_color   42258 non-null  object \n",
      " 10  is_4wd        25572 non-null  float64\n",
      " 11  date_posted   51525 non-null  object \n",
      " 12  days_listed   51525 non-null  int64  \n",
      "dtypes: float64(4), int64(2), object(7)\n",
      "memory usage: 5.1+ MB\n"
     ]
    }
   ],
   "source": [
    "# tampilkan informasi/rangkuman umum tentang DataFrame\n",
    "data.info()"
   ]
  },
  {
   "cell_type": "code",
   "execution_count": 39,
   "metadata": {
    "scrolled": true
   },
   "outputs": [
    {
     "data": {
      "text/html": [
       "<div>\n",
       "<style scoped>\n",
       "    .dataframe tbody tr th:only-of-type {\n",
       "        vertical-align: middle;\n",
       "    }\n",
       "\n",
       "    .dataframe tbody tr th {\n",
       "        vertical-align: top;\n",
       "    }\n",
       "\n",
       "    .dataframe thead th {\n",
       "        text-align: right;\n",
       "    }\n",
       "</style>\n",
       "<table border=\"1\" class=\"dataframe\">\n",
       "  <thead>\n",
       "    <tr style=\"text-align: right;\">\n",
       "      <th></th>\n",
       "      <th>price</th>\n",
       "      <th>model_year</th>\n",
       "      <th>cylinders</th>\n",
       "      <th>odometer</th>\n",
       "      <th>is_4wd</th>\n",
       "      <th>days_listed</th>\n",
       "    </tr>\n",
       "  </thead>\n",
       "  <tbody>\n",
       "    <tr>\n",
       "      <th>count</th>\n",
       "      <td>51525.000000</td>\n",
       "      <td>47906.000000</td>\n",
       "      <td>46265.000000</td>\n",
       "      <td>43633.000000</td>\n",
       "      <td>25572.0</td>\n",
       "      <td>51525.00000</td>\n",
       "    </tr>\n",
       "    <tr>\n",
       "      <th>mean</th>\n",
       "      <td>12132.464920</td>\n",
       "      <td>2009.750470</td>\n",
       "      <td>6.125235</td>\n",
       "      <td>115553.461738</td>\n",
       "      <td>1.0</td>\n",
       "      <td>39.55476</td>\n",
       "    </tr>\n",
       "    <tr>\n",
       "      <th>std</th>\n",
       "      <td>10040.803015</td>\n",
       "      <td>6.282065</td>\n",
       "      <td>1.660360</td>\n",
       "      <td>65094.611341</td>\n",
       "      <td>0.0</td>\n",
       "      <td>28.20427</td>\n",
       "    </tr>\n",
       "    <tr>\n",
       "      <th>min</th>\n",
       "      <td>1.000000</td>\n",
       "      <td>1908.000000</td>\n",
       "      <td>3.000000</td>\n",
       "      <td>0.000000</td>\n",
       "      <td>1.0</td>\n",
       "      <td>0.00000</td>\n",
       "    </tr>\n",
       "    <tr>\n",
       "      <th>25%</th>\n",
       "      <td>5000.000000</td>\n",
       "      <td>2006.000000</td>\n",
       "      <td>4.000000</td>\n",
       "      <td>70000.000000</td>\n",
       "      <td>1.0</td>\n",
       "      <td>19.00000</td>\n",
       "    </tr>\n",
       "    <tr>\n",
       "      <th>50%</th>\n",
       "      <td>9000.000000</td>\n",
       "      <td>2011.000000</td>\n",
       "      <td>6.000000</td>\n",
       "      <td>113000.000000</td>\n",
       "      <td>1.0</td>\n",
       "      <td>33.00000</td>\n",
       "    </tr>\n",
       "    <tr>\n",
       "      <th>75%</th>\n",
       "      <td>16839.000000</td>\n",
       "      <td>2014.000000</td>\n",
       "      <td>8.000000</td>\n",
       "      <td>155000.000000</td>\n",
       "      <td>1.0</td>\n",
       "      <td>53.00000</td>\n",
       "    </tr>\n",
       "    <tr>\n",
       "      <th>max</th>\n",
       "      <td>375000.000000</td>\n",
       "      <td>2019.000000</td>\n",
       "      <td>12.000000</td>\n",
       "      <td>990000.000000</td>\n",
       "      <td>1.0</td>\n",
       "      <td>271.00000</td>\n",
       "    </tr>\n",
       "  </tbody>\n",
       "</table>\n",
       "</div>"
      ],
      "text/plain": [
       "               price    model_year     cylinders       odometer   is_4wd  \\\n",
       "count   51525.000000  47906.000000  46265.000000   43633.000000  25572.0   \n",
       "mean    12132.464920   2009.750470      6.125235  115553.461738      1.0   \n",
       "std     10040.803015      6.282065      1.660360   65094.611341      0.0   \n",
       "min         1.000000   1908.000000      3.000000       0.000000      1.0   \n",
       "25%      5000.000000   2006.000000      4.000000   70000.000000      1.0   \n",
       "50%      9000.000000   2011.000000      6.000000  113000.000000      1.0   \n",
       "75%     16839.000000   2014.000000      8.000000  155000.000000      1.0   \n",
       "max    375000.000000   2019.000000     12.000000  990000.000000      1.0   \n",
       "\n",
       "       days_listed  \n",
       "count  51525.00000  \n",
       "mean      39.55476  \n",
       "std       28.20427  \n",
       "min        0.00000  \n",
       "25%       19.00000  \n",
       "50%       33.00000  \n",
       "75%       53.00000  \n",
       "max      271.00000  "
      ]
     },
     "execution_count": 39,
     "metadata": {},
     "output_type": "execute_result"
    }
   ],
   "source": [
    "# tampilkan informasi/rangkuman umum tentang DataFrame\n",
    "data.describe()"
   ]
  },
  {
   "cell_type": "code",
   "execution_count": 40,
   "metadata": {},
   "outputs": [
    {
     "data": {
      "text/html": [
       "<div>\n",
       "<style scoped>\n",
       "    .dataframe tbody tr th:only-of-type {\n",
       "        vertical-align: middle;\n",
       "    }\n",
       "\n",
       "    .dataframe tbody tr th {\n",
       "        vertical-align: top;\n",
       "    }\n",
       "\n",
       "    .dataframe thead th {\n",
       "        text-align: right;\n",
       "    }\n",
       "</style>\n",
       "<table border=\"1\" class=\"dataframe\">\n",
       "  <thead>\n",
       "    <tr style=\"text-align: right;\">\n",
       "      <th></th>\n",
       "      <th>price</th>\n",
       "      <th>model_year</th>\n",
       "      <th>model</th>\n",
       "      <th>condition</th>\n",
       "      <th>cylinders</th>\n",
       "      <th>fuel</th>\n",
       "      <th>odometer</th>\n",
       "      <th>transmission</th>\n",
       "      <th>type</th>\n",
       "      <th>paint_color</th>\n",
       "      <th>is_4wd</th>\n",
       "      <th>date_posted</th>\n",
       "      <th>days_listed</th>\n",
       "    </tr>\n",
       "  </thead>\n",
       "  <tbody>\n",
       "    <tr>\n",
       "      <th>13467</th>\n",
       "      <td>21900</td>\n",
       "      <td>2015.0</td>\n",
       "      <td>toyota tacoma</td>\n",
       "      <td>excellent</td>\n",
       "      <td>6.0</td>\n",
       "      <td>gas</td>\n",
       "      <td>80600.0</td>\n",
       "      <td>automatic</td>\n",
       "      <td>truck</td>\n",
       "      <td>black</td>\n",
       "      <td>1.0</td>\n",
       "      <td>2019-02-24</td>\n",
       "      <td>72</td>\n",
       "    </tr>\n",
       "    <tr>\n",
       "      <th>44612</th>\n",
       "      <td>26000</td>\n",
       "      <td>2017.0</td>\n",
       "      <td>ram 1500</td>\n",
       "      <td>good</td>\n",
       "      <td>8.0</td>\n",
       "      <td>gas</td>\n",
       "      <td>40862.0</td>\n",
       "      <td>automatic</td>\n",
       "      <td>truck</td>\n",
       "      <td>NaN</td>\n",
       "      <td>1.0</td>\n",
       "      <td>2019-04-19</td>\n",
       "      <td>17</td>\n",
       "    </tr>\n",
       "    <tr>\n",
       "      <th>5765</th>\n",
       "      <td>6495</td>\n",
       "      <td>2005.0</td>\n",
       "      <td>honda odyssey</td>\n",
       "      <td>excellent</td>\n",
       "      <td>6.0</td>\n",
       "      <td>gas</td>\n",
       "      <td>NaN</td>\n",
       "      <td>automatic</td>\n",
       "      <td>mini-van</td>\n",
       "      <td>red</td>\n",
       "      <td>NaN</td>\n",
       "      <td>2018-06-21</td>\n",
       "      <td>45</td>\n",
       "    </tr>\n",
       "    <tr>\n",
       "      <th>11224</th>\n",
       "      <td>16995</td>\n",
       "      <td>2018.0</td>\n",
       "      <td>dodge grand caravan</td>\n",
       "      <td>excellent</td>\n",
       "      <td>6.0</td>\n",
       "      <td>gas</td>\n",
       "      <td>45677.0</td>\n",
       "      <td>automatic</td>\n",
       "      <td>van</td>\n",
       "      <td>NaN</td>\n",
       "      <td>NaN</td>\n",
       "      <td>2018-12-20</td>\n",
       "      <td>9</td>\n",
       "    </tr>\n",
       "    <tr>\n",
       "      <th>11657</th>\n",
       "      <td>10999</td>\n",
       "      <td>2006.0</td>\n",
       "      <td>ram 1500</td>\n",
       "      <td>excellent</td>\n",
       "      <td>8.0</td>\n",
       "      <td>gas</td>\n",
       "      <td>98402.0</td>\n",
       "      <td>automatic</td>\n",
       "      <td>truck</td>\n",
       "      <td>blue</td>\n",
       "      <td>1.0</td>\n",
       "      <td>2018-11-13</td>\n",
       "      <td>13</td>\n",
       "    </tr>\n",
       "    <tr>\n",
       "      <th>...</th>\n",
       "      <td>...</td>\n",
       "      <td>...</td>\n",
       "      <td>...</td>\n",
       "      <td>...</td>\n",
       "      <td>...</td>\n",
       "      <td>...</td>\n",
       "      <td>...</td>\n",
       "      <td>...</td>\n",
       "      <td>...</td>\n",
       "      <td>...</td>\n",
       "      <td>...</td>\n",
       "      <td>...</td>\n",
       "      <td>...</td>\n",
       "    </tr>\n",
       "    <tr>\n",
       "      <th>389</th>\n",
       "      <td>11995</td>\n",
       "      <td>2012.0</td>\n",
       "      <td>chevrolet suburban</td>\n",
       "      <td>good</td>\n",
       "      <td>8.0</td>\n",
       "      <td>gas</td>\n",
       "      <td>163100.0</td>\n",
       "      <td>automatic</td>\n",
       "      <td>SUV</td>\n",
       "      <td>NaN</td>\n",
       "      <td>1.0</td>\n",
       "      <td>2018-05-06</td>\n",
       "      <td>35</td>\n",
       "    </tr>\n",
       "    <tr>\n",
       "      <th>20310</th>\n",
       "      <td>17495</td>\n",
       "      <td>2012.0</td>\n",
       "      <td>cadillac escalade</td>\n",
       "      <td>good</td>\n",
       "      <td>8.0</td>\n",
       "      <td>gas</td>\n",
       "      <td>150194.0</td>\n",
       "      <td>automatic</td>\n",
       "      <td>SUV</td>\n",
       "      <td>black</td>\n",
       "      <td>NaN</td>\n",
       "      <td>2019-03-06</td>\n",
       "      <td>55</td>\n",
       "    </tr>\n",
       "    <tr>\n",
       "      <th>27768</th>\n",
       "      <td>3995</td>\n",
       "      <td>2011.0</td>\n",
       "      <td>chevrolet impala</td>\n",
       "      <td>good</td>\n",
       "      <td>6.0</td>\n",
       "      <td>gas</td>\n",
       "      <td>167893.0</td>\n",
       "      <td>automatic</td>\n",
       "      <td>sedan</td>\n",
       "      <td>black</td>\n",
       "      <td>NaN</td>\n",
       "      <td>2018-07-08</td>\n",
       "      <td>33</td>\n",
       "    </tr>\n",
       "    <tr>\n",
       "      <th>49172</th>\n",
       "      <td>11900</td>\n",
       "      <td>2007.0</td>\n",
       "      <td>chevrolet suburban</td>\n",
       "      <td>good</td>\n",
       "      <td>8.0</td>\n",
       "      <td>gas</td>\n",
       "      <td>107000.0</td>\n",
       "      <td>automatic</td>\n",
       "      <td>wagon</td>\n",
       "      <td>custom</td>\n",
       "      <td>1.0</td>\n",
       "      <td>2018-11-19</td>\n",
       "      <td>7</td>\n",
       "    </tr>\n",
       "    <tr>\n",
       "      <th>5225</th>\n",
       "      <td>11950</td>\n",
       "      <td>2015.0</td>\n",
       "      <td>subaru outback</td>\n",
       "      <td>excellent</td>\n",
       "      <td>4.0</td>\n",
       "      <td>gas</td>\n",
       "      <td>110393.0</td>\n",
       "      <td>automatic</td>\n",
       "      <td>SUV</td>\n",
       "      <td>white</td>\n",
       "      <td>1.0</td>\n",
       "      <td>2018-10-04</td>\n",
       "      <td>36</td>\n",
       "    </tr>\n",
       "  </tbody>\n",
       "</table>\n",
       "<p>5152 rows × 13 columns</p>\n",
       "</div>"
      ],
      "text/plain": [
       "       price  model_year                model  condition  cylinders fuel  \\\n",
       "13467  21900      2015.0        toyota tacoma  excellent        6.0  gas   \n",
       "44612  26000      2017.0             ram 1500       good        8.0  gas   \n",
       "5765    6495      2005.0        honda odyssey  excellent        6.0  gas   \n",
       "11224  16995      2018.0  dodge grand caravan  excellent        6.0  gas   \n",
       "11657  10999      2006.0             ram 1500  excellent        8.0  gas   \n",
       "...      ...         ...                  ...        ...        ...  ...   \n",
       "389    11995      2012.0   chevrolet suburban       good        8.0  gas   \n",
       "20310  17495      2012.0    cadillac escalade       good        8.0  gas   \n",
       "27768   3995      2011.0     chevrolet impala       good        6.0  gas   \n",
       "49172  11900      2007.0   chevrolet suburban       good        8.0  gas   \n",
       "5225   11950      2015.0       subaru outback  excellent        4.0  gas   \n",
       "\n",
       "       odometer transmission      type paint_color  is_4wd date_posted  \\\n",
       "13467   80600.0    automatic     truck       black     1.0  2019-02-24   \n",
       "44612   40862.0    automatic     truck         NaN     1.0  2019-04-19   \n",
       "5765        NaN    automatic  mini-van         red     NaN  2018-06-21   \n",
       "11224   45677.0    automatic       van         NaN     NaN  2018-12-20   \n",
       "11657   98402.0    automatic     truck        blue     1.0  2018-11-13   \n",
       "...         ...          ...       ...         ...     ...         ...   \n",
       "389    163100.0    automatic       SUV         NaN     1.0  2018-05-06   \n",
       "20310  150194.0    automatic       SUV       black     NaN  2019-03-06   \n",
       "27768  167893.0    automatic     sedan       black     NaN  2018-07-08   \n",
       "49172  107000.0    automatic     wagon      custom     1.0  2018-11-19   \n",
       "5225   110393.0    automatic       SUV       white     1.0  2018-10-04   \n",
       "\n",
       "       days_listed  \n",
       "13467           72  \n",
       "44612           17  \n",
       "5765            45  \n",
       "11224            9  \n",
       "11657           13  \n",
       "...            ...  \n",
       "389             35  \n",
       "20310           55  \n",
       "27768           33  \n",
       "49172            7  \n",
       "5225            36  \n",
       "\n",
       "[5152 rows x 13 columns]"
      ]
     },
     "execution_count": 40,
     "metadata": {},
     "output_type": "execute_result"
    }
   ],
   "source": [
    "# tampilkan sampel data\n",
    "data.sample(frac=0.1)"
   ]
  },
  {
   "cell_type": "markdown",
   "metadata": {},
   "source": [
    "\n",
    "    \n",
    "Berdasarkan dari informasi umum dan sampel data yang ditampilkan terdapat beberapa data yang memerlukan penyelidikan lebih lanjut diantaranya:\n",
    "\n",
    "1. data di kolom `model_year` harus diperbaiki karena nilai tahun memiliki koma\n",
    "2. data di kolom `condition` harus dirubah dari nilai string ke skala numerik\n",
    "3. terdapat missing value pada 5 kolom (model_year, cylinders, odometer, paint_color, is_4wd\n",
    "4. merubah nilai NaN pada kolom `is_4wd` kedalam bentuk false\n",
    "    \n"
   ]
  },
  {
   "cell_type": "code",
   "execution_count": 41,
   "metadata": {},
   "outputs": [
    {
     "data": {
      "text/html": [
       "<div>\n",
       "<style scoped>\n",
       "    .dataframe tbody tr th:only-of-type {\n",
       "        vertical-align: middle;\n",
       "    }\n",
       "\n",
       "    .dataframe tbody tr th {\n",
       "        vertical-align: top;\n",
       "    }\n",
       "\n",
       "    .dataframe thead th {\n",
       "        text-align: right;\n",
       "    }\n",
       "</style>\n",
       "<table border=\"1\" class=\"dataframe\">\n",
       "  <thead>\n",
       "    <tr style=\"text-align: right;\">\n",
       "      <th></th>\n",
       "      <th>model_year</th>\n",
       "      <th>condition</th>\n",
       "      <th>cylinders</th>\n",
       "      <th>date_posted</th>\n",
       "    </tr>\n",
       "  </thead>\n",
       "  <tbody>\n",
       "    <tr>\n",
       "      <th>0</th>\n",
       "      <td>2011.0</td>\n",
       "      <td>good</td>\n",
       "      <td>6.0</td>\n",
       "      <td>2018-06-23</td>\n",
       "    </tr>\n",
       "    <tr>\n",
       "      <th>1</th>\n",
       "      <td>NaN</td>\n",
       "      <td>good</td>\n",
       "      <td>6.0</td>\n",
       "      <td>2018-10-19</td>\n",
       "    </tr>\n",
       "    <tr>\n",
       "      <th>2</th>\n",
       "      <td>2013.0</td>\n",
       "      <td>like new</td>\n",
       "      <td>4.0</td>\n",
       "      <td>2019-02-07</td>\n",
       "    </tr>\n",
       "    <tr>\n",
       "      <th>3</th>\n",
       "      <td>2003.0</td>\n",
       "      <td>fair</td>\n",
       "      <td>8.0</td>\n",
       "      <td>2019-03-22</td>\n",
       "    </tr>\n",
       "    <tr>\n",
       "      <th>4</th>\n",
       "      <td>2017.0</td>\n",
       "      <td>excellent</td>\n",
       "      <td>4.0</td>\n",
       "      <td>2019-04-02</td>\n",
       "    </tr>\n",
       "    <tr>\n",
       "      <th>...</th>\n",
       "      <td>...</td>\n",
       "      <td>...</td>\n",
       "      <td>...</td>\n",
       "      <td>...</td>\n",
       "    </tr>\n",
       "    <tr>\n",
       "      <th>51520</th>\n",
       "      <td>2013.0</td>\n",
       "      <td>like new</td>\n",
       "      <td>6.0</td>\n",
       "      <td>2018-10-03</td>\n",
       "    </tr>\n",
       "    <tr>\n",
       "      <th>51521</th>\n",
       "      <td>2002.0</td>\n",
       "      <td>salvage</td>\n",
       "      <td>4.0</td>\n",
       "      <td>2018-11-14</td>\n",
       "    </tr>\n",
       "    <tr>\n",
       "      <th>51522</th>\n",
       "      <td>2009.0</td>\n",
       "      <td>excellent</td>\n",
       "      <td>4.0</td>\n",
       "      <td>2018-11-15</td>\n",
       "    </tr>\n",
       "    <tr>\n",
       "      <th>51523</th>\n",
       "      <td>2013.0</td>\n",
       "      <td>good</td>\n",
       "      <td>4.0</td>\n",
       "      <td>2018-07-02</td>\n",
       "    </tr>\n",
       "    <tr>\n",
       "      <th>51524</th>\n",
       "      <td>2014.0</td>\n",
       "      <td>good</td>\n",
       "      <td>4.0</td>\n",
       "      <td>2018-06-05</td>\n",
       "    </tr>\n",
       "  </tbody>\n",
       "</table>\n",
       "<p>51525 rows × 4 columns</p>\n",
       "</div>"
      ],
      "text/plain": [
       "       model_year  condition  cylinders date_posted\n",
       "0          2011.0       good        6.0  2018-06-23\n",
       "1             NaN       good        6.0  2018-10-19\n",
       "2          2013.0   like new        4.0  2019-02-07\n",
       "3          2003.0       fair        8.0  2019-03-22\n",
       "4          2017.0  excellent        4.0  2019-04-02\n",
       "...           ...        ...        ...         ...\n",
       "51520      2013.0   like new        6.0  2018-10-03\n",
       "51521      2002.0    salvage        4.0  2018-11-14\n",
       "51522      2009.0  excellent        4.0  2018-11-15\n",
       "51523      2013.0       good        4.0  2018-07-02\n",
       "51524      2014.0       good        4.0  2018-06-05\n",
       "\n",
       "[51525 rows x 4 columns]"
      ]
     },
     "execution_count": 41,
     "metadata": {},
     "output_type": "execute_result"
    }
   ],
   "source": [
    "# melakukan pengecekan pada kolom dengan tipe data yang tidak sesuai\n",
    "\n",
    "data.loc[:, ['model_year', 'condition', 'cylinders', 'date_posted']]"
   ]
  },
  {
   "cell_type": "code",
   "execution_count": 42,
   "metadata": {},
   "outputs": [
    {
     "data": {
      "text/plain": [
       "is_4wd          25953\n",
       "paint_color      9267\n",
       "odometer         7892\n",
       "cylinders        5260\n",
       "model_year       3619\n",
       "price               0\n",
       "model               0\n",
       "condition           0\n",
       "fuel                0\n",
       "transmission        0\n",
       "type                0\n",
       "date_posted         0\n",
       "days_listed         0\n",
       "dtype: int64"
      ]
     },
     "execution_count": 42,
     "metadata": {},
     "output_type": "execute_result"
    }
   ],
   "source": [
    "# nilai hilang terhadap keseluruhan data\n",
    "\n",
    "data.isnull().sum().sort_values(ascending=False)"
   ]
  },
  {
   "cell_type": "markdown",
   "metadata": {},
   "source": [
    "\n",
    "ada 5 kolom dengan keterangan nilai hilang dan kolom yang paling banyak nilai hilang adalah kolom `is_4wd` dengan 50% nilai hilang, akan tetapi nilai tersebut akan diganti dengan nilai boolean false\n",
    "    \n"
   ]
  },
  {
   "cell_type": "code",
   "execution_count": 43,
   "metadata": {
    "scrolled": true
   },
   "outputs": [
    {
     "data": {
      "text/html": [
       "<div>\n",
       "<style scoped>\n",
       "    .dataframe tbody tr th:only-of-type {\n",
       "        vertical-align: middle;\n",
       "    }\n",
       "\n",
       "    .dataframe tbody tr th {\n",
       "        vertical-align: top;\n",
       "    }\n",
       "\n",
       "    .dataframe thead th {\n",
       "        text-align: right;\n",
       "    }\n",
       "</style>\n",
       "<table border=\"1\" class=\"dataframe\">\n",
       "  <thead>\n",
       "    <tr style=\"text-align: right;\">\n",
       "      <th></th>\n",
       "      <th>missing_values</th>\n",
       "      <th>% of total</th>\n",
       "    </tr>\n",
       "  </thead>\n",
       "  <tbody>\n",
       "    <tr>\n",
       "      <th>is_4wd</th>\n",
       "      <td>25953</td>\n",
       "      <td>0.50</td>\n",
       "    </tr>\n",
       "    <tr>\n",
       "      <th>paint_color</th>\n",
       "      <td>9267</td>\n",
       "      <td>0.18</td>\n",
       "    </tr>\n",
       "    <tr>\n",
       "      <th>odometer</th>\n",
       "      <td>7892</td>\n",
       "      <td>0.15</td>\n",
       "    </tr>\n",
       "    <tr>\n",
       "      <th>cylinders</th>\n",
       "      <td>5260</td>\n",
       "      <td>0.10</td>\n",
       "    </tr>\n",
       "    <tr>\n",
       "      <th>model_year</th>\n",
       "      <td>3619</td>\n",
       "      <td>0.07</td>\n",
       "    </tr>\n",
       "    <tr>\n",
       "      <th>price</th>\n",
       "      <td>0</td>\n",
       "      <td>0.00</td>\n",
       "    </tr>\n",
       "    <tr>\n",
       "      <th>model</th>\n",
       "      <td>0</td>\n",
       "      <td>0.00</td>\n",
       "    </tr>\n",
       "    <tr>\n",
       "      <th>condition</th>\n",
       "      <td>0</td>\n",
       "      <td>0.00</td>\n",
       "    </tr>\n",
       "    <tr>\n",
       "      <th>fuel</th>\n",
       "      <td>0</td>\n",
       "      <td>0.00</td>\n",
       "    </tr>\n",
       "    <tr>\n",
       "      <th>transmission</th>\n",
       "      <td>0</td>\n",
       "      <td>0.00</td>\n",
       "    </tr>\n",
       "    <tr>\n",
       "      <th>type</th>\n",
       "      <td>0</td>\n",
       "      <td>0.00</td>\n",
       "    </tr>\n",
       "    <tr>\n",
       "      <th>date_posted</th>\n",
       "      <td>0</td>\n",
       "      <td>0.00</td>\n",
       "    </tr>\n",
       "    <tr>\n",
       "      <th>days_listed</th>\n",
       "      <td>0</td>\n",
       "      <td>0.00</td>\n",
       "    </tr>\n",
       "  </tbody>\n",
       "</table>\n",
       "</div>"
      ],
      "text/plain": [
       "              missing_values  % of total\n",
       "is_4wd                 25953        0.50\n",
       "paint_color             9267        0.18\n",
       "odometer                7892        0.15\n",
       "cylinders               5260        0.10\n",
       "model_year              3619        0.07\n",
       "price                      0        0.00\n",
       "model                      0        0.00\n",
       "condition                  0        0.00\n",
       "fuel                       0        0.00\n",
       "transmission               0        0.00\n",
       "type                       0        0.00\n",
       "date_posted                0        0.00\n",
       "days_listed                0        0.00"
      ]
     },
     "execution_count": 43,
     "metadata": {},
     "output_type": "execute_result"
    }
   ],
   "source": [
    "# Persentase nilai hilang terhadap keseluruhan data\n",
    "\n",
    "report = data.isna().sum().to_frame()\n",
    "report = report.rename(columns = {0: 'missing_values'})\n",
    "report['% of total'] = (report['missing_values'] / data.shape[0]).round(2)\n",
    "report.sort_values(by = 'missing_values', ascending = False)"
   ]
  },
  {
   "cell_type": "markdown",
   "metadata": {},
   "source": [
    "**Kesimpulan dan Langkah-Langkah Selanjutnya**\n",
    "\n",
    "\n",
    "    \n",
    "1. Kolom `is_4wd` bertipe Boolean sehingga untuk nilai yang hilang akan diganti dengan False\n",
    "2. Melakukan pengecekan nilai yang hilang terhadap ke-empat kolom serta melakukan perubahan dari hasil yang akan ditemukan berdasarkan hasil pengecekan\n",
    "3. Kolom `days_posted` akan diganti menjadi tipe datetime.\n",
    "4. Kolom `condition` akan ditambahkan kolom skala numerik untuk memudahkan analisis.\n",
    "    \n",
    "\n"
   ]
  },
  {
   "cell_type": "markdown",
   "metadata": {},
   "source": [
    "### Mengatasi Nilai-Nilai yang Hilang (Jika Ada)"
   ]
  },
  {
   "cell_type": "markdown",
   "metadata": {},
   "source": [
    "[Pelajari nilai yang hilang untuk setiap kolom secara lebih detail dan tentukan apa yang harus dilakukan dengan nilai tersebut berdasarkan hipotesis.]"
   ]
  },
  {
   "cell_type": "code",
   "execution_count": 44,
   "metadata": {},
   "outputs": [
    {
     "data": {
      "text/plain": [
       "1.0    25572\n",
       "Name: is_4wd, dtype: int64"
      ]
     },
     "execution_count": 44,
     "metadata": {},
     "output_type": "execute_result"
    }
   ],
   "source": [
    "#memeriksa distribusi pada kolom is_4wd\n",
    "\n",
    "data['is_4wd'].value_counts()"
   ]
  },
  {
   "cell_type": "code",
   "execution_count": 45,
   "metadata": {},
   "outputs": [
    {
     "data": {
      "text/plain": [
       "25953"
      ]
     },
     "execution_count": 45,
     "metadata": {},
     "output_type": "execute_result"
    }
   ],
   "source": [
    "# memeriksa nilai yang hilang pada kolom is_4wd\n",
    "\n",
    "data['is_4wd'].isna().sum()"
   ]
  },
  {
   "cell_type": "code",
   "execution_count": 46,
   "metadata": {},
   "outputs": [],
   "source": [
    "# mengganti nilai yang hilang pada kolom is_4wd,\n",
    "# missing value akan diganti dengan nilai 0\n",
    "\n",
    "data['is_4wd'] = data['is_4wd'].fillna(0)"
   ]
  },
  {
   "cell_type": "code",
   "execution_count": 47,
   "metadata": {},
   "outputs": [
    {
     "data": {
      "text/plain": [
       "0.0    25953\n",
       "1.0    25572\n",
       "Name: is_4wd, dtype: int64"
      ]
     },
     "execution_count": 47,
     "metadata": {},
     "output_type": "execute_result"
    }
   ],
   "source": [
    "# memeriksa distribusi is_4wd yang sudah diganti nilainya\n",
    "\n",
    "data['is_4wd'].value_counts()"
   ]
  },
  {
   "cell_type": "code",
   "execution_count": 48,
   "metadata": {},
   "outputs": [
    {
     "data": {
      "text/plain": [
       "white     10029\n",
       "black      7692\n",
       "silver     6244\n",
       "grey       5037\n",
       "blue       4475\n",
       "red        4421\n",
       "green      1396\n",
       "brown      1223\n",
       "custom     1153\n",
       "yellow      255\n",
       "orange      231\n",
       "purple      102\n",
       "Name: paint_color, dtype: int64"
      ]
     },
     "execution_count": 48,
     "metadata": {},
     "output_type": "execute_result"
    }
   ],
   "source": [
    "# memeriksa distribusi nilai unique pada kolom paint_color\n",
    "\n",
    "data['paint_color'].value_counts()"
   ]
  },
  {
   "cell_type": "code",
   "execution_count": 49,
   "metadata": {},
   "outputs": [
    {
     "data": {
      "text/plain": [
       "9267"
      ]
     },
     "execution_count": 49,
     "metadata": {},
     "output_type": "execute_result"
    }
   ],
   "source": [
    "# memeriksa nilai yang hilang pada kolom paint_color\n",
    "\n",
    "data['paint_color'].isna().sum()"
   ]
  },
  {
   "cell_type": "code",
   "execution_count": 50,
   "metadata": {},
   "outputs": [],
   "source": [
    "# merubah nilai yang hilang pada kolom paint_color dengan nilai 'unknown'\n",
    "\n",
    "data['paint_color'] = data['paint_color'].fillna('unknown')"
   ]
  },
  {
   "cell_type": "code",
   "execution_count": 51,
   "metadata": {},
   "outputs": [
    {
     "data": {
      "text/plain": [
       "0"
      ]
     },
     "execution_count": 51,
     "metadata": {},
     "output_type": "execute_result"
    }
   ],
   "source": [
    "# memeriksa kembali nilai yang hilang pada kolom paint_color\n",
    "\n",
    "data['paint_color'].isna().sum()"
   ]
  },
  {
   "cell_type": "code",
   "execution_count": 52,
   "metadata": {},
   "outputs": [
    {
     "data": {
      "text/plain": [
       "white      10029\n",
       "unknown     9267\n",
       "black       7692\n",
       "silver      6244\n",
       "grey        5037\n",
       "blue        4475\n",
       "red         4421\n",
       "green       1396\n",
       "brown       1223\n",
       "custom      1153\n",
       "yellow       255\n",
       "orange       231\n",
       "purple       102\n",
       "Name: paint_color, dtype: int64"
      ]
     },
     "execution_count": 52,
     "metadata": {},
     "output_type": "execute_result"
    }
   ],
   "source": [
    "# memeriksa distribusi nilai unique pada kolom paint_color\n",
    "\n",
    "data['paint_color'].value_counts()"
   ]
  },
  {
   "cell_type": "code",
   "execution_count": 53,
   "metadata": {},
   "outputs": [],
   "source": [
    "# mengganti nilai yang hilang di kolom model_year dengan nilai median\n",
    "\n",
    "def group_fillna(dataframe, group_col, missing_col, agg='median'):\n",
    "    if agg == 'mode':\n",
    "        aggvalue = pd.pivot_table(dataframe, columns=group_col, values=missing_col, aggfunc=lambda x: x.mode().iat[0])\n",
    "    else:\n",
    "        aggvalue = pd.pivot_table(dataframe, columns=group_col, values=missing_col, aggfunc=agg)\n",
    "\n",
    "    for col in aggvalue.columns:\n",
    "        dataframe.loc[(dataframe[group_col]==col) & (dataframe[missing_col].isnull()), missing_col] = aggvalue[col][0]\n",
    "\n",
    "    return dataframe"
   ]
  },
  {
   "cell_type": "code",
   "execution_count": 54,
   "metadata": {},
   "outputs": [],
   "source": [
    "data = group_fillna(dataframe=data, group_col='model', missing_col='model_year', agg='mode')"
   ]
  },
  {
   "cell_type": "code",
   "execution_count": 55,
   "metadata": {},
   "outputs": [
    {
     "data": {
      "text/plain": [
       "0"
      ]
     },
     "execution_count": 55,
     "metadata": {},
     "output_type": "execute_result"
    }
   ],
   "source": [
    "# memeriksa nilai yang hilang pada kolom model_year\n",
    "\n",
    "data['model_year'].isna().sum()"
   ]
  },
  {
   "cell_type": "code",
   "execution_count": 56,
   "metadata": {},
   "outputs": [],
   "source": [
    "# mengganti nilai yang hilang di kolom odometer dengan nilai median\n",
    "\n",
    "data.loc[data['odometer'].isna(), 'odometer'] = data['odometer'].median()"
   ]
  },
  {
   "cell_type": "code",
   "execution_count": 57,
   "metadata": {},
   "outputs": [
    {
     "data": {
      "text/plain": [
       "0"
      ]
     },
     "execution_count": 57,
     "metadata": {},
     "output_type": "execute_result"
    }
   ],
   "source": [
    "# memeriksa nilai yang hilang pada kolom model_year\n",
    "\n",
    "data['odometer'].isna().sum()"
   ]
  },
  {
   "cell_type": "code",
   "execution_count": 58,
   "metadata": {},
   "outputs": [],
   "source": [
    "# mengganti nilai yang hilang di kolom cylinders dengan nilai median\n",
    "\n",
    "data.loc[data['cylinders'].isna(), 'cylinders'] = data['cylinders'].median()"
   ]
  },
  {
   "cell_type": "code",
   "execution_count": 59,
   "metadata": {},
   "outputs": [
    {
     "data": {
      "text/plain": [
       "0"
      ]
     },
     "execution_count": 59,
     "metadata": {},
     "output_type": "execute_result"
    }
   ],
   "source": [
    "# memeriksa nilai yang hilang pada kolom cylinders\n",
    "\n",
    "data['cylinders'].isna().sum()"
   ]
  },
  {
   "cell_type": "code",
   "execution_count": 60,
   "metadata": {},
   "outputs": [
    {
     "name": "stdout",
     "output_type": "stream",
     "text": [
      "<class 'pandas.core.frame.DataFrame'>\n",
      "RangeIndex: 51525 entries, 0 to 51524\n",
      "Data columns (total 13 columns):\n",
      " #   Column        Non-Null Count  Dtype  \n",
      "---  ------        --------------  -----  \n",
      " 0   price         51525 non-null  int64  \n",
      " 1   model_year    51525 non-null  float64\n",
      " 2   model         51525 non-null  object \n",
      " 3   condition     51525 non-null  object \n",
      " 4   cylinders     51525 non-null  float64\n",
      " 5   fuel          51525 non-null  object \n",
      " 6   odometer      51525 non-null  float64\n",
      " 7   transmission  51525 non-null  object \n",
      " 8   type          51525 non-null  object \n",
      " 9   paint_color   51525 non-null  object \n",
      " 10  is_4wd        51525 non-null  float64\n",
      " 11  date_posted   51525 non-null  object \n",
      " 12  days_listed   51525 non-null  int64  \n",
      "dtypes: float64(4), int64(2), object(7)\n",
      "memory usage: 5.1+ MB\n"
     ]
    }
   ],
   "source": [
    "# memeriksa kembali data\n",
    "\n",
    "data.info()"
   ]
  },
  {
   "cell_type": "markdown",
   "metadata": {},
   "source": [
    "**Kesimpulan untuk nilai yang hilang**\n",
    "\n",
    "berdasarkan hasil analisis terhadap nilai yang hilang, terdapat nilai-nilai yang hilang diantaranya terdapat pada kolom `is_4wd`, `paint_color`, `odometer`, `cylinders`, dan `model_year`. penanganan terdahap nilai yang hilang pada masing-masing kolom adalah sebagai berikut:\n",
    "\n",
    "1. kolom `is_4wd` berdasarkan data adalah sebuah nilai boolean, nilai yang hilang kita asumsikan adalah nilai false, maka dari itu nilai yang hilang diisi oleh nilai 0\n",
    "2. kolom `paint_color` memiliki nilai yang hilang sebanyak 9267, nilai yang hilang kita masukan kedalam kategori nilai unknown, karena kita tidak tahu penjual mobil menjual mobil dengan warna apa\n",
    "3. mengisi nilai hilang pada kolom `model_year` dengan menggunakan nilai median berdasarkan model mobil, karena ini adalah data umum dimana kendaraan tahun berapapun bisa diposting disini\n",
    "4. sama seperti `model_year`, nilai hilang pada kolom `odometer` dan `cylinders` diisi oleh nilai median karena banyak variasi mobil yang diposting disini dengan model apapun, untuk itu sebaiknya menggunakan nilai median"
   ]
  },
  {
   "cell_type": "markdown",
   "metadata": {},
   "source": [
    "### Memperbaiki Tipe Data"
   ]
  },
  {
   "cell_type": "code",
   "execution_count": 61,
   "metadata": {},
   "outputs": [],
   "source": [
    "# mengganti format kolom date_posted \n",
    "\n",
    "data['date_posted'] = pd.to_datetime(data['date_posted'], format='%Y-%m-%d')"
   ]
  },
  {
   "cell_type": "code",
   "execution_count": 62,
   "metadata": {},
   "outputs": [],
   "source": [
    "# mengganti tipe data model_year ke int\n",
    "\n",
    "data['model_year'] = data['model_year'].astype(int)"
   ]
  },
  {
   "cell_type": "code",
   "execution_count": 63,
   "metadata": {},
   "outputs": [],
   "source": [
    "# mengganti tipe data cylinders ke int\n",
    "\n",
    "data['cylinders'] = data['cylinders'].astype(int)"
   ]
  },
  {
   "cell_type": "code",
   "execution_count": 64,
   "metadata": {},
   "outputs": [],
   "source": [
    "# mengganti format kolom price ke float\n",
    "\n",
    "data['price'] = data['price'].astype(float)"
   ]
  },
  {
   "cell_type": "code",
   "execution_count": 65,
   "metadata": {},
   "outputs": [],
   "source": [
    "# mengganti format kolom is_4wd ke boolean\n",
    "\n",
    "data['is_4wd'] = data['is_4wd'].astype('bool')"
   ]
  },
  {
   "cell_type": "code",
   "execution_count": 67,
   "metadata": {},
   "outputs": [
    {
     "name": "stdout",
     "output_type": "stream",
     "text": [
      "<class 'pandas.core.frame.DataFrame'>\n",
      "RangeIndex: 51525 entries, 0 to 51524\n",
      "Data columns (total 13 columns):\n",
      " #   Column        Non-Null Count  Dtype         \n",
      "---  ------        --------------  -----         \n",
      " 0   price         51525 non-null  float64       \n",
      " 1   model_year    51525 non-null  int64         \n",
      " 2   model         51525 non-null  object        \n",
      " 3   condition     51525 non-null  object        \n",
      " 4   cylinders     51525 non-null  int64         \n",
      " 5   fuel          51525 non-null  object        \n",
      " 6   odometer      51525 non-null  float64       \n",
      " 7   transmission  51525 non-null  object        \n",
      " 8   type          51525 non-null  object        \n",
      " 9   paint_color   51525 non-null  object        \n",
      " 10  is_4wd        51525 non-null  bool          \n",
      " 11  date_posted   51525 non-null  datetime64[ns]\n",
      " 12  days_listed   51525 non-null  int64         \n",
      "dtypes: bool(1), datetime64[ns](1), float64(2), int64(3), object(6)\n",
      "memory usage: 4.8+ MB\n"
     ]
    }
   ],
   "source": [
    "# melakukan pengecekan dari tipe data\n",
    "\n",
    "data.info()"
   ]
  },
  {
   "cell_type": "markdown",
   "metadata": {},
   "source": [
    "**Kesimpulan memperbaiki tipe data**\n",
    "\n",
    "dalam memperbaiki tipe data, ada beberapa data yang memiliki format tipe data yang salah diantaranya `date_posted`, `model_year`, dan `cylinders`. maka dari itu kami akan melakukan perubahan tipe data menjadi tipe data yang sesuai guna mempermudah proses analisis nantinya\n",
    "\n",
    "1. merubah Kolom `date_posted` menjadi tipe data datetime untuk memungkinkan analisis waktu yang lebih baik.\n",
    "2. `cylinders` dan `model_year`akan diubah menjadi tipe data integer karena mereka kemungkinan besar berisi variabel bilangan bulat.\n",
    "3. merubah kolom `price` menjadi tipe data float memungkinkan adanya nilai desimal dalam kolom `price`\n",
    "4. merubah kolom `is_4wd` menjadi kolom boolean, karena nilai `is_4wd` adalah nilai boolean\n",
    "\n",
    "Dengan melakukan konversi tipe data ini, data akan lebih sesuai dengan jenis informasi yang disimpan dalam masing-masing kolom, sehingga memudahkan analisis dan pemrosesan lebih lanjut."
   ]
  },
  {
   "cell_type": "markdown",
   "metadata": {},
   "source": [
    "### Memperbaiki Kualitas Data"
   ]
  },
  {
   "cell_type": "code",
   "execution_count": 69,
   "metadata": {},
   "outputs": [],
   "source": [
    "# Tambahkan nilai waktu dan tanggal pada saat iklan ditayangkan\n",
    "\n",
    "data['day_posted'] = data['date_posted'].dt.day\n",
    "data['month_posted'] = data['date_posted'].dt.month\n",
    "data['year_posted'] = data['date_posted'].dt.year\n",
    "data['weekday_posted'] = data['date_posted'].dt.weekday"
   ]
  },
  {
   "cell_type": "code",
   "execution_count": 70,
   "metadata": {},
   "outputs": [],
   "source": [
    "# Tambahkan usia kendaraan saat iklan ditayangkan\n",
    "\n",
    "data['car_age'] = (data['year_posted'] - data['model_year']).astype(int) + 1"
   ]
  },
  {
   "cell_type": "code",
   "execution_count": 71,
   "metadata": {},
   "outputs": [],
   "source": [
    "# Tambahkan jarak tempuh rata-rata kendaraan per tahun \n",
    "\n",
    "data['odo_year'] = data['odometer'] / data['car_age']"
   ]
  },
  {
   "cell_type": "code",
   "execution_count": 72,
   "metadata": {},
   "outputs": [],
   "source": [
    "# membuat fungi untuk skala condition\n",
    "\n",
    "def condition_change(value):\n",
    "    if value == 'salvage':\n",
    "        result = 0\n",
    "    elif value == 'fair':\n",
    "        result = 1\n",
    "    elif value == 'good':\n",
    "        result = 2\n",
    "    elif value == 'excellent':\n",
    "        result = 3\n",
    "    elif value == 'like new':\n",
    "        result = 4\n",
    "    elif value == 'new':\n",
    "        result = 5\n",
    "    return result"
   ]
  },
  {
   "cell_type": "code",
   "execution_count": 73,
   "metadata": {},
   "outputs": [],
   "source": [
    "# menambahkan condition_category ke kolom baru untuk skala condition\n",
    "\n",
    "data['condition'] = data['condition'].apply(condition_change)"
   ]
  },
  {
   "cell_type": "markdown",
   "metadata": {},
   "source": [
    "**Kesimpulan dalam memperbaiki kualitas data**\n",
    "\n",
    "Dalam memperbaiki kualitas data guna memudahkan analisis. Berikut kesimpulan memperibaiki kualitas data:\n",
    "\n",
    "1. Memecah tanggal iklan ditayangkan menjadi komponen waktu seperti hari `day_posted`, bulan `month_posted`, tahun `year_posted`, dan hari dalam seminggu `weekday_posted`. Hal ini membantu dalam analisis berdasarkan pola waktu.\n",
    "\n",
    "2. Tambahkan Usia Kendaraan Saat Iklan Ditayangkan: Dalam langkah ini, dihitung usia kendaraan `car_age` saat iklan ditayangkan dengan mengurangkan tahun posting dengan tahun model mobil. Ini dapat membantu dalam memahami seberapa tua kendaraan saat dijual.\n",
    "\n",
    "3. Tambahkan Jarak Tempuh Rata-rata Kendaraan per Tahun: Dalam langkah ini, dihitung jarak tempuh rata-rata per tahun `odo_year` dengan membagi odometer oleh usia kendaraan. Ini dapat memberikan informasi tentang tingkat pemakaian kendaraan.\n",
    "\n",
    "4. Membuat Fungsi untuk Skala Condition: Dalam langkah ini, dibuat sebuah fungsi `condition_change` yang mengonversi nilai dalam kolom `condition` menjadi skala angka yang lebih terstruktur. Hal ini akan membantu dalam analisis yang melibatkan kondisi kendaraan.\n",
    "\n",
    "Kesimpulannya, langkah-langkah ini bertujuan untuk meningkatkan kualitas data, membuat data lebih informatif, dan memungkinkan analisis yang lebih baik. Selain itu, perubahan ini membantu dalam menghadapi potensi masalah seperti nilai null yang mungkin timbul dalam proses perhitungan."
   ]
  },
  {
   "cell_type": "markdown",
   "metadata": {},
   "source": [
    "### Memeriksa Data yang Sudah Bersih"
   ]
  },
  {
   "cell_type": "code",
   "execution_count": 74,
   "metadata": {},
   "outputs": [
    {
     "name": "stdout",
     "output_type": "stream",
     "text": [
      "<class 'pandas.core.frame.DataFrame'>\n",
      "RangeIndex: 51525 entries, 0 to 51524\n",
      "Data columns (total 19 columns):\n",
      " #   Column          Non-Null Count  Dtype         \n",
      "---  ------          --------------  -----         \n",
      " 0   price           51525 non-null  float64       \n",
      " 1   model_year      51525 non-null  int64         \n",
      " 2   model           51525 non-null  object        \n",
      " 3   condition       51525 non-null  int64         \n",
      " 4   cylinders       51525 non-null  int64         \n",
      " 5   fuel            51525 non-null  object        \n",
      " 6   odometer        51525 non-null  float64       \n",
      " 7   transmission    51525 non-null  object        \n",
      " 8   type            51525 non-null  object        \n",
      " 9   paint_color     51525 non-null  object        \n",
      " 10  is_4wd          51525 non-null  bool          \n",
      " 11  date_posted     51525 non-null  datetime64[ns]\n",
      " 12  days_listed     51525 non-null  int64         \n",
      " 13  day_posted      51525 non-null  int64         \n",
      " 14  month_posted    51525 non-null  int64         \n",
      " 15  year_posted     51525 non-null  int64         \n",
      " 16  weekday_posted  51525 non-null  int64         \n",
      " 17  car_age         51525 non-null  int64         \n",
      " 18  odo_year        51525 non-null  float64       \n",
      "dtypes: bool(1), datetime64[ns](1), float64(3), int64(9), object(5)\n",
      "memory usage: 7.1+ MB\n"
     ]
    }
   ],
   "source": [
    "# tampilkan informasi/rangkuman umum tentang DataFrame\n",
    "\n",
    "data.info()"
   ]
  },
  {
   "cell_type": "code",
   "execution_count": 75,
   "metadata": {},
   "outputs": [
    {
     "data": {
      "text/html": [
       "<div>\n",
       "<style scoped>\n",
       "    .dataframe tbody tr th:only-of-type {\n",
       "        vertical-align: middle;\n",
       "    }\n",
       "\n",
       "    .dataframe tbody tr th {\n",
       "        vertical-align: top;\n",
       "    }\n",
       "\n",
       "    .dataframe thead th {\n",
       "        text-align: right;\n",
       "    }\n",
       "</style>\n",
       "<table border=\"1\" class=\"dataframe\">\n",
       "  <thead>\n",
       "    <tr style=\"text-align: right;\">\n",
       "      <th></th>\n",
       "      <th>price</th>\n",
       "      <th>model_year</th>\n",
       "      <th>model</th>\n",
       "      <th>condition</th>\n",
       "      <th>cylinders</th>\n",
       "      <th>fuel</th>\n",
       "      <th>odometer</th>\n",
       "      <th>transmission</th>\n",
       "      <th>type</th>\n",
       "      <th>paint_color</th>\n",
       "      <th>is_4wd</th>\n",
       "      <th>date_posted</th>\n",
       "      <th>days_listed</th>\n",
       "      <th>day_posted</th>\n",
       "      <th>month_posted</th>\n",
       "      <th>year_posted</th>\n",
       "      <th>weekday_posted</th>\n",
       "      <th>car_age</th>\n",
       "      <th>odo_year</th>\n",
       "    </tr>\n",
       "  </thead>\n",
       "  <tbody>\n",
       "    <tr>\n",
       "      <th>27645</th>\n",
       "      <td>7500.0</td>\n",
       "      <td>2004</td>\n",
       "      <td>ford f-250 super duty</td>\n",
       "      <td>3</td>\n",
       "      <td>8</td>\n",
       "      <td>gas</td>\n",
       "      <td>73600.0</td>\n",
       "      <td>automatic</td>\n",
       "      <td>pickup</td>\n",
       "      <td>unknown</td>\n",
       "      <td>False</td>\n",
       "      <td>2018-10-14</td>\n",
       "      <td>42</td>\n",
       "      <td>14</td>\n",
       "      <td>10</td>\n",
       "      <td>2018</td>\n",
       "      <td>6</td>\n",
       "      <td>15</td>\n",
       "      <td>4906.666667</td>\n",
       "    </tr>\n",
       "    <tr>\n",
       "      <th>29277</th>\n",
       "      <td>16500.0</td>\n",
       "      <td>2017</td>\n",
       "      <td>chevrolet equinox</td>\n",
       "      <td>3</td>\n",
       "      <td>4</td>\n",
       "      <td>gas</td>\n",
       "      <td>37508.0</td>\n",
       "      <td>automatic</td>\n",
       "      <td>SUV</td>\n",
       "      <td>grey</td>\n",
       "      <td>False</td>\n",
       "      <td>2018-08-04</td>\n",
       "      <td>13</td>\n",
       "      <td>4</td>\n",
       "      <td>8</td>\n",
       "      <td>2018</td>\n",
       "      <td>5</td>\n",
       "      <td>2</td>\n",
       "      <td>18754.000000</td>\n",
       "    </tr>\n",
       "    <tr>\n",
       "      <th>40079</th>\n",
       "      <td>42995.0</td>\n",
       "      <td>2018</td>\n",
       "      <td>chevrolet suburban</td>\n",
       "      <td>3</td>\n",
       "      <td>8</td>\n",
       "      <td>gas</td>\n",
       "      <td>40800.0</td>\n",
       "      <td>automatic</td>\n",
       "      <td>SUV</td>\n",
       "      <td>unknown</td>\n",
       "      <td>True</td>\n",
       "      <td>2018-07-12</td>\n",
       "      <td>53</td>\n",
       "      <td>12</td>\n",
       "      <td>7</td>\n",
       "      <td>2018</td>\n",
       "      <td>3</td>\n",
       "      <td>1</td>\n",
       "      <td>40800.000000</td>\n",
       "    </tr>\n",
       "    <tr>\n",
       "      <th>50200</th>\n",
       "      <td>2500.0</td>\n",
       "      <td>2016</td>\n",
       "      <td>honda civic</td>\n",
       "      <td>3</td>\n",
       "      <td>6</td>\n",
       "      <td>gas</td>\n",
       "      <td>35000.0</td>\n",
       "      <td>automatic</td>\n",
       "      <td>sedan</td>\n",
       "      <td>unknown</td>\n",
       "      <td>False</td>\n",
       "      <td>2018-06-01</td>\n",
       "      <td>54</td>\n",
       "      <td>1</td>\n",
       "      <td>6</td>\n",
       "      <td>2018</td>\n",
       "      <td>4</td>\n",
       "      <td>3</td>\n",
       "      <td>11666.666667</td>\n",
       "    </tr>\n",
       "    <tr>\n",
       "      <th>25553</th>\n",
       "      <td>10250.0</td>\n",
       "      <td>2014</td>\n",
       "      <td>chevrolet silverado 1500</td>\n",
       "      <td>3</td>\n",
       "      <td>6</td>\n",
       "      <td>gas</td>\n",
       "      <td>121203.0</td>\n",
       "      <td>automatic</td>\n",
       "      <td>truck</td>\n",
       "      <td>white</td>\n",
       "      <td>False</td>\n",
       "      <td>2018-11-06</td>\n",
       "      <td>15</td>\n",
       "      <td>6</td>\n",
       "      <td>11</td>\n",
       "      <td>2018</td>\n",
       "      <td>1</td>\n",
       "      <td>5</td>\n",
       "      <td>24240.600000</td>\n",
       "    </tr>\n",
       "    <tr>\n",
       "      <th>...</th>\n",
       "      <td>...</td>\n",
       "      <td>...</td>\n",
       "      <td>...</td>\n",
       "      <td>...</td>\n",
       "      <td>...</td>\n",
       "      <td>...</td>\n",
       "      <td>...</td>\n",
       "      <td>...</td>\n",
       "      <td>...</td>\n",
       "      <td>...</td>\n",
       "      <td>...</td>\n",
       "      <td>...</td>\n",
       "      <td>...</td>\n",
       "      <td>...</td>\n",
       "      <td>...</td>\n",
       "      <td>...</td>\n",
       "      <td>...</td>\n",
       "      <td>...</td>\n",
       "      <td>...</td>\n",
       "    </tr>\n",
       "    <tr>\n",
       "      <th>1010</th>\n",
       "      <td>13500.0</td>\n",
       "      <td>2011</td>\n",
       "      <td>jeep grand cherokee</td>\n",
       "      <td>3</td>\n",
       "      <td>8</td>\n",
       "      <td>gas</td>\n",
       "      <td>117938.0</td>\n",
       "      <td>automatic</td>\n",
       "      <td>SUV</td>\n",
       "      <td>black</td>\n",
       "      <td>True</td>\n",
       "      <td>2018-11-10</td>\n",
       "      <td>43</td>\n",
       "      <td>10</td>\n",
       "      <td>11</td>\n",
       "      <td>2018</td>\n",
       "      <td>5</td>\n",
       "      <td>8</td>\n",
       "      <td>14742.250000</td>\n",
       "    </tr>\n",
       "    <tr>\n",
       "      <th>2250</th>\n",
       "      <td>8995.0</td>\n",
       "      <td>2006</td>\n",
       "      <td>chevrolet silverado 2500hd</td>\n",
       "      <td>3</td>\n",
       "      <td>8</td>\n",
       "      <td>gas</td>\n",
       "      <td>140610.0</td>\n",
       "      <td>automatic</td>\n",
       "      <td>truck</td>\n",
       "      <td>unknown</td>\n",
       "      <td>True</td>\n",
       "      <td>2018-08-15</td>\n",
       "      <td>15</td>\n",
       "      <td>15</td>\n",
       "      <td>8</td>\n",
       "      <td>2018</td>\n",
       "      <td>2</td>\n",
       "      <td>13</td>\n",
       "      <td>10816.153846</td>\n",
       "    </tr>\n",
       "    <tr>\n",
       "      <th>6844</th>\n",
       "      <td>6500.0</td>\n",
       "      <td>2010</td>\n",
       "      <td>ford escape</td>\n",
       "      <td>3</td>\n",
       "      <td>6</td>\n",
       "      <td>gas</td>\n",
       "      <td>124000.0</td>\n",
       "      <td>automatic</td>\n",
       "      <td>SUV</td>\n",
       "      <td>grey</td>\n",
       "      <td>True</td>\n",
       "      <td>2018-06-17</td>\n",
       "      <td>22</td>\n",
       "      <td>17</td>\n",
       "      <td>6</td>\n",
       "      <td>2018</td>\n",
       "      <td>6</td>\n",
       "      <td>9</td>\n",
       "      <td>13777.777778</td>\n",
       "    </tr>\n",
       "    <tr>\n",
       "      <th>20612</th>\n",
       "      <td>4600.0</td>\n",
       "      <td>2004</td>\n",
       "      <td>ford expedition</td>\n",
       "      <td>2</td>\n",
       "      <td>8</td>\n",
       "      <td>gas</td>\n",
       "      <td>90000.0</td>\n",
       "      <td>automatic</td>\n",
       "      <td>SUV</td>\n",
       "      <td>black</td>\n",
       "      <td>True</td>\n",
       "      <td>2018-05-06</td>\n",
       "      <td>40</td>\n",
       "      <td>6</td>\n",
       "      <td>5</td>\n",
       "      <td>2018</td>\n",
       "      <td>6</td>\n",
       "      <td>15</td>\n",
       "      <td>6000.000000</td>\n",
       "    </tr>\n",
       "    <tr>\n",
       "      <th>41087</th>\n",
       "      <td>11000.0</td>\n",
       "      <td>2001</td>\n",
       "      <td>chevrolet corvette</td>\n",
       "      <td>3</td>\n",
       "      <td>8</td>\n",
       "      <td>gas</td>\n",
       "      <td>91000.0</td>\n",
       "      <td>manual</td>\n",
       "      <td>convertible</td>\n",
       "      <td>yellow</td>\n",
       "      <td>False</td>\n",
       "      <td>2018-09-28</td>\n",
       "      <td>76</td>\n",
       "      <td>28</td>\n",
       "      <td>9</td>\n",
       "      <td>2018</td>\n",
       "      <td>4</td>\n",
       "      <td>18</td>\n",
       "      <td>5055.555556</td>\n",
       "    </tr>\n",
       "  </tbody>\n",
       "</table>\n",
       "<p>5152 rows × 19 columns</p>\n",
       "</div>"
      ],
      "text/plain": [
       "         price  model_year                       model  condition  cylinders  \\\n",
       "27645   7500.0        2004       ford f-250 super duty          3          8   \n",
       "29277  16500.0        2017           chevrolet equinox          3          4   \n",
       "40079  42995.0        2018          chevrolet suburban          3          8   \n",
       "50200   2500.0        2016                 honda civic          3          6   \n",
       "25553  10250.0        2014    chevrolet silverado 1500          3          6   \n",
       "...        ...         ...                         ...        ...        ...   \n",
       "1010   13500.0        2011         jeep grand cherokee          3          8   \n",
       "2250    8995.0        2006  chevrolet silverado 2500hd          3          8   \n",
       "6844    6500.0        2010                 ford escape          3          6   \n",
       "20612   4600.0        2004             ford expedition          2          8   \n",
       "41087  11000.0        2001          chevrolet corvette          3          8   \n",
       "\n",
       "      fuel  odometer transmission         type paint_color  is_4wd  \\\n",
       "27645  gas   73600.0    automatic       pickup     unknown   False   \n",
       "29277  gas   37508.0    automatic          SUV        grey   False   \n",
       "40079  gas   40800.0    automatic          SUV     unknown    True   \n",
       "50200  gas   35000.0    automatic        sedan     unknown   False   \n",
       "25553  gas  121203.0    automatic        truck       white   False   \n",
       "...    ...       ...          ...          ...         ...     ...   \n",
       "1010   gas  117938.0    automatic          SUV       black    True   \n",
       "2250   gas  140610.0    automatic        truck     unknown    True   \n",
       "6844   gas  124000.0    automatic          SUV        grey    True   \n",
       "20612  gas   90000.0    automatic          SUV       black    True   \n",
       "41087  gas   91000.0       manual  convertible      yellow   False   \n",
       "\n",
       "      date_posted  days_listed  day_posted  month_posted  year_posted  \\\n",
       "27645  2018-10-14           42          14            10         2018   \n",
       "29277  2018-08-04           13           4             8         2018   \n",
       "40079  2018-07-12           53          12             7         2018   \n",
       "50200  2018-06-01           54           1             6         2018   \n",
       "25553  2018-11-06           15           6            11         2018   \n",
       "...           ...          ...         ...           ...          ...   \n",
       "1010   2018-11-10           43          10            11         2018   \n",
       "2250   2018-08-15           15          15             8         2018   \n",
       "6844   2018-06-17           22          17             6         2018   \n",
       "20612  2018-05-06           40           6             5         2018   \n",
       "41087  2018-09-28           76          28             9         2018   \n",
       "\n",
       "       weekday_posted  car_age      odo_year  \n",
       "27645               6       15   4906.666667  \n",
       "29277               5        2  18754.000000  \n",
       "40079               3        1  40800.000000  \n",
       "50200               4        3  11666.666667  \n",
       "25553               1        5  24240.600000  \n",
       "...               ...      ...           ...  \n",
       "1010                5        8  14742.250000  \n",
       "2250                2       13  10816.153846  \n",
       "6844                6        9  13777.777778  \n",
       "20612               6       15   6000.000000  \n",
       "41087               4       18   5055.555556  \n",
       "\n",
       "[5152 rows x 19 columns]"
      ]
     },
     "execution_count": 75,
     "metadata": {},
     "output_type": "execute_result"
    }
   ],
   "source": [
    "# tampilkan sampel data \n",
    "\n",
    "data.sample(frac=0.1)"
   ]
  },
  {
   "cell_type": "markdown",
   "metadata": {},
   "source": [
    "## Exploratory Data Analysis\n",
    "\n",
    "Parameternya adalah :\n",
    "- `price`\n",
    "- `car_age`\n",
    "- `odo_year`\n",
    "- `cylinders`\n",
    "- `condition`"
   ]
  },
  {
   "cell_type": "code",
   "execution_count": 76,
   "metadata": {},
   "outputs": [
    {
     "data": {
      "image/png": "[encoded data removed]",
      "text/plain": [
       "<Figure size 720x432 with 1 Axes>"
      ]
     },
     "metadata": {
      "needs_background": "light"
     },
     "output_type": "display_data"
    }
   ],
   "source": [
    "# membuat histogram dari kolom price\n",
    "\n",
    "data['price'].hist(bins=50, figsize=(10, 6))\n",
    "plt.title('Histogram Harga Kendaraan')\n",
    "plt.xlabel('Harga')\n",
    "plt.ylabel('Frekuensi')\n",
    "plt.show()"
   ]
  },
  {
   "cell_type": "code",
   "execution_count": 81,
   "metadata": {},
   "outputs": [
    {
     "data": {
      "image/png": "[encoded data removed]",
      "text/plain": [
       "<Figure size 1080x432 with 1 Axes>"
      ]
     },
     "metadata": {
      "needs_background": "light"
     },
     "output_type": "display_data"
    }
   ],
   "source": [
    "# Membuat boxplot untuk melihat outlier dari kolom price\n",
    "\n",
    "plt.figure(figsize=(15, 6))\n",
    "sns.boxplot(data=data, x='price')\n",
    "plt.title('Boxplot Harga Kendaraan')\n",
    "plt.show()\n"
   ]
  },
  {
   "cell_type": "markdown",
   "metadata": {},
   "source": [
    "**Penjelasan kolom price**\n",
    "\n",
    "Dilihat dari histogram diatas dan diyakinkan lagi dengan boxplot, memang benar bahwa kolom price memiliki outlier sampai angka lebih dari 350000. Hal ini terjadi mungkin karena harga kendaraan yang bervariasi yang diiklankan di website, dimana user bebas memasang iklan dengan harga berapapun."
   ]
  },
  {
   "cell_type": "code",
   "execution_count": 82,
   "metadata": {},
   "outputs": [
    {
     "data": {
      "image/png": "[encoded data removed]",
      "text/plain": [
       "<Figure size 720x432 with 1 Axes>"
      ]
     },
     "metadata": {
      "needs_background": "light"
     },
     "output_type": "display_data"
    }
   ],
   "source": [
    "# membuat histogram untuk car_age\n",
    "\n",
    "data['car_age'].hist(bins=50, figsize=(10,6))\n",
    "plt.title('Histogram Usia Kendaraan')\n",
    "plt.xlabel('Usia Kendaraan')\n",
    "plt.ylabel('Frekuensi')\n",
    "plt.show()"
   ]
  },
  {
   "cell_type": "code",
   "execution_count": 83,
   "metadata": {},
   "outputs": [
    {
     "data": {
      "image/png": "[encoded data removed]",
      "text/plain": [
       "<Figure size 1080x432 with 1 Axes>"
      ]
     },
     "metadata": {
      "needs_background": "light"
     },
     "output_type": "display_data"
    }
   ],
   "source": [
    "# membuat boxplot untuk car_age\n",
    "\n",
    "plt.figure(figsize=(15, 6))\n",
    "sns.boxplot(data=data, x='car_age')\n",
    "plt.title('boxplot Usia kendaraan')\n",
    "plt.show()"
   ]
  },
  {
   "cell_type": "markdown",
   "metadata": {},
   "source": [
    "**Penjelasan kolom car_age**\n",
    "\n",
    "kolom car_age terlihat memiliki outlier hingga 100 tahun. karena ini adalah sebuah website ada banyak faktor yang dapat mempengaruhi outlier tersebut bisa saja ini sebuah mobil klasik.\n",
    "\n"
   ]
  },
  {
   "cell_type": "code",
   "execution_count": 84,
   "metadata": {},
   "outputs": [
    {
     "data": {
      "image/png": "[encoded data removed]",
      "text/plain": [
       "<Figure size 720x432 with 1 Axes>"
      ]
     },
     "metadata": {
      "needs_background": "light"
     },
     "output_type": "display_data"
    }
   ],
   "source": [
    "# membuat histogram untuk odo_year\n",
    "\n",
    "data['odo_year'].hist(bins=50, figsize=(10,6))\n",
    "plt.title('Histogram Jarak Tempuh rata-rata Kendaraan')\n",
    "plt.xlabel('Harga')\n",
    "plt.ylabel('Frekuensi')\n",
    "plt.show()"
   ]
  },
  {
   "cell_type": "code",
   "execution_count": 85,
   "metadata": {},
   "outputs": [
    {
     "data": {
      "image/png": "[encoded data removed]",
      "text/plain": [
       "<Figure size 1080x432 with 1 Axes>"
      ]
     },
     "metadata": {
      "needs_background": "light"
     },
     "output_type": "display_data"
    }
   ],
   "source": [
    "# membuat boxplot untuk kolom odo_year\n",
    "\n",
    "plt.figure(figsize=(15, 6))\n",
    "sns.boxplot(data=data, x='odo_year')\n",
    "plt.title('boxplot Jarak Tempuh rata-rata Kendaraan')\n",
    "plt.show()"
   ]
  },
  {
   "cell_type": "markdown",
   "metadata": {},
   "source": [
    "**Penjelasan kolom odo_year**\n",
    "\n",
    "kolom odomoter juga memiliki outlier. Asumsi kita hal ini terjadi karena jenis kendaraan yang diiklankan di website bervariasi, dimana semakin lama umur kendaraan maka biasanya odometernya juga sudah tinggi.\n"
   ]
  },
  {
   "cell_type": "code",
   "execution_count": 86,
   "metadata": {},
   "outputs": [
    {
     "data": {
      "image/png": "[encoded data removed]",
      "text/plain": [
       "<Figure size 432x288 with 1 Axes>"
      ]
     },
     "metadata": {
      "needs_background": "light"
     },
     "output_type": "display_data"
    }
   ],
   "source": [
    "# membuat barchart untuk kolom cylinders\n",
    "\n",
    "sns.countplot(data=data, x='cylinders')\n",
    "plt.title('Barchart Cylinders')\n",
    "plt.show()"
   ]
  },
  {
   "cell_type": "code",
   "execution_count": 45,
   "metadata": {},
   "outputs": [
    {
     "data": {
      "image/png": "[encoded data removed]",
      "text/plain": [
       "<Figure size 864x432 with 1 Axes>"
      ]
     },
     "metadata": {
      "needs_background": "light"
     },
     "output_type": "display_data"
    }
   ],
   "source": [
    "# membuat boxplot untuk kolom cylinders\n",
    "\n",
    "plt.figure(figsize=(12, 6))\n",
    "sns.boxplot(data=data, x='cylinders')\n",
    "plt.title('boxplot untuk jumlah silinder')\n",
    "plt.show()"
   ]
  },
  {
   "cell_type": "markdown",
   "metadata": {},
   "source": [
    "**Penjelasan kolom cylinders**\n",
    "    \n",
    "Dari boxplot diatas, terlihat jelas bahwa kolom silinder tidak memiliki outlier. Hal ini karena kendaraan yang diiklankan informasinya sudah sesuai, yaitu kendaraan biasanya bermesin 3 sampai dengan 12 silinder\n",
    "    \n"
   ]
  },
  {
   "cell_type": "code",
   "execution_count": 87,
   "metadata": {},
   "outputs": [
    {
     "data": {
      "image/png": "[encoded data removed]",
      "text/plain": [
       "<Figure size 432x288 with 1 Axes>"
      ]
     },
     "metadata": {
      "needs_background": "light"
     },
     "output_type": "display_data"
    }
   ],
   "source": [
    "# membuat barchart untuk kolom condition\n",
    "\n",
    "sns.countplot(data=data, x='condition')\n",
    "plt.title('Barchart condition')\n",
    "plt.show()"
   ]
  },
  {
   "cell_type": "code",
   "execution_count": 88,
   "metadata": {},
   "outputs": [
    {
     "data": {
      "image/png": "[encoded data removed]",
      "text/plain": [
       "<Figure size 864x432 with 1 Axes>"
      ]
     },
     "metadata": {
      "needs_background": "light"
     },
     "output_type": "display_data"
    }
   ],
   "source": [
    "# membuat boxplot untuk kolom condition\n",
    "\n",
    "plt.figure(figsize=(12, 6))\n",
    "sns.boxplot(data=data, x='condition')\n",
    "plt.title('boxplot untuk jumlah condition')\n",
    "plt.show()"
   ]
  },
  {
   "cell_type": "markdown",
   "metadata": {},
   "source": [
    "**Penjelasan kolom cylinders**\n",
    "\n",
    "kolom kondisi kendaraan tidak memiliki outlier. Karena kita sudah tahu bahwa skala kondisi kendaraan adalah 1 sampai dengan 5 dengan masing-masing keterangan: new = 5 like new = 4 excellent = 3 good = 2 fair = 1 salvage = 0"
   ]
  },
  {
   "cell_type": "markdown",
   "metadata": {},
   "source": [
    "### Mempelajari dan Menangani Outlier\n",
    "    \n",
    "Dengan hasil di atas, ditemukan bahwa kolom `price`, `car_age`, dan `odo_year` mengandung outlier. kami akan mencoba membuat beberapa DataFrame terpisah tanpa outlier tersebut. Sebelumnya, kita akan mengidentifikasinya dengan menentukan batas bawah/atas untuk rentang nilai normal.\n",
    "    \n"
   ]
  },
  {
   "cell_type": "code",
   "execution_count": 89,
   "metadata": {},
   "outputs": [],
   "source": [
    "# membuat function untuk menghitung untuk menghitung dan mengembalikan nilai lower_whisker dan upper_whisker\n",
    "\n",
    "def upper_lower_whisker(series):\n",
    "    Q1  = series.quantile(.25)\n",
    "    Q3  = series.quantile(.75)\n",
    "\n",
    "    IQR = Q3 - Q1\n",
    "\n",
    "    lower_whisker = Q1 - (1.5 * IQR)\n",
    "    upper_whisker = Q3 + (1.5 * IQR)\n",
    "\n",
    "    return lower_whisker, upper_whisker"
   ]
  },
  {
   "cell_type": "code",
   "execution_count": 90,
   "metadata": {},
   "outputs": [],
   "source": [
    "def outlier_cleansing(dataframe, column):\n",
    "\n",
    "    lower, upper = upper_lower_whisker(dataframe[column])\n",
    "    print(f'lower values : {lower}')\n",
    "    print(f'upper values : {upper}')\n",
    "\n",
    "    plt.title('Before cleaning outlier!')\n",
    "    sns.boxplot(data=dataframe, x=column)\n",
    "    plt.show()\n",
    "\n",
    "    dataframe = dataframe[(dataframe[column] > lower) & (dataframe[column] < upper)]\n",
    "\n",
    "    lower_check, upper_check = upper_lower_whisker(dataframe[column])\n",
    "    print(f'lower_check values : {lower_check}')\n",
    "    print(f'upper_check values : {upper_check}')\n",
    "\n",
    "    plt.title('After cleaning outlier!')\n",
    "    sns.boxplot(data=dataframe, x=column)\n",
    "    plt.show()\n",
    "\n",
    "    if lower == lower_check or upper_check == upper_check:\n",
    "        print(f'\\n====== [FINISHED] outlier in [{column}] column has been clear! ====== \\n')\n",
    "        return dataframe\n",
    "\n",
    "    else:\n",
    "        print(f'\\n------ [RE-START] cleaning outlier in {column} column ------ \\n')\n",
    "        dataframe = outlier_cleansing(dataframe=dataframe, column=column)\n",
    "        return dataframe"
   ]
  },
  {
   "cell_type": "markdown",
   "metadata": {},
   "source": [
    "### Mempelajari Parameter Inti Tanpa Outlier"
   ]
  },
  {
   "cell_type": "code",
   "execution_count": 91,
   "metadata": {},
   "outputs": [
    {
     "name": "stdout",
     "output_type": "stream",
     "text": [
      "\n",
      "====== [START] cleaning outlier in price column ====== \n",
      "\n",
      "lower values : -12758.5\n",
      "upper values : 34597.5\n"
     ]
    },
    {
     "data": {
      "image/png": "[encoded data removed]",
      "text/plain": [
       "<Figure size 432x288 with 1 Axes>"
      ]
     },
     "metadata": {
      "needs_background": "light"
     },
     "output_type": "display_data"
    },
    {
     "name": "stdout",
     "output_type": "stream",
     "text": [
      "lower_check values : -11362.5\n",
      "upper_check values : 32257.5\n"
     ]
    },
    {
     "data": {
      "image/png": "[encoded data removed]",
      "text/plain": [
       "<Figure size 432x288 with 1 Axes>"
      ]
     },
     "metadata": {
      "needs_background": "light"
     },
     "output_type": "display_data"
    },
    {
     "name": "stdout",
     "output_type": "stream",
     "text": [
      "\n",
      "====== [FINISHED] outlier in [price] column has been clear! ====== \n",
      "\n",
      "\n",
      "====== [START] cleaning outlier in cylinders column ====== \n",
      "\n",
      "lower values : -2.0\n",
      "upper values : 14.0\n"
     ]
    },
    {
     "data": {
      "image/png": "[encoded data removed]",
      "text/plain": [
       "<Figure size 432x288 with 1 Axes>"
      ]
     },
     "metadata": {
      "needs_background": "light"
     },
     "output_type": "display_data"
    },
    {
     "name": "stdout",
     "output_type": "stream",
     "text": [
      "lower_check values : -2.0\n",
      "upper_check values : 14.0\n"
     ]
    },
    {
     "data": {
      "image/png": "[encoded data removed]",
      "text/plain": [
       "<Figure size 432x288 with 1 Axes>"
      ]
     },
     "metadata": {
      "needs_background": "light"
     },
     "output_type": "display_data"
    },
    {
     "name": "stdout",
     "output_type": "stream",
     "text": [
      "\n",
      "====== [FINISHED] outlier in [cylinders] column has been clear! ====== \n",
      "\n",
      "\n",
      "====== [START] cleaning outlier in car_age column ====== \n",
      "\n",
      "lower values : -7.0\n",
      "upper values : 25.0\n"
     ]
    },
    {
     "data": {
      "image/png": "[encoded data removed]",
      "text/plain": [
       "<Figure size 432x288 with 1 Axes>"
      ]
     },
     "metadata": {
      "needs_background": "light"
     },
     "output_type": "display_data"
    },
    {
     "name": "stdout",
     "output_type": "stream",
     "text": [
      "lower_check values : -7.0\n",
      "upper_check values : 25.0\n"
     ]
    },
    {
     "data": {
      "image/png": "[encoded data removed]",
      "text/plain": [
       "<Figure size 432x288 with 1 Axes>"
      ]
     },
     "metadata": {
      "needs_background": "light"
     },
     "output_type": "display_data"
    },
    {
     "name": "stdout",
     "output_type": "stream",
     "text": [
      "\n",
      "====== [FINISHED] outlier in [car_age] column has been clear! ====== \n",
      "\n",
      "\n",
      "====== [START] cleaning outlier in odo_year column ====== \n",
      "\n",
      "lower values : -4395.454545454546\n",
      "upper values : 32637.272727272728\n"
     ]
    },
    {
     "data": {
      "image/png": "[encoded data removed]",
      "text/plain": [
       "<Figure size 432x288 with 1 Axes>"
      ]
     },
     "metadata": {
      "needs_background": "light"
     },
     "output_type": "display_data"
    },
    {
     "name": "stdout",
     "output_type": "stream",
     "text": [
      "lower_check values : -2619.4852941176505\n",
      "upper_check values : 29432.475490196084\n"
     ]
    },
    {
     "data": {
      "image/png": "[encoded data removed]",
      "text/plain": [
       "<Figure size 432x288 with 1 Axes>"
      ]
     },
     "metadata": {
      "needs_background": "light"
     },
     "output_type": "display_data"
    },
    {
     "name": "stdout",
     "output_type": "stream",
     "text": [
      "\n",
      "====== [FINISHED] outlier in [odo_year] column has been clear! ====== \n",
      "\n",
      "\n",
      "====== [START] cleaning outlier in condition column ====== \n",
      "\n",
      "lower values : 0.5\n",
      "upper values : 4.5\n"
     ]
    },
    {
     "data": {
      "image/png": "[encoded data removed]",
      "text/plain": [
       "<Figure size 432x288 with 1 Axes>"
      ]
     },
     "metadata": {
      "needs_background": "light"
     },
     "output_type": "display_data"
    },
    {
     "name": "stdout",
     "output_type": "stream",
     "text": [
      "lower_check values : 0.5\n",
      "upper_check values : 4.5\n"
     ]
    },
    {
     "data": {
      "image/png": "[encoded data removed]",
      "text/plain": [
       "<Figure size 432x288 with 1 Axes>"
      ]
     },
     "metadata": {
      "needs_background": "light"
     },
     "output_type": "display_data"
    },
    {
     "name": "stdout",
     "output_type": "stream",
     "text": [
      "\n",
      "====== [FINISHED] outlier in [condition] column has been clear! ====== \n",
      "\n"
     ]
    }
   ],
   "source": [
    "\n",
    "df_final = data.copy()\n",
    "list_of_selected_column = ['price', 'cylinders', 'car_age', 'odo_year', 'condition']\n",
    "\n",
    "for column in list_of_selected_column:\n",
    "    print(f'\\n====== [START] cleaning outlier in {column} column ====== \\n')\n",
    "    df_final = outlier_cleansing(dataframe=df_final, column=column)"
   ]
  },
  {
   "cell_type": "markdown",
   "metadata": {},
   "source": [
    "**Kesimpulan Mengenai Outlier**\n",
    "\n",
    "Outliear pada kolom `price`, dan `odo_year` mengalami pembersihan outlier sehingga tidak ada lagi data outlier di kedua kolom tersebut. sementara kolom `car_age`, `cylinders`, dan `condition`  tidak mengalami perubahan karena nilai batas bawah dan atas tidak mengalami perubahan. Pembersihan outlier ini bertujuan untuk membersihkan data yang ekstrem atau tidak sesuai dengan distribusi umum, sehingga meningkatkan kualitas data untuk analisis lebih lanjut."
   ]
  },
  {
   "cell_type": "markdown",
   "metadata": {},
   "source": [
    "### Masa Berlaku Iklan "
   ]
  },
  {
   "cell_type": "code",
   "execution_count": 92,
   "metadata": {},
   "outputs": [
    {
     "name": "stdout",
     "output_type": "stream",
     "text": [
      "Median durasi listing : 33.0\n",
      "Mean durasi listing   : 39.55475982532751\n"
     ]
    }
   ],
   "source": [
    "# menghitung mean dan median\n",
    "\n",
    "print('Median durasi listing :', data['days_listed'].median())\n",
    "print('Mean durasi listing   :', data['days_listed'].mean())"
   ]
  },
  {
   "cell_type": "code",
   "execution_count": 93,
   "metadata": {},
   "outputs": [
    {
     "data": {
      "text/plain": [
       "count    51525.00000\n",
       "mean        39.55476\n",
       "std         28.20427\n",
       "min          0.00000\n",
       "25%         19.00000\n",
       "50%         33.00000\n",
       "75%         53.00000\n",
       "max        271.00000\n",
       "Name: days_listed, dtype: float64"
      ]
     },
     "execution_count": 93,
     "metadata": {},
     "output_type": "execute_result"
    }
   ],
   "source": [
    "# melihat describe pada kolom days_listed\n",
    "\n",
    "data['days_listed'].describe()"
   ]
  },
  {
   "cell_type": "markdown",
   "metadata": {},
   "source": [
    "\n",
    "1. Rata-rata iklan ditayangkan adalah 39 hari dan mediannya 33 hari.\n",
    "2. sebuah iklah ditayangkan selama 28 hari, terlihat dari standar deviasi.\n",
    "3. waktu tercepat iklan dihapus adalah 19 hari, sementara iklan terlama sampai 271 hari\n"
   ]
  },
  {
   "cell_type": "markdown",
   "metadata": {},
   "source": [
    "### Harga Rata-Rata Setiap Jenis Kendaraan"
   ]
  },
  {
   "cell_type": "markdown",
   "metadata": {},
   "source": [
    "Berdasarkan hasil analisis tersebut dapat simpulkan bahwa jumlah iklan SUV dan Truck memiliki jumlah iklan yang paling banyak, SUV dengan jumlah iklan sebanyak 12405 dan truck sebanyak 12353 iklan. Namun harga rata-rata SUV lebih rendah dibandingkan dengan harga rata-rata Truck\n"
   ]
  },
  {
   "cell_type": "code",
   "execution_count": 94,
   "metadata": {},
   "outputs": [
    {
     "data": {
      "text/html": [
       "<div>\n",
       "<style scoped>\n",
       "    .dataframe tbody tr th:only-of-type {\n",
       "        vertical-align: middle;\n",
       "    }\n",
       "\n",
       "    .dataframe tbody tr th {\n",
       "        vertical-align: top;\n",
       "    }\n",
       "\n",
       "    .dataframe thead th {\n",
       "        text-align: right;\n",
       "    }\n",
       "</style>\n",
       "<table border=\"1\" class=\"dataframe\">\n",
       "  <thead>\n",
       "    <tr style=\"text-align: right;\">\n",
       "      <th></th>\n",
       "      <th>ads</th>\n",
       "      <th>mean_price</th>\n",
       "    </tr>\n",
       "    <tr>\n",
       "      <th>type</th>\n",
       "      <th></th>\n",
       "      <th></th>\n",
       "    </tr>\n",
       "  </thead>\n",
       "  <tbody>\n",
       "    <tr>\n",
       "      <th>SUV</th>\n",
       "      <td>12405</td>\n",
       "      <td>11149.400000</td>\n",
       "    </tr>\n",
       "    <tr>\n",
       "      <th>truck</th>\n",
       "      <td>12353</td>\n",
       "      <td>16734.894924</td>\n",
       "    </tr>\n",
       "    <tr>\n",
       "      <th>sedan</th>\n",
       "      <td>12154</td>\n",
       "      <td>6965.358647</td>\n",
       "    </tr>\n",
       "    <tr>\n",
       "      <th>pickup</th>\n",
       "      <td>6988</td>\n",
       "      <td>16057.410418</td>\n",
       "    </tr>\n",
       "    <tr>\n",
       "      <th>coupe</th>\n",
       "      <td>2303</td>\n",
       "      <td>14353.442901</td>\n",
       "    </tr>\n",
       "    <tr>\n",
       "      <th>wagon</th>\n",
       "      <td>1541</td>\n",
       "      <td>9088.134328</td>\n",
       "    </tr>\n",
       "    <tr>\n",
       "      <th>mini-van</th>\n",
       "      <td>1161</td>\n",
       "      <td>8193.177433</td>\n",
       "    </tr>\n",
       "    <tr>\n",
       "      <th>hatchback</th>\n",
       "      <td>1047</td>\n",
       "      <td>6868.513849</td>\n",
       "    </tr>\n",
       "    <tr>\n",
       "      <th>van</th>\n",
       "      <td>633</td>\n",
       "      <td>10546.941548</td>\n",
       "    </tr>\n",
       "    <tr>\n",
       "      <th>convertible</th>\n",
       "      <td>446</td>\n",
       "      <td>14575.881166</td>\n",
       "    </tr>\n",
       "    <tr>\n",
       "      <th>other</th>\n",
       "      <td>256</td>\n",
       "      <td>10989.714844</td>\n",
       "    </tr>\n",
       "    <tr>\n",
       "      <th>offroad</th>\n",
       "      <td>214</td>\n",
       "      <td>14292.294393</td>\n",
       "    </tr>\n",
       "    <tr>\n",
       "      <th>bus</th>\n",
       "      <td>24</td>\n",
       "      <td>17135.666667</td>\n",
       "    </tr>\n",
       "  </tbody>\n",
       "</table>\n",
       "</div>"
      ],
      "text/plain": [
       "               ads    mean_price\n",
       "type                            \n",
       "SUV          12405  11149.400000\n",
       "truck        12353  16734.894924\n",
       "sedan        12154   6965.358647\n",
       "pickup        6988  16057.410418\n",
       "coupe         2303  14353.442901\n",
       "wagon         1541   9088.134328\n",
       "mini-van      1161   8193.177433\n",
       "hatchback     1047   6868.513849\n",
       "van            633  10546.941548\n",
       "convertible    446  14575.881166\n",
       "other          256  10989.714844\n",
       "offroad        214  14292.294393\n",
       "bus             24  17135.666667"
      ]
     },
     "execution_count": 94,
     "metadata": {},
     "output_type": "execute_result"
    },
    {
     "data": {
      "image/png": "[encoded data removed]",
      "text/plain": [
       "<Figure size 720x360 with 1 Axes>"
      ]
     },
     "metadata": {
      "needs_background": "light"
     },
     "output_type": "display_data"
    }
   ],
   "source": [
    "report = (data.groupby(['type']).agg({'model': 'count', 'price': 'mean'})\n",
    "                       .rename(columns = {'model': 'ads', 'price': 'mean_price'})\n",
    "                       .sort_values(by = 'ads', ascending = False))\n",
    "report.head(25)['ads'].plot(kind = 'bar', figsize = (10,5))\n",
    "report"
   ]
  },
  {
   "cell_type": "code",
   "execution_count": 95,
   "metadata": {},
   "outputs": [
    {
     "name": "stdout",
     "output_type": "stream",
     "text": [
      "    type    ads    mean_price\n",
      "0    SUV  12405  11149.400000\n",
      "1  truck  12353  16734.894924\n"
     ]
    }
   ],
   "source": [
    "# analisa 2 jenis kendaraan teratas\n",
    "\n",
    "top_2_types = report.head(2).reset_index()\n",
    "print(top_2_types)"
   ]
  },
  {
   "cell_type": "code",
   "execution_count": 96,
   "metadata": {},
   "outputs": [
    {
     "data": {
      "image/png": "[encoded data removed]",
      "text/plain": [
       "<Figure size 720x432 with 1 Axes>"
      ]
     },
     "metadata": {
      "needs_background": "light"
     },
     "output_type": "display_data"
    }
   ],
   "source": [
    "top_2_types.plot(x='type', y=['ads', 'mean_price'], kind='bar', figsize=(10, 6))\n",
    "plt.xlabel('Jenis Kendaraan')\n",
    "plt.ylabel('Jumlah Iklan dan Harga Rata-rata')\n",
    "plt.title('Perbandingan Jumlah Iklan dan Harga Rata-rata untuk 2 Jenis Kendaraan Teratas')\n",
    "plt.xticks(rotation=0)\n",
    "plt.tight_layout()\n",
    "plt.show()"
   ]
  },
  {
   "cell_type": "markdown",
   "metadata": {},
   "source": [
    "### Faktor Harga"
   ]
  },
  {
   "cell_type": "markdown",
   "metadata": {},
   "source": [
    "Berdasarkan analisis dibawah ini terkait perbandingan antara mobil SUV dan mobil Sedan:\n",
    "\n",
    "1. Hubungan Harga dengan Usia Kendaraan (car_age):\n",
    "    * SUV: Korelasi antara harga (price) dan usia mobil (car_age) di SUV adalah -0,541233, menunjukkan korelasi negatif yang sedang. Ini berarti semakin tua SUV, harga cenderung lebih rendah.\n",
    "    * Sedan: Korelasi antara harga (price) dan usia mobil (car_age) di Sedan adalah -0,559912, menunjukkan korelasi negatif yang sedang. Ini juga berarti semakin tua Sedan, harga cenderung lebih rendah. Korelasi ini hampir sama kuat antara keduanya.\n",
    "\n",
    "\n",
    "2. Hubungan Harga dengan Jumlah Mil yang Telah Ditempuh (Odometer):\n",
    "    * SUV: Korelasi antara harga (price) dan odometer di SUV adalah -0,466757, menunjukkan korelasi negatif yang sedang. Ini berarti semakin tinggi jumlah mil yang telah ditempuh oleh SUV, harga cenderung lebih rendah.\n",
    "    * Sedan: Korelasi antara harga (price) dan odometer di Sedan adalah -0,480184, menunjukkan korelasi negatif yang sedang. Ini juga berarti semakin tinggi jumlah mil yang telah ditempuh oleh Sedan, harga cenderung lebih rendah. Korelasi ini hampir sama kuat antara keduanya.\n",
    "\n",
    "\n",
    "3. Hubungan Harga dengan Kondisi Kendaraan (condition):\n",
    "    * SUV: Korelasi antara harga (price) dan kondisi mobil di SUV adalah 0,273043, menunjukkan korelasi positif yang lemah. Ini berarti mobil SUV dalam kondisi lebih baik cenderung memiliki harga yang lebih tinggi.\n",
    "    * Sedan: Korelasi antara harga (price) dan kondisi mobil di Sedan adalah 0,298803, juga menunjukkan korelasi positif yang lemah. Ini berarti mobil Sedan dalam kondisi lebih baik cenderung memiliki harga yang lebih tinggi. Korelasi ini hampir sama kuat antara keduanya.\n",
    "\n",
    "\n",
    "4. Hubungan Harga dengan Kondisi Kendaraan (transmission):\n",
    "    * SUV dan Sedan dengan jenis transmisi automatic menjadi jenis kendaraan yang paling mahal harganya (melihat dari banyaknya outlier). ini berarti memilih kendaraan automatic akan semakin mahal harganya dibandingkan jenis transmisi lainnya\n",
    "\n",
    "\n",
    "5. Hubungan Harga dengan Warna (paint_color):\n",
    "    * SUV: banyak harga penjualan mobil yang tinggi dengan warna tidak diketahui disusul dengan warna hitam dan putih \n",
    "    * Sedan: harga mobil yang paling mahal adalah dengan warna custom, dapat diasumsikan warna custom lebih menarik dibandingkan dengan warna tanpa custom\n",
    "    \n",
    "Dalam perbandingan ini, kami melihat bahwa SUV dan Sedan memiliki pola korelasi yang serupa terhadap faktor-faktor harga, usia kendaraan, jumlah mil yang telah ditempuh, kondisi kendaraan, transmisi, dan warna. Keduanya menunjukkan tren yang serupa dalam hubungan antara faktor-faktor ini dengan harga kendaraan. Korelasi negatif yang lebih kuat adalah hubungan antara usia kendaraan dan harga, yang berarti semakin tua kendaraan, harga cenderung lebih rendah. Sedangkan korelasi positif yang lemah adalah hubungan antara kondisi kendaraan yang lebih baik dan harga yang lebih tinggi."
   ]
  },
  {
   "cell_type": "markdown",
   "metadata": {},
   "source": [
    "**Analisa Kendaraan SUV**"
   ]
  },
  {
   "cell_type": "code",
   "execution_count": 97,
   "metadata": {},
   "outputs": [
    {
     "data": {
      "text/html": [
       "<div>\n",
       "<style scoped>\n",
       "    .dataframe tbody tr th:only-of-type {\n",
       "        vertical-align: middle;\n",
       "    }\n",
       "\n",
       "    .dataframe tbody tr th {\n",
       "        vertical-align: top;\n",
       "    }\n",
       "\n",
       "    .dataframe thead th {\n",
       "        text-align: right;\n",
       "    }\n",
       "</style>\n",
       "<table border=\"1\" class=\"dataframe\">\n",
       "  <thead>\n",
       "    <tr style=\"text-align: right;\">\n",
       "      <th></th>\n",
       "      <th>price</th>\n",
       "      <th>model_year</th>\n",
       "      <th>model</th>\n",
       "      <th>condition</th>\n",
       "      <th>cylinders</th>\n",
       "      <th>fuel</th>\n",
       "      <th>odometer</th>\n",
       "      <th>transmission</th>\n",
       "      <th>type</th>\n",
       "      <th>paint_color</th>\n",
       "      <th>is_4wd</th>\n",
       "      <th>date_posted</th>\n",
       "      <th>days_listed</th>\n",
       "      <th>day_posted</th>\n",
       "      <th>month_posted</th>\n",
       "      <th>year_posted</th>\n",
       "      <th>weekday_posted</th>\n",
       "      <th>car_age</th>\n",
       "      <th>odo_year</th>\n",
       "    </tr>\n",
       "  </thead>\n",
       "  <tbody>\n",
       "    <tr>\n",
       "      <th>0</th>\n",
       "      <td>9400.0</td>\n",
       "      <td>2011</td>\n",
       "      <td>bmw x5</td>\n",
       "      <td>2</td>\n",
       "      <td>6</td>\n",
       "      <td>gas</td>\n",
       "      <td>145000.0</td>\n",
       "      <td>automatic</td>\n",
       "      <td>SUV</td>\n",
       "      <td>unknown</td>\n",
       "      <td>True</td>\n",
       "      <td>2018-06-23</td>\n",
       "      <td>19</td>\n",
       "      <td>23</td>\n",
       "      <td>6</td>\n",
       "      <td>2018</td>\n",
       "      <td>5</td>\n",
       "      <td>8</td>\n",
       "      <td>18125.000000</td>\n",
       "    </tr>\n",
       "    <tr>\n",
       "      <th>7</th>\n",
       "      <td>15990.0</td>\n",
       "      <td>2013</td>\n",
       "      <td>honda pilot</td>\n",
       "      <td>3</td>\n",
       "      <td>6</td>\n",
       "      <td>gas</td>\n",
       "      <td>109473.0</td>\n",
       "      <td>automatic</td>\n",
       "      <td>SUV</td>\n",
       "      <td>black</td>\n",
       "      <td>True</td>\n",
       "      <td>2019-01-07</td>\n",
       "      <td>68</td>\n",
       "      <td>7</td>\n",
       "      <td>1</td>\n",
       "      <td>2019</td>\n",
       "      <td>0</td>\n",
       "      <td>7</td>\n",
       "      <td>15639.000000</td>\n",
       "    </tr>\n",
       "    <tr>\n",
       "      <th>8</th>\n",
       "      <td>11500.0</td>\n",
       "      <td>2012</td>\n",
       "      <td>kia sorento</td>\n",
       "      <td>3</td>\n",
       "      <td>4</td>\n",
       "      <td>gas</td>\n",
       "      <td>104174.0</td>\n",
       "      <td>automatic</td>\n",
       "      <td>SUV</td>\n",
       "      <td>unknown</td>\n",
       "      <td>True</td>\n",
       "      <td>2018-07-16</td>\n",
       "      <td>19</td>\n",
       "      <td>16</td>\n",
       "      <td>7</td>\n",
       "      <td>2018</td>\n",
       "      <td>0</td>\n",
       "      <td>7</td>\n",
       "      <td>14882.000000</td>\n",
       "    </tr>\n",
       "    <tr>\n",
       "      <th>9</th>\n",
       "      <td>9200.0</td>\n",
       "      <td>2008</td>\n",
       "      <td>honda pilot</td>\n",
       "      <td>3</td>\n",
       "      <td>6</td>\n",
       "      <td>gas</td>\n",
       "      <td>147191.0</td>\n",
       "      <td>automatic</td>\n",
       "      <td>SUV</td>\n",
       "      <td>blue</td>\n",
       "      <td>True</td>\n",
       "      <td>2019-02-15</td>\n",
       "      <td>17</td>\n",
       "      <td>15</td>\n",
       "      <td>2</td>\n",
       "      <td>2019</td>\n",
       "      <td>4</td>\n",
       "      <td>12</td>\n",
       "      <td>12265.916667</td>\n",
       "    </tr>\n",
       "    <tr>\n",
       "      <th>14</th>\n",
       "      <td>12990.0</td>\n",
       "      <td>2009</td>\n",
       "      <td>gmc yukon</td>\n",
       "      <td>3</td>\n",
       "      <td>8</td>\n",
       "      <td>gas</td>\n",
       "      <td>132285.0</td>\n",
       "      <td>automatic</td>\n",
       "      <td>SUV</td>\n",
       "      <td>black</td>\n",
       "      <td>True</td>\n",
       "      <td>2019-01-31</td>\n",
       "      <td>24</td>\n",
       "      <td>31</td>\n",
       "      <td>1</td>\n",
       "      <td>2019</td>\n",
       "      <td>3</td>\n",
       "      <td>11</td>\n",
       "      <td>12025.909091</td>\n",
       "    </tr>\n",
       "  </tbody>\n",
       "</table>\n",
       "</div>"
      ],
      "text/plain": [
       "      price  model_year        model  condition  cylinders fuel  odometer  \\\n",
       "0    9400.0        2011       bmw x5          2          6  gas  145000.0   \n",
       "7   15990.0        2013  honda pilot          3          6  gas  109473.0   \n",
       "8   11500.0        2012  kia sorento          3          4  gas  104174.0   \n",
       "9    9200.0        2008  honda pilot          3          6  gas  147191.0   \n",
       "14  12990.0        2009    gmc yukon          3          8  gas  132285.0   \n",
       "\n",
       "   transmission type paint_color  is_4wd date_posted  days_listed  day_posted  \\\n",
       "0     automatic  SUV     unknown    True  2018-06-23           19          23   \n",
       "7     automatic  SUV       black    True  2019-01-07           68           7   \n",
       "8     automatic  SUV     unknown    True  2018-07-16           19          16   \n",
       "9     automatic  SUV        blue    True  2019-02-15           17          15   \n",
       "14    automatic  SUV       black    True  2019-01-31           24          31   \n",
       "\n",
       "    month_posted  year_posted  weekday_posted  car_age      odo_year  \n",
       "0              6         2018               5        8  18125.000000  \n",
       "7              1         2019               0        7  15639.000000  \n",
       "8              7         2018               0        7  14882.000000  \n",
       "9              2         2019               4       12  12265.916667  \n",
       "14             1         2019               3       11  12025.909091  "
      ]
     },
     "execution_count": 97,
     "metadata": {},
     "output_type": "execute_result"
    }
   ],
   "source": [
    "# Filter data untuk jenis kendaraan SUV\n",
    "\n",
    "data_SUV = data.loc[data['type'].isin(['SUV']) & (data['price'] <= 34597.5)]\n",
    "data_SUV.head()"
   ]
  },
  {
   "cell_type": "code",
   "execution_count": 98,
   "metadata": {},
   "outputs": [
    {
     "data": {
      "text/html": [
       "<div>\n",
       "<style scoped>\n",
       "    .dataframe tbody tr th:only-of-type {\n",
       "        vertical-align: middle;\n",
       "    }\n",
       "\n",
       "    .dataframe tbody tr th {\n",
       "        vertical-align: top;\n",
       "    }\n",
       "\n",
       "    .dataframe thead th {\n",
       "        text-align: right;\n",
       "    }\n",
       "</style>\n",
       "<table border=\"1\" class=\"dataframe\">\n",
       "  <thead>\n",
       "    <tr style=\"text-align: right;\">\n",
       "      <th></th>\n",
       "      <th>price</th>\n",
       "      <th>car_age</th>\n",
       "      <th>odometer</th>\n",
       "      <th>condition</th>\n",
       "    </tr>\n",
       "  </thead>\n",
       "  <tbody>\n",
       "    <tr>\n",
       "      <th>price</th>\n",
       "      <td>1.000000</td>\n",
       "      <td>-0.541233</td>\n",
       "      <td>-0.466757</td>\n",
       "      <td>0.273043</td>\n",
       "    </tr>\n",
       "    <tr>\n",
       "      <th>car_age</th>\n",
       "      <td>-0.541233</td>\n",
       "      <td>1.000000</td>\n",
       "      <td>0.497952</td>\n",
       "      <td>-0.307641</td>\n",
       "    </tr>\n",
       "    <tr>\n",
       "      <th>odometer</th>\n",
       "      <td>-0.466757</td>\n",
       "      <td>0.497952</td>\n",
       "      <td>1.000000</td>\n",
       "      <td>-0.304898</td>\n",
       "    </tr>\n",
       "    <tr>\n",
       "      <th>condition</th>\n",
       "      <td>0.273043</td>\n",
       "      <td>-0.307641</td>\n",
       "      <td>-0.304898</td>\n",
       "      <td>1.000000</td>\n",
       "    </tr>\n",
       "  </tbody>\n",
       "</table>\n",
       "</div>"
      ],
      "text/plain": [
       "              price   car_age  odometer  condition\n",
       "price      1.000000 -0.541233 -0.466757   0.273043\n",
       "car_age   -0.541233  1.000000  0.497952  -0.307641\n",
       "odometer  -0.466757  0.497952  1.000000  -0.304898\n",
       "condition  0.273043 -0.307641 -0.304898   1.000000"
      ]
     },
     "execution_count": 98,
     "metadata": {},
     "output_type": "execute_result"
    }
   ],
   "source": [
    "# Menghitung korelasi antara harga dengan variabel numerik (usia, jarak tempuh, kondisi)\n",
    "\n",
    "numeric_variable_SUV = data_SUV[['price', 'car_age', 'odometer', 'condition']]\n",
    "numeric_corr_SUV = numeric_variable_SUV.corr()\n",
    "numeric_corr_SUV"
   ]
  },
  {
   "cell_type": "code",
   "execution_count": 58,
   "metadata": {},
   "outputs": [
    {
     "data": {
      "image/png": "[encoded data removed]",
      "text/plain": [
       "<Figure size 432x288 with 1 Axes>"
      ]
     },
     "metadata": {
      "needs_background": "light"
     },
     "output_type": "display_data"
    }
   ],
   "source": [
    "# matrix scatter plot untuk melihat korelasi antara harga dengan Usia mobil\n",
    "\n",
    "sns.scatterplot(data=numeric_variable_SUV, x='price', y='car_age')\n",
    "plt.title('Scatterplot Harga vs Usia')\n",
    "plt.xticks(rotation=45)\n",
    "plt.show()"
   ]
  },
  {
   "cell_type": "code",
   "execution_count": 99,
   "metadata": {},
   "outputs": [
    {
     "data": {
      "image/png": "[encoded data removed]",
      "text/plain": [
       "<Figure size 432x288 with 1 Axes>"
      ]
     },
     "metadata": {
      "needs_background": "light"
     },
     "output_type": "display_data"
    }
   ],
   "source": [
    "# matrix scatter plot untuk melihat korelasi antara harga dengan Jarak tempuh\n",
    "\n",
    "sns.scatterplot(data=numeric_variable_SUV, x='price', y='odometer')\n",
    "plt.title('Scatterplot Harga vs Jarak Tempuh')\n",
    "plt.xticks(rotation=45)\n",
    "plt.show()"
   ]
  },
  {
   "cell_type": "code",
   "execution_count": 100,
   "metadata": {},
   "outputs": [
    {
     "data": {
      "image/png": "[encoded data removed]",
      "text/plain": [
       "<Figure size 432x288 with 1 Axes>"
      ]
     },
     "metadata": {
      "needs_background": "light"
     },
     "output_type": "display_data"
    }
   ],
   "source": [
    "# matrix scatter plot untuk melihat korelasi antara harga dengan Kondisi\n",
    "\n",
    "sns.scatterplot(data=numeric_variable_SUV, x='price', y='condition')\n",
    "plt.title('Scatterplot Harga vs Kondisi')\n",
    "plt.xticks(rotation=45)\n",
    "plt.show()"
   ]
  },
  {
   "cell_type": "code",
   "execution_count": 101,
   "metadata": {},
   "outputs": [
    {
     "data": {
      "image/png": "[encoded data removed]",
      "text/plain": [
       "<Figure size 432x288 with 1 Axes>"
      ]
     },
     "metadata": {
      "needs_background": "light"
     },
     "output_type": "display_data"
    }
   ],
   "source": [
    "# Buat boxplot untuk tipe transmisi\n",
    "\n",
    "sns.boxplot(data=data_SUV, x='price', y='transmission')\n",
    "plt.title('Boxplot Harga vs transmission')\n",
    "plt.show()"
   ]
  },
  {
   "cell_type": "code",
   "execution_count": 102,
   "metadata": {},
   "outputs": [
    {
     "data": {
      "image/png": "[encoded data removed]",
      "text/plain": [
       "<Figure size 432x288 with 1 Axes>"
      ]
     },
     "metadata": {
      "needs_background": "light"
     },
     "output_type": "display_data"
    }
   ],
   "source": [
    "# Membuat boxplot untuk melihat korelasi antara harga dengan variabel kategorik - warna\n",
    "\n",
    "sns.boxplot(data=data_SUV, x='price', y='paint_color')\n",
    "plt.title('Boxplot Harga vs Warna')\n",
    "plt.show()"
   ]
  },
  {
   "cell_type": "markdown",
   "metadata": {},
   "source": [
    "**Analisa Kendaraan Sedan**"
   ]
  },
  {
   "cell_type": "code",
   "execution_count": 104,
   "metadata": {},
   "outputs": [
    {
     "data": {
      "text/html": [
       "<div>\n",
       "<style scoped>\n",
       "    .dataframe tbody tr th:only-of-type {\n",
       "        vertical-align: middle;\n",
       "    }\n",
       "\n",
       "    .dataframe tbody tr th {\n",
       "        vertical-align: top;\n",
       "    }\n",
       "\n",
       "    .dataframe thead th {\n",
       "        text-align: right;\n",
       "    }\n",
       "</style>\n",
       "<table border=\"1\" class=\"dataframe\">\n",
       "  <thead>\n",
       "    <tr style=\"text-align: right;\">\n",
       "      <th></th>\n",
       "      <th>price</th>\n",
       "      <th>model_year</th>\n",
       "      <th>model</th>\n",
       "      <th>condition</th>\n",
       "      <th>cylinders</th>\n",
       "      <th>fuel</th>\n",
       "      <th>odometer</th>\n",
       "      <th>transmission</th>\n",
       "      <th>type</th>\n",
       "      <th>paint_color</th>\n",
       "      <th>is_4wd</th>\n",
       "      <th>date_posted</th>\n",
       "      <th>days_listed</th>\n",
       "      <th>day_posted</th>\n",
       "      <th>month_posted</th>\n",
       "      <th>year_posted</th>\n",
       "      <th>weekday_posted</th>\n",
       "      <th>car_age</th>\n",
       "      <th>odo_year</th>\n",
       "    </tr>\n",
       "  </thead>\n",
       "  <tbody>\n",
       "    <tr>\n",
       "      <th>2</th>\n",
       "      <td>5500.0</td>\n",
       "      <td>2013</td>\n",
       "      <td>hyundai sonata</td>\n",
       "      <td>4</td>\n",
       "      <td>4</td>\n",
       "      <td>gas</td>\n",
       "      <td>110000.0</td>\n",
       "      <td>automatic</td>\n",
       "      <td>sedan</td>\n",
       "      <td>red</td>\n",
       "      <td>False</td>\n",
       "      <td>2019-02-07</td>\n",
       "      <td>79</td>\n",
       "      <td>7</td>\n",
       "      <td>2</td>\n",
       "      <td>2019</td>\n",
       "      <td>3</td>\n",
       "      <td>7</td>\n",
       "      <td>15714.285714</td>\n",
       "    </tr>\n",
       "    <tr>\n",
       "      <th>4</th>\n",
       "      <td>14900.0</td>\n",
       "      <td>2017</td>\n",
       "      <td>chrysler 200</td>\n",
       "      <td>3</td>\n",
       "      <td>4</td>\n",
       "      <td>gas</td>\n",
       "      <td>80903.0</td>\n",
       "      <td>automatic</td>\n",
       "      <td>sedan</td>\n",
       "      <td>black</td>\n",
       "      <td>False</td>\n",
       "      <td>2019-04-02</td>\n",
       "      <td>28</td>\n",
       "      <td>2</td>\n",
       "      <td>4</td>\n",
       "      <td>2019</td>\n",
       "      <td>1</td>\n",
       "      <td>3</td>\n",
       "      <td>26967.666667</td>\n",
       "    </tr>\n",
       "    <tr>\n",
       "      <th>5</th>\n",
       "      <td>14990.0</td>\n",
       "      <td>2014</td>\n",
       "      <td>chrysler 300</td>\n",
       "      <td>3</td>\n",
       "      <td>6</td>\n",
       "      <td>gas</td>\n",
       "      <td>57954.0</td>\n",
       "      <td>automatic</td>\n",
       "      <td>sedan</td>\n",
       "      <td>black</td>\n",
       "      <td>True</td>\n",
       "      <td>2018-06-20</td>\n",
       "      <td>15</td>\n",
       "      <td>20</td>\n",
       "      <td>6</td>\n",
       "      <td>2018</td>\n",
       "      <td>2</td>\n",
       "      <td>5</td>\n",
       "      <td>11590.800000</td>\n",
       "    </tr>\n",
       "    <tr>\n",
       "      <th>6</th>\n",
       "      <td>12990.0</td>\n",
       "      <td>2015</td>\n",
       "      <td>toyota camry</td>\n",
       "      <td>3</td>\n",
       "      <td>4</td>\n",
       "      <td>gas</td>\n",
       "      <td>79212.0</td>\n",
       "      <td>automatic</td>\n",
       "      <td>sedan</td>\n",
       "      <td>white</td>\n",
       "      <td>False</td>\n",
       "      <td>2018-12-27</td>\n",
       "      <td>73</td>\n",
       "      <td>27</td>\n",
       "      <td>12</td>\n",
       "      <td>2018</td>\n",
       "      <td>3</td>\n",
       "      <td>4</td>\n",
       "      <td>19803.000000</td>\n",
       "    </tr>\n",
       "    <tr>\n",
       "      <th>11</th>\n",
       "      <td>8990.0</td>\n",
       "      <td>2012</td>\n",
       "      <td>honda accord</td>\n",
       "      <td>3</td>\n",
       "      <td>4</td>\n",
       "      <td>gas</td>\n",
       "      <td>111142.0</td>\n",
       "      <td>automatic</td>\n",
       "      <td>sedan</td>\n",
       "      <td>grey</td>\n",
       "      <td>False</td>\n",
       "      <td>2019-03-28</td>\n",
       "      <td>29</td>\n",
       "      <td>28</td>\n",
       "      <td>3</td>\n",
       "      <td>2019</td>\n",
       "      <td>3</td>\n",
       "      <td>8</td>\n",
       "      <td>13892.750000</td>\n",
       "    </tr>\n",
       "  </tbody>\n",
       "</table>\n",
       "</div>"
      ],
      "text/plain": [
       "      price  model_year           model  condition  cylinders fuel  odometer  \\\n",
       "2    5500.0        2013  hyundai sonata          4          4  gas  110000.0   \n",
       "4   14900.0        2017    chrysler 200          3          4  gas   80903.0   \n",
       "5   14990.0        2014    chrysler 300          3          6  gas   57954.0   \n",
       "6   12990.0        2015    toyota camry          3          4  gas   79212.0   \n",
       "11   8990.0        2012    honda accord          3          4  gas  111142.0   \n",
       "\n",
       "   transmission   type paint_color  is_4wd date_posted  days_listed  \\\n",
       "2     automatic  sedan         red   False  2019-02-07           79   \n",
       "4     automatic  sedan       black   False  2019-04-02           28   \n",
       "5     automatic  sedan       black    True  2018-06-20           15   \n",
       "6     automatic  sedan       white   False  2018-12-27           73   \n",
       "11    automatic  sedan        grey   False  2019-03-28           29   \n",
       "\n",
       "    day_posted  month_posted  year_posted  weekday_posted  car_age  \\\n",
       "2            7             2         2019               3        7   \n",
       "4            2             4         2019               1        3   \n",
       "5           20             6         2018               2        5   \n",
       "6           27            12         2018               3        4   \n",
       "11          28             3         2019               3        8   \n",
       "\n",
       "        odo_year  \n",
       "2   15714.285714  \n",
       "4   26967.666667  \n",
       "5   11590.800000  \n",
       "6   19803.000000  \n",
       "11  13892.750000  "
      ]
     },
     "execution_count": 104,
     "metadata": {},
     "output_type": "execute_result"
    }
   ],
   "source": [
    "# Filter data untuk jenis kendaraan sedan\n",
    "\n",
    "data_sedan = data.loc[data['type'].isin(['sedan']) & (data['price'] <= 34597.5)]\n",
    "data_sedan.head()\n"
   ]
  },
  {
   "cell_type": "code",
   "execution_count": 105,
   "metadata": {},
   "outputs": [
    {
     "data": {
      "text/html": [
       "<div>\n",
       "<style scoped>\n",
       "    .dataframe tbody tr th:only-of-type {\n",
       "        vertical-align: middle;\n",
       "    }\n",
       "\n",
       "    .dataframe tbody tr th {\n",
       "        vertical-align: top;\n",
       "    }\n",
       "\n",
       "    .dataframe thead th {\n",
       "        text-align: right;\n",
       "    }\n",
       "</style>\n",
       "<table border=\"1\" class=\"dataframe\">\n",
       "  <thead>\n",
       "    <tr style=\"text-align: right;\">\n",
       "      <th></th>\n",
       "      <th>price</th>\n",
       "      <th>car_age</th>\n",
       "      <th>odometer</th>\n",
       "      <th>condition</th>\n",
       "    </tr>\n",
       "  </thead>\n",
       "  <tbody>\n",
       "    <tr>\n",
       "      <th>price</th>\n",
       "      <td>1.000000</td>\n",
       "      <td>-0.559912</td>\n",
       "      <td>-0.480184</td>\n",
       "      <td>0.298803</td>\n",
       "    </tr>\n",
       "    <tr>\n",
       "      <th>car_age</th>\n",
       "      <td>-0.559912</td>\n",
       "      <td>1.000000</td>\n",
       "      <td>0.467866</td>\n",
       "      <td>-0.286950</td>\n",
       "    </tr>\n",
       "    <tr>\n",
       "      <th>odometer</th>\n",
       "      <td>-0.480184</td>\n",
       "      <td>0.467866</td>\n",
       "      <td>1.000000</td>\n",
       "      <td>-0.288152</td>\n",
       "    </tr>\n",
       "    <tr>\n",
       "      <th>condition</th>\n",
       "      <td>0.298803</td>\n",
       "      <td>-0.286950</td>\n",
       "      <td>-0.288152</td>\n",
       "      <td>1.000000</td>\n",
       "    </tr>\n",
       "  </tbody>\n",
       "</table>\n",
       "</div>"
      ],
      "text/plain": [
       "              price   car_age  odometer  condition\n",
       "price      1.000000 -0.559912 -0.480184   0.298803\n",
       "car_age   -0.559912  1.000000  0.467866  -0.286950\n",
       "odometer  -0.480184  0.467866  1.000000  -0.288152\n",
       "condition  0.298803 -0.286950 -0.288152   1.000000"
      ]
     },
     "execution_count": 105,
     "metadata": {},
     "output_type": "execute_result"
    }
   ],
   "source": [
    "# Menghitung korelasi antara harga dengan variabel numerik (usia, jarak tempuh, kondisi)\n",
    "\n",
    "numeric_variable_sedan = data_sedan[['price', 'car_age', 'odometer', 'condition']]\n",
    "numeric_corr_sedan= numeric_variable_sedan.corr()\n",
    "numeric_corr_sedan\n"
   ]
  },
  {
   "cell_type": "code",
   "execution_count": 106,
   "metadata": {},
   "outputs": [
    {
     "data": {
      "image/png": "[encoded data removed]",
      "text/plain": [
       "<Figure size 432x288 with 1 Axes>"
      ]
     },
     "metadata": {
      "needs_background": "light"
     },
     "output_type": "display_data"
    }
   ],
   "source": [
    "# matrix scatter plot untuk melihat korelasi antara harga dengan Usia mobil\n",
    "\n",
    "sns.scatterplot(data=numeric_variable_sedan, x='price', y='car_age')\n",
    "plt.title('Scatterplot Harga vs Usia')\n",
    "plt.xticks(rotation=45)\n",
    "plt.show()"
   ]
  },
  {
   "cell_type": "code",
   "execution_count": 107,
   "metadata": {},
   "outputs": [
    {
     "data": {
      "image/png": "[encoded data removed]",
      "text/plain": [
       "<Figure size 432x288 with 1 Axes>"
      ]
     },
     "metadata": {
      "needs_background": "light"
     },
     "output_type": "display_data"
    }
   ],
   "source": [
    "# matrix scatter plot untuk melihat korelasi antara harga dengan Jarak tempuh\n",
    "\n",
    "sns.scatterplot(data=numeric_variable_sedan, x='price', y='odometer')\n",
    "plt.title('Scatterplot Harga vs Jarak Tempuh')\n",
    "plt.xticks(rotation=45)\n",
    "plt.show()"
   ]
  },
  {
   "cell_type": "code",
   "execution_count": 67,
   "metadata": {},
   "outputs": [
    {
     "data": {
      "image/png": "[encoded data removed]",
      "text/plain": [
       "<Figure size 432x288 with 1 Axes>"
      ]
     },
     "metadata": {
      "needs_background": "light"
     },
     "output_type": "display_data"
    }
   ],
   "source": [
    "# matrix scatter plot untuk melihat korelasi antara harga dengan Kondisi\n",
    "\n",
    "sns.scatterplot(data=numeric_variable_sedan, x='price', y='condition')\n",
    "plt.title('Scatterplot Harga vs Kondisi')\n",
    "plt.xticks(rotation=45)\n",
    "plt.show()"
   ]
  },
  {
   "cell_type": "code",
   "execution_count": 68,
   "metadata": {},
   "outputs": [
    {
     "data": {
      "image/png": "[encoded data removed]",
      "text/plain": [
       "<Figure size 432x288 with 1 Axes>"
      ]
     },
     "metadata": {
      "needs_background": "light"
     },
     "output_type": "display_data"
    }
   ],
   "source": [
    "# Buat boxplot untuk tipe transmisi\n",
    "\n",
    "sns.boxplot(data=data_sedan, x='price', y='transmission')\n",
    "plt.title('Boxplot Harga vs transmission')\n",
    "plt.show()"
   ]
  },
  {
   "cell_type": "code",
   "execution_count": 69,
   "metadata": {
    "scrolled": true
   },
   "outputs": [
    {
     "data": {
      "image/png": "[encoded data removed]",
      "text/plain": [
       "<Figure size 432x288 with 1 Axes>"
      ]
     },
     "metadata": {
      "needs_background": "light"
     },
     "output_type": "display_data"
    }
   ],
   "source": [
    "# Membuat boxplot untuk melihat korelasi antara harga dengan variabel kategorik - warna\n",
    "\n",
    "sns.boxplot(data=data_sedan, x='price', y='paint_color')\n",
    "plt.title('Boxplot Harga vs Warna')\n",
    "plt.show()"
   ]
  },
  {
   "cell_type": "markdown",
   "metadata": {},
   "source": [
    "## Kesimpulan Umum"
   ]
  },
  {
   "cell_type": "markdown",
   "metadata": {},
   "source": [
    "Kesimpulan dari proyek ini adalah untuk melakukan analisa guna menjawab pertanyaan mengenai faktor apakah yang menjual sebuah mobil?\n",
    "\n",
    "dari hasil analisa yang sudah dilakukan, kami menemukan temuan tentang penjualan sebuah mobil yang menarik diantaranya:\n",
    "\n",
    "1. Durasi Iklan: Rata-rata iklan ditayangkan selama 39 hari dengan median 33 hari. Durasi iklan berkisar dari 19 hingga 271 hari, dengan standar deviasi sekitar 28 hari. Ini berarti sebagian besar iklan mobil dihapus dalam waktu sekitar 1 bulan.\n",
    "\n",
    "2. Harga Rata-rata Berdasarkan Jenis Kendaraan: Berdasarkan jenis kendaraan, harga rata-rata tertinggi dimiliki oleh kategori \"bus\" (sekitar 17.135,67) dan \"truck\" (sekitar 16.734,89), sedangkan \"hatchback\" memiliki harga rata-rata lebih rendah (sekitar 6.868.51).\n",
    "\n",
    "kemudian faktor-faktor yang mempengaruhi harga kendaraan antara kendaraan SUV dan kendaraan Sedan:\n",
    "\n",
    "1. Hubungan Harga dengan Usia Kendaraan:\n",
    "    * SUV: Korelasi antara harga dan usia mobil di SUV adalah -0,541233, menunjukkan korelasi negatif yang sedang. Ini berarti semakin tua SUV, harga cenderung lebih rendah.\n",
    "    * Sedan: Korelasi antara harga dan usia mobil di Sedan adalah -0,559912, menunjukkan korelasi negatif yang sedang. Ini juga berarti semakin tua Sedan, harga cenderung lebih rendah. Korelasi ini sebanding antara SUV dan Sedan.\n",
    "\n",
    "\n",
    "2. Hubungan Harga dengan Jumlah Mil yang Telah Ditempuh (Odometer):\n",
    "    * SUV: Korelasi antara harga dan odometer di SUV adalah -0,466757, menunjukkan korelasi negatif yang sedang. Ini berarti semakin tinggi jumlah mil yang telah ditempuh oleh SUV, harga cenderung lebih rendah.\n",
    "    * Sedan: Korelasi antara harga dan odometer di Sedan adalah -0,480184, menunjukkan korelasi negatif yang sedang. Ini juga berarti semakin tinggi jumlah mil yang telah ditempuh oleh Sedan, harga cenderung lebih rendah. Korelasi ini sebanding antara SUV dan Sedan.\n",
    "\n",
    "\n",
    "3. Hubungan Harga dengan Kondisi Kendaraan:\n",
    "    * SUV: Korelasi antara harga dan kondisi mobil di SUV adalah 0,273043, menunjukkan korelasi positif yang lemah. Ini berarti mobil SUV dalam kondisi lebih baik cenderung memiliki harga yang lebih tinggi.\n",
    "    * Sedan: Korelasi antara harga dan kondisi mobil di Sedan adalah 0,298803, juga menunjukkan korelasi positif yang lemah. Ini berarti mobil Sedan dalam kondisi lebih baik cenderung memiliki harga yang lebih tinggi. Korelasi ini sebanding antara SUV dan Sedan.\n",
    "\n",
    "Secara umum, SUV dan Sedan memiliki pola korelasi yang serupa terhadap faktor-faktor harga, usia kendaraan, jumlah mil yang telah ditempuh, dan kondisi kendaraan. Kedua jenis kendaraan menunjukkan tren yang serupa dalam hubungan antara faktor-faktor ini dengan harga kendaraan.\n",
    "\n",
    "Rekomendasi:\n",
    "\n",
    "1. Optimasi Durasi Iklan: Karena rata-rata iklan ditayangkan selama 39 hari, situs dapat memberikan opsi kepada pengiklan untuk mengoptimalkan durasi iklan mereka. Ini dapat membantu pengiklan menghemat biaya iklan jika mobil mereka terjual lebih cepat dari rata-rata.\n",
    "\n",
    "2. Segmentasi Pasar: Situs dapat meningkatkan layanan mereka dengan menyediakan pilihan segmentasi pasar yang lebih baik. Hal ini dapat membantu pengiklan menargetkan audiens mereka dengan lebih efektif berdasarkan jenis kendaraan, harga, atau wilayah geografis.\n",
    "\n",
    "3. Analisis Harga: Situs dapat memberikan alat analisis harga yang lebih baik kepada pengiklan dan pembeli. Ini dapat mencakup pembandingan harga dengan rata-rata pasar atau saran harga berdasarkan karakteristik kendaraan.\n",
    "\n",
    "4. Pemasaran Lebih Tepat Sasaran: Dengan mengetahui jenis kendaraan yang paling diminati, seperti SUV, Truck, dan Sedan, situs dapat meningkatkan upaya pemasaran mereka untuk menarik lebih banyak iklan kendaraan tersebut."
   ]
  },
  {
   "cell_type": "code",
   "execution_count": null,
   "metadata": {},
   "outputs": [],
   "source": []
  }
 ],
 "metadata": {
  "ExecuteTimeLog": [
   {
    "duration": 828,
    "start_time": "2021-11-16T09:21:11.304Z"
   },
   {
    "duration": 893,
    "start_time": "2021-11-16T09:21:17.728Z"
   },
   {
    "duration": 1150,
    "start_time": "2021-11-16T09:21:29.568Z"
   },
   {
    "duration": 3,
    "start_time": "2021-11-16T09:24:14.495Z"
   },
   {
    "duration": 120,
    "start_time": "2021-11-16T09:24:46.630Z"
   },
   {
    "duration": 3,
    "start_time": "2021-11-16T09:28:27.882Z"
   },
   {
    "duration": 4,
    "start_time": "2021-11-16T09:29:54.281Z"
   },
   {
    "duration": 3,
    "start_time": "2021-11-16T09:30:45.936Z"
   },
   {
    "duration": 4,
    "start_time": "2021-11-16T09:31:06.300Z"
   },
   {
    "duration": 113,
    "start_time": "2021-11-16T09:31:37.208Z"
   },
   {
    "duration": 143,
    "start_time": "2021-11-16T09:31:48.656Z"
   },
   {
    "duration": 98,
    "start_time": "2021-11-16T09:31:55.678Z"
   },
   {
    "duration": 3,
    "start_time": "2021-11-16T09:32:08.535Z"
   },
   {
    "duration": 111,
    "start_time": "2021-11-16T09:32:10.120Z"
   },
   {
    "duration": 3,
    "start_time": "2021-11-16T09:32:15.732Z"
   },
   {
    "duration": 4,
    "start_time": "2021-11-16T09:32:29.423Z"
   },
   {
    "duration": 3,
    "start_time": "2021-11-16T10:03:03.074Z"
   },
   {
    "duration": 3,
    "start_time": "2021-11-16T10:10:01.288Z"
   },
   {
    "duration": 3,
    "start_time": "2021-11-16T10:10:46.923Z"
   },
   {
    "duration": 121,
    "start_time": "2021-11-16T10:37:46.494Z"
   },
   {
    "duration": 125,
    "start_time": "2021-11-16T10:38:20.632Z"
   },
   {
    "duration": 112,
    "start_time": "2021-11-16T10:46:53.001Z"
   },
   {
    "duration": 110,
    "start_time": "2021-11-16T10:48:25.775Z"
   },
   {
    "duration": 3,
    "start_time": "2021-11-16T10:50:18.720Z"
   },
   {
    "duration": 4,
    "start_time": "2021-11-16T10:50:37.649Z"
   },
   {
    "duration": 2,
    "start_time": "2021-11-16T10:50:51.884Z"
   },
   {
    "duration": 3,
    "start_time": "2021-11-16T10:51:56.237Z"
   },
   {
    "duration": 101,
    "start_time": "2021-11-16T10:53:13.791Z"
   },
   {
    "duration": 3,
    "start_time": "2021-11-16T10:55:59.186Z"
   },
   {
    "duration": 3,
    "start_time": "2021-11-16T10:56:10.751Z"
   },
   {
    "duration": 3,
    "start_time": "2021-11-16T10:56:49.038Z"
   },
   {
    "duration": 3,
    "start_time": "2021-11-16T10:56:49.174Z"
   },
   {
    "duration": 4,
    "start_time": "2021-11-16T10:56:49.414Z"
   },
   {
    "duration": 3,
    "start_time": "2021-11-16T10:56:49.680Z"
   },
   {
    "duration": 3,
    "start_time": "2021-11-16T10:56:50.370Z"
   },
   {
    "duration": 114,
    "start_time": "2021-11-16T10:59:34.518Z"
   },
   {
    "duration": 3,
    "start_time": "2021-11-16T11:01:41.201Z"
   },
   {
    "duration": 116,
    "start_time": "2021-11-16T11:01:48.754Z"
   },
   {
    "duration": 3,
    "start_time": "2021-11-16T11:02:16.685Z"
   },
   {
    "duration": 3,
    "start_time": "2021-11-16T11:02:19.479Z"
   },
   {
    "duration": 3,
    "start_time": "2021-11-16T11:02:47.067Z"
   },
   {
    "duration": 3,
    "start_time": "2021-11-16T11:02:49.353Z"
   },
   {
    "duration": 3,
    "start_time": "2021-11-16T11:03:07.835Z"
   },
   {
    "duration": 3,
    "start_time": "2021-11-16T11:03:07.953Z"
   },
   {
    "duration": 112,
    "start_time": "2021-11-16T11:07:52.072Z"
   },
   {
    "duration": 187,
    "start_time": "2021-11-16T11:09:23.468Z"
   },
   {
    "duration": 4,
    "start_time": "2021-11-16T11:10:01.455Z"
   },
   {
    "duration": 3,
    "start_time": "2021-11-16T11:10:05.069Z"
   },
   {
    "duration": 4,
    "start_time": "2021-11-16T11:10:13.376Z"
   },
   {
    "duration": 3,
    "start_time": "2021-11-16T11:10:14.434Z"
   },
   {
    "duration": 3,
    "start_time": "2021-11-16T11:10:22.853Z"
   },
   {
    "duration": 4,
    "start_time": "2021-11-16T11:27:29.279Z"
   },
   {
    "duration": 4,
    "start_time": "2021-11-16T11:29:08.919Z"
   },
   {
    "duration": 118,
    "start_time": "2021-11-16T11:29:46.703Z"
   },
   {
    "duration": 437,
    "start_time": "2021-11-16T11:36:02.181Z"
   },
   {
    "duration": 157,
    "start_time": "2021-11-16T11:36:14.388Z"
   },
   {
    "duration": 207,
    "start_time": "2021-11-16T11:47:15.898Z"
   },
   {
    "duration": 3,
    "start_time": "2021-11-16T11:53:52.092Z"
   },
   {
    "duration": 3,
    "start_time": "2021-11-16T11:53:52.236Z"
   },
   {
    "duration": 3,
    "start_time": "2021-11-16T11:59:12.005Z"
   },
   {
    "duration": 112,
    "start_time": "2021-11-16T12:00:33.446Z"
   },
   {
    "duration": 3,
    "start_time": "2021-11-16T12:02:14.453Z"
   },
   {
    "duration": 3,
    "start_time": "2021-11-16T12:02:39.512Z"
   },
   {
    "duration": 106,
    "start_time": "2021-11-16T12:03:03.460Z"
   }
  ],
  "kernelspec": {
   "display_name": "Python 3 (ipykernel)",
   "language": "python",
   "name": "python3"
  },
  "language_info": {
   "codemirror_mode": {
    "name": "ipython",
    "version": 3
   },
   "file_extension": ".py",
   "mimetype": "text/x-python",
   "name": "python",
   "nbconvert_exporter": "python",
   "pygments_lexer": "ipython3",
   "version": "3.11.2"
  },
  "toc": {
   "base_numbering": 1,
   "nav_menu": {},
   "number_sections": false,
   "sideBar": true,
   "skip_h1_title": false,
   "title_cell": "Konten",
   "title_sidebar": "Contents",
   "toc_cell": true,
   "toc_position": {
    "height": "calc(100% - 180px)",
    "left": "10px",
    "top": "150px",
    "width": "410.66px"
   },
   "toc_section_display": true,
   "toc_window_display": true
  }
 },
 "nbformat": 4,
 "nbformat_minor": 4
}
