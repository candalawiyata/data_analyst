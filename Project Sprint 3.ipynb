{
 "cells": [
  {
   "cell_type": "markdown",
   "metadata": {},
   "source": [
    "# Paket Prabayar Manakah yang Lebih Baik?\n",
    "\n",
    "\n",
    "**Deskripsi Project**\n",
    "\n",
    "Anda bekerja sebagai seorang analis di perusahaan operator telekomunikasi bernama Megaline. Perusahaan tersebut menawarkan kliennya dua jenis paket prabayar, yaitu paket Surf dan paket Ultimate. Departemen periklanan ingin mengetahui paket prabayar mana yang menghasilkan lebih banyak pendapatan, sehingga mereka bisa membuat anggaran iklan yang sesuai.\n",
    "\n",
    "Analisis ini dilakukan untuk melakukan analisis awal terhadap dua jenis paket prabayar yang ditawarkan oleh perusahaan telekomunikasi Megaline, yaitu paket Surf dan paket Ultimate. Analisis ini bertujuan untuk mengetahui paket prabayar mana yang menghasilkan lebih banyak pendapatan berdasarkan data sampel klien yang berjumlah 500 orang."
   ]
  },
  {
   "cell_type": "markdown",
   "metadata": {},
   "source": [
    "## Tujuan"
   ]
  },
  {
   "cell_type": "markdown",
   "metadata": {},
   "source": [
    "Tujuan dari proyek ini adalah untuk melakukan analisis data para pengguna paket prabayar dan untuk mendapatkan jawaban dari pertanyaan berikut:\n",
    "\n",
    "1. Menganalisa perilaku konsumen yang menggunakan paket prabayar Surf dan Ultimate dengan sampel klien berjumlah 500 orang\n",
    "2. Menguji dua hipotesis statistik:\n",
    "    - Apakah Rata-rata pendapatan dari pengguna paket telepon Ultimate dan Surf berbeda?\n",
    "    - Apakah Rata-rata pendapatan dari pengguna di wilayah NY-NJ berbeda dengan pendapatan pengguna dari wilayah lain?"
   ]
  },
  {
   "cell_type": "markdown",
   "metadata": {},
   "source": [
    "## Tahapan"
   ]
  },
  {
   "cell_type": "markdown",
   "metadata": {},
   "source": [
    "Tahapan dari proyek ini memiliki lima tahapan diantaranya:\n",
    "1. Pra-pemrosesan data\n",
    "2. Data Preparation\n",
    "3. Data Analyst\n",
    "4. Menguji Hipotesis Statistik\n",
    "5. Melakukan Kesimpulan"
   ]
  },
  {
   "cell_type": "markdown",
   "metadata": {},
   "source": [
    "Dataset yang digunakan pada proyek diantaranya:\n",
    "\n",
    "- `/datasets/megaline_calls.csv Unduh dataset`\n",
    "- `/datasets/megaline_internet.csv Unduh dataset`\n",
    "- `/datasets/megaline_messages.csv Unduh dataset`\n",
    "- `/datasets/megaline_plans.csv Unduh dataset`\n",
    "- `/datasets/megaline_users.csv Unduh dataset`"
   ]
  },
  {
   "cell_type": "markdown",
   "metadata": {},
   "source": [
    "# Pra-Pemrosesan Data"
   ]
  },
  {
   "cell_type": "markdown",
   "metadata": {},
   "source": [
    "Tahapan Pra-pemrosesan data dilakukan untuk mengetahui informasi terkait dataset yang akan dilakukan analisa, apakah ada data yang tidak sesuai, data mana yang akan digunakan, serta penanganan apa yang harus dilakukan untuk membuat data menjadi lebih baik."
   ]
  },
  {
   "cell_type": "markdown",
   "metadata": {},
   "source": [
    "## Inisialisasi"
   ]
  },
  {
   "cell_type": "code",
   "execution_count": 1,
   "metadata": {},
   "outputs": [],
   "source": [
    "import pandas as pd, numpy as np\n",
    "import matplotlib.pyplot as plt, seaborn as sns\n",
    "from scipy import stats as st\n",
    "import seaborn as sns"
   ]
  },
  {
   "cell_type": "markdown",
   "metadata": {},
   "source": [
    "## Memuat Data"
   ]
  },
  {
   "cell_type": "code",
   "execution_count": 2,
   "metadata": {},
   "outputs": [],
   "source": [
    "# Muat file data ke dalam DataFrame yang berbeda\n",
    "\n",
    "calls = pd.read_csv('/datasets/megaline_calls.csv')\n",
    "internet = pd.read_csv('/datasets/megaline_internet.csv')\n",
    "messages = pd.read_csv('/datasets/megaline_messages.csv')\n",
    "users = pd.read_csv('/datasets/megaline_users.csv')\n",
    "plans = pd.read_csv('/datasets/megaline_plans.csv')\n"
   ]
  },
  {
   "cell_type": "markdown",
   "metadata": {},
   "source": [
    "## Gambaran Umum Data"
   ]
  },
  {
   "cell_type": "markdown",
   "metadata": {},
   "source": [
    "### Call Data"
   ]
  },
  {
   "cell_type": "code",
   "execution_count": 3,
   "metadata": {
    "collapsed": true,
    "jupyter": {
     "outputs_hidden": true
    }
   },
   "outputs": [
    {
     "name": "stdout",
     "output_type": "stream",
     "text": [
      "<class 'pandas.core.frame.DataFrame'>\n",
      "RangeIndex: 137735 entries, 0 to 137734\n",
      "Data columns (total 4 columns):\n",
      " #   Column     Non-Null Count   Dtype  \n",
      "---  ------     --------------   -----  \n",
      " 0   id         137735 non-null  object \n",
      " 1   user_id    137735 non-null  int64  \n",
      " 2   call_date  137735 non-null  object \n",
      " 3   duration   137735 non-null  float64\n",
      "dtypes: float64(1), int64(1), object(2)\n",
      "memory usage: 4.2+ MB\n"
     ]
    },
    {
     "data": {
      "text/html": [
       "<div>\n",
       "<style scoped>\n",
       "    .dataframe tbody tr th:only-of-type {\n",
       "        vertical-align: middle;\n",
       "    }\n",
       "\n",
       "    .dataframe tbody tr th {\n",
       "        vertical-align: top;\n",
       "    }\n",
       "\n",
       "    .dataframe thead th {\n",
       "        text-align: right;\n",
       "    }\n",
       "</style>\n",
       "<table border=\"1\" class=\"dataframe\">\n",
       "  <thead>\n",
       "    <tr style=\"text-align: right;\">\n",
       "      <th></th>\n",
       "      <th>id</th>\n",
       "      <th>user_id</th>\n",
       "      <th>call_date</th>\n",
       "      <th>duration</th>\n",
       "    </tr>\n",
       "  </thead>\n",
       "  <tbody>\n",
       "    <tr>\n",
       "      <th>0</th>\n",
       "      <td>1000_93</td>\n",
       "      <td>1000</td>\n",
       "      <td>2018-12-27</td>\n",
       "      <td>8.52</td>\n",
       "    </tr>\n",
       "    <tr>\n",
       "      <th>1</th>\n",
       "      <td>1000_145</td>\n",
       "      <td>1000</td>\n",
       "      <td>2018-12-27</td>\n",
       "      <td>13.66</td>\n",
       "    </tr>\n",
       "    <tr>\n",
       "      <th>2</th>\n",
       "      <td>1000_247</td>\n",
       "      <td>1000</td>\n",
       "      <td>2018-12-27</td>\n",
       "      <td>14.48</td>\n",
       "    </tr>\n",
       "    <tr>\n",
       "      <th>3</th>\n",
       "      <td>1000_309</td>\n",
       "      <td>1000</td>\n",
       "      <td>2018-12-28</td>\n",
       "      <td>5.76</td>\n",
       "    </tr>\n",
       "    <tr>\n",
       "      <th>4</th>\n",
       "      <td>1000_380</td>\n",
       "      <td>1000</td>\n",
       "      <td>2018-12-30</td>\n",
       "      <td>4.22</td>\n",
       "    </tr>\n",
       "  </tbody>\n",
       "</table>\n",
       "</div>"
      ],
      "text/plain": [
       "         id  user_id   call_date  duration\n",
       "0   1000_93     1000  2018-12-27      8.52\n",
       "1  1000_145     1000  2018-12-27     13.66\n",
       "2  1000_247     1000  2018-12-27     14.48\n",
       "3  1000_309     1000  2018-12-28      5.76\n",
       "4  1000_380     1000  2018-12-30      4.22"
      ]
     },
     "execution_count": 3,
     "metadata": {},
     "output_type": "execute_result"
    }
   ],
   "source": [
    "# Menampilkan informasi data Calls\n",
    "\n",
    "calls.info()\n",
    "calls.head()"
   ]
  },
  {
   "cell_type": "markdown",
   "metadata": {},
   "source": [
    "**Deskripsi Tabel calls (data panggilan)**\n",
    "- `id` — ID panggilan unik\n",
    "- `call_date` — tanggal panggilan\n",
    "- `duration` — durasi panggilan (dalam menit)\n",
    "- `user_id` — ID pengguna yang melakukan panggilan\n"
   ]
  },
  {
   "cell_type": "markdown",
   "metadata": {},
   "source": [
    "**Masalah dan Penanganannya**\n",
    "\n",
    "- Tidak ada nilai yang hilang dalam tabel ini\n",
    "- tipe data `call_date` perlu diubah menjadi datetime\n",
    "- Nilai `duration` perlu dibulatkan ke bilangan bulat terdekat\n",
    "- Jumlah panggilan dan durasi perlu diagregasi berdasarkan user_id dan bulan."
   ]
  },
  {
   "cell_type": "markdown",
   "metadata": {},
   "source": [
    "**Meperbaiki data**"
   ]
  },
  {
   "cell_type": "code",
   "execution_count": 4,
   "metadata": {},
   "outputs": [],
   "source": [
    "# Konversi 'call_date' menjadi tipe data datetime\n",
    "calls['call_date'] = pd.to_datetime(calls['call_date'], format ='%Y-%m-%d')\n",
    "\n",
    "# Membuat kolom baru yang menunjukkan bulan panggilan dilakukan\n",
    "calls['month'] = calls['call_date'].dt.month\n",
    "\n",
    "# Membulatkan durasi dan mengonversinya menjadi bilangan bulat\n",
    "calls['duration'] = calls['duration'].apply(np.ceil).astype(int)"
   ]
  },
  {
   "cell_type": "markdown",
   "metadata": {},
   "source": [
    "**Memperkaya Kualitas Data**"
   ]
  },
  {
   "cell_type": "code",
   "execution_count": 5,
   "metadata": {},
   "outputs": [
    {
     "name": "stdout",
     "output_type": "stream",
     "text": [
      "<class 'pandas.core.frame.DataFrame'>\n",
      "RangeIndex: 137735 entries, 0 to 137734\n",
      "Data columns (total 5 columns):\n",
      " #   Column     Non-Null Count   Dtype         \n",
      "---  ------     --------------   -----         \n",
      " 0   id         137735 non-null  object        \n",
      " 1   user_id    137735 non-null  int64         \n",
      " 2   call_date  137735 non-null  datetime64[ns]\n",
      " 3   duration   137735 non-null  int64         \n",
      " 4   month      137735 non-null  int64         \n",
      "dtypes: datetime64[ns](1), int64(3), object(1)\n",
      "memory usage: 5.3+ MB\n"
     ]
    }
   ],
   "source": [
    "calls.info()"
   ]
  },
  {
   "cell_type": "markdown",
   "metadata": {},
   "source": [
    "### Internet Data"
   ]
  },
  {
   "cell_type": "code",
   "execution_count": 6,
   "metadata": {},
   "outputs": [
    {
     "name": "stdout",
     "output_type": "stream",
     "text": [
      "<class 'pandas.core.frame.DataFrame'>\n",
      "RangeIndex: 104825 entries, 0 to 104824\n",
      "Data columns (total 4 columns):\n",
      " #   Column        Non-Null Count   Dtype  \n",
      "---  ------        --------------   -----  \n",
      " 0   id            104825 non-null  object \n",
      " 1   user_id       104825 non-null  int64  \n",
      " 2   session_date  104825 non-null  object \n",
      " 3   mb_used       104825 non-null  float64\n",
      "dtypes: float64(1), int64(1), object(2)\n",
      "memory usage: 3.2+ MB\n"
     ]
    },
    {
     "data": {
      "text/html": [
       "<div>\n",
       "<style scoped>\n",
       "    .dataframe tbody tr th:only-of-type {\n",
       "        vertical-align: middle;\n",
       "    }\n",
       "\n",
       "    .dataframe tbody tr th {\n",
       "        vertical-align: top;\n",
       "    }\n",
       "\n",
       "    .dataframe thead th {\n",
       "        text-align: right;\n",
       "    }\n",
       "</style>\n",
       "<table border=\"1\" class=\"dataframe\">\n",
       "  <thead>\n",
       "    <tr style=\"text-align: right;\">\n",
       "      <th></th>\n",
       "      <th>id</th>\n",
       "      <th>user_id</th>\n",
       "      <th>session_date</th>\n",
       "      <th>mb_used</th>\n",
       "    </tr>\n",
       "  </thead>\n",
       "  <tbody>\n",
       "    <tr>\n",
       "      <th>0</th>\n",
       "      <td>1000_13</td>\n",
       "      <td>1000</td>\n",
       "      <td>2018-12-29</td>\n",
       "      <td>89.86</td>\n",
       "    </tr>\n",
       "    <tr>\n",
       "      <th>1</th>\n",
       "      <td>1000_204</td>\n",
       "      <td>1000</td>\n",
       "      <td>2018-12-31</td>\n",
       "      <td>0.00</td>\n",
       "    </tr>\n",
       "    <tr>\n",
       "      <th>2</th>\n",
       "      <td>1000_379</td>\n",
       "      <td>1000</td>\n",
       "      <td>2018-12-28</td>\n",
       "      <td>660.40</td>\n",
       "    </tr>\n",
       "    <tr>\n",
       "      <th>3</th>\n",
       "      <td>1000_413</td>\n",
       "      <td>1000</td>\n",
       "      <td>2018-12-26</td>\n",
       "      <td>270.99</td>\n",
       "    </tr>\n",
       "    <tr>\n",
       "      <th>4</th>\n",
       "      <td>1000_442</td>\n",
       "      <td>1000</td>\n",
       "      <td>2018-12-27</td>\n",
       "      <td>880.22</td>\n",
       "    </tr>\n",
       "  </tbody>\n",
       "</table>\n",
       "</div>"
      ],
      "text/plain": [
       "         id  user_id session_date  mb_used\n",
       "0   1000_13     1000   2018-12-29    89.86\n",
       "1  1000_204     1000   2018-12-31     0.00\n",
       "2  1000_379     1000   2018-12-28   660.40\n",
       "3  1000_413     1000   2018-12-26   270.99\n",
       "4  1000_442     1000   2018-12-27   880.22"
      ]
     },
     "execution_count": 6,
     "metadata": {},
     "output_type": "execute_result"
    }
   ],
   "source": [
    "# Menampilkan informasi data Internet\n",
    "\n",
    "internet.info()\n",
    "internet.head()"
   ]
  },
  {
   "cell_type": "markdown",
   "metadata": {},
   "source": [
    "**Deskripsi Tabel internet:**\n",
    "- `id` — ID nilai unik\n",
    "- `mb_used` — volume data yang dihabiskan selama sesi (dalam megabyte)\n",
    "- `session_date` — tanggal sesi web\n",
    "- `user_id` — ID pengguna"
   ]
  },
  {
   "cell_type": "markdown",
   "metadata": {},
   "source": [
    "**Masalah dan Penanganannya**\n",
    "- Tidak ada nilai yang hilang dalam tabel ini\n",
    "- tipe data `session_date` perlu diubah menjadi datetime\n",
    "- Jumlah sesi dan data yang digunakan perlu diagregasi berdasarkan `user_id` dan bulannya.\n",
    "- Nilai gabungan` mb_used` perlu diubah menjadi nilai gigabyte dan dibulatkan ke bilangan bulat terdekat\n",
    "  dilakukan pada saat tahap agregasi"
   ]
  },
  {
   "cell_type": "markdown",
   "metadata": {},
   "source": [
    "**Memperbaiki Data**"
   ]
  },
  {
   "cell_type": "code",
   "execution_count": 7,
   "metadata": {},
   "outputs": [],
   "source": [
    "# Konversi 'session_date' menjadi tipe data datetime\n",
    "internet['session_date'] = pd.to_datetime(internet['session_date'], format ='%Y-%m-%d')\n",
    "\n",
    "# Membuat kolom baru yang menunjukkan bulan panggilan dilakukan\n",
    "internet['month'] = internet['session_date'].dt.month\n"
   ]
  },
  {
   "cell_type": "markdown",
   "metadata": {},
   "source": [
    "**Memperkaya Kualitas Data**"
   ]
  },
  {
   "cell_type": "code",
   "execution_count": 8,
   "metadata": {
    "scrolled": true
   },
   "outputs": [
    {
     "name": "stdout",
     "output_type": "stream",
     "text": [
      "<class 'pandas.core.frame.DataFrame'>\n",
      "RangeIndex: 104825 entries, 0 to 104824\n",
      "Data columns (total 5 columns):\n",
      " #   Column        Non-Null Count   Dtype         \n",
      "---  ------        --------------   -----         \n",
      " 0   id            104825 non-null  object        \n",
      " 1   user_id       104825 non-null  int64         \n",
      " 2   session_date  104825 non-null  datetime64[ns]\n",
      " 3   mb_used       104825 non-null  float64       \n",
      " 4   month         104825 non-null  int64         \n",
      "dtypes: datetime64[ns](1), float64(1), int64(2), object(1)\n",
      "memory usage: 4.0+ MB\n"
     ]
    }
   ],
   "source": [
    "internet.info()"
   ]
  },
  {
   "cell_type": "markdown",
   "metadata": {},
   "source": [
    "### Messages Data"
   ]
  },
  {
   "cell_type": "code",
   "execution_count": 9,
   "metadata": {
    "scrolled": true
   },
   "outputs": [
    {
     "name": "stdout",
     "output_type": "stream",
     "text": [
      "<class 'pandas.core.frame.DataFrame'>\n",
      "RangeIndex: 76051 entries, 0 to 76050\n",
      "Data columns (total 3 columns):\n",
      " #   Column        Non-Null Count  Dtype \n",
      "---  ------        --------------  ----- \n",
      " 0   id            76051 non-null  object\n",
      " 1   user_id       76051 non-null  int64 \n",
      " 2   message_date  76051 non-null  object\n",
      "dtypes: int64(1), object(2)\n",
      "memory usage: 1.7+ MB\n"
     ]
    },
    {
     "data": {
      "text/html": [
       "<div>\n",
       "<style scoped>\n",
       "    .dataframe tbody tr th:only-of-type {\n",
       "        vertical-align: middle;\n",
       "    }\n",
       "\n",
       "    .dataframe tbody tr th {\n",
       "        vertical-align: top;\n",
       "    }\n",
       "\n",
       "    .dataframe thead th {\n",
       "        text-align: right;\n",
       "    }\n",
       "</style>\n",
       "<table border=\"1\" class=\"dataframe\">\n",
       "  <thead>\n",
       "    <tr style=\"text-align: right;\">\n",
       "      <th></th>\n",
       "      <th>id</th>\n",
       "      <th>user_id</th>\n",
       "      <th>message_date</th>\n",
       "    </tr>\n",
       "  </thead>\n",
       "  <tbody>\n",
       "    <tr>\n",
       "      <th>0</th>\n",
       "      <td>1000_125</td>\n",
       "      <td>1000</td>\n",
       "      <td>2018-12-27</td>\n",
       "    </tr>\n",
       "    <tr>\n",
       "      <th>1</th>\n",
       "      <td>1000_160</td>\n",
       "      <td>1000</td>\n",
       "      <td>2018-12-31</td>\n",
       "    </tr>\n",
       "    <tr>\n",
       "      <th>2</th>\n",
       "      <td>1000_223</td>\n",
       "      <td>1000</td>\n",
       "      <td>2018-12-31</td>\n",
       "    </tr>\n",
       "    <tr>\n",
       "      <th>3</th>\n",
       "      <td>1000_251</td>\n",
       "      <td>1000</td>\n",
       "      <td>2018-12-27</td>\n",
       "    </tr>\n",
       "    <tr>\n",
       "      <th>4</th>\n",
       "      <td>1000_255</td>\n",
       "      <td>1000</td>\n",
       "      <td>2018-12-26</td>\n",
       "    </tr>\n",
       "  </tbody>\n",
       "</table>\n",
       "</div>"
      ],
      "text/plain": [
       "         id  user_id message_date\n",
       "0  1000_125     1000   2018-12-27\n",
       "1  1000_160     1000   2018-12-31\n",
       "2  1000_223     1000   2018-12-31\n",
       "3  1000_251     1000   2018-12-27\n",
       "4  1000_255     1000   2018-12-26"
      ]
     },
     "execution_count": 9,
     "metadata": {},
     "output_type": "execute_result"
    }
   ],
   "source": [
    "# Menampilkan informasi data Messages\n",
    "\n",
    "messages.info()\n",
    "messages.head()"
   ]
  },
  {
   "cell_type": "markdown",
   "metadata": {},
   "source": [
    "**Deskripsi Tabel messages (data SMS):**\n",
    "- `id` — ID SMS unik\n",
    "- `message_date` — tanggal SMS dikirim\n",
    "- `user_id` — ID pengguna yang mengirim SMS"
   ]
  },
  {
   "cell_type": "markdown",
   "metadata": {},
   "source": [
    "**Masalah dan Penanganannya**\n",
    "- Tidak ada nilai yang hilang dalam tabel ini\n",
    "- tipe data `message_date` perlu diubah menjadi `datetime`\n",
    "- Jumlah pesan perlu diagregasi berdasarkan `user_id` dan bulan."
   ]
  },
  {
   "cell_type": "markdown",
   "metadata": {},
   "source": [
    "**Memperbaiki Kualitas Data**"
   ]
  },
  {
   "cell_type": "code",
   "execution_count": 10,
   "metadata": {},
   "outputs": [],
   "source": [
    "# Konversi 'message_date' menjadi tipe data datetime\n",
    "messages['message_date'] = pd.to_datetime(messages['message_date'], format ='%Y-%m-%d')\n",
    "\n",
    "# Membuat kolom baru yang menunjukkan bulan panggilan dilakukan\n",
    "messages['month'] = messages['message_date'].dt.month"
   ]
  },
  {
   "cell_type": "markdown",
   "metadata": {},
   "source": [
    "**Memperkaya Kualiatas Data**"
   ]
  },
  {
   "cell_type": "code",
   "execution_count": 11,
   "metadata": {
    "scrolled": true
   },
   "outputs": [
    {
     "name": "stdout",
     "output_type": "stream",
     "text": [
      "<class 'pandas.core.frame.DataFrame'>\n",
      "RangeIndex: 76051 entries, 0 to 76050\n",
      "Data columns (total 4 columns):\n",
      " #   Column        Non-Null Count  Dtype         \n",
      "---  ------        --------------  -----         \n",
      " 0   id            76051 non-null  object        \n",
      " 1   user_id       76051 non-null  int64         \n",
      " 2   message_date  76051 non-null  datetime64[ns]\n",
      " 3   month         76051 non-null  int64         \n",
      "dtypes: datetime64[ns](1), int64(2), object(1)\n",
      "memory usage: 2.3+ MB\n"
     ]
    }
   ],
   "source": [
    "messages.info()"
   ]
  },
  {
   "cell_type": "markdown",
   "metadata": {},
   "source": [
    "### User Data"
   ]
  },
  {
   "cell_type": "code",
   "execution_count": 12,
   "metadata": {
    "scrolled": true
   },
   "outputs": [
    {
     "name": "stdout",
     "output_type": "stream",
     "text": [
      "<class 'pandas.core.frame.DataFrame'>\n",
      "RangeIndex: 500 entries, 0 to 499\n",
      "Data columns (total 8 columns):\n",
      " #   Column      Non-Null Count  Dtype \n",
      "---  ------      --------------  ----- \n",
      " 0   user_id     500 non-null    int64 \n",
      " 1   first_name  500 non-null    object\n",
      " 2   last_name   500 non-null    object\n",
      " 3   age         500 non-null    int64 \n",
      " 4   city        500 non-null    object\n",
      " 5   reg_date    500 non-null    object\n",
      " 6   plan        500 non-null    object\n",
      " 7   churn_date  34 non-null     object\n",
      "dtypes: int64(2), object(6)\n",
      "memory usage: 31.4+ KB\n"
     ]
    },
    {
     "data": {
      "text/html": [
       "<div>\n",
       "<style scoped>\n",
       "    .dataframe tbody tr th:only-of-type {\n",
       "        vertical-align: middle;\n",
       "    }\n",
       "\n",
       "    .dataframe tbody tr th {\n",
       "        vertical-align: top;\n",
       "    }\n",
       "\n",
       "    .dataframe thead th {\n",
       "        text-align: right;\n",
       "    }\n",
       "</style>\n",
       "<table border=\"1\" class=\"dataframe\">\n",
       "  <thead>\n",
       "    <tr style=\"text-align: right;\">\n",
       "      <th></th>\n",
       "      <th>user_id</th>\n",
       "      <th>first_name</th>\n",
       "      <th>last_name</th>\n",
       "      <th>age</th>\n",
       "      <th>city</th>\n",
       "      <th>reg_date</th>\n",
       "      <th>plan</th>\n",
       "      <th>churn_date</th>\n",
       "    </tr>\n",
       "  </thead>\n",
       "  <tbody>\n",
       "    <tr>\n",
       "      <th>0</th>\n",
       "      <td>1000</td>\n",
       "      <td>Anamaria</td>\n",
       "      <td>Bauer</td>\n",
       "      <td>45</td>\n",
       "      <td>Atlanta-Sandy Springs-Roswell, GA MSA</td>\n",
       "      <td>2018-12-24</td>\n",
       "      <td>ultimate</td>\n",
       "      <td>NaN</td>\n",
       "    </tr>\n",
       "    <tr>\n",
       "      <th>1</th>\n",
       "      <td>1001</td>\n",
       "      <td>Mickey</td>\n",
       "      <td>Wilkerson</td>\n",
       "      <td>28</td>\n",
       "      <td>Seattle-Tacoma-Bellevue, WA MSA</td>\n",
       "      <td>2018-08-13</td>\n",
       "      <td>surf</td>\n",
       "      <td>NaN</td>\n",
       "    </tr>\n",
       "    <tr>\n",
       "      <th>2</th>\n",
       "      <td>1002</td>\n",
       "      <td>Carlee</td>\n",
       "      <td>Hoffman</td>\n",
       "      <td>36</td>\n",
       "      <td>Las Vegas-Henderson-Paradise, NV MSA</td>\n",
       "      <td>2018-10-21</td>\n",
       "      <td>surf</td>\n",
       "      <td>NaN</td>\n",
       "    </tr>\n",
       "    <tr>\n",
       "      <th>3</th>\n",
       "      <td>1003</td>\n",
       "      <td>Reynaldo</td>\n",
       "      <td>Jenkins</td>\n",
       "      <td>52</td>\n",
       "      <td>Tulsa, OK MSA</td>\n",
       "      <td>2018-01-28</td>\n",
       "      <td>surf</td>\n",
       "      <td>NaN</td>\n",
       "    </tr>\n",
       "    <tr>\n",
       "      <th>4</th>\n",
       "      <td>1004</td>\n",
       "      <td>Leonila</td>\n",
       "      <td>Thompson</td>\n",
       "      <td>40</td>\n",
       "      <td>Seattle-Tacoma-Bellevue, WA MSA</td>\n",
       "      <td>2018-05-23</td>\n",
       "      <td>surf</td>\n",
       "      <td>NaN</td>\n",
       "    </tr>\n",
       "  </tbody>\n",
       "</table>\n",
       "</div>"
      ],
      "text/plain": [
       "   user_id first_name  last_name  age                                   city  \\\n",
       "0     1000   Anamaria      Bauer   45  Atlanta-Sandy Springs-Roswell, GA MSA   \n",
       "1     1001     Mickey  Wilkerson   28        Seattle-Tacoma-Bellevue, WA MSA   \n",
       "2     1002     Carlee    Hoffman   36   Las Vegas-Henderson-Paradise, NV MSA   \n",
       "3     1003   Reynaldo    Jenkins   52                          Tulsa, OK MSA   \n",
       "4     1004    Leonila   Thompson   40        Seattle-Tacoma-Bellevue, WA MSA   \n",
       "\n",
       "     reg_date      plan churn_date  \n",
       "0  2018-12-24  ultimate        NaN  \n",
       "1  2018-08-13      surf        NaN  \n",
       "2  2018-10-21      surf        NaN  \n",
       "3  2018-01-28      surf        NaN  \n",
       "4  2018-05-23      surf        NaN  "
      ]
     },
     "execution_count": 12,
     "metadata": {},
     "output_type": "execute_result"
    }
   ],
   "source": [
    "# Menampilkan informasi data User\n",
    "\n",
    "users.info()\n",
    "users.head()"
   ]
  },
  {
   "cell_type": "markdown",
   "metadata": {},
   "source": [
    "**Deskripsi Tabel users (data pengguna):**\n",
    "- `user_id` — ID pengguna\n",
    "- `first_name` — nama depan pengguna\n",
    "- `last_name` — nama belakang pengguna\n",
    "- `age` — usia pengguna (tahun)\n",
    "- `reg_date` — tanggal mulai berlangganan (dd, mm, yy)\n",
    "- `churn_dat`e — tanggal pengguna berhenti menggunakan layanan (jika nilainya hilang atau tidak ada, berarti paket layanan sedang digunakan saat data ini dibuat)\n",
    "- `city` — kota tempat tinggal pengguna\n",
    "- `plan` — nama paket telepon"
   ]
  },
  {
   "cell_type": "markdown",
   "metadata": {},
   "source": [
    "**Masalah dan Penanganannya**\n",
    "- Tidak ada nilai yang hilang dalam tabel ini\n",
    "- Informasi negara bagian akan diekstrak dari kota\n",
    "- Kolom yang tidak diperlukan akan dihapus.\n",
    "- Tabel ini akan digunakan sebagai referensi utama untuk proses penggabungan"
   ]
  },
  {
   "cell_type": "markdown",
   "metadata": {},
   "source": [
    "**Memperbaiki Kualitas Data**"
   ]
  },
  {
   "cell_type": "code",
   "execution_count": 13,
   "metadata": {},
   "outputs": [],
   "source": [
    "# Buat kolom baru 'state' dari kolom 'city'\n",
    "users['state'] = users['city'].str[-6:].str[:2]\n",
    "\n",
    "# menghapus kolom yang tidak diperlukan\n",
    "users = users.drop(['first_name', 'last_name','age','city','reg_date','churn_date'], axis = 1)\n",
    "\n",
    "# Set user_id sebagai index\n",
    "users = users.set_index('user_id')"
   ]
  },
  {
   "cell_type": "markdown",
   "metadata": {},
   "source": [
    "**Memperkaya Kualitas Data**"
   ]
  },
  {
   "cell_type": "code",
   "execution_count": 14,
   "metadata": {
    "scrolled": true
   },
   "outputs": [
    {
     "name": "stdout",
     "output_type": "stream",
     "text": [
      "<class 'pandas.core.frame.DataFrame'>\n",
      "Int64Index: 500 entries, 1000 to 1499\n",
      "Data columns (total 2 columns):\n",
      " #   Column  Non-Null Count  Dtype \n",
      "---  ------  --------------  ----- \n",
      " 0   plan    500 non-null    object\n",
      " 1   state   500 non-null    object\n",
      "dtypes: object(2)\n",
      "memory usage: 11.7+ KB\n"
     ]
    }
   ],
   "source": [
    "users.info()"
   ]
  },
  {
   "cell_type": "markdown",
   "metadata": {},
   "source": [
    "### Plans Data"
   ]
  },
  {
   "cell_type": "code",
   "execution_count": 15,
   "metadata": {},
   "outputs": [
    {
     "name": "stdout",
     "output_type": "stream",
     "text": [
      "<class 'pandas.core.frame.DataFrame'>\n",
      "RangeIndex: 2 entries, 0 to 1\n",
      "Data columns (total 8 columns):\n",
      " #   Column                 Non-Null Count  Dtype  \n",
      "---  ------                 --------------  -----  \n",
      " 0   messages_included      2 non-null      int64  \n",
      " 1   mb_per_month_included  2 non-null      int64  \n",
      " 2   minutes_included       2 non-null      int64  \n",
      " 3   usd_monthly_pay        2 non-null      int64  \n",
      " 4   usd_per_gb             2 non-null      int64  \n",
      " 5   usd_per_message        2 non-null      float64\n",
      " 6   usd_per_minute         2 non-null      float64\n",
      " 7   plan_name              2 non-null      object \n",
      "dtypes: float64(2), int64(5), object(1)\n",
      "memory usage: 256.0+ bytes\n"
     ]
    },
    {
     "data": {
      "text/html": [
       "<div>\n",
       "<style scoped>\n",
       "    .dataframe tbody tr th:only-of-type {\n",
       "        vertical-align: middle;\n",
       "    }\n",
       "\n",
       "    .dataframe tbody tr th {\n",
       "        vertical-align: top;\n",
       "    }\n",
       "\n",
       "    .dataframe thead th {\n",
       "        text-align: right;\n",
       "    }\n",
       "</style>\n",
       "<table border=\"1\" class=\"dataframe\">\n",
       "  <thead>\n",
       "    <tr style=\"text-align: right;\">\n",
       "      <th></th>\n",
       "      <th>messages_included</th>\n",
       "      <th>mb_per_month_included</th>\n",
       "      <th>minutes_included</th>\n",
       "      <th>usd_monthly_pay</th>\n",
       "      <th>usd_per_gb</th>\n",
       "      <th>usd_per_message</th>\n",
       "      <th>usd_per_minute</th>\n",
       "      <th>plan_name</th>\n",
       "    </tr>\n",
       "  </thead>\n",
       "  <tbody>\n",
       "    <tr>\n",
       "      <th>0</th>\n",
       "      <td>50</td>\n",
       "      <td>15360</td>\n",
       "      <td>500</td>\n",
       "      <td>20</td>\n",
       "      <td>10</td>\n",
       "      <td>0.03</td>\n",
       "      <td>0.03</td>\n",
       "      <td>surf</td>\n",
       "    </tr>\n",
       "    <tr>\n",
       "      <th>1</th>\n",
       "      <td>1000</td>\n",
       "      <td>30720</td>\n",
       "      <td>3000</td>\n",
       "      <td>70</td>\n",
       "      <td>7</td>\n",
       "      <td>0.01</td>\n",
       "      <td>0.01</td>\n",
       "      <td>ultimate</td>\n",
       "    </tr>\n",
       "  </tbody>\n",
       "</table>\n",
       "</div>"
      ],
      "text/plain": [
       "   messages_included  mb_per_month_included  minutes_included  \\\n",
       "0                 50                  15360               500   \n",
       "1               1000                  30720              3000   \n",
       "\n",
       "   usd_monthly_pay  usd_per_gb  usd_per_message  usd_per_minute plan_name  \n",
       "0               20          10             0.03            0.03      surf  \n",
       "1               70           7             0.01            0.01  ultimate  "
      ]
     },
     "execution_count": 15,
     "metadata": {},
     "output_type": "execute_result"
    }
   ],
   "source": [
    "# Menampilkan informasi data Plans\n",
    "\n",
    "plans.info()\n",
    "plans.head()"
   ]
  },
  {
   "cell_type": "markdown",
   "metadata": {},
   "source": [
    "**Deskripsi Tabel paket prabayar:**\n",
    "\n",
    "- `plan_name` — nama paket telepon\n",
    "- `usd_monthly_fee` — biaya bulanan dalam dolar AS\n",
    "- `minutes_included` — alokasi menit panggilan bulanan\n",
    "- `messages_included` — alokasi SMS bulanan\n",
    "- `mb_per_month_included` — alokasi volume data bulanan (dalam megabyte)\n",
    "- `usd_per_minute` — harga per menit jika sudah melebihi batas alokasi paket (misalnya, jika paket memiliki alokasi 100 menit maka penggunaan mulai dari menit ke-101 akan dikenakan biaya)\n",
    "- `usd_per_message` — harga per SMS jika sudah melebihi batas alokasi paket\n",
    "- `usd_per_gb` — harga per gigabyte tambahan data jika sudah melebihi batas alokasi paket (1 GB = 1024 megabyte)"
   ]
  },
  {
   "cell_type": "markdown",
   "metadata": {},
   "source": [
    "**Masalah dan Penanganannya**\n",
    "- Tidak ada nilai yang hilang dalam tabel ini\n",
    "- Tabel ini tidak akan digunakan untuk langkah lebih lanjut selain untuk referensi"
   ]
  },
  {
   "cell_type": "markdown",
   "metadata": {},
   "source": [
    "## Kesimpulan Pra-Pemprosesan"
   ]
  },
  {
   "cell_type": "markdown",
   "metadata": {},
   "source": [
    "Kesimpulan dari Pra-pemrosesan data adalah:\n",
    " \n",
    "- kolom tanggal yang memiliki tipe data yang salah\n",
    "- kolom duration dari dataset Call harus dilakukan pembulatan ke bilangan bulat terdekat karena data tersebut akan dilakukan perhitungan ditahap selanjutnya\n",
    "- data perlu dilakukan agregasi berdasarkan user_id dan bulan untuk mengetahui penggunaan antara paket Surf dan Ultimate\n",
    "- melakukan penghapusan kolom yang tidak diperlukan untuk analisa data\n",
    "\n",
    "Dengan menangani masalah-masalah ini dan juga perbaikan dari data yang bermasalah, data sekarang telah siap untuk diolah lebih lanjut. Setelah penggabungan dan agregasi data, analisis perilaku pengguna dan penghasilan dari paket prabayar Surf dan Ultimate dapat dilakukan. Hasil analisis ini akan memberikan wawasan yang diperlukan untuk membantu perusahaan Megaline membuat keputusan strategis terkait pemasaran dan peningkatan pendapatan."
   ]
  },
  {
   "cell_type": "markdown",
   "metadata": {},
   "source": [
    "# Data Preparation"
   ]
  },
  {
   "cell_type": "markdown",
   "metadata": {},
   "source": [
    "Setalah melalukan Pra-pemrosesan data dan mendapatkan wawasan tentang data yang harus dilakukan, pada proses data preparatioon ini data akan disiap kan untuk dilakukan analisa lebih lanjut yaitu data akan dilakukan agregasi serta menghitung biaya penggunaan paket prabayar yang berlebihan"
   ]
  },
  {
   "cell_type": "markdown",
   "metadata": {},
   "source": [
    "## Mempelajari Syarat dan Kondisi Terkait Paket Prabayar"
   ]
  },
  {
   "cell_type": "markdown",
   "metadata": {},
   "source": [
    "Mempelajari syarat dan kodisi terkait paket prabayar sangat penting untuk memahami cara kerja paket, bagaimana pengguna dikenakan biaya berdasarkan paket prabayar yang mereka pilih sesuai dengan ketentuan yang berlaku"
   ]
  },
  {
   "cell_type": "code",
   "execution_count": 16,
   "metadata": {},
   "outputs": [
    {
     "data": {
      "text/html": [
       "<div>\n",
       "<style scoped>\n",
       "    .dataframe tbody tr th:only-of-type {\n",
       "        vertical-align: middle;\n",
       "    }\n",
       "\n",
       "    .dataframe tbody tr th {\n",
       "        vertical-align: top;\n",
       "    }\n",
       "\n",
       "    .dataframe thead th {\n",
       "        text-align: right;\n",
       "    }\n",
       "</style>\n",
       "<table border=\"1\" class=\"dataframe\">\n",
       "  <thead>\n",
       "    <tr style=\"text-align: right;\">\n",
       "      <th></th>\n",
       "      <th>messages_included</th>\n",
       "      <th>minutes_included</th>\n",
       "      <th>usd_monthly_pay</th>\n",
       "      <th>usd_per_gb</th>\n",
       "      <th>usd_per_message</th>\n",
       "      <th>usd_per_minute</th>\n",
       "      <th>plan_name</th>\n",
       "      <th>gb_per_month_included</th>\n",
       "    </tr>\n",
       "  </thead>\n",
       "  <tbody>\n",
       "    <tr>\n",
       "      <th>0</th>\n",
       "      <td>50</td>\n",
       "      <td>500</td>\n",
       "      <td>20</td>\n",
       "      <td>10</td>\n",
       "      <td>0.03</td>\n",
       "      <td>0.03</td>\n",
       "      <td>surf</td>\n",
       "      <td>15.0</td>\n",
       "    </tr>\n",
       "    <tr>\n",
       "      <th>1</th>\n",
       "      <td>1000</td>\n",
       "      <td>3000</td>\n",
       "      <td>70</td>\n",
       "      <td>7</td>\n",
       "      <td>0.01</td>\n",
       "      <td>0.01</td>\n",
       "      <td>ultimate</td>\n",
       "      <td>30.0</td>\n",
       "    </tr>\n",
       "  </tbody>\n",
       "</table>\n",
       "</div>"
      ],
      "text/plain": [
       "   messages_included  minutes_included  usd_monthly_pay  usd_per_gb  \\\n",
       "0                 50               500               20          10   \n",
       "1               1000              3000               70           7   \n",
       "\n",
       "   usd_per_message  usd_per_minute plan_name  gb_per_month_included  \n",
       "0             0.03            0.03      surf                   15.0  \n",
       "1             0.01            0.01  ultimate                   30.0  "
      ]
     },
     "execution_count": 16,
     "metadata": {},
     "output_type": "execute_result"
    }
   ],
   "source": [
    "# Tampilkan persyaratan paket prabayar dan pastikan Anda memahaminya\n",
    "\n",
    "# Transform mb per month menjadi gb per month\n",
    "plans['gb_per_month_included'] = plans['mb_per_month_included'] / 1024\n",
    "\n",
    "# Hapus kolom yang tidak dibutuhkan\n",
    "plans.drop('mb_per_month_included', axis=1, inplace=True)\n",
    "plans"
   ]
  },
  {
   "cell_type": "markdown",
   "metadata": {},
   "source": [
    "**Deskripsi Tabel plans (data paket telepon):**\n",
    "\n",
    "- `plan_name` — nama paket telepon\n",
    "- `usd_monthly_fee` — biaya bulanan dalam dolar AS\n",
    "- `minutes_included` — alokasi menit panggilan bulanan\n",
    "- `messages_included` — alokasi SMS bulanan\n",
    "- `mb_per_month_included` — alokasi volume data bulanan (dalam megabyte)\n",
    "- `usd_per_minute` — harga per menit jika sudah melebihi batas alokasi paket (misalnya, jika paket memiliki alokasi 100 menit maka penggunaan mulai dari menit ke-101 akan dikenakan biaya)\n",
    "- `usd_per_message` — harga per SMS jika sudah melebihi batas alokasi paket\n",
    "- `usd_per_gb` — harga per gigabyte tambahan data jika sudah melebihi batas alokasi paket (1 GB = 1024 megabyte)"
   ]
  },
  {
   "cell_type": "markdown",
   "metadata": {},
   "source": [
    "**Ketentuan Paket setelah melebihi batas penggunaan**\n",
    "\n",
    "Untuk paket Surf, Setelah melebihi batas paket, biaya berikut ini akan berlaku:\n",
    "- 1 menit: 3 sen\n",
    "- 1 SMS: 3 sen\n",
    "- 1 GB data: $10\n",
    "\n",
    "Untuk paket Ultimate, Setelah melebihi batas paket, biaya berikut akan berlaku:\n",
    "- 1 menit: 1 sen\n",
    "- 1 SMS: 1 sen\n",
    "- 1 GB data: $7"
   ]
  },
  {
   "cell_type": "markdown",
   "metadata": {},
   "source": [
    "## Mengagregasi Data per Pengguna\n",
    "\n",
    "Pada tahap ini kita akan melakukan agregasi data setiap pengguna per periode untuk memudahkan analisis lebih lanjut, serta melakukan perhitungan pengguna yang melebihi paket yang sudah ditentukan \n"
   ]
  },
  {
   "cell_type": "markdown",
   "metadata": {},
   "source": [
    "**Melakukan Agregat data Jumlah panggilan**"
   ]
  },
  {
   "cell_type": "code",
   "execution_count": 17,
   "metadata": {},
   "outputs": [
    {
     "data": {
      "text/html": [
       "<div>\n",
       "<style scoped>\n",
       "    .dataframe tbody tr th:only-of-type {\n",
       "        vertical-align: middle;\n",
       "    }\n",
       "\n",
       "    .dataframe tbody tr th {\n",
       "        vertical-align: top;\n",
       "    }\n",
       "\n",
       "    .dataframe thead th {\n",
       "        text-align: right;\n",
       "    }\n",
       "</style>\n",
       "<table border=\"1\" class=\"dataframe\">\n",
       "  <thead>\n",
       "    <tr style=\"text-align: right;\">\n",
       "      <th></th>\n",
       "      <th></th>\n",
       "      <th>calls</th>\n",
       "      <th>duration</th>\n",
       "    </tr>\n",
       "    <tr>\n",
       "      <th>user_id</th>\n",
       "      <th>month</th>\n",
       "      <th></th>\n",
       "      <th></th>\n",
       "    </tr>\n",
       "  </thead>\n",
       "  <tbody>\n",
       "    <tr>\n",
       "      <th>1000</th>\n",
       "      <th>12</th>\n",
       "      <td>16</td>\n",
       "      <td>124</td>\n",
       "    </tr>\n",
       "    <tr>\n",
       "      <th rowspan=\"4\" valign=\"top\">1001</th>\n",
       "      <th>8</th>\n",
       "      <td>27</td>\n",
       "      <td>182</td>\n",
       "    </tr>\n",
       "    <tr>\n",
       "      <th>9</th>\n",
       "      <td>49</td>\n",
       "      <td>315</td>\n",
       "    </tr>\n",
       "    <tr>\n",
       "      <th>10</th>\n",
       "      <td>65</td>\n",
       "      <td>393</td>\n",
       "    </tr>\n",
       "    <tr>\n",
       "      <th>11</th>\n",
       "      <td>64</td>\n",
       "      <td>426</td>\n",
       "    </tr>\n",
       "  </tbody>\n",
       "</table>\n",
       "</div>"
      ],
      "text/plain": [
       "               calls  duration\n",
       "user_id month                 \n",
       "1000    12        16       124\n",
       "1001    8         27       182\n",
       "        9         49       315\n",
       "        10        65       393\n",
       "        11        64       426"
      ]
     },
     "execution_count": 17,
     "metadata": {},
     "output_type": "execute_result"
    }
   ],
   "source": [
    "# Hitung jumlah panggilan dan jumlah menit yang dilakukan oleh setiap pengguna per bulan. Simpan hasilnya.\n",
    "\n",
    "calls = (calls.groupby(['user_id','month'])\n",
    "         .agg({'id':'count','duration':'sum'})\n",
    "         .rename(columns={'id':'calls'}))\n",
    "\n",
    "\n",
    "calls.head()"
   ]
  },
  {
   "cell_type": "markdown",
   "metadata": {},
   "source": [
    "**Melakukan Agregat data Jumlah SMS**"
   ]
  },
  {
   "cell_type": "code",
   "execution_count": 18,
   "metadata": {},
   "outputs": [
    {
     "data": {
      "text/html": [
       "<div>\n",
       "<style scoped>\n",
       "    .dataframe tbody tr th:only-of-type {\n",
       "        vertical-align: middle;\n",
       "    }\n",
       "\n",
       "    .dataframe tbody tr th {\n",
       "        vertical-align: top;\n",
       "    }\n",
       "\n",
       "    .dataframe thead th {\n",
       "        text-align: right;\n",
       "    }\n",
       "</style>\n",
       "<table border=\"1\" class=\"dataframe\">\n",
       "  <thead>\n",
       "    <tr style=\"text-align: right;\">\n",
       "      <th></th>\n",
       "      <th></th>\n",
       "      <th>messages</th>\n",
       "    </tr>\n",
       "    <tr>\n",
       "      <th>user_id</th>\n",
       "      <th>month</th>\n",
       "      <th></th>\n",
       "    </tr>\n",
       "  </thead>\n",
       "  <tbody>\n",
       "    <tr>\n",
       "      <th>1000</th>\n",
       "      <th>12</th>\n",
       "      <td>11</td>\n",
       "    </tr>\n",
       "    <tr>\n",
       "      <th rowspan=\"4\" valign=\"top\">1001</th>\n",
       "      <th>8</th>\n",
       "      <td>30</td>\n",
       "    </tr>\n",
       "    <tr>\n",
       "      <th>9</th>\n",
       "      <td>44</td>\n",
       "    </tr>\n",
       "    <tr>\n",
       "      <th>10</th>\n",
       "      <td>53</td>\n",
       "    </tr>\n",
       "    <tr>\n",
       "      <th>11</th>\n",
       "      <td>36</td>\n",
       "    </tr>\n",
       "  </tbody>\n",
       "</table>\n",
       "</div>"
      ],
      "text/plain": [
       "               messages\n",
       "user_id month          \n",
       "1000    12           11\n",
       "1001    8            30\n",
       "        9            44\n",
       "        10           53\n",
       "        11           36"
      ]
     },
     "execution_count": 18,
     "metadata": {},
     "output_type": "execute_result"
    }
   ],
   "source": [
    "# Hitung jumlah SMS yang dikirim oleh setiap pengguna per bulan. Simpan hasilnya.\n",
    "\n",
    "messages = (messages.groupby(['user_id','month'])\n",
    "         .agg({'id':'count'})\n",
    "         .rename(columns={'id':'messages'}))\n",
    "\n",
    "messages.head()"
   ]
  },
  {
   "cell_type": "markdown",
   "metadata": {},
   "source": [
    "**Melakukan Agregat data volume trafik internet**"
   ]
  },
  {
   "cell_type": "code",
   "execution_count": 19,
   "metadata": {},
   "outputs": [
    {
     "data": {
      "text/html": [
       "<div>\n",
       "<style scoped>\n",
       "    .dataframe tbody tr th:only-of-type {\n",
       "        vertical-align: middle;\n",
       "    }\n",
       "\n",
       "    .dataframe tbody tr th {\n",
       "        vertical-align: top;\n",
       "    }\n",
       "\n",
       "    .dataframe thead th {\n",
       "        text-align: right;\n",
       "    }\n",
       "</style>\n",
       "<table border=\"1\" class=\"dataframe\">\n",
       "  <thead>\n",
       "    <tr style=\"text-align: right;\">\n",
       "      <th></th>\n",
       "      <th></th>\n",
       "      <th>session</th>\n",
       "      <th>data</th>\n",
       "    </tr>\n",
       "    <tr>\n",
       "      <th>user_id</th>\n",
       "      <th>month</th>\n",
       "      <th></th>\n",
       "      <th></th>\n",
       "    </tr>\n",
       "  </thead>\n",
       "  <tbody>\n",
       "    <tr>\n",
       "      <th>1000</th>\n",
       "      <th>12</th>\n",
       "      <td>5</td>\n",
       "      <td>2</td>\n",
       "    </tr>\n",
       "    <tr>\n",
       "      <th rowspan=\"4\" valign=\"top\">1001</th>\n",
       "      <th>8</th>\n",
       "      <td>25</td>\n",
       "      <td>7</td>\n",
       "    </tr>\n",
       "    <tr>\n",
       "      <th>9</th>\n",
       "      <td>53</td>\n",
       "      <td>14</td>\n",
       "    </tr>\n",
       "    <tr>\n",
       "      <th>10</th>\n",
       "      <td>56</td>\n",
       "      <td>22</td>\n",
       "    </tr>\n",
       "    <tr>\n",
       "      <th>11</th>\n",
       "      <td>51</td>\n",
       "      <td>19</td>\n",
       "    </tr>\n",
       "  </tbody>\n",
       "</table>\n",
       "</div>"
      ],
      "text/plain": [
       "               session  data\n",
       "user_id month               \n",
       "1000    12           5     2\n",
       "1001    8           25     7\n",
       "        9           53    14\n",
       "        10          56    22\n",
       "        11          51    19"
      ]
     },
     "execution_count": 19,
     "metadata": {},
     "output_type": "execute_result"
    }
   ],
   "source": [
    "# Hitung volume traffic internet yang digunakan oleh setiap pengguna per bulan. Simpan hasilnya.\n",
    "\n",
    "\n",
    "# Agregasi jumlah sesi dan megabyte yang digunakan berdasarkan user_id dan bulan\n",
    "internet = (internet.groupby(['user_id','month'])\n",
    "         .agg({'id':'count','mb_used':'sum'})\n",
    "         .rename(columns={'id':'session','mb_used':'mb_used'}))\n",
    "\n",
    "# Konversi megabyte menjadi gigabyte, dibulatkan ke atas, dan konversi menjadi integer\n",
    "internet['data'] = (internet['mb_used']/1024).apply(np.ceil).astype(int)\n",
    "\n",
    "# Menghapus kolom mb_used\n",
    "internet = internet.drop('mb_used', axis = 1)\n",
    "\n",
    "internet.head()"
   ]
  },
  {
   "cell_type": "markdown",
   "metadata": {},
   "source": [
    "**Menggabungkan Seluruh data dari hasil agregasi**"
   ]
  },
  {
   "cell_type": "code",
   "execution_count": 20,
   "metadata": {},
   "outputs": [
    {
     "data": {
      "text/html": [
       "<div>\n",
       "<style scoped>\n",
       "    .dataframe tbody tr th:only-of-type {\n",
       "        vertical-align: middle;\n",
       "    }\n",
       "\n",
       "    .dataframe tbody tr th {\n",
       "        vertical-align: top;\n",
       "    }\n",
       "\n",
       "    .dataframe thead th {\n",
       "        text-align: right;\n",
       "    }\n",
       "</style>\n",
       "<table border=\"1\" class=\"dataframe\">\n",
       "  <thead>\n",
       "    <tr style=\"text-align: right;\">\n",
       "      <th></th>\n",
       "      <th></th>\n",
       "      <th>plan</th>\n",
       "      <th>state</th>\n",
       "      <th>calls</th>\n",
       "      <th>duration</th>\n",
       "      <th>messages</th>\n",
       "      <th>session</th>\n",
       "      <th>data</th>\n",
       "    </tr>\n",
       "    <tr>\n",
       "      <th>user_id</th>\n",
       "      <th>month</th>\n",
       "      <th></th>\n",
       "      <th></th>\n",
       "      <th></th>\n",
       "      <th></th>\n",
       "      <th></th>\n",
       "      <th></th>\n",
       "      <th></th>\n",
       "    </tr>\n",
       "  </thead>\n",
       "  <tbody>\n",
       "    <tr>\n",
       "      <th>1000</th>\n",
       "      <th>12</th>\n",
       "      <td>ultimate</td>\n",
       "      <td>GA</td>\n",
       "      <td>16.0</td>\n",
       "      <td>124.0</td>\n",
       "      <td>11.0</td>\n",
       "      <td>5.0</td>\n",
       "      <td>2.0</td>\n",
       "    </tr>\n",
       "    <tr>\n",
       "      <th rowspan=\"4\" valign=\"top\">1001</th>\n",
       "      <th>8</th>\n",
       "      <td>surf</td>\n",
       "      <td>WA</td>\n",
       "      <td>27.0</td>\n",
       "      <td>182.0</td>\n",
       "      <td>30.0</td>\n",
       "      <td>25.0</td>\n",
       "      <td>7.0</td>\n",
       "    </tr>\n",
       "    <tr>\n",
       "      <th>9</th>\n",
       "      <td>surf</td>\n",
       "      <td>WA</td>\n",
       "      <td>49.0</td>\n",
       "      <td>315.0</td>\n",
       "      <td>44.0</td>\n",
       "      <td>53.0</td>\n",
       "      <td>14.0</td>\n",
       "    </tr>\n",
       "    <tr>\n",
       "      <th>10</th>\n",
       "      <td>surf</td>\n",
       "      <td>WA</td>\n",
       "      <td>65.0</td>\n",
       "      <td>393.0</td>\n",
       "      <td>53.0</td>\n",
       "      <td>56.0</td>\n",
       "      <td>22.0</td>\n",
       "    </tr>\n",
       "    <tr>\n",
       "      <th>11</th>\n",
       "      <td>surf</td>\n",
       "      <td>WA</td>\n",
       "      <td>64.0</td>\n",
       "      <td>426.0</td>\n",
       "      <td>36.0</td>\n",
       "      <td>51.0</td>\n",
       "      <td>19.0</td>\n",
       "    </tr>\n",
       "  </tbody>\n",
       "</table>\n",
       "</div>"
      ],
      "text/plain": [
       "                   plan state  calls  duration  messages  session  data\n",
       "user_id month                                                          \n",
       "1000    12     ultimate    GA   16.0     124.0      11.0      5.0   2.0\n",
       "1001    8          surf    WA   27.0     182.0      30.0     25.0   7.0\n",
       "        9          surf    WA   49.0     315.0      44.0     53.0  14.0\n",
       "        10         surf    WA   65.0     393.0      53.0     56.0  22.0\n",
       "        11         surf    WA   64.0     426.0      36.0     51.0  19.0"
      ]
     },
     "execution_count": 20,
     "metadata": {},
     "output_type": "execute_result"
    }
   ],
   "source": [
    "# Gabungkan data panggilan, menit, SMS, dan internet berdasarkan user_id dan month (bulan)\n",
    "\n",
    "temp_1 = pd.merge(users,calls,how='outer', left_index=True, right_index=True)\n",
    "temp_2 = pd.merge(temp_1,messages,how='outer',left_index=True,right_index=True)\n",
    "df = pd.merge(temp_2,internet,how='outer',left_index=True,right_index=True)\n",
    "\n",
    "df.head()\n"
   ]
  },
  {
   "cell_type": "markdown",
   "metadata": {},
   "source": [
    "**Menghitung Kelebihan pemakaian user**\n",
    "\n",
    "Melakukan analisa untuk mengetahui user mana yang mempunyai kelebihan layanan paket prabayar"
   ]
  },
  {
   "cell_type": "code",
   "execution_count": 21,
   "metadata": {},
   "outputs": [],
   "source": [
    "def temporary_column(source_col, limit1, limit2, dataframe=df, plan_col='plan',  plan1='surf', plan2='ultimate'):\n",
    "    \n",
    "    # membuat kondisi berdasarkan batasan yang diberikan, \n",
    "    # kondisi tersebut mencakup 'surf' dengan nilai di atas dan di bawah limit1\n",
    "    # serta kondisi 'ultimate' dengan nilai di atas dan di bawah limit2\n",
    "    conditions = [\n",
    "        (dataframe[plan_col] == plan1) & (dataframe[source_col] > limit1),\n",
    "        (dataframe[plan_col] == plan1) & (dataframe[source_col] <= limit1),\n",
    "        (dataframe[plan_col] == plan2) & (dataframe[source_col] > limit2),\n",
    "        (dataframe[plan_col] == plan2) & (dataframe[source_col] <= limit2),\n",
    "    ]\n",
    "    \n",
    "    # membuat nilai yang akan diassign untuk setiap kondisi.\n",
    "    values = [dataframe[source_col]-limit1, 0, dataframe[source_col]-limit2, 0]\n",
    "    \n",
    "    # membuat kolom temporary\n",
    "    temp_column = 'exceeded_' + source_col\n",
    "    dataframe[temp_column] = np.select(conditions,values)\n",
    "    \n",
    "    return dataframe"
   ]
  },
  {
   "cell_type": "code",
   "execution_count": 22,
   "metadata": {},
   "outputs": [
    {
     "data": {
      "text/html": [
       "<div>\n",
       "<style scoped>\n",
       "    .dataframe tbody tr th:only-of-type {\n",
       "        vertical-align: middle;\n",
       "    }\n",
       "\n",
       "    .dataframe tbody tr th {\n",
       "        vertical-align: top;\n",
       "    }\n",
       "\n",
       "    .dataframe thead th {\n",
       "        text-align: right;\n",
       "    }\n",
       "</style>\n",
       "<table border=\"1\" class=\"dataframe\">\n",
       "  <thead>\n",
       "    <tr style=\"text-align: right;\">\n",
       "      <th></th>\n",
       "      <th></th>\n",
       "      <th>plan</th>\n",
       "      <th>state</th>\n",
       "      <th>calls</th>\n",
       "      <th>duration</th>\n",
       "      <th>messages</th>\n",
       "      <th>session</th>\n",
       "      <th>data</th>\n",
       "      <th>exceeded_duration</th>\n",
       "      <th>exceeded_messages</th>\n",
       "      <th>exceeded_data</th>\n",
       "    </tr>\n",
       "    <tr>\n",
       "      <th>user_id</th>\n",
       "      <th>month</th>\n",
       "      <th></th>\n",
       "      <th></th>\n",
       "      <th></th>\n",
       "      <th></th>\n",
       "      <th></th>\n",
       "      <th></th>\n",
       "      <th></th>\n",
       "      <th></th>\n",
       "      <th></th>\n",
       "      <th></th>\n",
       "    </tr>\n",
       "  </thead>\n",
       "  <tbody>\n",
       "    <tr>\n",
       "      <th>1000</th>\n",
       "      <th>12</th>\n",
       "      <td>ultimate</td>\n",
       "      <td>GA</td>\n",
       "      <td>16.0</td>\n",
       "      <td>124.0</td>\n",
       "      <td>11.0</td>\n",
       "      <td>5.0</td>\n",
       "      <td>2.0</td>\n",
       "      <td>0.0</td>\n",
       "      <td>0.0</td>\n",
       "      <td>0.0</td>\n",
       "    </tr>\n",
       "    <tr>\n",
       "      <th rowspan=\"4\" valign=\"top\">1001</th>\n",
       "      <th>8</th>\n",
       "      <td>surf</td>\n",
       "      <td>WA</td>\n",
       "      <td>27.0</td>\n",
       "      <td>182.0</td>\n",
       "      <td>30.0</td>\n",
       "      <td>25.0</td>\n",
       "      <td>7.0</td>\n",
       "      <td>0.0</td>\n",
       "      <td>0.0</td>\n",
       "      <td>0.0</td>\n",
       "    </tr>\n",
       "    <tr>\n",
       "      <th>9</th>\n",
       "      <td>surf</td>\n",
       "      <td>WA</td>\n",
       "      <td>49.0</td>\n",
       "      <td>315.0</td>\n",
       "      <td>44.0</td>\n",
       "      <td>53.0</td>\n",
       "      <td>14.0</td>\n",
       "      <td>0.0</td>\n",
       "      <td>0.0</td>\n",
       "      <td>0.0</td>\n",
       "    </tr>\n",
       "    <tr>\n",
       "      <th>10</th>\n",
       "      <td>surf</td>\n",
       "      <td>WA</td>\n",
       "      <td>65.0</td>\n",
       "      <td>393.0</td>\n",
       "      <td>53.0</td>\n",
       "      <td>56.0</td>\n",
       "      <td>22.0</td>\n",
       "      <td>0.0</td>\n",
       "      <td>3.0</td>\n",
       "      <td>7.0</td>\n",
       "    </tr>\n",
       "    <tr>\n",
       "      <th>11</th>\n",
       "      <td>surf</td>\n",
       "      <td>WA</td>\n",
       "      <td>64.0</td>\n",
       "      <td>426.0</td>\n",
       "      <td>36.0</td>\n",
       "      <td>51.0</td>\n",
       "      <td>19.0</td>\n",
       "      <td>0.0</td>\n",
       "      <td>0.0</td>\n",
       "      <td>4.0</td>\n",
       "    </tr>\n",
       "  </tbody>\n",
       "</table>\n",
       "</div>"
      ],
      "text/plain": [
       "                   plan state  calls  duration  messages  session  data  \\\n",
       "user_id month                                                             \n",
       "1000    12     ultimate    GA   16.0     124.0      11.0      5.0   2.0   \n",
       "1001    8          surf    WA   27.0     182.0      30.0     25.0   7.0   \n",
       "        9          surf    WA   49.0     315.0      44.0     53.0  14.0   \n",
       "        10         surf    WA   65.0     393.0      53.0     56.0  22.0   \n",
       "        11         surf    WA   64.0     426.0      36.0     51.0  19.0   \n",
       "\n",
       "               exceeded_duration  exceeded_messages  exceeded_data  \n",
       "user_id month                                                       \n",
       "1000    12                   0.0                0.0            0.0  \n",
       "1001    8                    0.0                0.0            0.0  \n",
       "        9                    0.0                0.0            0.0  \n",
       "        10                   0.0                3.0            7.0  \n",
       "        11                   0.0                0.0            4.0  "
      ]
     },
     "execution_count": 22,
     "metadata": {},
     "output_type": "execute_result"
    }
   ],
   "source": [
    "# Kelebihan durasi panggilan\n",
    "temporary_column('duration', 500, 3000)\n",
    "# Kelebihan pesan\n",
    "temporary_column('messages', 50, 1000)\n",
    "# Kelebihan penggunaan data internet\n",
    "temporary_column('data', 15, 30)\n",
    "\n",
    "df.head()"
   ]
  },
  {
   "cell_type": "markdown",
   "metadata": {},
   "source": [
    "setelah ditemukan user mana saja yang mempunyai kelebihan penggunaan paket prabayar, lalu dilakukan perhitungan dari data paket awal dijumlahkan dengan kelebihan pemakaian paket prabayar dengan kreteria berikut\n",
    "\n",
    "**Ketentuan Paket setelah melebihi batas penggunaan**\n",
    "\n",
    "Untuk paket Surf, Setelah melebihi batas paket, biaya berikut ini akan berlaku:\n",
    "- 1 menit: 3 sen\n",
    "- 1 SMS: 3 sen\n",
    "- 1 GB data: $10\n",
    "\n",
    "Untuk paket Ultimate, Setelah melebihi batas paket, biaya berikut akan berlaku:\n",
    "- 1 menit: 1 sen\n",
    "- 1 SMS: 1 sen\n",
    "- 1 GB data: $7"
   ]
  },
  {
   "cell_type": "code",
   "execution_count": 23,
   "metadata": {},
   "outputs": [],
   "source": [
    "# Hitung pendapatan bulanan untuk setiap pengguna\n",
    "\n",
    "# membuat list kondisi\n",
    "conditions = [\n",
    "    df['plan'] == 'surf',   \n",
    "    df['plan'] == 'ultimate',\n",
    "    ]\n",
    "\n",
    "# membuat list nilai untuk paket `surf` dan `ultimate`\n",
    "values = [\n",
    "    (20 + df['exceeded_duration']*0.03 + df['exceeded_messages']*0.03 + df['exceeded_data']*10),\n",
    "    (70 + df['exceeded_duration']*0.01 + df['exceeded_messages']*0.01 + df['exceeded_data']*7)\n",
    "]\n",
    "\n",
    "# membuat kolom baru untuk `monthly_income`\n",
    "df['monthly_income'] = np.select(conditions, values)\n"
   ]
  },
  {
   "cell_type": "code",
   "execution_count": 24,
   "metadata": {
    "scrolled": true
   },
   "outputs": [
    {
     "data": {
      "text/html": [
       "<div>\n",
       "<style scoped>\n",
       "    .dataframe tbody tr th:only-of-type {\n",
       "        vertical-align: middle;\n",
       "    }\n",
       "\n",
       "    .dataframe tbody tr th {\n",
       "        vertical-align: top;\n",
       "    }\n",
       "\n",
       "    .dataframe thead th {\n",
       "        text-align: right;\n",
       "    }\n",
       "</style>\n",
       "<table border=\"1\" class=\"dataframe\">\n",
       "  <thead>\n",
       "    <tr style=\"text-align: right;\">\n",
       "      <th></th>\n",
       "      <th></th>\n",
       "      <th>plan</th>\n",
       "      <th>state</th>\n",
       "      <th>calls</th>\n",
       "      <th>duration</th>\n",
       "      <th>messages</th>\n",
       "      <th>session</th>\n",
       "      <th>data</th>\n",
       "      <th>monthly_income</th>\n",
       "    </tr>\n",
       "    <tr>\n",
       "      <th>user_id</th>\n",
       "      <th>month</th>\n",
       "      <th></th>\n",
       "      <th></th>\n",
       "      <th></th>\n",
       "      <th></th>\n",
       "      <th></th>\n",
       "      <th></th>\n",
       "      <th></th>\n",
       "      <th></th>\n",
       "    </tr>\n",
       "  </thead>\n",
       "  <tbody>\n",
       "    <tr>\n",
       "      <th>1000</th>\n",
       "      <th>12</th>\n",
       "      <td>ultimate</td>\n",
       "      <td>GA</td>\n",
       "      <td>16.0</td>\n",
       "      <td>124.0</td>\n",
       "      <td>11.0</td>\n",
       "      <td>5.0</td>\n",
       "      <td>2.0</td>\n",
       "      <td>70.00</td>\n",
       "    </tr>\n",
       "    <tr>\n",
       "      <th rowspan=\"4\" valign=\"top\">1001</th>\n",
       "      <th>8</th>\n",
       "      <td>surf</td>\n",
       "      <td>WA</td>\n",
       "      <td>27.0</td>\n",
       "      <td>182.0</td>\n",
       "      <td>30.0</td>\n",
       "      <td>25.0</td>\n",
       "      <td>7.0</td>\n",
       "      <td>20.00</td>\n",
       "    </tr>\n",
       "    <tr>\n",
       "      <th>9</th>\n",
       "      <td>surf</td>\n",
       "      <td>WA</td>\n",
       "      <td>49.0</td>\n",
       "      <td>315.0</td>\n",
       "      <td>44.0</td>\n",
       "      <td>53.0</td>\n",
       "      <td>14.0</td>\n",
       "      <td>20.00</td>\n",
       "    </tr>\n",
       "    <tr>\n",
       "      <th>10</th>\n",
       "      <td>surf</td>\n",
       "      <td>WA</td>\n",
       "      <td>65.0</td>\n",
       "      <td>393.0</td>\n",
       "      <td>53.0</td>\n",
       "      <td>56.0</td>\n",
       "      <td>22.0</td>\n",
       "      <td>90.09</td>\n",
       "    </tr>\n",
       "    <tr>\n",
       "      <th>11</th>\n",
       "      <td>surf</td>\n",
       "      <td>WA</td>\n",
       "      <td>64.0</td>\n",
       "      <td>426.0</td>\n",
       "      <td>36.0</td>\n",
       "      <td>51.0</td>\n",
       "      <td>19.0</td>\n",
       "      <td>60.00</td>\n",
       "    </tr>\n",
       "  </tbody>\n",
       "</table>\n",
       "</div>"
      ],
      "text/plain": [
       "                   plan state  calls  duration  messages  session  data  \\\n",
       "user_id month                                                             \n",
       "1000    12     ultimate    GA   16.0     124.0      11.0      5.0   2.0   \n",
       "1001    8          surf    WA   27.0     182.0      30.0     25.0   7.0   \n",
       "        9          surf    WA   49.0     315.0      44.0     53.0  14.0   \n",
       "        10         surf    WA   65.0     393.0      53.0     56.0  22.0   \n",
       "        11         surf    WA   64.0     426.0      36.0     51.0  19.0   \n",
       "\n",
       "               monthly_income  \n",
       "user_id month                  \n",
       "1000    12              70.00  \n",
       "1001    8               20.00  \n",
       "        9               20.00  \n",
       "        10              90.09  \n",
       "        11              60.00  "
      ]
     },
     "execution_count": 24,
     "metadata": {},
     "output_type": "execute_result"
    }
   ],
   "source": [
    "# menghapus kolom temporary\n",
    "df = df.drop(['exceeded_duration','exceeded_messages','exceeded_data'],axis=1)\n",
    "\n",
    "df.head()"
   ]
  },
  {
   "cell_type": "markdown",
   "metadata": {},
   "source": [
    "## Kesimpulan Agregasi Data per Pengguan"
   ]
  },
  {
   "cell_type": "markdown",
   "metadata": {},
   "source": [
    "Hasil dari Agregasi data dapat diketahui user menggukanan layanan SMS, Panggilan, Internet pada setiap bulannya. yang mana dari hasil agregasi tersebut data diolah kembali untuk mengetahui user yang menggukan layanan paket prabayar yang melebihi paket yang sudah ditentukan. kemudian dari data tersebut dilakukan perhitungan pendapatan perbulan dari setiap user. kemudian hasil dari data agregasi ini akan dilakukan analisa untuk membandingkan antara paket prabayar Surf dan Ultimate manakah yang lebih menguntungkan bagi perusaha"
   ]
  },
  {
   "cell_type": "markdown",
   "metadata": {},
   "source": [
    "**Kolom yang akan dilakukan analisa**\n",
    "\n",
    "- `user_id` - User id\n",
    "- `month` - bulan berlangganan\n",
    "- `plan` - paket prabayar yang digunakan\n",
    "- `state` - wilayah paket prabayar\n",
    "- `calls` - jumlah panggilan yang dilakukan oleh pengguna\n",
    "- `duration` - jumlah durasi panggilan\n",
    "- `messages` - jumlah sms yang dikirim oleh pengguna\n",
    "- `session` - jumlah sesi web yang dibuat oleh pengguna\n",
    "- `data` - jumlah data gigabyte yang dibuat oleh pengguna\n",
    "- `monthly_income` - total tagihan yang diterima oleh pengguna setiap bulannya"
   ]
  },
  {
   "cell_type": "markdown",
   "metadata": {},
   "source": [
    "# Data Analyst"
   ]
  },
  {
   "cell_type": "markdown",
   "metadata": {},
   "source": [
    "Tujuan dari Data Analyst ini adalah mempelajari perilaku pengguana paket prabayar Surf dan Ultimate setiap bulannya, kita akan membuat grafik perbandingan untuk mempermudah memahami pemahaman dataset paket prabayar Surf dan Ultimate. melakukan perhitungan untuk setiap panggilan, SMS, internet, dan pendapatannya pada setiap bulan"
   ]
  },
  {
   "cell_type": "markdown",
   "metadata": {},
   "source": [
    "## Panggilan\n",
    "\n",
    "**Melakukan perbandingan antara layanan telepon paket Surf dan Ultimate**"
   ]
  },
  {
   "cell_type": "code",
   "execution_count": 25,
   "metadata": {
    "collapsed": true,
    "jupyter": {
     "outputs_hidden": true
    }
   },
   "outputs": [
    {
     "data": {
      "text/plain": [
       "[Text(0.5, 0, 'Bulan'), Text(0, 0.5, 'Rata-rata durasi panggilan')]"
      ]
     },
     "execution_count": 25,
     "metadata": {},
     "output_type": "execute_result"
    },
    {
     "data": {
      "image/png": "[encoded data removed]",
      "text/plain": [
       "<Figure size 864x432 with 1 Axes>"
      ]
     },
     "metadata": {
      "needs_background": "light"
     },
     "output_type": "display_data"
    }
   ],
   "source": [
    "# Bandingkan durasi rata-rata panggilan setiap paket per bulannya. Buatlah sebuah diagram batang untuk memvisualisasikannya.\n",
    "\n",
    "plt.figure(figsize=(12, 6))\n",
    "\n",
    "a = sns.barplot(data=df, x=df.index.get_level_values(1), y=\"duration\", hue='plan', alpha=0.8, ci=None)\n",
    "a.set_title('Rata-rata durasi panggilan Surf vs Ultimate')\n",
    "a.set(xlabel='Bulan',ylabel='Rata-rata durasi panggilan')"
   ]
  },
  {
   "cell_type": "code",
   "execution_count": 26,
   "metadata": {
    "collapsed": true,
    "jupyter": {
     "outputs_hidden": true
    }
   },
   "outputs": [
    {
     "data": {
      "text/plain": [
       "[Text(0.5, 0, 'Bulan'), Text(0, 0.5, 'Durasi Panggilan (menit)')]"
      ]
     },
     "execution_count": 26,
     "metadata": {},
     "output_type": "execute_result"
    },
    {
     "data": {
      "image/png": "[encoded data removed]",
      "text/plain": [
       "<Figure size 864x360 with 1 Axes>"
      ]
     },
     "metadata": {
      "needs_background": "light"
     },
     "output_type": "display_data"
    }
   ],
   "source": [
    "# Bandingkan jumlah menit yang dibutuhkan pengguna tiap paket per bulannya. Buatlah sebuah histogram.\n",
    "\n",
    "plt.figure(figsize=(12, 5))\n",
    "\n",
    "b = sns.barplot(data=df, x=df.index.get_level_values(1), y=\"duration\", hue=\"plan\", alpha=0.8, ci=None, estimator=sum)\n",
    "b.set_title('Durasi Panggilan Surf vs Ultimate ')\n",
    "b.set(xlabel='Bulan', ylabel='Durasi Panggilan (menit)')"
   ]
  },
  {
   "cell_type": "code",
   "execution_count": 27,
   "metadata": {
    "collapsed": true,
    "jupyter": {
     "outputs_hidden": true
    }
   },
   "outputs": [
    {
     "name": "stdout",
     "output_type": "stream",
     "text": [
      "Surf Calls:\n",
      "Standard Deviation: 229.21\n",
      "Average: 436.52\n",
      "Variance: 52537.04\n",
      "\n",
      "Ultimate Calls:\n",
      "Standard Deviation: 237.69\n",
      "Average: 434.68\n",
      "Variance: 56494.29\n"
     ]
    }
   ],
   "source": [
    "# Hitung rata-rata dan varians dari durasi panggilan bulanan\n",
    "\n",
    "surf_calls = df[df['plan']=='surf']['duration']\n",
    "ultimate_calls = df[df['plan']=='ultimate']['duration']\n",
    "\n",
    "# Hitung standar deviasi, rata-rata, dan varians untuk kategori \"Surf\"\n",
    "surf_std = np.std(surf_calls)\n",
    "surf_avg = np.mean(surf_calls)\n",
    "surf_var = np.var(surf_calls)\n",
    "\n",
    "# Hitung standar deviasi, rata-rata, dan varians untuk kategori \"Ultimate\"\n",
    "ultimate_std = np.std(ultimate_calls)\n",
    "ultimate_avg = np.mean(ultimate_calls)\n",
    "ultimate_var = np.var(ultimate_calls)\n",
    "\n",
    "print(\"Surf Calls:\")\n",
    "print(f\"Standard Deviation: {surf_std:.2f}\")\n",
    "print(f\"Average: {surf_avg:.2f}\")\n",
    "print(f\"Variance: {surf_var:.2f}\")\n",
    "print(\"\\nUltimate Calls:\")\n",
    "print(f\"Standard Deviation: {ultimate_std:.2f}\")\n",
    "print(f\"Average: {ultimate_avg:.2f}\")\n",
    "print(f\"Variance: {ultimate_var:.2f}\")"
   ]
  },
  {
   "cell_type": "code",
   "execution_count": 28,
   "metadata": {},
   "outputs": [
    {
     "data": {
      "image/png": "[encoded data removed]",
      "text/plain": [
       "<Figure size 864x432 with 1 Axes>"
      ]
     },
     "metadata": {
      "needs_background": "light"
     },
     "output_type": "display_data"
    }
   ],
   "source": [
    "# Buatlah grafik boxplot untuk memvisualisasikan distribusi durasi panggilan bulanan\n",
    "\n",
    "plt.figure(figsize=(12, 6))\n",
    "\n",
    "# Membuat boxplot untuk distribusi durasi panggilan bulanan\n",
    "sns.boxplot(data=df, x=df.index.get_level_values(1), y=\"duration\", hue='plan')\n",
    "plt.title('Distribusi Durasi Panggilan Bulanan')\n",
    "plt.xlabel('Bulan')\n",
    "plt.ylabel('Durasi Panggilan (menit)')\n",
    "\n",
    "plt.show()"
   ]
  },
  {
   "cell_type": "markdown",
   "metadata": {},
   "source": [
    "**Kesimpulan Panggilan**\n",
    "\n",
    "- Rata-rata durasi panggilan antara pengguna paket Surf dan Ultimate dari awal tahun hingga akhir tahun memiliki kenaikan durasi yang cukup tinggi dan jika dilihat dari histgram rata-rata pengguna Surf lebih tinggi dibandingakan dengan ultimate\n",
    "- Durasi panggilan antara paket Surf dan Ultimate memiliki durasi yang lebih tinggi dibandingkan yang ultimate, besar kemungkinan pengguna paket Surf lebih banyak dibandingakan dengan Ultimate"
   ]
  },
  {
   "cell_type": "markdown",
   "metadata": {},
   "source": [
    " "
   ]
  },
  {
   "cell_type": "markdown",
   "metadata": {},
   "source": [
    "## Pesan/SMS\n",
    "\n",
    "\n",
    "**Melakukan perbandingan antara layanan SMS paket Surf dan Ultimate**"
   ]
  },
  {
   "cell_type": "code",
   "execution_count": 29,
   "metadata": {},
   "outputs": [
    {
     "data": {
      "text/plain": [
       "[Text(0.5, 0, 'Bulan'), Text(0, 0.5, 'Jumlah SMS')]"
      ]
     },
     "execution_count": 29,
     "metadata": {},
     "output_type": "execute_result"
    },
    {
     "data": {
      "image/png": "[encoded data removed]",
      "text/plain": [
       "<Figure size 864x360 with 1 Axes>"
      ]
     },
     "metadata": {
      "needs_background": "light"
     },
     "output_type": "display_data"
    }
   ],
   "source": [
    "# Bandingkan jumlah SMS yang cenderung dikirim pengguna tiap paket per bulannya\n",
    "\n",
    "plt.figure(figsize=(12, 5))\n",
    "\n",
    "c= sns.barplot(data=df,  x=df.index.get_level_values(1), y=\"messages\", hue=\"plan\", alpha=0.8, ci=None, estimator=sum)\n",
    "c.set_title('Jumlah SMS penguna Surf vs Ultimate')\n",
    "c.set(xlabel='Bulan', ylabel='Jumlah SMS')"
   ]
  },
  {
   "cell_type": "code",
   "execution_count": 30,
   "metadata": {},
   "outputs": [
    {
     "data": {
      "text/plain": [
       "[Text(0.5, 0, 'Bulan'), Text(0, 0.5, 'Jumlah SMS')]"
      ]
     },
     "execution_count": 30,
     "metadata": {},
     "output_type": "execute_result"
    },
    {
     "data": {
      "image/png": "[encoded data removed]",
      "text/plain": [
       "<Figure size 864x360 with 1 Axes>"
      ]
     },
     "metadata": {
      "needs_background": "light"
     },
     "output_type": "display_data"
    }
   ],
   "source": [
    "# Bandingkan rata-rata SMS yang cenderung dikirim pengguna tiap paket per bulannya\n",
    "\n",
    "plt.figure(figsize=(12, 5))\n",
    "c= sns.barplot(data=df,  x=df.index.get_level_values(1), y=\"messages\", hue=\"plan\", alpha=0.8, ci=None)\n",
    "c.set_title('Rata-rata SMS penguna Surf vs Ultimate')\n",
    "c.set(xlabel='Bulan', ylabel='Jumlah SMS')"
   ]
  },
  {
   "cell_type": "code",
   "execution_count": 31,
   "metadata": {},
   "outputs": [
    {
     "name": "stdout",
     "output_type": "stream",
     "text": [
      "Surf Messages:\n",
      "Standard Deviation: 33.18\n",
      "Average: 39.98\n",
      "Variance: 1100.62\n",
      "\n",
      "Ultimate Messages:\n",
      "Standard Deviation: 32.90\n",
      "Average: 46.46\n",
      "Variance: 1082.52\n"
     ]
    }
   ],
   "source": [
    "# Hitung rata-rata dan varians dari durasi SMS bulanan\n",
    "surf_messages = df[df['plan']=='surf']['messages']\n",
    "ultimate_messages = df[df['plan']=='ultimate']['messages']\n",
    "\n",
    "# Hitung standar deviasi, rata-rata, dan varians untuk kategori \"Surf\"\n",
    "surf_std = np.std(surf_messages)\n",
    "surf_avg = np.mean(surf_messages)\n",
    "surf_var = np.var(surf_messages)\n",
    "\n",
    "# Hitung standar deviasi, rata-rata, dan varians untuk kategori \"Ultimate\"\n",
    "ultimate_std = np.std(ultimate_messages)\n",
    "ultimate_avg = np.mean(ultimate_messages)\n",
    "ultimate_var = np.var(ultimate_messages)\n",
    "\n",
    "print(\"Surf Messages:\")\n",
    "print(f\"Standard Deviation: {surf_std:.2f}\")\n",
    "print(f\"Average: {surf_avg:.2f}\")\n",
    "print(f\"Variance: {surf_var:.2f}\")\n",
    "print(\"\\nUltimate Messages:\")\n",
    "print(f\"Standard Deviation: {ultimate_std:.2f}\")\n",
    "print(f\"Average: {ultimate_avg:.2f}\")\n",
    "print(f\"Variance: {ultimate_var:.2f}\")"
   ]
  },
  {
   "cell_type": "code",
   "execution_count": 32,
   "metadata": {},
   "outputs": [
    {
     "data": {
      "image/png": "[encoded data removed]",
      "text/plain": [
       "<Figure size 864x432 with 1 Axes>"
      ]
     },
     "metadata": {
      "needs_background": "light"
     },
     "output_type": "display_data"
    }
   ],
   "source": [
    "# Buatlah grafik boxplot untuk memvisualisasikan distribusi durasi SMS bulanan\n",
    "\n",
    "plt.figure(figsize=(12, 6))\n",
    "\n",
    "# Membuat boxplot untuk distribusi durasi panggilan bulanan\n",
    "sns.boxplot(data=df, x=df.index.get_level_values(1), y=\"messages\", hue='plan')\n",
    "plt.title('Distribusi SMS Bulanan')\n",
    "plt.xlabel('Bulan')\n",
    "plt.ylabel('Distribusi SMS')\n",
    "\n",
    "plt.show()"
   ]
  },
  {
   "cell_type": "markdown",
   "metadata": {},
   "source": [
    "**Kesimpulan Pesan/SMS**\n",
    "\n",
    "Pada Visualisasi layanan SMS, Jumlah SMS dari pengguna paket Surf lebih banyak setiap bulannya dibandingkan dengan pengguna paket Ultimate dapat diasumsikan pengguna paket Surf lebih sering mengirim SMS dibandingkan pengguan paket Ultimate akan tetapi rata-rata SMS dari pengguna paket Ultimate lebih tinggi. Asumsi awal pengguna paket Surf lebih banyak tetapi per pengguna hanya mengirim lebih sedikit SMS. berbeda dengan pengguna Ultimate yang sedikit, tetapi setiap pengguna lebih sering melakukan SMS"
   ]
  },
  {
   "cell_type": "markdown",
   "metadata": {},
   "source": [
    "## Internet\n",
    "\n",
    "**Melakukan perbandingan antara layanan Internet paket Surf dan Ultimate**"
   ]
  },
  {
   "cell_type": "code",
   "execution_count": 33,
   "metadata": {},
   "outputs": [
    {
     "data": {
      "text/plain": [
       "[Text(0.5, 0, 'Data used (gigabytes)'), Text(0, 0.5, 'Count of users')]"
      ]
     },
     "execution_count": 33,
     "metadata": {},
     "output_type": "execute_result"
    },
    {
     "data": {
      "image/png": "[encoded data removed]",
      "text/plain": [
       "<Figure size 864x432 with 1 Axes>"
      ]
     },
     "metadata": {
      "needs_background": "light"
     },
     "output_type": "display_data"
    }
   ],
   "source": [
    "# Bandingkan jumlah pengunaan internet pengguna tiap paket per bulannya\n",
    "\n",
    "plt.figure(figsize=(12, 6))\n",
    "e= sns.barplot(data=df,  x=df.index.get_level_values(1), y=\"data\", hue=\"plan\", alpha=0.8, ci=None, estimator=sum)\n",
    "e.set_title('Jumlah Pengguna Internet Surf vs Ultimate')\n",
    "e.set(xlabel='Data used (gigabytes)', ylabel='Count of users')"
   ]
  },
  {
   "cell_type": "code",
   "execution_count": 34,
   "metadata": {},
   "outputs": [
    {
     "data": {
      "text/plain": [
       "[Text(0.5, 0, 'Bulan'), Text(0, 0.5, 'Jumlah Data Internet')]"
      ]
     },
     "execution_count": 34,
     "metadata": {},
     "output_type": "execute_result"
    },
    {
     "data": {
      "image/png": "[encoded data removed]",
      "text/plain": [
       "<Figure size 864x360 with 1 Axes>"
      ]
     },
     "metadata": {
      "needs_background": "light"
     },
     "output_type": "display_data"
    }
   ],
   "source": [
    "# Bandingkan rata-rata pengunaan data internet pengguna tiap paket per bulannya\n",
    "\n",
    "plt.figure(figsize=(12, 5))\n",
    "c= sns.barplot(data=df,  x=df.index.get_level_values(1), y=\"data\", hue=\"plan\", alpha=0.8)\n",
    "c.set_title('Rata-rata pengguna internet Surf vs Ultimate')\n",
    "c.set(xlabel='Bulan', ylabel='Jumlah Data Internet')"
   ]
  },
  {
   "cell_type": "code",
   "execution_count": 35,
   "metadata": {},
   "outputs": [
    {
     "name": "stdout",
     "output_type": "stream",
     "text": [
      "Surf Data:\n",
      "Standard Deviation: 7.54\n",
      "Average: 16.78\n",
      "Variance: 56.91\n",
      "\n",
      "Ultimate Data:\n",
      "Standard Deviation: 7.57\n",
      "Average: 17.37\n",
      "Variance: 57.38\n"
     ]
    }
   ],
   "source": [
    "# Hitung rata-rata dan varians dari penggunaan data bulanan\n",
    "surf_data = df[df['plan']=='surf']['data']\n",
    "ultimate_data = df[df['plan']=='ultimate']['data']\n",
    "\n",
    "# Hitung standar deviasi, rata-rata, dan varians untuk kategori \"Surf\"\n",
    "surf_std = np.std(surf_data)\n",
    "surf_avg = np.mean(surf_data)\n",
    "surf_var = np.var(surf_data)\n",
    "\n",
    "# Hitung standar deviasi, rata-rata, dan varians untuk kategori \"Ultimate\"\n",
    "ultimate_std = np.std(ultimate_data)\n",
    "ultimate_avg = np.mean(ultimate_data)\n",
    "ultimate_var = np.var(ultimate_data)\n",
    "\n",
    "print(\"Surf Data:\")\n",
    "print(f\"Standard Deviation: {surf_std:.2f}\")\n",
    "print(f\"Average: {surf_avg:.2f}\")\n",
    "print(f\"Variance: {surf_var:.2f}\")\n",
    "print(\"\\nUltimate Data:\")\n",
    "print(f\"Standard Deviation: {ultimate_std:.2f}\")\n",
    "print(f\"Average: {ultimate_avg:.2f}\")\n",
    "print(f\"Variance: {ultimate_var:.2f}\")"
   ]
  },
  {
   "cell_type": "code",
   "execution_count": 36,
   "metadata": {},
   "outputs": [
    {
     "data": {
      "image/png": "[encoded data removed]",
      "text/plain": [
       "<Figure size 864x432 with 1 Axes>"
      ]
     },
     "metadata": {
      "needs_background": "light"
     },
     "output_type": "display_data"
    }
   ],
   "source": [
    "# Buatlah grafik boxplot untuk memvisualisasikan distribusi durasi internet bulanan\n",
    "\n",
    "plt.figure(figsize=(12, 6))\n",
    "\n",
    "# Membuat boxplot untuk distribusi durasi panggilan bulanan\n",
    "sns.boxplot(data=df, x=df.index.get_level_values(1), y=\"data\", hue='plan')\n",
    "plt.title('Distribusi Data Bulanan')\n",
    "plt.xlabel('Bulan')\n",
    "plt.ylabel('Distribusi Data')\n",
    "\n",
    "plt.show()"
   ]
  },
  {
   "cell_type": "markdown",
   "metadata": {},
   "source": [
    "**Kesimpulan Penggunaan Data Internet**\n",
    "\n",
    "Pengguna data internet paket Surf lebih banyak dibandingkan dengan paket Ultimate setiap bulannya, tetapi jumlah rata-rata data internet paket Ultimate sedikit lebih banyak dibandingkan paket Surf ini seperti penggunaan SMS dimana rata-rata paket ultimate lebih tinggi dibandingkan paket Surf yang memiliki jumlah SMS lebih banyak, walaupun jumlah penggunaan data ultimate sedikit tetapi rata-rata pemakaian data paket ultimate lebih banyak"
   ]
  },
  {
   "cell_type": "markdown",
   "metadata": {},
   "source": [
    " "
   ]
  },
  {
   "cell_type": "markdown",
   "metadata": {},
   "source": [
    "## Pendapatan"
   ]
  },
  {
   "cell_type": "markdown",
   "metadata": {},
   "source": [
    "\n",
    "**Melakukan perbandingan antara pendapatan paket Surf dan Ultimate**"
   ]
  },
  {
   "cell_type": "code",
   "execution_count": 37,
   "metadata": {},
   "outputs": [
    {
     "data": {
      "text/plain": [
       "[Text(0.5, 0, 'Bulan'), Text(0, 0.5, 'Jumlah Pendapatan')]"
      ]
     },
     "execution_count": 37,
     "metadata": {},
     "output_type": "execute_result"
    },
    {
     "data": {
      "image/png": "[encoded data removed]",
      "text/plain": [
       "<Figure size 864x432 with 1 Axes>"
      ]
     },
     "metadata": {
      "needs_background": "light"
     },
     "output_type": "display_data"
    }
   ],
   "source": [
    "# Bandingkan jumlah pendapatan perbulan pada setiap paket\n",
    "\n",
    "plt.figure(figsize=(12, 6))\n",
    "e= sns.barplot(data=df,  x=df.index.get_level_values(1), y=\"monthly_income\", hue=\"plan\", alpha=0.8, ci=None, estimator=sum)\n",
    "e.set_title('Histogram Pendapatan perbulan pengguna Surf vs Ultimate')\n",
    "e.set(xlabel='Bulan', ylabel='Jumlah Pendapatan')"
   ]
  },
  {
   "cell_type": "code",
   "execution_count": 38,
   "metadata": {},
   "outputs": [
    {
     "data": {
      "text/plain": [
       "[Text(0.5, 0, 'Bulan'), Text(0, 0.5, 'Jumlah Pendapatan')]"
      ]
     },
     "execution_count": 38,
     "metadata": {},
     "output_type": "execute_result"
    },
    {
     "data": {
      "image/png": "[encoded data removed]",
      "text/plain": [
       "<Figure size 864x432 with 1 Axes>"
      ]
     },
     "metadata": {
      "needs_background": "light"
     },
     "output_type": "display_data"
    }
   ],
   "source": [
    "# Bandingkan rata-rata pendapatan perbulan pada setiap paket\n",
    "\n",
    "plt.figure(figsize=(12, 6))\n",
    "e= sns.barplot(data=df,  x=df.index.get_level_values(1), y=\"monthly_income\", hue=\"plan\", alpha=0.8, ci=None)\n",
    "e.set_title('Histogram rata-rata Pendapatan perbulan paket Surf vs Ultimate')\n",
    "e.set(xlabel='Bulan', ylabel='Jumlah Pendapatan')"
   ]
  },
  {
   "cell_type": "code",
   "execution_count": 39,
   "metadata": {},
   "outputs": [
    {
     "name": "stdout",
     "output_type": "stream",
     "text": [
      "Surf Data:\n",
      "Standard Deviation: 7.54\n",
      "Average: 16.78\n",
      "Variance: 56.91\n",
      "\n",
      "Ultimate Data:\n",
      "Standard Deviation: 7.57\n",
      "Average: 17.37\n",
      "Variance: 57.38\n"
     ]
    }
   ],
   "source": [
    "# Hitung rata-rata dan varians dari pendapatan perbulan\n",
    "surf_income = df[df['plan']=='surf']['monthly_income']\n",
    "ultimate_income = df[df['plan']=='ultimate']['monthly_income']\n",
    "\n",
    "# Hitung standar deviasi, rata-rata, dan varians untuk kategori \"Surf\"\n",
    "surf_std = np.std(surf_data)\n",
    "surf_avg = np.mean(surf_data)\n",
    "surf_var = np.var(surf_data)\n",
    "\n",
    "# Hitung standar deviasi, rata-rata, dan varians untuk kategori \"Ultimate\"\n",
    "ultimate_std = np.std(ultimate_data)\n",
    "ultimate_avg = np.mean(ultimate_data)\n",
    "ultimate_var = np.var(ultimate_data)\n",
    "\n",
    "print(\"Surf Data:\")\n",
    "print(f\"Standard Deviation: {surf_std:.2f}\")\n",
    "print(f\"Average: {surf_avg:.2f}\")\n",
    "print(f\"Variance: {surf_var:.2f}\")\n",
    "print(\"\\nUltimate Data:\")\n",
    "print(f\"Standard Deviation: {ultimate_std:.2f}\")\n",
    "print(f\"Average: {ultimate_avg:.2f}\")\n",
    "print(f\"Variance: {ultimate_var:.2f}\")"
   ]
  },
  {
   "cell_type": "code",
   "execution_count": 40,
   "metadata": {},
   "outputs": [
    {
     "data": {
      "image/png": "[encoded data removed]",
      "text/plain": [
       "<Figure size 864x432 with 1 Axes>"
      ]
     },
     "metadata": {
      "needs_background": "light"
     },
     "output_type": "display_data"
    }
   ],
   "source": [
    "# Buatlah grafik boxplot untuk memvisualisasikan distribusi pendapatan perbulan\n",
    "\n",
    "plt.figure(figsize=(12, 6))\n",
    "\n",
    "# Membuat boxplot untuk distribusi durasi panggilan bulanan\n",
    "sns.boxplot(data=df, x=df.index.get_level_values(1), y=\"monthly_income\", hue='plan')\n",
    "plt.title('Distribusi Pendapatan Bulanan')\n",
    "plt.xlabel('Bulan')\n",
    "plt.ylabel('Distribusi Pendapatan')\n",
    "\n",
    "plt.show()"
   ]
  },
  {
   "cell_type": "markdown",
   "metadata": {},
   "source": [
    "**Kesimpulan Total Pendapatan Perbulan**\n",
    "\n",
    "Dari hasil visualisasi pendapatan paket Surf lebih banyak dibandingkan dengan paket Ultimate, pengguna lebih menyukai paket Surf dibandingkan dengan paket Ultimate yang lebih mahal, seiring berjalan tahun jika dilihat rata-rata pendapatan paket Surf dapat menyamai paket ultimate karena paket Surf yang memiliki kenaikan setiap bulannya"
   ]
  },
  {
   "cell_type": "markdown",
   "metadata": {},
   "source": [
    "## Kesimpulan Analisa Perbandingan Paket"
   ]
  },
  {
   "cell_type": "markdown",
   "metadata": {},
   "source": [
    "Pada Analisa perbandingan antara paket prabayar Surf dan Ultimate berdasarkan visualisasi dapat disimpulkan bahwa pengguna paket Surf lebih banyak dibandingkan dengan pengguna paket Ultimate baik secara penggunaan Panggilan, SMS, Internet, dan pendapatan. walaupun rata-rata pemakaian Ultimate lebih tinggi tetapi grafik menunjukan bahwa setiap bulannya pengguna paket Surf terus meningkat besar kemungkinan untuk tahun berikutnya rata-rata pengguna paket Surf melebihin paket Ultimate"
   ]
  },
  {
   "cell_type": "markdown",
   "metadata": {},
   "source": [
    "# Menguji Hipotesis Statistik"
   ]
  },
  {
   "cell_type": "markdown",
   "metadata": {},
   "source": [
    "Dalam tahap ini ada dua hipotesis yang akan diuji dalam proyek ini:\n",
    "- Apakah Rata-rata pendapatan dari pengguna paket telepon Ultimate dan Surf berbeda?\n",
    "- Apakah Rata-rata pendapatan dari pengguna di wilayah NY-NJ berbeda dengan pendapatan pengguna dari wilayah lain?"
   ]
  },
  {
   "cell_type": "markdown",
   "metadata": {},
   "source": [
    "## Hipotesis 1\n",
    "\n",
    "**Apakah Rata-rata pendapatan dari pengguna paket telepon Ultimate dan Surf berbeda?**\n",
    "\n",
    "- **H0 (Hipotesis Nol) - Pendapatan rata-rata dari pengguna paket telepon Ultimate dan Surf adalah sama**\n",
    "- **H1 (Hipotesis Alternatif) - Pendapatan rata-rata dari pengguna paket telepon Ultimate dan Surf tidak sama**\n",
    "\n",
    "Nilai Alpha 5% = 0.05"
   ]
  },
  {
   "cell_type": "code",
   "execution_count": 41,
   "metadata": {},
   "outputs": [
    {
     "name": "stdout",
     "output_type": "stream",
     "text": [
      "p-value: 3.363644868810119e-17\n",
      "Menerima H1\n"
     ]
    }
   ],
   "source": [
    "# Uji hipotesisnya\n",
    "\n",
    "# H0 (Hipotesis Nol) - Pendapatan rata-rata dari pengguna paket telepon Ultimate dan Surf adalah sama\n",
    "# H1 (Hipotesis Alternatif) - Pendapatan rata-rata dari pengguna paket telepon Ultimate dan Surf tidak sama\n",
    "\n",
    "\n",
    "alpha = 0.05\n",
    "results_1 = st.ttest_ind(surf_income, ultimate_income, equal_var=False)\n",
    "\n",
    "# print p-value\n",
    "print('p-value:',results_1.pvalue) \n",
    "\n",
    "if results_1.pvalue < alpha:\n",
    "    print(\"Menerima H1\")\n",
    "else:\n",
    "    print(\"Menerima H0\")"
   ]
  },
  {
   "cell_type": "code",
   "execution_count": 42,
   "metadata": {},
   "outputs": [
    {
     "name": "stdout",
     "output_type": "stream",
     "text": [
      "Rata-rata Pendapatan Paket Surf: 16.78\n",
      "Rata-Rata Pendapatan Paket Ultimate: 17.37\n"
     ]
    }
   ],
   "source": [
    "print(f\"Rata-rata Pendapatan Paket Surf: {surf_avg:.2f}\")\n",
    "print(f\"Rata-Rata Pendapatan Paket Ultimate: {ultimate_avg:.2f}\")"
   ]
  },
  {
   "cell_type": "markdown",
   "metadata": {},
   "source": [
    "## Hipotesis 2\n",
    "\n",
    "**Apakah Rata-rata pendapatan dari pengguna di wilayah NY-NJ berbeda dengan pendapatan pengguna dari wilayah lain?**\n",
    "\n",
    "- **H0 (Hipotesis Nol) - Pendapatan rata-rata dari pengguna paket telepon Ultimate dan Surf adalah sama**\n",
    "- **H1 (Hipotesis Alternatif) - Pendapatan rata-rata dari pengguna paket telepon Ultimate dan Surf tidak sama**\n",
    "\n",
    "Nilai Alpha 5% = 0.05"
   ]
  },
  {
   "cell_type": "code",
   "execution_count": 43,
   "metadata": {},
   "outputs": [
    {
     "name": "stdout",
     "output_type": "stream",
     "text": [
      "Varians Pendapatan Pengguna Wilayah Bagian NY-NJ: 3135.21\n",
      "Varians Pendapatan Wilayah Bagian Lain: 2047.41\n"
     ]
    }
   ],
   "source": [
    "# Uji hipotesisnya\n",
    "\n",
    "NY_NJ_income = df[(df['state']=='NY') | (df['state']=='NJ')]['monthly_income']\n",
    "Other_state_income = df[(df['state']!='NY') & (df['state']!='NJ')]['monthly_income']\n",
    "\n",
    "print('Varians Pendapatan Pengguna Wilayah Bagian NY-NJ:', np.var(NY_NJ_income).round(2))\n",
    "print('Varians Pendapatan Wilayah Bagian Lain:', np.var(Other_state_income).round(2))"
   ]
  },
  {
   "cell_type": "code",
   "execution_count": 44,
   "metadata": {},
   "outputs": [
    {
     "name": "stdout",
     "output_type": "stream",
     "text": [
      "p-value: 0.32\n",
      "Menerima H0\n"
     ]
    }
   ],
   "source": [
    "# H0 (Hipotesis Alternatif) : Pendapatan rata-rata dari pengguna paket prabayar di wilayah NY-NJ ultimate dan surf SAMA\n",
    "# H1 (Hipotesis Nol) : Pendapatan rata-rata dari pengguna paket prabayar di wilayah NY-NJ ultimate dan surf BERBEDA\n",
    "\n",
    "alpha = 0.05\n",
    "results_2 = st.ttest_ind(NY_NJ_income, Other_state_income, equal_var=False)\n",
    "\n",
    "# print the p-value\n",
    "print('p-value:',results_2.pvalue.round(2)) \n",
    "\n",
    "if results_2.pvalue < alpha:\n",
    "    print(\"Menerima H1\")\n",
    "else:\n",
    "    print(\"Menerima H0\")"
   ]
  },
  {
   "cell_type": "code",
   "execution_count": 45,
   "metadata": {},
   "outputs": [
    {
     "name": "stdout",
     "output_type": "stream",
     "text": [
      "Rata-rata pendapatan di wilayah NY_NJ_income 73.69137931034481\n",
      "Rata-rata pendapatan di wilayah Bagian Lain 62.849324204946996\n"
     ]
    }
   ],
   "source": [
    "print('Rata-rata pendapatan di wilayah NY_NJ_income', NY_NJ_income.mean())\n",
    "print('Rata-rata pendapatan di wilayah Bagian Lain', Other_state_income.mean())"
   ]
  },
  {
   "cell_type": "markdown",
   "metadata": {},
   "source": [
    "## Kesimpulan Hasil Hipotesis"
   ]
  },
  {
   "cell_type": "markdown",
   "metadata": {},
   "source": [
    "Dapat dipastikan bahwa dari hasil seluruh uji hipotesis yang telah dilakukan, paket Ultimate menunjukkan pendapatan yang signifikan karena pengaruh harga dan tawaran yang telah ditetapkan. Menariknya, perbedaan antara paket Surf dan Ultimate tidak begitu mencolok; angka pendapatan pada paket Surf hampir mendekati tingkat pendapatan pada paket Ultimate. Hal ini memberikan keyakinan bahwa kesuksesan paket Surf didorong oleh jumlah pengguna yang signifikan dalam proses bisnis in"
   ]
  },
  {
   "cell_type": "markdown",
   "metadata": {},
   "source": [
    "# Kesimpulan Umum\n",
    "\n",
    "Berdasarkan hasil analisis dan uji hipotesis, dapat diambil kesimpulan terhadap pertanyaan yang diajukan dalam tujuan analisis proyek ini:\n",
    "\n",
    "1. Rata-rata Pendapatan Pengguna Paket Prabayar Ultimate dan Surf:\n",
    "    - Pendapatan rata-rata Paket Ultimate adalah 72.28 USD.\n",
    "    - Pendapatan rata-rata Paket Surf adalah 60.13 USD.   \n",
    "\n",
    "Dengan demikian, terdapat perbedaan yang signifikan antara rata-rata pendapatan pengguna paket prabayar Ultimate dan Surf.\n",
    "\n",
    "\n",
    "2. Perbedaan Pendapatan Pengguna di Wilayah NY-NJ dengan Wilayah Lain:\n",
    "    - Pendapatan rata-rata di wilayah NY-NJ adalah 73.70 USD.\n",
    "    - Pendapatan rata-rata di wilayah lainnya adalah 62.84 USD.\n",
    "\n",
    "Terdapat perbedaan yang signifikan antara pendapatan pengguna di wilayah NY-NJ dengan pendapatan pengguna dari wilayah lainnya.\n",
    "\n",
    "\n",
    "3. Perilaku Konsumen:\n",
    "    - Mayoritas pengguna Surf cenderung melebihi batas penggunaan bulanan mereka.\n",
    "    - Meskipun begitu, pengguna Ultimate memiliki pendapatan rata-rata yang lebih tinggi dan lebih konsisten setiap bulan.\n",
    "\n",
    "Dapat disimpulkan bahwa paket prabayar Ultimate memiliki kontribusi pendapatan yang lebih besar dan lebih stabil, meskipun mayoritas pengguna Surf melebihi batas penggunaan bulanan mereka.\n",
    "\n",
    "dari kesimpulan hasil analisa tersebut, analisa dapat memberikan rekomendasi sebagai berikut\n",
    "\n",
    "**Rekomendasi untuk Paket Surf:**\n",
    "\n",
    "1. Penyesuaian Batas Penggunaan:\n",
    "    - Lakukan peninjauan dan penyesuaian pada batas penggunaan bulanan paket Surf. Hal ini dapat membantu mencegah pengguna melebihi batas dan mengurangi risiko penggunaan yang tidak terduga.\n",
    "\n",
    "\n",
    "2. Penawaran Khusus:\n",
    "    - Tawarkan penawaran khusus atau bonus bagi pengguna Surf yang aktif dan setia. Ini dapat mencakup tambahan kuota data, panggilan gratis, atau fitur tambahan lainnya.\n",
    "\n",
    "\n",
    "3. Program Penghargaan:\n",
    "    - Implementasikan program penghargaan atau loyalitas yang memberikan insentif kepada pengguna Surf yang menggunakan paket secara konsisten. Ini dapat mencakup diskon, hadiah, atau keuntungan lainnya.\n",
    "\n",
    "**Rekomendasi untuk Paket Ultimate:**\n",
    "\n",
    "\n",
    "1. Peningkatan Kejelasan Manfaat:\n",
    "    - Tingkatkan kejelasan terkait manfaat dan keuntungan penggunaan paket Ultimate. Hal ini dapat dilakukan melalui kampanye pemasaran yang menyoroti fitur-fitur unggul dan nilai tambah yang diberikan oleh paket tersebut.\n",
    "\n",
    "\n",
    "2. Kustomisasi Paket:\n",
    "    - Berikan opsi kustomisasi paket Ultimate, di mana pengguna dapat memilih tambahan layanan atau fitur sesuai dengan kebutuhan mereka. Ini dapat meningkatkan daya tarik paket bagi segmen pasar yang berbeda.\n",
    "\n",
    "\n",
    "3. Program Khusus Pengguna Ultimate:\n",
    "    - Luncurkan program eksklusif atau keuntungan khusus untuk pengguna paket Ultimate. Ini bisa mencakup akses ke acara khusus, layanan pelanggan premium, atau penawaran spesial lainnya.\n",
    "\n",
    "\n",
    "4. Analisis Preferensi Pengguna:\n",
    "    - Lakukan survei atau analisis lebih lanjut terkait preferensi dan harapan pengguna paket Ultimate. Hal ini dapat membantu dalam peningkatan yang sesuai dengan kebutuhan dan keinginan pelanggan.\n",
    "\n",
    "Melalui kombinasi dari penyesuaian, insentif, dan peningkatan layanan, diharapkan dapat meningkatkan daya saing dan popularitas baik paket Surf maupun Ultimate dalam portofolio layanan operator telekomunikasi."
   ]
  },
  {
   "cell_type": "markdown",
   "metadata": {},
   "source": [
    " "
   ]
  }
 ],
 "metadata": {
  "ExecuteTimeLog": [
   {
    "duration": 828,
    "start_time": "2021-11-16T09:21:11.304Z"
   },
   {
    "duration": 893,
    "start_time": "2021-11-16T09:21:17.728Z"
   },
   {
    "duration": 1150,
    "start_time": "2021-11-16T09:21:29.568Z"
   },
   {
    "duration": 3,
    "start_time": "2021-11-16T09:24:14.495Z"
   },
   {
    "duration": 120,
    "start_time": "2021-11-16T09:24:46.630Z"
   },
   {
    "duration": 3,
    "start_time": "2021-11-16T09:28:27.882Z"
   },
   {
    "duration": 4,
    "start_time": "2021-11-16T09:29:54.281Z"
   },
   {
    "duration": 3,
    "start_time": "2021-11-16T09:30:45.936Z"
   },
   {
    "duration": 4,
    "start_time": "2021-11-16T09:31:06.300Z"
   },
   {
    "duration": 113,
    "start_time": "2021-11-16T09:31:37.208Z"
   },
   {
    "duration": 143,
    "start_time": "2021-11-16T09:31:48.656Z"
   },
   {
    "duration": 98,
    "start_time": "2021-11-16T09:31:55.678Z"
   },
   {
    "duration": 3,
    "start_time": "2021-11-16T09:32:08.535Z"
   },
   {
    "duration": 111,
    "start_time": "2021-11-16T09:32:10.120Z"
   },
   {
    "duration": 3,
    "start_time": "2021-11-16T09:32:15.732Z"
   },
   {
    "duration": 4,
    "start_time": "2021-11-16T09:32:29.423Z"
   },
   {
    "duration": 3,
    "start_time": "2021-11-16T10:03:03.074Z"
   },
   {
    "duration": 3,
    "start_time": "2021-11-16T10:10:01.288Z"
   },
   {
    "duration": 3,
    "start_time": "2021-11-16T10:10:46.923Z"
   },
   {
    "duration": 121,
    "start_time": "2021-11-16T10:37:46.494Z"
   },
   {
    "duration": 125,
    "start_time": "2021-11-16T10:38:20.632Z"
   },
   {
    "duration": 112,
    "start_time": "2021-11-16T10:46:53.001Z"
   },
   {
    "duration": 110,
    "start_time": "2021-11-16T10:48:25.775Z"
   },
   {
    "duration": 3,
    "start_time": "2021-11-16T10:50:18.720Z"
   },
   {
    "duration": 4,
    "start_time": "2021-11-16T10:50:37.649Z"
   },
   {
    "duration": 2,
    "start_time": "2021-11-16T10:50:51.884Z"
   },
   {
    "duration": 3,
    "start_time": "2021-11-16T10:51:56.237Z"
   },
   {
    "duration": 101,
    "start_time": "2021-11-16T10:53:13.791Z"
   },
   {
    "duration": 3,
    "start_time": "2021-11-16T10:55:59.186Z"
   },
   {
    "duration": 3,
    "start_time": "2021-11-16T10:56:10.751Z"
   },
   {
    "duration": 3,
    "start_time": "2021-11-16T10:56:49.038Z"
   },
   {
    "duration": 3,
    "start_time": "2021-11-16T10:56:49.174Z"
   },
   {
    "duration": 4,
    "start_time": "2021-11-16T10:56:49.414Z"
   },
   {
    "duration": 3,
    "start_time": "2021-11-16T10:56:49.680Z"
   },
   {
    "duration": 3,
    "start_time": "2021-11-16T10:56:50.370Z"
   },
   {
    "duration": 114,
    "start_time": "2021-11-16T10:59:34.518Z"
   },
   {
    "duration": 3,
    "start_time": "2021-11-16T11:01:41.201Z"
   },
   {
    "duration": 116,
    "start_time": "2021-11-16T11:01:48.754Z"
   },
   {
    "duration": 3,
    "start_time": "2021-11-16T11:02:16.685Z"
   },
   {
    "duration": 3,
    "start_time": "2021-11-16T11:02:19.479Z"
   },
   {
    "duration": 3,
    "start_time": "2021-11-16T11:02:47.067Z"
   },
   {
    "duration": 3,
    "start_time": "2021-11-16T11:02:49.353Z"
   },
   {
    "duration": 3,
    "start_time": "2021-11-16T11:03:07.835Z"
   },
   {
    "duration": 3,
    "start_time": "2021-11-16T11:03:07.953Z"
   },
   {
    "duration": 112,
    "start_time": "2021-11-16T11:07:52.072Z"
   },
   {
    "duration": 187,
    "start_time": "2021-11-16T11:09:23.468Z"
   },
   {
    "duration": 4,
    "start_time": "2021-11-16T11:10:01.455Z"
   },
   {
    "duration": 3,
    "start_time": "2021-11-16T11:10:05.069Z"
   },
   {
    "duration": 4,
    "start_time": "2021-11-16T11:10:13.376Z"
   },
   {
    "duration": 3,
    "start_time": "2021-11-16T11:10:14.434Z"
   },
   {
    "duration": 3,
    "start_time": "2021-11-16T11:10:22.853Z"
   },
   {
    "duration": 4,
    "start_time": "2021-11-16T11:27:29.279Z"
   },
   {
    "duration": 4,
    "start_time": "2021-11-16T11:29:08.919Z"
   },
   {
    "duration": 118,
    "start_time": "2021-11-16T11:29:46.703Z"
   },
   {
    "duration": 437,
    "start_time": "2021-11-16T11:36:02.181Z"
   },
   {
    "duration": 157,
    "start_time": "2021-11-16T11:36:14.388Z"
   },
   {
    "duration": 207,
    "start_time": "2021-11-16T11:47:15.898Z"
   },
   {
    "duration": 3,
    "start_time": "2021-11-16T11:53:52.092Z"
   },
   {
    "duration": 3,
    "start_time": "2021-11-16T11:53:52.236Z"
   },
   {
    "duration": 3,
    "start_time": "2021-11-16T11:59:12.005Z"
   },
   {
    "duration": 112,
    "start_time": "2021-11-16T12:00:33.446Z"
   },
   {
    "duration": 3,
    "start_time": "2021-11-16T12:02:14.453Z"
   },
   {
    "duration": 3,
    "start_time": "2021-11-16T12:02:39.512Z"
   },
   {
    "duration": 106,
    "start_time": "2021-11-16T12:03:03.460Z"
   },
   {
    "duration": 3,
    "start_time": "2021-11-17T20:37:21.139Z"
   },
   {
    "duration": 3,
    "start_time": "2021-11-17T20:37:22.229Z"
   },
   {
    "duration": 3,
    "start_time": "2021-11-17T20:38:38.806Z"
   },
   {
    "duration": 3,
    "start_time": "2021-11-17T20:38:41.958Z"
   },
   {
    "duration": 3,
    "start_time": "2021-11-17T20:43:46.551Z"
   },
   {
    "duration": 4,
    "start_time": "2021-11-17T20:58:21.835Z"
   },
   {
    "duration": 3,
    "start_time": "2021-11-17T20:59:21.872Z"
   },
   {
    "duration": 4,
    "start_time": "2021-11-17T20:59:45.352Z"
   },
   {
    "duration": 4,
    "start_time": "2021-11-17T20:59:49.646Z"
   },
   {
    "duration": 159,
    "start_time": "2021-11-17T21:02:26.949Z"
   },
   {
    "duration": 3,
    "start_time": "2021-11-17T21:03:53.461Z"
   },
   {
    "duration": 3,
    "start_time": "2021-11-17T21:03:53.694Z"
   },
   {
    "duration": 3,
    "start_time": "2021-11-17T21:05:28.145Z"
   },
   {
    "duration": 116,
    "start_time": "2021-11-17T21:05:57.787Z"
   },
   {
    "duration": 3,
    "start_time": "2021-11-17T21:06:37.993Z"
   },
   {
    "duration": 3,
    "start_time": "2021-11-17T21:06:38.261Z"
   },
   {
    "duration": 3,
    "start_time": "2021-11-17T21:11:54.358Z"
   },
   {
    "duration": 3,
    "start_time": "2021-11-17T21:12:43.846Z"
   },
   {
    "duration": 4,
    "start_time": "2021-11-17T21:13:08.773Z"
   },
   {
    "duration": 3,
    "start_time": "2021-11-17T21:14:44.441Z"
   },
   {
    "duration": 3,
    "start_time": "2021-11-17T21:15:42.059Z"
   },
   {
    "duration": 4,
    "start_time": "2021-11-17T21:15:51.995Z"
   },
   {
    "duration": 3,
    "start_time": "2021-11-17T21:15:53.923Z"
   },
   {
    "duration": 3,
    "start_time": "2021-11-17T21:15:55.282Z"
   },
   {
    "duration": 3,
    "start_time": "2021-11-17T21:16:28.492Z"
   },
   {
    "duration": 3,
    "start_time": "2021-11-17T21:16:32.603Z"
   },
   {
    "duration": 3,
    "start_time": "2021-11-17T21:17:06.941Z"
   },
   {
    "duration": 98,
    "start_time": "2021-11-17T21:18:05.733Z"
   },
   {
    "duration": 4,
    "start_time": "2021-11-17T21:21:35.255Z"
   },
   {
    "duration": 3,
    "start_time": "2021-11-17T21:21:37.804Z"
   },
   {
    "duration": 4,
    "start_time": "2021-11-17T21:23:06.071Z"
   },
   {
    "duration": 3,
    "start_time": "2021-11-17T21:23:24.799Z"
   },
   {
    "duration": 3,
    "start_time": "2021-11-17T21:23:32.591Z"
   },
   {
    "duration": 98,
    "start_time": "2021-11-17T21:28:31.559Z"
   },
   {
    "duration": 3,
    "start_time": "2021-11-17T21:28:45.448Z"
   },
   {
    "duration": 3,
    "start_time": "2021-11-17T21:29:17.303Z"
   },
   {
    "duration": 3,
    "start_time": "2021-11-17T21:29:29.617Z"
   },
   {
    "duration": 3,
    "start_time": "2021-11-17T21:29:32.681Z"
   },
   {
    "duration": 3,
    "start_time": "2021-11-17T21:36:11.474Z"
   },
   {
    "duration": 3,
    "start_time": "2021-11-17T21:36:14.791Z"
   },
   {
    "duration": 3,
    "start_time": "2021-11-17T21:36:53.943Z"
   },
   {
    "duration": 3,
    "start_time": "2021-11-17T21:36:56.165Z"
   },
   {
    "duration": 4,
    "start_time": "2021-11-17T21:37:16.590Z"
   },
   {
    "duration": 3,
    "start_time": "2021-11-17T21:37:22.702Z"
   },
   {
    "duration": 4,
    "start_time": "2021-11-17T21:38:03.479Z"
   },
   {
    "duration": 3,
    "start_time": "2021-11-17T21:38:08.601Z"
   },
   {
    "duration": 3,
    "start_time": "2021-11-17T21:38:12.928Z"
   },
   {
    "duration": 3,
    "start_time": "2021-11-17T21:38:48.896Z"
   },
   {
    "duration": 2,
    "start_time": "2021-11-17T21:38:49.171Z"
   },
   {
    "duration": 4,
    "start_time": "2021-11-17T21:39:57.889Z"
   },
   {
    "duration": 3,
    "start_time": "2021-11-17T21:39:58.057Z"
   },
   {
    "duration": 3,
    "start_time": "2021-11-17T21:41:20.108Z"
   },
   {
    "duration": 3,
    "start_time": "2021-11-17T21:41:20.629Z"
   },
   {
    "duration": 3,
    "start_time": "2021-11-17T21:42:49.136Z"
   },
   {
    "duration": 3,
    "start_time": "2021-11-17T21:43:15.137Z"
   },
   {
    "duration": 4,
    "start_time": "2021-11-17T21:43:16.766Z"
   },
   {
    "duration": 4,
    "start_time": "2021-11-17T21:43:31.711Z"
   },
   {
    "duration": 3,
    "start_time": "2021-11-17T21:43:36.312Z"
   },
   {
    "duration": 4,
    "start_time": "2021-11-17T21:45:08.825Z"
   },
   {
    "duration": 4,
    "start_time": "2021-11-17T21:45:10.119Z"
   },
   {
    "duration": 4,
    "start_time": "2021-11-17T21:45:13.748Z"
   },
   {
    "duration": 3,
    "start_time": "2021-11-17T21:45:22.219Z"
   },
   {
    "duration": 3,
    "start_time": "2021-11-17T21:45:33.412Z"
   },
   {
    "duration": 2,
    "start_time": "2021-11-17T21:46:01.885Z"
   },
   {
    "duration": 3,
    "start_time": "2021-11-17T21:46:03.628Z"
   },
   {
    "duration": 107,
    "start_time": "2021-11-17T21:47:32.512Z"
   },
   {
    "duration": 103,
    "start_time": "2021-11-17T21:50:36.243Z"
   },
   {
    "duration": 3,
    "start_time": "2021-11-18T06:28:31.440Z"
   },
   {
    "duration": 3,
    "start_time": "2021-11-18T06:29:00.168Z"
   },
   {
    "duration": 3,
    "start_time": "2021-11-18T06:31:27.008Z"
   },
   {
    "duration": 2,
    "start_time": "2021-11-18T06:35:34.288Z"
   },
   {
    "duration": 2,
    "start_time": "2021-11-18T06:38:04.527Z"
   }
  ],
  "kernelspec": {
   "display_name": "Python 3 (ipykernel)",
   "language": "python",
   "name": "python3"
  },
  "language_info": {
   "codemirror_mode": {
    "name": "ipython",
    "version": 3
   },
   "file_extension": ".py",
   "mimetype": "text/x-python",
   "name": "python",
   "nbconvert_exporter": "python",
   "pygments_lexer": "ipython3",
   "version": "3.11.2"
  },
  "toc": {
   "base_numbering": "1",
   "nav_menu": {},
   "number_sections": false,
   "sideBar": true,
   "skip_h1_title": false,
   "title_cell": "Konten",
   "title_sidebar": "Contents",
   "toc_cell": true,
   "toc_position": {
    "height": "calc(100% - 180px)",
    "left": "10px",
    "top": "150px",
    "width": "410.66px"
   },
   "toc_section_display": true,
   "toc_window_display": true
  }
 },
 "nbformat": 4,
 "nbformat_minor": 4
}
