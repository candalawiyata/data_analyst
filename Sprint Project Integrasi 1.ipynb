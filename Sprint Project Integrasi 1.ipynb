{
 "cells": [
  {
   "cell_type": "markdown",
   "metadata": {},
   "source": [
    "# Menganalisis Data Penjualan Game di Toko Online 'Ice' Berdasarkan Ulasan Pengguna, Ahli Game, Genre, dan Platform\n",
    "Kamu bekerja di toko online \"Ice\" yang menjual video game dari seluruh dunia. Data terkait ulasan pengguna dan ahli game, genre, platform (misalnya, Xbox atau PlayStation), dan data historis penjualan game tersedia dari open source. Kamu perlu mengidentifikasi pola-pola yang menentukan apakah suatu game bisa dikatakan berhasil atau tidak. Dengan begitu, kamu bisa menemukan game yang paling potensial dan merencanakan kampanye iklannya.\n",
    "\n",
    "\n",
    "Di depanmu ada data dari tahun 2016. Coba deh bayangkan bahwa sekarang adalah bulan Desember tahun 2016 dan kamu sedang merencanakan kampanye untuk tahun 2017. \n",
    "\n",
    "\n",
    "(Yang terpenting adalah untuk mendapatkan pengalaman dalam bekerja dengan data. Tidak masalah apakah kamu meramalkan penjualan tahun 2017 berdasarkan data dari tahun 2016 atau meramalkan penjualan tahun 2027 berdasarkan data dari tahun 2026.).\n",
    "\n",
    "\n",
    "Dataset ini memuat singkatan ESRB. ESRB merupakan singkatan dari Entertainment Software Rating Board, yaitu sebuah organisasi regulator mandiri yang mengevaluasi konten game dan memberikan rating usia seperti Remaja atau Dewasa."
   ]
  },
  {
   "cell_type": "markdown",
   "metadata": {},
   "source": [
    "# Tujuan\n",
    "\n",
    "Proyek ini memiliki tujuan untuk memahami dan menganalisis faktor-faktor yang memengaruhi kesuksesan game di toko online \"Ice\". Dengan data dari tahun 2016, Analisa berusaha mengidentifikasi pola-pola yang dapat membantu merencanakan kampanye iklan pada tahun 2017. Adanya informasi ESRB juga memungkinkan analisis terhadap pengaruh rating usia terhadap performa penjualan. Proyek ini tidak hanya memberikan wawasan tentang tren penjualan game, tetapi juga memungkinkan penggunaan keterampilan meramalkan untuk merencanakan strategi pemasaran di masa mendatang."
   ]
  },
  {
   "cell_type": "markdown",
   "metadata": {},
   "source": [
    "# Tahapan\n",
    "\n",
    "Tahapan dari proyek ini memiliki lima tahapan diantaranya:\n",
    "1. Pra-pemrosesan data\n",
    "2. Data Preparation\n",
    "3. Data Analyst\n",
    "4. Melakukan pemrofilan pengguna untuk masing-masing wilayah\n",
    "5. Melakukan Uji Hipotesis\n",
    "6. Kesimpulan Umum"
   ]
  },
  {
   "cell_type": "markdown",
   "metadata": {},
   "source": [
    "# Pra-pemrosesan data"
   ]
  },
  {
   "cell_type": "markdown",
   "metadata": {},
   "source": [
    "Tahapan Pra-pemrosesan data dilakukan untuk mengetahui informasi terkait dataset yang akan dilakukan analisa, apakah ada data yang tidak sesuai, data mana yang akan digunakan, serta penanganan apa yang harus dilakukan untuk membuat data menjadi lebih baik."
   ]
  },
  {
   "cell_type": "markdown",
   "metadata": {},
   "source": [
    "## Inisialisasi"
   ]
  },
  {
   "cell_type": "code",
   "execution_count": 1,
   "metadata": {},
   "outputs": [],
   "source": [
    "# Memuat library\n",
    "\n",
    "import pandas as pd, numpy as np\n",
    "import matplotlib.pyplot as plt, seaborn as sns\n",
    "from scipy import stats as st\n",
    "import seaborn as sns"
   ]
  },
  {
   "cell_type": "markdown",
   "metadata": {},
   "source": [
    "## Memuat Data"
   ]
  },
  {
   "cell_type": "code",
   "execution_count": 2,
   "metadata": {},
   "outputs": [],
   "source": [
    "# Muat file data ke dalam DataFrame\n",
    "\n",
    "df = pd.read_csv('/datasets/games.csv')"
   ]
  },
  {
   "cell_type": "markdown",
   "metadata": {},
   "source": [
    "## Gambaran Umum Data"
   ]
  },
  {
   "cell_type": "code",
   "execution_count": 3,
   "metadata": {},
   "outputs": [
    {
     "name": "stdout",
     "output_type": "stream",
     "text": [
      "<class 'pandas.core.frame.DataFrame'>\n",
      "RangeIndex: 16715 entries, 0 to 16714\n",
      "Data columns (total 11 columns):\n",
      " #   Column           Non-Null Count  Dtype  \n",
      "---  ------           --------------  -----  \n",
      " 0   Name             16713 non-null  object \n",
      " 1   Platform         16715 non-null  object \n",
      " 2   Year_of_Release  16446 non-null  float64\n",
      " 3   Genre            16713 non-null  object \n",
      " 4   NA_sales         16715 non-null  float64\n",
      " 5   EU_sales         16715 non-null  float64\n",
      " 6   JP_sales         16715 non-null  float64\n",
      " 7   Other_sales      16715 non-null  float64\n",
      " 8   Critic_Score     8137 non-null   float64\n",
      " 9   User_Score       10014 non-null  object \n",
      " 10  Rating           9949 non-null   object \n",
      "dtypes: float64(6), object(5)\n",
      "memory usage: 1.4+ MB\n"
     ]
    },
    {
     "data": {
      "text/html": [
       "<div>\n",
       "<style scoped>\n",
       "    .dataframe tbody tr th:only-of-type {\n",
       "        vertical-align: middle;\n",
       "    }\n",
       "\n",
       "    .dataframe tbody tr th {\n",
       "        vertical-align: top;\n",
       "    }\n",
       "\n",
       "    .dataframe thead th {\n",
       "        text-align: right;\n",
       "    }\n",
       "</style>\n",
       "<table border=\"1\" class=\"dataframe\">\n",
       "  <thead>\n",
       "    <tr style=\"text-align: right;\">\n",
       "      <th></th>\n",
       "      <th>Name</th>\n",
       "      <th>Platform</th>\n",
       "      <th>Year_of_Release</th>\n",
       "      <th>Genre</th>\n",
       "      <th>NA_sales</th>\n",
       "      <th>EU_sales</th>\n",
       "      <th>JP_sales</th>\n",
       "      <th>Other_sales</th>\n",
       "      <th>Critic_Score</th>\n",
       "      <th>User_Score</th>\n",
       "      <th>Rating</th>\n",
       "    </tr>\n",
       "  </thead>\n",
       "  <tbody>\n",
       "    <tr>\n",
       "      <th>0</th>\n",
       "      <td>Wii Sports</td>\n",
       "      <td>Wii</td>\n",
       "      <td>2006.0</td>\n",
       "      <td>Sports</td>\n",
       "      <td>41.36</td>\n",
       "      <td>28.96</td>\n",
       "      <td>3.77</td>\n",
       "      <td>8.45</td>\n",
       "      <td>76.0</td>\n",
       "      <td>8</td>\n",
       "      <td>E</td>\n",
       "    </tr>\n",
       "    <tr>\n",
       "      <th>1</th>\n",
       "      <td>Super Mario Bros.</td>\n",
       "      <td>NES</td>\n",
       "      <td>1985.0</td>\n",
       "      <td>Platform</td>\n",
       "      <td>29.08</td>\n",
       "      <td>3.58</td>\n",
       "      <td>6.81</td>\n",
       "      <td>0.77</td>\n",
       "      <td>NaN</td>\n",
       "      <td>NaN</td>\n",
       "      <td>NaN</td>\n",
       "    </tr>\n",
       "    <tr>\n",
       "      <th>2</th>\n",
       "      <td>Mario Kart Wii</td>\n",
       "      <td>Wii</td>\n",
       "      <td>2008.0</td>\n",
       "      <td>Racing</td>\n",
       "      <td>15.68</td>\n",
       "      <td>12.76</td>\n",
       "      <td>3.79</td>\n",
       "      <td>3.29</td>\n",
       "      <td>82.0</td>\n",
       "      <td>8.3</td>\n",
       "      <td>E</td>\n",
       "    </tr>\n",
       "    <tr>\n",
       "      <th>3</th>\n",
       "      <td>Wii Sports Resort</td>\n",
       "      <td>Wii</td>\n",
       "      <td>2009.0</td>\n",
       "      <td>Sports</td>\n",
       "      <td>15.61</td>\n",
       "      <td>10.93</td>\n",
       "      <td>3.28</td>\n",
       "      <td>2.95</td>\n",
       "      <td>80.0</td>\n",
       "      <td>8</td>\n",
       "      <td>E</td>\n",
       "    </tr>\n",
       "    <tr>\n",
       "      <th>4</th>\n",
       "      <td>Pokemon Red/Pokemon Blue</td>\n",
       "      <td>GB</td>\n",
       "      <td>1996.0</td>\n",
       "      <td>Role-Playing</td>\n",
       "      <td>11.27</td>\n",
       "      <td>8.89</td>\n",
       "      <td>10.22</td>\n",
       "      <td>1.00</td>\n",
       "      <td>NaN</td>\n",
       "      <td>NaN</td>\n",
       "      <td>NaN</td>\n",
       "    </tr>\n",
       "  </tbody>\n",
       "</table>\n",
       "</div>"
      ],
      "text/plain": [
       "                       Name Platform  Year_of_Release         Genre  NA_sales  \\\n",
       "0                Wii Sports      Wii           2006.0        Sports     41.36   \n",
       "1         Super Mario Bros.      NES           1985.0      Platform     29.08   \n",
       "2            Mario Kart Wii      Wii           2008.0        Racing     15.68   \n",
       "3         Wii Sports Resort      Wii           2009.0        Sports     15.61   \n",
       "4  Pokemon Red/Pokemon Blue       GB           1996.0  Role-Playing     11.27   \n",
       "\n",
       "   EU_sales  JP_sales  Other_sales  Critic_Score User_Score Rating  \n",
       "0     28.96      3.77         8.45          76.0          8      E  \n",
       "1      3.58      6.81         0.77           NaN        NaN    NaN  \n",
       "2     12.76      3.79         3.29          82.0        8.3      E  \n",
       "3     10.93      3.28         2.95          80.0          8      E  \n",
       "4      8.89     10.22         1.00           NaN        NaN    NaN  "
      ]
     },
     "execution_count": 3,
     "metadata": {},
     "output_type": "execute_result"
    }
   ],
   "source": [
    "# Melihat gambaran umum data\n",
    "\n",
    "df.info()\n",
    "df.head()"
   ]
  },
  {
   "cell_type": "markdown",
   "metadata": {},
   "source": [
    "**Kolom Deskripsi**\n",
    "\n",
    "- `Name` \n",
    "- `Platform` \n",
    "- `Year_of_Release` : tahun rilis \n",
    "- `Genre` \n",
    "- `NA_sales` : penjualan di Amerika Utara dalam satuan juta USD\n",
    "- `EU_sales` : penjualan di Eropa dalam satuan juta USD\n",
    "- `JP_sales` : penjualan di Jepang dalam satuan juta USD\n",
    "- `Other_sales` : penjualan di negara lainnya dalam satuan juta USD\n",
    "- `Critic_Score` : skor ulasan dari kritikus, maksimal 100\n",
    "- `User_Score` : skor ulasan dari pengguna, maksimal 10\n",
    "- `Rating` : ESRB"
   ]
  },
  {
   "cell_type": "code",
   "execution_count": 4,
   "metadata": {},
   "outputs": [
    {
     "data": {
      "text/plain": [
       "Name                  2\n",
       "Platform              0\n",
       "Year_of_Release     269\n",
       "Genre                 2\n",
       "NA_sales              0\n",
       "EU_sales              0\n",
       "JP_sales              0\n",
       "Other_sales           0\n",
       "Critic_Score       8578\n",
       "User_Score         6701\n",
       "Rating             6766\n",
       "dtype: int64"
      ]
     },
     "execution_count": 4,
     "metadata": {},
     "output_type": "execute_result"
    }
   ],
   "source": [
    "# Memeriksa nilai yang hilang\n",
    "\n",
    "df.isna().sum()"
   ]
  },
  {
   "cell_type": "code",
   "execution_count": 5,
   "metadata": {
    "scrolled": true
   },
   "outputs": [
    {
     "data": {
      "text/html": [
       "<div>\n",
       "<style scoped>\n",
       "    .dataframe tbody tr th:only-of-type {\n",
       "        vertical-align: middle;\n",
       "    }\n",
       "\n",
       "    .dataframe tbody tr th {\n",
       "        vertical-align: top;\n",
       "    }\n",
       "\n",
       "    .dataframe thead th {\n",
       "        text-align: right;\n",
       "    }\n",
       "</style>\n",
       "<table border=\"1\" class=\"dataframe\">\n",
       "  <thead>\n",
       "    <tr style=\"text-align: right;\">\n",
       "      <th></th>\n",
       "      <th>Name</th>\n",
       "      <th>Platform</th>\n",
       "      <th>Year_of_Release</th>\n",
       "      <th>Genre</th>\n",
       "      <th>NA_sales</th>\n",
       "      <th>EU_sales</th>\n",
       "      <th>JP_sales</th>\n",
       "      <th>Other_sales</th>\n",
       "      <th>Critic_Score</th>\n",
       "      <th>User_Score</th>\n",
       "      <th>Rating</th>\n",
       "    </tr>\n",
       "  </thead>\n",
       "  <tbody>\n",
       "    <tr>\n",
       "      <th>12439</th>\n",
       "      <td>Zumba Fitness Core</td>\n",
       "      <td>Wii</td>\n",
       "      <td>2012.0</td>\n",
       "      <td>Misc</td>\n",
       "      <td>0.00</td>\n",
       "      <td>0.06</td>\n",
       "      <td>0.00</td>\n",
       "      <td>0.01</td>\n",
       "      <td>NaN</td>\n",
       "      <td>tbd</td>\n",
       "      <td>E10+</td>\n",
       "    </tr>\n",
       "    <tr>\n",
       "      <th>8451</th>\n",
       "      <td>ZhuZhu Puppies</td>\n",
       "      <td>DS</td>\n",
       "      <td>2011.0</td>\n",
       "      <td>Simulation</td>\n",
       "      <td>0.12</td>\n",
       "      <td>0.03</td>\n",
       "      <td>0.00</td>\n",
       "      <td>0.01</td>\n",
       "      <td>NaN</td>\n",
       "      <td>tbd</td>\n",
       "      <td>E</td>\n",
       "    </tr>\n",
       "    <tr>\n",
       "      <th>5881</th>\n",
       "      <td>Jonas</td>\n",
       "      <td>DS</td>\n",
       "      <td>2009.0</td>\n",
       "      <td>Adventure</td>\n",
       "      <td>0.27</td>\n",
       "      <td>0.00</td>\n",
       "      <td>0.00</td>\n",
       "      <td>0.02</td>\n",
       "      <td>45.0</td>\n",
       "      <td>tbd</td>\n",
       "      <td>E</td>\n",
       "    </tr>\n",
       "    <tr>\n",
       "      <th>6472</th>\n",
       "      <td>Final Fantasy V Advance</td>\n",
       "      <td>GBA</td>\n",
       "      <td>2006.0</td>\n",
       "      <td>Role-Playing</td>\n",
       "      <td>0.00</td>\n",
       "      <td>0.00</td>\n",
       "      <td>0.26</td>\n",
       "      <td>0.01</td>\n",
       "      <td>83.0</td>\n",
       "      <td>7.2</td>\n",
       "      <td>E</td>\n",
       "    </tr>\n",
       "    <tr>\n",
       "      <th>5802</th>\n",
       "      <td>Shrek's Carnival Craze Party Games</td>\n",
       "      <td>Wii</td>\n",
       "      <td>2008.0</td>\n",
       "      <td>Misc</td>\n",
       "      <td>0.28</td>\n",
       "      <td>0.00</td>\n",
       "      <td>0.00</td>\n",
       "      <td>0.02</td>\n",
       "      <td>NaN</td>\n",
       "      <td>NaN</td>\n",
       "      <td>NaN</td>\n",
       "    </tr>\n",
       "    <tr>\n",
       "      <th>5564</th>\n",
       "      <td>Hatsune Miku: Project Mirai DX</td>\n",
       "      <td>3DS</td>\n",
       "      <td>2015.0</td>\n",
       "      <td>Misc</td>\n",
       "      <td>0.16</td>\n",
       "      <td>0.04</td>\n",
       "      <td>0.10</td>\n",
       "      <td>0.02</td>\n",
       "      <td>80.0</td>\n",
       "      <td>8.5</td>\n",
       "      <td>E10+</td>\n",
       "    </tr>\n",
       "    <tr>\n",
       "      <th>7526</th>\n",
       "      <td>Thrillville</td>\n",
       "      <td>PSP</td>\n",
       "      <td>2006.0</td>\n",
       "      <td>Strategy</td>\n",
       "      <td>0.18</td>\n",
       "      <td>0.00</td>\n",
       "      <td>0.00</td>\n",
       "      <td>0.02</td>\n",
       "      <td>72.0</td>\n",
       "      <td>2.8</td>\n",
       "      <td>E10+</td>\n",
       "    </tr>\n",
       "    <tr>\n",
       "      <th>537</th>\n",
       "      <td>Skylanders: Spyro's Adventure</td>\n",
       "      <td>Wii</td>\n",
       "      <td>2011.0</td>\n",
       "      <td>Action</td>\n",
       "      <td>1.35</td>\n",
       "      <td>1.13</td>\n",
       "      <td>0.00</td>\n",
       "      <td>0.30</td>\n",
       "      <td>81.0</td>\n",
       "      <td>5.6</td>\n",
       "      <td>E10+</td>\n",
       "    </tr>\n",
       "    <tr>\n",
       "      <th>6288</th>\n",
       "      <td>Hot Wheels: Track Attack</td>\n",
       "      <td>DS</td>\n",
       "      <td>2010.0</td>\n",
       "      <td>Racing</td>\n",
       "      <td>0.17</td>\n",
       "      <td>0.08</td>\n",
       "      <td>0.00</td>\n",
       "      <td>0.02</td>\n",
       "      <td>NaN</td>\n",
       "      <td>tbd</td>\n",
       "      <td>E</td>\n",
       "    </tr>\n",
       "    <tr>\n",
       "      <th>7059</th>\n",
       "      <td>Hot Wheels: Beat That!</td>\n",
       "      <td>DS</td>\n",
       "      <td>2007.0</td>\n",
       "      <td>Racing</td>\n",
       "      <td>0.21</td>\n",
       "      <td>0.00</td>\n",
       "      <td>0.00</td>\n",
       "      <td>0.02</td>\n",
       "      <td>NaN</td>\n",
       "      <td>tbd</td>\n",
       "      <td>E</td>\n",
       "    </tr>\n",
       "  </tbody>\n",
       "</table>\n",
       "</div>"
      ],
      "text/plain": [
       "                                     Name Platform  Year_of_Release  \\\n",
       "12439                  Zumba Fitness Core      Wii           2012.0   \n",
       "8451                       ZhuZhu Puppies       DS           2011.0   \n",
       "5881                                Jonas       DS           2009.0   \n",
       "6472              Final Fantasy V Advance      GBA           2006.0   \n",
       "5802   Shrek's Carnival Craze Party Games      Wii           2008.0   \n",
       "5564       Hatsune Miku: Project Mirai DX      3DS           2015.0   \n",
       "7526                          Thrillville      PSP           2006.0   \n",
       "537         Skylanders: Spyro's Adventure      Wii           2011.0   \n",
       "6288             Hot Wheels: Track Attack       DS           2010.0   \n",
       "7059               Hot Wheels: Beat That!       DS           2007.0   \n",
       "\n",
       "              Genre  NA_sales  EU_sales  JP_sales  Other_sales  Critic_Score  \\\n",
       "12439          Misc      0.00      0.06      0.00         0.01           NaN   \n",
       "8451     Simulation      0.12      0.03      0.00         0.01           NaN   \n",
       "5881      Adventure      0.27      0.00      0.00         0.02          45.0   \n",
       "6472   Role-Playing      0.00      0.00      0.26         0.01          83.0   \n",
       "5802           Misc      0.28      0.00      0.00         0.02           NaN   \n",
       "5564           Misc      0.16      0.04      0.10         0.02          80.0   \n",
       "7526       Strategy      0.18      0.00      0.00         0.02          72.0   \n",
       "537          Action      1.35      1.13      0.00         0.30          81.0   \n",
       "6288         Racing      0.17      0.08      0.00         0.02           NaN   \n",
       "7059         Racing      0.21      0.00      0.00         0.02           NaN   \n",
       "\n",
       "      User_Score Rating  \n",
       "12439        tbd   E10+  \n",
       "8451         tbd      E  \n",
       "5881         tbd      E  \n",
       "6472         7.2      E  \n",
       "5802         NaN    NaN  \n",
       "5564         8.5   E10+  \n",
       "7526         2.8   E10+  \n",
       "537          5.6   E10+  \n",
       "6288         tbd      E  \n",
       "7059         tbd      E  "
      ]
     },
     "execution_count": 5,
     "metadata": {},
     "output_type": "execute_result"
    }
   ],
   "source": [
    "# Melihat sampel data\n",
    "\n",
    "df.sample(10)"
   ]
  },
  {
   "cell_type": "markdown",
   "metadata": {},
   "source": [
    "## Kesimpulan Umum Pra-pemrosesan data\n",
    "\n",
    "berdasarkan dari hasil gambaran umum, dataset memiliki masalah diantaranya:\n",
    "\n",
    "**Permasalahan dataset:**\n",
    "- Nama kolom tidak menggunakan huruf kecil\n",
    "- Tipe data `year_of_release` adalah float64, bukan Int64\n",
    "- Ada nilai yang hilang di `year_of_release` yang akan menimbulkan masalah dalam analisis lebih lanjut\n",
    "- Ada nilai tbd dalam `user_score`\n",
    "- tipe data `user_score` adalah object, bukan float64\n",
    "- Tidak ada kolom yang menunjukkan nilai total penjualan dari semua wilayah\n",
    "- Ada nilai yang hilang pada kolom `Critic_Score`, `User_Score`, dan `Rating`\n",
    "\n",
    "\n",
    "**Penanganan dataset:**\n",
    "\n",
    "- Nama kolom akan dirubah menggunakan huruf kecil \n",
    "- Tipe data `year_of_release` akan dibuat menjadi Int64\n",
    "- nilai yang hilang di `year_of_release` yang akan dihapus dan data sebelum tahun 2000 perlu dihapus karena dianggap tidak relevan lagi.\n",
    "- nilai tbd dalam `user_score` akan dirubah menjadi NaN\n",
    "- merubah tipe data `user_score` menjadi float64 dan menjadikan skala 0-100 agar sama dengan `critic_score`\n",
    "- membuat kolom yang menunjukkan nilai total penjualan dari semua wilayah\n",
    "- nilai yang hilang pada kolom `Critic_Score`, `User_Score`, dan `Rating` akan dibiarkan kosong. Dikhawatirkan mengganti nilai yang hilang dengan median atau rata-rata akan mengakibatkan kesalahan analisis"
   ]
  },
  {
   "cell_type": "markdown",
   "metadata": {},
   "source": [
    "# Data Preparation\n",
    "\n",
    "Setalah melalukan Pra-pemrosesan data dan mendapatkan insight tentang data yang harus dilakukan, pada proses data preparation ini data akan disiapkan untuk dilakukan analisa lebih lanjut"
   ]
  },
  {
   "cell_type": "code",
   "execution_count": 6,
   "metadata": {},
   "outputs": [],
   "source": [
    "# merubah nama kolom menjadi huruf kecil\n",
    "\n",
    "df.columns = df.columns.str.lower()"
   ]
  },
  {
   "cell_type": "code",
   "execution_count": 7,
   "metadata": {},
   "outputs": [],
   "source": [
    "# merubah tipe data year_of_release menjadi int\n",
    "\n",
    "df['year_of_release'] = df['year_of_release'].astype('Int64')"
   ]
  },
  {
   "cell_type": "code",
   "execution_count": 8,
   "metadata": {},
   "outputs": [],
   "source": [
    "# menghapus missing value year_of_release dan menghapus data year_of_release < 2000\n",
    "\n",
    "df = df.loc[(df['year_of_release'] != None) & (df['year_of_release'] >= 2000)].reset_index(drop=True)"
   ]
  },
  {
   "cell_type": "code",
   "execution_count": 9,
   "metadata": {},
   "outputs": [],
   "source": [
    "# mengganti nilai tbd menjadi NaN pada kolom user_score \n",
    "\n",
    "df.loc[df['user_score'] == 'tbd', 'user_score'] = None"
   ]
  },
  {
   "cell_type": "code",
   "execution_count": 10,
   "metadata": {},
   "outputs": [],
   "source": [
    "# merubah tipe data user_score menjadi float\n",
    "\n",
    "df['user_score'] = df['user_score'].astype('float64')"
   ]
  },
  {
   "cell_type": "code",
   "execution_count": 11,
   "metadata": {},
   "outputs": [],
   "source": [
    "# membuat kolom baru total_sales\n",
    "\n",
    "df['total_sales'] = df['na_sales'] + df['eu_sales'] + df['jp_sales'] + df['other_sales']"
   ]
  },
  {
   "cell_type": "code",
   "execution_count": 12,
   "metadata": {},
   "outputs": [
    {
     "name": "stdout",
     "output_type": "stream",
     "text": [
      "<class 'pandas.core.frame.DataFrame'>\n",
      "RangeIndex: 14470 entries, 0 to 14469\n",
      "Data columns (total 12 columns):\n",
      " #   Column           Non-Null Count  Dtype  \n",
      "---  ------           --------------  -----  \n",
      " 0   name             14470 non-null  object \n",
      " 1   platform         14470 non-null  object \n",
      " 2   year_of_release  14470 non-null  Int64  \n",
      " 3   genre            14470 non-null  object \n",
      " 4   na_sales         14470 non-null  float64\n",
      " 5   eu_sales         14470 non-null  float64\n",
      " 6   jp_sales         14470 non-null  float64\n",
      " 7   other_sales      14470 non-null  float64\n",
      " 8   critic_score     7887 non-null   float64\n",
      " 9   user_score       7371 non-null   float64\n",
      " 10  rating           9663 non-null   object \n",
      " 11  total_sales      14470 non-null  float64\n",
      "dtypes: Int64(1), float64(7), object(4)\n",
      "memory usage: 1.3+ MB\n"
     ]
    },
    {
     "data": {
      "text/html": [
       "<div>\n",
       "<style scoped>\n",
       "    .dataframe tbody tr th:only-of-type {\n",
       "        vertical-align: middle;\n",
       "    }\n",
       "\n",
       "    .dataframe tbody tr th {\n",
       "        vertical-align: top;\n",
       "    }\n",
       "\n",
       "    .dataframe thead th {\n",
       "        text-align: right;\n",
       "    }\n",
       "</style>\n",
       "<table border=\"1\" class=\"dataframe\">\n",
       "  <thead>\n",
       "    <tr style=\"text-align: right;\">\n",
       "      <th></th>\n",
       "      <th>name</th>\n",
       "      <th>platform</th>\n",
       "      <th>year_of_release</th>\n",
       "      <th>genre</th>\n",
       "      <th>na_sales</th>\n",
       "      <th>eu_sales</th>\n",
       "      <th>jp_sales</th>\n",
       "      <th>other_sales</th>\n",
       "      <th>critic_score</th>\n",
       "      <th>user_score</th>\n",
       "      <th>rating</th>\n",
       "      <th>total_sales</th>\n",
       "    </tr>\n",
       "  </thead>\n",
       "  <tbody>\n",
       "    <tr>\n",
       "      <th>0</th>\n",
       "      <td>Wii Sports</td>\n",
       "      <td>Wii</td>\n",
       "      <td>2006</td>\n",
       "      <td>Sports</td>\n",
       "      <td>41.36</td>\n",
       "      <td>28.96</td>\n",
       "      <td>3.77</td>\n",
       "      <td>8.45</td>\n",
       "      <td>76.0</td>\n",
       "      <td>8.0</td>\n",
       "      <td>E</td>\n",
       "      <td>82.54</td>\n",
       "    </tr>\n",
       "    <tr>\n",
       "      <th>1</th>\n",
       "      <td>Mario Kart Wii</td>\n",
       "      <td>Wii</td>\n",
       "      <td>2008</td>\n",
       "      <td>Racing</td>\n",
       "      <td>15.68</td>\n",
       "      <td>12.76</td>\n",
       "      <td>3.79</td>\n",
       "      <td>3.29</td>\n",
       "      <td>82.0</td>\n",
       "      <td>8.3</td>\n",
       "      <td>E</td>\n",
       "      <td>35.52</td>\n",
       "    </tr>\n",
       "    <tr>\n",
       "      <th>2</th>\n",
       "      <td>Wii Sports Resort</td>\n",
       "      <td>Wii</td>\n",
       "      <td>2009</td>\n",
       "      <td>Sports</td>\n",
       "      <td>15.61</td>\n",
       "      <td>10.93</td>\n",
       "      <td>3.28</td>\n",
       "      <td>2.95</td>\n",
       "      <td>80.0</td>\n",
       "      <td>8.0</td>\n",
       "      <td>E</td>\n",
       "      <td>32.77</td>\n",
       "    </tr>\n",
       "    <tr>\n",
       "      <th>3</th>\n",
       "      <td>New Super Mario Bros.</td>\n",
       "      <td>DS</td>\n",
       "      <td>2006</td>\n",
       "      <td>Platform</td>\n",
       "      <td>11.28</td>\n",
       "      <td>9.14</td>\n",
       "      <td>6.50</td>\n",
       "      <td>2.88</td>\n",
       "      <td>89.0</td>\n",
       "      <td>8.5</td>\n",
       "      <td>E</td>\n",
       "      <td>29.80</td>\n",
       "    </tr>\n",
       "    <tr>\n",
       "      <th>4</th>\n",
       "      <td>Wii Play</td>\n",
       "      <td>Wii</td>\n",
       "      <td>2006</td>\n",
       "      <td>Misc</td>\n",
       "      <td>13.96</td>\n",
       "      <td>9.18</td>\n",
       "      <td>2.93</td>\n",
       "      <td>2.84</td>\n",
       "      <td>58.0</td>\n",
       "      <td>6.6</td>\n",
       "      <td>E</td>\n",
       "      <td>28.91</td>\n",
       "    </tr>\n",
       "  </tbody>\n",
       "</table>\n",
       "</div>"
      ],
      "text/plain": [
       "                    name platform  year_of_release     genre  na_sales  \\\n",
       "0             Wii Sports      Wii             2006    Sports     41.36   \n",
       "1         Mario Kart Wii      Wii             2008    Racing     15.68   \n",
       "2      Wii Sports Resort      Wii             2009    Sports     15.61   \n",
       "3  New Super Mario Bros.       DS             2006  Platform     11.28   \n",
       "4               Wii Play      Wii             2006      Misc     13.96   \n",
       "\n",
       "   eu_sales  jp_sales  other_sales  critic_score  user_score rating  \\\n",
       "0     28.96      3.77         8.45          76.0         8.0      E   \n",
       "1     12.76      3.79         3.29          82.0         8.3      E   \n",
       "2     10.93      3.28         2.95          80.0         8.0      E   \n",
       "3      9.14      6.50         2.88          89.0         8.5      E   \n",
       "4      9.18      2.93         2.84          58.0         6.6      E   \n",
       "\n",
       "   total_sales  \n",
       "0        82.54  \n",
       "1        35.52  \n",
       "2        32.77  \n",
       "3        29.80  \n",
       "4        28.91  "
      ]
     },
     "execution_count": 12,
     "metadata": {},
     "output_type": "execute_result"
    }
   ],
   "source": [
    "# Melihat gambaran umum data\n",
    "df.info()\n",
    "df.head()"
   ]
  },
  {
   "cell_type": "markdown",
   "metadata": {},
   "source": [
    "## Kesimpulan data preparation\n",
    "\n",
    "hasil dari data preparation yang nantinya akan dilakukan anailsa data, oleh karena itu data data yang dibetulkan adalah memuat periode waktu pengambilan data diatas tahun 2000 yang akan dilakukan anlisa kedepannya, menambakan kolom total_sales untuk keperluan analisa, merubah tipe data dari tipe data yang kurang tepat"
   ]
  },
  {
   "cell_type": "markdown",
   "metadata": {},
   "source": [
    "# Data Analyst\n",
    "\n",
    "tahapan ini akan melakukan analisa data terhadap pola-pola pada penjualan, periode waktu pengambilan data untuk analisa, mengetahui kolerasi antara ulasan dan penjualan, membandingkan game yang sama pada setiap platform melihat distribusi game berdasarkan genre"
   ]
  },
  {
   "cell_type": "markdown",
   "metadata": {},
   "source": [
    "## Game yang Diluncurkan pada Tahun yang Berbeda"
   ]
  },
  {
   "cell_type": "code",
   "execution_count": 13,
   "metadata": {},
   "outputs": [
    {
     "data": {
      "image/png": "[encoded data removed]",
      "text/plain": [
       "<Figure size 1080x720 with 1 Axes>"
      ]
     },
     "metadata": {
      "needs_background": "light"
     },
     "output_type": "display_data"
    }
   ],
   "source": [
    "# visualisasi berapa banyak game yang diluncurkan pada tahun yang berbeda\n",
    "\n",
    "# membuat digram batang\n",
    "plt.figure(figsize=(15,10))\n",
    "a = sns.countplot(x=df['year_of_release'], palette='flare')\n",
    "\n",
    "# menampilkan label pada diagram batang\n",
    "for g in a.patches:\n",
    "    a.annotate(format(g.get_height(), '.1f'),\n",
    "                   (g.get_x() + g.get_width() / 2., g.get_height()),\n",
    "                   ha = 'center', va = 'center', \n",
    "                   xytext = (0, 10), rotation=0, \n",
    "                   textcoords = 'offset points')\n",
    "\n",
    "# memberikan penamaan label pada diagram\n",
    "plt.title('Game yang Diluncurkan pada Tahun yang Berbeda',fontsize=15)\n",
    "plt.xlabel('Tahun rilis')\n",
    "plt.ylabel('Jumlah Games')\n",
    "plt.show()"
   ]
  },
  {
   "cell_type": "markdown",
   "metadata": {},
   "source": [
    "**Kesimpulan sementara**\n",
    "\n",
    "dapat dilihat berdasarkan visualisasi bahwa jumlah perilisan game tertinggi terjadi pada tahun 2008-2009, merupakan puncak tahun perilisan sebuah game. namum, setelah itu mulai terjadi penurunan terhadap perilisan games"
   ]
  },
  {
   "cell_type": "markdown",
   "metadata": {},
   "source": [
    "## Bagaimana Penjualan Bervariasi dari Satu Platform ke Platform Lainnya\n",
    "\n",
    "pada tahap ini akan dilakukan analisa penjualan bervariasi dari satu platform ke platform lainnya. memilih platform dengan total penjualan terbesar dan buat distribusinya berdasarkan data per tahun. Cari platform yang dahulu populer, tetapi sekarang tidak memiliki penjualan apa pun"
   ]
  },
  {
   "cell_type": "markdown",
   "metadata": {},
   "source": [
    "**Variasi penjualan dari satu platform ke platform lainnya**"
   ]
  },
  {
   "cell_type": "code",
   "execution_count": 14,
   "metadata": {},
   "outputs": [
    {
     "data": {
      "image/png": "[encoded data removed]",
      "text/plain": [
       "<Figure size 1080x720 with 1 Axes>"
      ]
     },
     "metadata": {
      "needs_background": "light"
     },
     "output_type": "display_data"
    }
   ],
   "source": [
    "# melakukan pengelompokan penjumlahan platfrom dan total_sales\n",
    "total_sales_platform = df.groupby('platform')['total_sales'].agg('sum').reset_index().sort_values('total_sales', ascending=False)\n",
    "\n",
    "# membuat diagram batang\n",
    "plt.figure(figsize=(15, 10))\n",
    "a = sns.barplot(data=total_sales_platform, x='platform', y='total_sales', palette='flare')\n",
    "\n",
    "# menampilkan label pada diagram batang\n",
    "for g in a.patches:\n",
    "    a.annotate(format(g.get_height(), '.1f'),\n",
    "                   (g.get_x() + g.get_width() / 2., g.get_height()),\n",
    "                   ha = 'center', va = 'center', \n",
    "                   xytext = (0, 10), rotation=0, \n",
    "                   textcoords = 'offset points')\n",
    "\n",
    "plt.title('Variasi penjualan games antar platform');"
   ]
  },
  {
   "cell_type": "markdown",
   "metadata": {},
   "source": [
    "**Kesimpulan Sementara**\n",
    "\n",
    "platform PS2 memiliki angka penjualan sebanyak 1.233 juta USD dari tahun 2000-2016 merupakan angka penjualan tertinggi jika dibandingkan dengan platform game yang lainnya"
   ]
  },
  {
   "cell_type": "markdown",
   "metadata": {},
   "source": [
    "**Platform dengan total penjualan terbesar dan membuat distribusi penjualan**"
   ]
  },
  {
   "cell_type": "code",
   "execution_count": 15,
   "metadata": {},
   "outputs": [
    {
     "data": {
      "image/png": "[encoded data removed]",
      "text/plain": [
       "<Figure size 1080x720 with 1 Axes>"
      ]
     },
     "metadata": {
      "needs_background": "light"
     },
     "output_type": "display_data"
    }
   ],
   "source": [
    "# mengambil data PS2 karena memiliki penjualan tertinggi\n",
    "ps2 = df[df['platform'] == 'PS2']\n",
    "\n",
    "# membuat diagram batang\n",
    "plt.figure(figsize=(15,10))\n",
    "data_ps2 = sns.barplot(data=ps2,x='year_of_release',y='total_sales', estimator=sum, ci=None, palette='flare')\n",
    "\n",
    "# membuat label diagram batang\n",
    "for g in data_ps2.patches:\n",
    "    data_ps2.annotate(format(g.get_height(), '.1f'),\n",
    "                   (g.get_x() + g.get_width() / 2., g.get_height()),\n",
    "                   ha = 'center', va = 'center', \n",
    "                   xytext = (0, 10), rotation=0, \n",
    "                   textcoords = 'offset points')\n",
    "    \n",
    "plt.title('Distribusi Penjualan game di platform PS2 setiap tahunnya');\n",
    "plt.xlabel('Tahun')\n",
    "plt.ylabel('Total Penjualan (US$ Juta)')\n",
    "plt.show()"
   ]
  },
  {
   "cell_type": "markdown",
   "metadata": {},
   "source": [
    "**Kesimpulan Sementara**\n",
    "\n",
    "distribusi penjualan games PS2 memiliki angka tertinggi pada tahun 2004, kemudian penjualan perlahan mulai menurun, banyak faktor yang mengakibatkan penurunan penjualan ini, kemungkinan karena adanya platform PS3 yang lebih canggih"
   ]
  },
  {
   "cell_type": "markdown",
   "metadata": {},
   "source": [
    "**Platform yang dulunya populer tetapi sekarang tidak memiliki penjualan apa pun**"
   ]
  },
  {
   "cell_type": "code",
   "execution_count": 16,
   "metadata": {},
   "outputs": [
    {
     "data": {
      "text/html": [
       "<div>\n",
       "<style scoped>\n",
       "    .dataframe tbody tr th:only-of-type {\n",
       "        vertical-align: middle;\n",
       "    }\n",
       "\n",
       "    .dataframe tbody tr th {\n",
       "        vertical-align: top;\n",
       "    }\n",
       "\n",
       "    .dataframe thead th {\n",
       "        text-align: right;\n",
       "    }\n",
       "</style>\n",
       "<table border=\"1\" class=\"dataframe\">\n",
       "  <thead>\n",
       "    <tr style=\"text-align: right;\">\n",
       "      <th>platform</th>\n",
       "      <th>3DS</th>\n",
       "      <th>DC</th>\n",
       "      <th>DS</th>\n",
       "      <th>GB</th>\n",
       "      <th>GBA</th>\n",
       "      <th>GC</th>\n",
       "      <th>N64</th>\n",
       "      <th>PC</th>\n",
       "      <th>PS</th>\n",
       "      <th>PS2</th>\n",
       "      <th>PS3</th>\n",
       "      <th>PS4</th>\n",
       "      <th>PSP</th>\n",
       "      <th>PSV</th>\n",
       "      <th>WS</th>\n",
       "      <th>Wii</th>\n",
       "      <th>WiiU</th>\n",
       "      <th>X360</th>\n",
       "      <th>XB</th>\n",
       "      <th>XOne</th>\n",
       "    </tr>\n",
       "    <tr>\n",
       "      <th>year_of_release</th>\n",
       "      <th></th>\n",
       "      <th></th>\n",
       "      <th></th>\n",
       "      <th></th>\n",
       "      <th></th>\n",
       "      <th></th>\n",
       "      <th></th>\n",
       "      <th></th>\n",
       "      <th></th>\n",
       "      <th></th>\n",
       "      <th></th>\n",
       "      <th></th>\n",
       "      <th></th>\n",
       "      <th></th>\n",
       "      <th></th>\n",
       "      <th></th>\n",
       "      <th></th>\n",
       "      <th></th>\n",
       "      <th></th>\n",
       "      <th></th>\n",
       "    </tr>\n",
       "  </thead>\n",
       "  <tbody>\n",
       "    <tr>\n",
       "      <th>2000</th>\n",
       "      <td>0.00</td>\n",
       "      <td>5.99</td>\n",
       "      <td>0.00</td>\n",
       "      <td>19.76</td>\n",
       "      <td>0.07</td>\n",
       "      <td>0.00</td>\n",
       "      <td>33.97</td>\n",
       "      <td>4.66</td>\n",
       "      <td>96.37</td>\n",
       "      <td>39.17</td>\n",
       "      <td>0.00</td>\n",
       "      <td>0.00</td>\n",
       "      <td>0.00</td>\n",
       "      <td>0.00</td>\n",
       "      <td>0.68</td>\n",
       "      <td>0.00</td>\n",
       "      <td>0.00</td>\n",
       "      <td>0.00</td>\n",
       "      <td>0.99</td>\n",
       "      <td>0.00</td>\n",
       "    </tr>\n",
       "    <tr>\n",
       "      <th>2001</th>\n",
       "      <td>0.00</td>\n",
       "      <td>1.07</td>\n",
       "      <td>0.00</td>\n",
       "      <td>9.24</td>\n",
       "      <td>61.53</td>\n",
       "      <td>26.34</td>\n",
       "      <td>3.25</td>\n",
       "      <td>5.47</td>\n",
       "      <td>35.59</td>\n",
       "      <td>166.43</td>\n",
       "      <td>0.00</td>\n",
       "      <td>0.00</td>\n",
       "      <td>0.00</td>\n",
       "      <td>0.00</td>\n",
       "      <td>0.28</td>\n",
       "      <td>0.00</td>\n",
       "      <td>0.00</td>\n",
       "      <td>0.00</td>\n",
       "      <td>22.26</td>\n",
       "      <td>0.00</td>\n",
       "    </tr>\n",
       "    <tr>\n",
       "      <th>2002</th>\n",
       "      <td>0.00</td>\n",
       "      <td>0.29</td>\n",
       "      <td>0.00</td>\n",
       "      <td>0.00</td>\n",
       "      <td>74.16</td>\n",
       "      <td>51.81</td>\n",
       "      <td>0.08</td>\n",
       "      <td>8.57</td>\n",
       "      <td>6.67</td>\n",
       "      <td>205.38</td>\n",
       "      <td>0.00</td>\n",
       "      <td>0.00</td>\n",
       "      <td>0.00</td>\n",
       "      <td>0.00</td>\n",
       "      <td>0.00</td>\n",
       "      <td>0.00</td>\n",
       "      <td>0.00</td>\n",
       "      <td>0.00</td>\n",
       "      <td>48.01</td>\n",
       "      <td>0.00</td>\n",
       "    </tr>\n",
       "    <tr>\n",
       "      <th>2003</th>\n",
       "      <td>0.00</td>\n",
       "      <td>0.00</td>\n",
       "      <td>0.00</td>\n",
       "      <td>0.00</td>\n",
       "      <td>56.67</td>\n",
       "      <td>50.61</td>\n",
       "      <td>0.00</td>\n",
       "      <td>8.84</td>\n",
       "      <td>2.07</td>\n",
       "      <td>184.31</td>\n",
       "      <td>0.00</td>\n",
       "      <td>0.00</td>\n",
       "      <td>0.00</td>\n",
       "      <td>0.00</td>\n",
       "      <td>0.00</td>\n",
       "      <td>0.00</td>\n",
       "      <td>0.00</td>\n",
       "      <td>0.00</td>\n",
       "      <td>55.04</td>\n",
       "      <td>0.00</td>\n",
       "    </tr>\n",
       "    <tr>\n",
       "      <th>2004</th>\n",
       "      <td>0.00</td>\n",
       "      <td>0.00</td>\n",
       "      <td>17.27</td>\n",
       "      <td>0.00</td>\n",
       "      <td>77.91</td>\n",
       "      <td>28.82</td>\n",
       "      <td>0.00</td>\n",
       "      <td>10.39</td>\n",
       "      <td>0.00</td>\n",
       "      <td>211.81</td>\n",
       "      <td>0.00</td>\n",
       "      <td>0.00</td>\n",
       "      <td>7.06</td>\n",
       "      <td>0.00</td>\n",
       "      <td>0.00</td>\n",
       "      <td>0.00</td>\n",
       "      <td>0.00</td>\n",
       "      <td>0.00</td>\n",
       "      <td>65.42</td>\n",
       "      <td>0.00</td>\n",
       "    </tr>\n",
       "    <tr>\n",
       "      <th>2005</th>\n",
       "      <td>0.00</td>\n",
       "      <td>0.00</td>\n",
       "      <td>130.14</td>\n",
       "      <td>0.00</td>\n",
       "      <td>33.86</td>\n",
       "      <td>27.62</td>\n",
       "      <td>0.00</td>\n",
       "      <td>4.37</td>\n",
       "      <td>0.00</td>\n",
       "      <td>160.66</td>\n",
       "      <td>0.00</td>\n",
       "      <td>0.00</td>\n",
       "      <td>43.84</td>\n",
       "      <td>0.00</td>\n",
       "      <td>0.00</td>\n",
       "      <td>0.00</td>\n",
       "      <td>0.00</td>\n",
       "      <td>8.25</td>\n",
       "      <td>49.08</td>\n",
       "      <td>0.00</td>\n",
       "    </tr>\n",
       "    <tr>\n",
       "      <th>2006</th>\n",
       "      <td>0.00</td>\n",
       "      <td>0.00</td>\n",
       "      <td>119.81</td>\n",
       "      <td>0.00</td>\n",
       "      <td>5.28</td>\n",
       "      <td>11.26</td>\n",
       "      <td>0.00</td>\n",
       "      <td>2.85</td>\n",
       "      <td>0.00</td>\n",
       "      <td>103.42</td>\n",
       "      <td>20.96</td>\n",
       "      <td>0.00</td>\n",
       "      <td>55.32</td>\n",
       "      <td>0.00</td>\n",
       "      <td>0.00</td>\n",
       "      <td>137.15</td>\n",
       "      <td>0.00</td>\n",
       "      <td>51.62</td>\n",
       "      <td>10.04</td>\n",
       "      <td>0.00</td>\n",
       "    </tr>\n",
       "    <tr>\n",
       "      <th>2007</th>\n",
       "      <td>0.00</td>\n",
       "      <td>0.02</td>\n",
       "      <td>146.94</td>\n",
       "      <td>0.00</td>\n",
       "      <td>3.40</td>\n",
       "      <td>0.27</td>\n",
       "      <td>0.00</td>\n",
       "      <td>9.28</td>\n",
       "      <td>0.00</td>\n",
       "      <td>75.99</td>\n",
       "      <td>73.19</td>\n",
       "      <td>0.00</td>\n",
       "      <td>46.93</td>\n",
       "      <td>0.00</td>\n",
       "      <td>0.00</td>\n",
       "      <td>152.77</td>\n",
       "      <td>0.00</td>\n",
       "      <td>95.41</td>\n",
       "      <td>0.55</td>\n",
       "      <td>0.00</td>\n",
       "    </tr>\n",
       "    <tr>\n",
       "      <th>2008</th>\n",
       "      <td>0.00</td>\n",
       "      <td>0.04</td>\n",
       "      <td>145.31</td>\n",
       "      <td>0.00</td>\n",
       "      <td>0.00</td>\n",
       "      <td>0.00</td>\n",
       "      <td>0.00</td>\n",
       "      <td>12.42</td>\n",
       "      <td>0.00</td>\n",
       "      <td>53.90</td>\n",
       "      <td>118.52</td>\n",
       "      <td>0.00</td>\n",
       "      <td>34.55</td>\n",
       "      <td>0.00</td>\n",
       "      <td>0.00</td>\n",
       "      <td>171.32</td>\n",
       "      <td>0.00</td>\n",
       "      <td>135.26</td>\n",
       "      <td>0.18</td>\n",
       "      <td>0.00</td>\n",
       "    </tr>\n",
       "    <tr>\n",
       "      <th>2009</th>\n",
       "      <td>0.00</td>\n",
       "      <td>0.00</td>\n",
       "      <td>119.54</td>\n",
       "      <td>0.00</td>\n",
       "      <td>0.00</td>\n",
       "      <td>0.00</td>\n",
       "      <td>0.00</td>\n",
       "      <td>16.91</td>\n",
       "      <td>0.00</td>\n",
       "      <td>26.40</td>\n",
       "      <td>130.93</td>\n",
       "      <td>0.00</td>\n",
       "      <td>37.78</td>\n",
       "      <td>0.00</td>\n",
       "      <td>0.00</td>\n",
       "      <td>206.97</td>\n",
       "      <td>0.00</td>\n",
       "      <td>120.29</td>\n",
       "      <td>0.00</td>\n",
       "      <td>0.00</td>\n",
       "    </tr>\n",
       "    <tr>\n",
       "      <th>2010</th>\n",
       "      <td>0.00</td>\n",
       "      <td>0.00</td>\n",
       "      <td>85.02</td>\n",
       "      <td>0.00</td>\n",
       "      <td>0.00</td>\n",
       "      <td>0.00</td>\n",
       "      <td>0.00</td>\n",
       "      <td>24.28</td>\n",
       "      <td>0.00</td>\n",
       "      <td>5.64</td>\n",
       "      <td>142.17</td>\n",
       "      <td>0.00</td>\n",
       "      <td>35.04</td>\n",
       "      <td>0.00</td>\n",
       "      <td>0.00</td>\n",
       "      <td>127.95</td>\n",
       "      <td>0.00</td>\n",
       "      <td>170.03</td>\n",
       "      <td>0.00</td>\n",
       "      <td>0.00</td>\n",
       "    </tr>\n",
       "    <tr>\n",
       "      <th>2011</th>\n",
       "      <td>63.20</td>\n",
       "      <td>0.00</td>\n",
       "      <td>26.18</td>\n",
       "      <td>0.00</td>\n",
       "      <td>0.00</td>\n",
       "      <td>0.00</td>\n",
       "      <td>0.00</td>\n",
       "      <td>35.03</td>\n",
       "      <td>0.00</td>\n",
       "      <td>0.45</td>\n",
       "      <td>156.78</td>\n",
       "      <td>0.00</td>\n",
       "      <td>17.82</td>\n",
       "      <td>4.63</td>\n",
       "      <td>0.00</td>\n",
       "      <td>59.65</td>\n",
       "      <td>0.00</td>\n",
       "      <td>143.84</td>\n",
       "      <td>0.00</td>\n",
       "      <td>0.00</td>\n",
       "    </tr>\n",
       "    <tr>\n",
       "      <th>2012</th>\n",
       "      <td>51.36</td>\n",
       "      <td>0.00</td>\n",
       "      <td>11.01</td>\n",
       "      <td>0.00</td>\n",
       "      <td>0.00</td>\n",
       "      <td>0.00</td>\n",
       "      <td>0.00</td>\n",
       "      <td>23.22</td>\n",
       "      <td>0.00</td>\n",
       "      <td>0.00</td>\n",
       "      <td>107.36</td>\n",
       "      <td>0.00</td>\n",
       "      <td>7.69</td>\n",
       "      <td>16.19</td>\n",
       "      <td>0.00</td>\n",
       "      <td>21.71</td>\n",
       "      <td>17.56</td>\n",
       "      <td>99.74</td>\n",
       "      <td>0.00</td>\n",
       "      <td>0.00</td>\n",
       "    </tr>\n",
       "    <tr>\n",
       "      <th>2013</th>\n",
       "      <td>56.57</td>\n",
       "      <td>0.00</td>\n",
       "      <td>1.54</td>\n",
       "      <td>0.00</td>\n",
       "      <td>0.00</td>\n",
       "      <td>0.00</td>\n",
       "      <td>0.00</td>\n",
       "      <td>12.38</td>\n",
       "      <td>0.00</td>\n",
       "      <td>0.00</td>\n",
       "      <td>113.25</td>\n",
       "      <td>25.99</td>\n",
       "      <td>3.14</td>\n",
       "      <td>10.59</td>\n",
       "      <td>0.00</td>\n",
       "      <td>8.59</td>\n",
       "      <td>21.65</td>\n",
       "      <td>88.58</td>\n",
       "      <td>0.00</td>\n",
       "      <td>18.96</td>\n",
       "    </tr>\n",
       "    <tr>\n",
       "      <th>2014</th>\n",
       "      <td>43.76</td>\n",
       "      <td>0.00</td>\n",
       "      <td>0.00</td>\n",
       "      <td>0.00</td>\n",
       "      <td>0.00</td>\n",
       "      <td>0.00</td>\n",
       "      <td>0.00</td>\n",
       "      <td>13.28</td>\n",
       "      <td>0.00</td>\n",
       "      <td>0.00</td>\n",
       "      <td>47.76</td>\n",
       "      <td>100.00</td>\n",
       "      <td>0.24</td>\n",
       "      <td>11.90</td>\n",
       "      <td>0.00</td>\n",
       "      <td>3.75</td>\n",
       "      <td>22.03</td>\n",
       "      <td>34.74</td>\n",
       "      <td>0.00</td>\n",
       "      <td>54.07</td>\n",
       "    </tr>\n",
       "    <tr>\n",
       "      <th>2015</th>\n",
       "      <td>27.78</td>\n",
       "      <td>0.00</td>\n",
       "      <td>0.00</td>\n",
       "      <td>0.00</td>\n",
       "      <td>0.00</td>\n",
       "      <td>0.00</td>\n",
       "      <td>0.00</td>\n",
       "      <td>8.52</td>\n",
       "      <td>0.00</td>\n",
       "      <td>0.00</td>\n",
       "      <td>16.82</td>\n",
       "      <td>118.90</td>\n",
       "      <td>0.12</td>\n",
       "      <td>6.25</td>\n",
       "      <td>0.00</td>\n",
       "      <td>1.14</td>\n",
       "      <td>16.35</td>\n",
       "      <td>11.96</td>\n",
       "      <td>0.00</td>\n",
       "      <td>60.14</td>\n",
       "    </tr>\n",
       "    <tr>\n",
       "      <th>2016</th>\n",
       "      <td>15.14</td>\n",
       "      <td>0.00</td>\n",
       "      <td>0.00</td>\n",
       "      <td>0.00</td>\n",
       "      <td>0.00</td>\n",
       "      <td>0.00</td>\n",
       "      <td>0.00</td>\n",
       "      <td>5.25</td>\n",
       "      <td>0.00</td>\n",
       "      <td>0.00</td>\n",
       "      <td>3.60</td>\n",
       "      <td>69.25</td>\n",
       "      <td>0.00</td>\n",
       "      <td>4.25</td>\n",
       "      <td>0.00</td>\n",
       "      <td>0.18</td>\n",
       "      <td>4.60</td>\n",
       "      <td>1.52</td>\n",
       "      <td>0.00</td>\n",
       "      <td>26.15</td>\n",
       "    </tr>\n",
       "  </tbody>\n",
       "</table>\n",
       "</div>"
      ],
      "text/plain": [
       "platform           3DS    DC      DS     GB    GBA     GC    N64     PC  \\\n",
       "year_of_release                                                           \n",
       "2000              0.00  5.99    0.00  19.76   0.07   0.00  33.97   4.66   \n",
       "2001              0.00  1.07    0.00   9.24  61.53  26.34   3.25   5.47   \n",
       "2002              0.00  0.29    0.00   0.00  74.16  51.81   0.08   8.57   \n",
       "2003              0.00  0.00    0.00   0.00  56.67  50.61   0.00   8.84   \n",
       "2004              0.00  0.00   17.27   0.00  77.91  28.82   0.00  10.39   \n",
       "2005              0.00  0.00  130.14   0.00  33.86  27.62   0.00   4.37   \n",
       "2006              0.00  0.00  119.81   0.00   5.28  11.26   0.00   2.85   \n",
       "2007              0.00  0.02  146.94   0.00   3.40   0.27   0.00   9.28   \n",
       "2008              0.00  0.04  145.31   0.00   0.00   0.00   0.00  12.42   \n",
       "2009              0.00  0.00  119.54   0.00   0.00   0.00   0.00  16.91   \n",
       "2010              0.00  0.00   85.02   0.00   0.00   0.00   0.00  24.28   \n",
       "2011             63.20  0.00   26.18   0.00   0.00   0.00   0.00  35.03   \n",
       "2012             51.36  0.00   11.01   0.00   0.00   0.00   0.00  23.22   \n",
       "2013             56.57  0.00    1.54   0.00   0.00   0.00   0.00  12.38   \n",
       "2014             43.76  0.00    0.00   0.00   0.00   0.00   0.00  13.28   \n",
       "2015             27.78  0.00    0.00   0.00   0.00   0.00   0.00   8.52   \n",
       "2016             15.14  0.00    0.00   0.00   0.00   0.00   0.00   5.25   \n",
       "\n",
       "platform            PS     PS2     PS3     PS4    PSP    PSV    WS     Wii  \\\n",
       "year_of_release                                                              \n",
       "2000             96.37   39.17    0.00    0.00   0.00   0.00  0.68    0.00   \n",
       "2001             35.59  166.43    0.00    0.00   0.00   0.00  0.28    0.00   \n",
       "2002              6.67  205.38    0.00    0.00   0.00   0.00  0.00    0.00   \n",
       "2003              2.07  184.31    0.00    0.00   0.00   0.00  0.00    0.00   \n",
       "2004              0.00  211.81    0.00    0.00   7.06   0.00  0.00    0.00   \n",
       "2005              0.00  160.66    0.00    0.00  43.84   0.00  0.00    0.00   \n",
       "2006              0.00  103.42   20.96    0.00  55.32   0.00  0.00  137.15   \n",
       "2007              0.00   75.99   73.19    0.00  46.93   0.00  0.00  152.77   \n",
       "2008              0.00   53.90  118.52    0.00  34.55   0.00  0.00  171.32   \n",
       "2009              0.00   26.40  130.93    0.00  37.78   0.00  0.00  206.97   \n",
       "2010              0.00    5.64  142.17    0.00  35.04   0.00  0.00  127.95   \n",
       "2011              0.00    0.45  156.78    0.00  17.82   4.63  0.00   59.65   \n",
       "2012              0.00    0.00  107.36    0.00   7.69  16.19  0.00   21.71   \n",
       "2013              0.00    0.00  113.25   25.99   3.14  10.59  0.00    8.59   \n",
       "2014              0.00    0.00   47.76  100.00   0.24  11.90  0.00    3.75   \n",
       "2015              0.00    0.00   16.82  118.90   0.12   6.25  0.00    1.14   \n",
       "2016              0.00    0.00    3.60   69.25   0.00   4.25  0.00    0.18   \n",
       "\n",
       "platform          WiiU    X360     XB   XOne  \n",
       "year_of_release                               \n",
       "2000              0.00    0.00   0.99   0.00  \n",
       "2001              0.00    0.00  22.26   0.00  \n",
       "2002              0.00    0.00  48.01   0.00  \n",
       "2003              0.00    0.00  55.04   0.00  \n",
       "2004              0.00    0.00  65.42   0.00  \n",
       "2005              0.00    8.25  49.08   0.00  \n",
       "2006              0.00   51.62  10.04   0.00  \n",
       "2007              0.00   95.41   0.55   0.00  \n",
       "2008              0.00  135.26   0.18   0.00  \n",
       "2009              0.00  120.29   0.00   0.00  \n",
       "2010              0.00  170.03   0.00   0.00  \n",
       "2011              0.00  143.84   0.00   0.00  \n",
       "2012             17.56   99.74   0.00   0.00  \n",
       "2013             21.65   88.58   0.00  18.96  \n",
       "2014             22.03   34.74   0.00  54.07  \n",
       "2015             16.35   11.96   0.00  60.14  \n",
       "2016              4.60    1.52   0.00  26.15  "
      ]
     },
     "execution_count": 16,
     "metadata": {},
     "output_type": "execute_result"
    }
   ],
   "source": [
    "# menjumlahkan jumlah popularitas untuk semua platform\n",
    "df_lifetime = pd.pivot_table(df, values='total_sales', index='year_of_release', columns='platform', aggfunc='sum', fill_value=0)\n",
    "df_lifetime"
   ]
  },
  {
   "cell_type": "code",
   "execution_count": 17,
   "metadata": {},
   "outputs": [
    {
     "name": "stdout",
     "output_type": "stream",
     "text": [
      "Platform-platform yang memiliki total penjualan 0 pada tahun 2016:\n",
      "['DC', 'DS', 'GB', 'GBA', 'GC', 'N64', 'PS', 'PS2', 'PSP', 'WS', 'XB']\n"
     ]
    }
   ],
   "source": [
    "# Menampilkan platform-platform yang memiliki total penjualan 0 pada tahun 2016\n",
    "platforms_with_zero_sales_2016 = df_lifetime.loc[2016][df_lifetime.loc[2016] == 0].index.tolist()\n",
    "\n",
    "print(\"Platform-platform yang memiliki total penjualan 0 pada tahun 2016:\")\n",
    "print(platforms_with_zero_sales_2016)"
   ]
  },
  {
   "cell_type": "code",
   "execution_count": 18,
   "metadata": {},
   "outputs": [
    {
     "data": {
      "text/html": [
       "<div>\n",
       "<style scoped>\n",
       "    .dataframe tbody tr th:only-of-type {\n",
       "        vertical-align: middle;\n",
       "    }\n",
       "\n",
       "    .dataframe tbody tr th {\n",
       "        vertical-align: top;\n",
       "    }\n",
       "\n",
       "    .dataframe thead th {\n",
       "        text-align: right;\n",
       "    }\n",
       "</style>\n",
       "<table border=\"1\" class=\"dataframe\">\n",
       "  <thead>\n",
       "    <tr style=\"text-align: right;\">\n",
       "      <th></th>\n",
       "      <th>name</th>\n",
       "      <th>platform</th>\n",
       "      <th>year_of_release</th>\n",
       "      <th>genre</th>\n",
       "      <th>na_sales</th>\n",
       "      <th>eu_sales</th>\n",
       "      <th>jp_sales</th>\n",
       "      <th>other_sales</th>\n",
       "      <th>critic_score</th>\n",
       "      <th>user_score</th>\n",
       "      <th>rating</th>\n",
       "      <th>total_sales</th>\n",
       "    </tr>\n",
       "  </thead>\n",
       "  <tbody>\n",
       "    <tr>\n",
       "      <th>3</th>\n",
       "      <td>New Super Mario Bros.</td>\n",
       "      <td>DS</td>\n",
       "      <td>2006</td>\n",
       "      <td>Platform</td>\n",
       "      <td>11.28</td>\n",
       "      <td>9.14</td>\n",
       "      <td>6.50</td>\n",
       "      <td>2.88</td>\n",
       "      <td>89.0</td>\n",
       "      <td>8.5</td>\n",
       "      <td>E</td>\n",
       "      <td>29.80</td>\n",
       "    </tr>\n",
       "    <tr>\n",
       "      <th>6</th>\n",
       "      <td>Nintendogs</td>\n",
       "      <td>DS</td>\n",
       "      <td>2005</td>\n",
       "      <td>Simulation</td>\n",
       "      <td>9.05</td>\n",
       "      <td>10.95</td>\n",
       "      <td>1.93</td>\n",
       "      <td>2.74</td>\n",
       "      <td>NaN</td>\n",
       "      <td>NaN</td>\n",
       "      <td>NaN</td>\n",
       "      <td>24.67</td>\n",
       "    </tr>\n",
       "    <tr>\n",
       "      <th>7</th>\n",
       "      <td>Mario Kart DS</td>\n",
       "      <td>DS</td>\n",
       "      <td>2005</td>\n",
       "      <td>Racing</td>\n",
       "      <td>9.71</td>\n",
       "      <td>7.47</td>\n",
       "      <td>4.13</td>\n",
       "      <td>1.90</td>\n",
       "      <td>91.0</td>\n",
       "      <td>8.6</td>\n",
       "      <td>E</td>\n",
       "      <td>23.21</td>\n",
       "    </tr>\n",
       "    <tr>\n",
       "      <th>12</th>\n",
       "      <td>Grand Theft Auto: San Andreas</td>\n",
       "      <td>PS2</td>\n",
       "      <td>2004</td>\n",
       "      <td>Action</td>\n",
       "      <td>9.43</td>\n",
       "      <td>0.40</td>\n",
       "      <td>0.41</td>\n",
       "      <td>10.57</td>\n",
       "      <td>95.0</td>\n",
       "      <td>9.0</td>\n",
       "      <td>M</td>\n",
       "      <td>20.81</td>\n",
       "    </tr>\n",
       "    <tr>\n",
       "      <th>13</th>\n",
       "      <td>Brain Age: Train Your Brain in Minutes a Day</td>\n",
       "      <td>DS</td>\n",
       "      <td>2005</td>\n",
       "      <td>Misc</td>\n",
       "      <td>4.74</td>\n",
       "      <td>9.20</td>\n",
       "      <td>4.16</td>\n",
       "      <td>2.04</td>\n",
       "      <td>77.0</td>\n",
       "      <td>7.9</td>\n",
       "      <td>E</td>\n",
       "      <td>20.14</td>\n",
       "    </tr>\n",
       "  </tbody>\n",
       "</table>\n",
       "</div>"
      ],
      "text/plain": [
       "                                            name platform  year_of_release  \\\n",
       "3                          New Super Mario Bros.       DS             2006   \n",
       "6                                     Nintendogs       DS             2005   \n",
       "7                                  Mario Kart DS       DS             2005   \n",
       "12                 Grand Theft Auto: San Andreas      PS2             2004   \n",
       "13  Brain Age: Train Your Brain in Minutes a Day       DS             2005   \n",
       "\n",
       "         genre  na_sales  eu_sales  jp_sales  other_sales  critic_score  \\\n",
       "3     Platform     11.28      9.14      6.50         2.88          89.0   \n",
       "6   Simulation      9.05     10.95      1.93         2.74           NaN   \n",
       "7       Racing      9.71      7.47      4.13         1.90          91.0   \n",
       "12      Action      9.43      0.40      0.41        10.57          95.0   \n",
       "13        Misc      4.74      9.20      4.16         2.04          77.0   \n",
       "\n",
       "    user_score rating  total_sales  \n",
       "3          8.5      E        29.80  \n",
       "6          NaN    NaN        24.67  \n",
       "7          8.6      E        23.21  \n",
       "12         9.0      M        20.81  \n",
       "13         7.9      E        20.14  "
      ]
     },
     "execution_count": 18,
     "metadata": {},
     "output_type": "execute_result"
    }
   ],
   "source": [
    "# Filter dataframe untuk hanya platform-platform yang memiliki total penjualan 0 pada tahun 2016\n",
    "\n",
    "unpopular_platform = df.loc[(df['platform']).isin(platforms_with_zero_sales_2016)]\n",
    "unpopular_platform.head()"
   ]
  },
  {
   "cell_type": "code",
   "execution_count": 19,
   "metadata": {},
   "outputs": [
    {
     "data": {
      "text/html": [
       "<div>\n",
       "<style scoped>\n",
       "    .dataframe tbody tr th:only-of-type {\n",
       "        vertical-align: middle;\n",
       "    }\n",
       "\n",
       "    .dataframe tbody tr th {\n",
       "        vertical-align: top;\n",
       "    }\n",
       "\n",
       "    .dataframe thead th {\n",
       "        text-align: right;\n",
       "    }\n",
       "</style>\n",
       "<table border=\"1\" class=\"dataframe\">\n",
       "  <thead>\n",
       "    <tr style=\"text-align: right;\">\n",
       "      <th>platform</th>\n",
       "      <th>year_of_release</th>\n",
       "      <th>DC</th>\n",
       "      <th>DS</th>\n",
       "      <th>GB</th>\n",
       "      <th>GBA</th>\n",
       "      <th>GC</th>\n",
       "      <th>N64</th>\n",
       "      <th>PS</th>\n",
       "      <th>PS2</th>\n",
       "      <th>PSP</th>\n",
       "      <th>WS</th>\n",
       "      <th>XB</th>\n",
       "    </tr>\n",
       "  </thead>\n",
       "  <tbody>\n",
       "    <tr>\n",
       "      <th>0</th>\n",
       "      <td>2000</td>\n",
       "      <td>5.99</td>\n",
       "      <td>0.00</td>\n",
       "      <td>19.76</td>\n",
       "      <td>0.07</td>\n",
       "      <td>0.00</td>\n",
       "      <td>33.97</td>\n",
       "      <td>96.37</td>\n",
       "      <td>39.17</td>\n",
       "      <td>0.00</td>\n",
       "      <td>0.68</td>\n",
       "      <td>0.99</td>\n",
       "    </tr>\n",
       "    <tr>\n",
       "      <th>1</th>\n",
       "      <td>2001</td>\n",
       "      <td>1.07</td>\n",
       "      <td>0.00</td>\n",
       "      <td>9.24</td>\n",
       "      <td>61.53</td>\n",
       "      <td>26.34</td>\n",
       "      <td>3.25</td>\n",
       "      <td>35.59</td>\n",
       "      <td>166.43</td>\n",
       "      <td>0.00</td>\n",
       "      <td>0.28</td>\n",
       "      <td>22.26</td>\n",
       "    </tr>\n",
       "    <tr>\n",
       "      <th>2</th>\n",
       "      <td>2002</td>\n",
       "      <td>0.29</td>\n",
       "      <td>0.00</td>\n",
       "      <td>0.00</td>\n",
       "      <td>74.16</td>\n",
       "      <td>51.81</td>\n",
       "      <td>0.08</td>\n",
       "      <td>6.67</td>\n",
       "      <td>205.38</td>\n",
       "      <td>0.00</td>\n",
       "      <td>0.00</td>\n",
       "      <td>48.01</td>\n",
       "    </tr>\n",
       "    <tr>\n",
       "      <th>3</th>\n",
       "      <td>2003</td>\n",
       "      <td>0.00</td>\n",
       "      <td>0.00</td>\n",
       "      <td>0.00</td>\n",
       "      <td>56.67</td>\n",
       "      <td>50.61</td>\n",
       "      <td>0.00</td>\n",
       "      <td>2.07</td>\n",
       "      <td>184.31</td>\n",
       "      <td>0.00</td>\n",
       "      <td>0.00</td>\n",
       "      <td>55.04</td>\n",
       "    </tr>\n",
       "    <tr>\n",
       "      <th>4</th>\n",
       "      <td>2004</td>\n",
       "      <td>0.00</td>\n",
       "      <td>17.27</td>\n",
       "      <td>0.00</td>\n",
       "      <td>77.91</td>\n",
       "      <td>28.82</td>\n",
       "      <td>0.00</td>\n",
       "      <td>0.00</td>\n",
       "      <td>211.81</td>\n",
       "      <td>7.06</td>\n",
       "      <td>0.00</td>\n",
       "      <td>65.42</td>\n",
       "    </tr>\n",
       "    <tr>\n",
       "      <th>5</th>\n",
       "      <td>2005</td>\n",
       "      <td>0.00</td>\n",
       "      <td>130.14</td>\n",
       "      <td>0.00</td>\n",
       "      <td>33.86</td>\n",
       "      <td>27.62</td>\n",
       "      <td>0.00</td>\n",
       "      <td>0.00</td>\n",
       "      <td>160.66</td>\n",
       "      <td>43.84</td>\n",
       "      <td>0.00</td>\n",
       "      <td>49.08</td>\n",
       "    </tr>\n",
       "    <tr>\n",
       "      <th>6</th>\n",
       "      <td>2006</td>\n",
       "      <td>0.00</td>\n",
       "      <td>119.81</td>\n",
       "      <td>0.00</td>\n",
       "      <td>5.28</td>\n",
       "      <td>11.26</td>\n",
       "      <td>0.00</td>\n",
       "      <td>0.00</td>\n",
       "      <td>103.42</td>\n",
       "      <td>55.32</td>\n",
       "      <td>0.00</td>\n",
       "      <td>10.04</td>\n",
       "    </tr>\n",
       "    <tr>\n",
       "      <th>7</th>\n",
       "      <td>2007</td>\n",
       "      <td>0.02</td>\n",
       "      <td>146.94</td>\n",
       "      <td>0.00</td>\n",
       "      <td>3.40</td>\n",
       "      <td>0.27</td>\n",
       "      <td>0.00</td>\n",
       "      <td>0.00</td>\n",
       "      <td>75.99</td>\n",
       "      <td>46.93</td>\n",
       "      <td>0.00</td>\n",
       "      <td>0.55</td>\n",
       "    </tr>\n",
       "    <tr>\n",
       "      <th>8</th>\n",
       "      <td>2008</td>\n",
       "      <td>0.04</td>\n",
       "      <td>145.31</td>\n",
       "      <td>0.00</td>\n",
       "      <td>0.00</td>\n",
       "      <td>0.00</td>\n",
       "      <td>0.00</td>\n",
       "      <td>0.00</td>\n",
       "      <td>53.90</td>\n",
       "      <td>34.55</td>\n",
       "      <td>0.00</td>\n",
       "      <td>0.18</td>\n",
       "    </tr>\n",
       "    <tr>\n",
       "      <th>9</th>\n",
       "      <td>2009</td>\n",
       "      <td>0.00</td>\n",
       "      <td>119.54</td>\n",
       "      <td>0.00</td>\n",
       "      <td>0.00</td>\n",
       "      <td>0.00</td>\n",
       "      <td>0.00</td>\n",
       "      <td>0.00</td>\n",
       "      <td>26.40</td>\n",
       "      <td>37.78</td>\n",
       "      <td>0.00</td>\n",
       "      <td>0.00</td>\n",
       "    </tr>\n",
       "    <tr>\n",
       "      <th>10</th>\n",
       "      <td>2010</td>\n",
       "      <td>0.00</td>\n",
       "      <td>85.02</td>\n",
       "      <td>0.00</td>\n",
       "      <td>0.00</td>\n",
       "      <td>0.00</td>\n",
       "      <td>0.00</td>\n",
       "      <td>0.00</td>\n",
       "      <td>5.64</td>\n",
       "      <td>35.04</td>\n",
       "      <td>0.00</td>\n",
       "      <td>0.00</td>\n",
       "    </tr>\n",
       "    <tr>\n",
       "      <th>11</th>\n",
       "      <td>2011</td>\n",
       "      <td>0.00</td>\n",
       "      <td>26.18</td>\n",
       "      <td>0.00</td>\n",
       "      <td>0.00</td>\n",
       "      <td>0.00</td>\n",
       "      <td>0.00</td>\n",
       "      <td>0.00</td>\n",
       "      <td>0.45</td>\n",
       "      <td>17.82</td>\n",
       "      <td>0.00</td>\n",
       "      <td>0.00</td>\n",
       "    </tr>\n",
       "    <tr>\n",
       "      <th>12</th>\n",
       "      <td>2012</td>\n",
       "      <td>0.00</td>\n",
       "      <td>11.01</td>\n",
       "      <td>0.00</td>\n",
       "      <td>0.00</td>\n",
       "      <td>0.00</td>\n",
       "      <td>0.00</td>\n",
       "      <td>0.00</td>\n",
       "      <td>0.00</td>\n",
       "      <td>7.69</td>\n",
       "      <td>0.00</td>\n",
       "      <td>0.00</td>\n",
       "    </tr>\n",
       "    <tr>\n",
       "      <th>13</th>\n",
       "      <td>2013</td>\n",
       "      <td>0.00</td>\n",
       "      <td>1.54</td>\n",
       "      <td>0.00</td>\n",
       "      <td>0.00</td>\n",
       "      <td>0.00</td>\n",
       "      <td>0.00</td>\n",
       "      <td>0.00</td>\n",
       "      <td>0.00</td>\n",
       "      <td>3.14</td>\n",
       "      <td>0.00</td>\n",
       "      <td>0.00</td>\n",
       "    </tr>\n",
       "    <tr>\n",
       "      <th>14</th>\n",
       "      <td>2014</td>\n",
       "      <td>0.00</td>\n",
       "      <td>0.00</td>\n",
       "      <td>0.00</td>\n",
       "      <td>0.00</td>\n",
       "      <td>0.00</td>\n",
       "      <td>0.00</td>\n",
       "      <td>0.00</td>\n",
       "      <td>0.00</td>\n",
       "      <td>0.24</td>\n",
       "      <td>0.00</td>\n",
       "      <td>0.00</td>\n",
       "    </tr>\n",
       "    <tr>\n",
       "      <th>15</th>\n",
       "      <td>2015</td>\n",
       "      <td>0.00</td>\n",
       "      <td>0.00</td>\n",
       "      <td>0.00</td>\n",
       "      <td>0.00</td>\n",
       "      <td>0.00</td>\n",
       "      <td>0.00</td>\n",
       "      <td>0.00</td>\n",
       "      <td>0.00</td>\n",
       "      <td>0.12</td>\n",
       "      <td>0.00</td>\n",
       "      <td>0.00</td>\n",
       "    </tr>\n",
       "  </tbody>\n",
       "</table>\n",
       "</div>"
      ],
      "text/plain": [
       "platform  year_of_release    DC      DS     GB    GBA     GC    N64     PS  \\\n",
       "0                    2000  5.99    0.00  19.76   0.07   0.00  33.97  96.37   \n",
       "1                    2001  1.07    0.00   9.24  61.53  26.34   3.25  35.59   \n",
       "2                    2002  0.29    0.00   0.00  74.16  51.81   0.08   6.67   \n",
       "3                    2003  0.00    0.00   0.00  56.67  50.61   0.00   2.07   \n",
       "4                    2004  0.00   17.27   0.00  77.91  28.82   0.00   0.00   \n",
       "5                    2005  0.00  130.14   0.00  33.86  27.62   0.00   0.00   \n",
       "6                    2006  0.00  119.81   0.00   5.28  11.26   0.00   0.00   \n",
       "7                    2007  0.02  146.94   0.00   3.40   0.27   0.00   0.00   \n",
       "8                    2008  0.04  145.31   0.00   0.00   0.00   0.00   0.00   \n",
       "9                    2009  0.00  119.54   0.00   0.00   0.00   0.00   0.00   \n",
       "10                   2010  0.00   85.02   0.00   0.00   0.00   0.00   0.00   \n",
       "11                   2011  0.00   26.18   0.00   0.00   0.00   0.00   0.00   \n",
       "12                   2012  0.00   11.01   0.00   0.00   0.00   0.00   0.00   \n",
       "13                   2013  0.00    1.54   0.00   0.00   0.00   0.00   0.00   \n",
       "14                   2014  0.00    0.00   0.00   0.00   0.00   0.00   0.00   \n",
       "15                   2015  0.00    0.00   0.00   0.00   0.00   0.00   0.00   \n",
       "\n",
       "platform     PS2    PSP    WS     XB  \n",
       "0          39.17   0.00  0.68   0.99  \n",
       "1         166.43   0.00  0.28  22.26  \n",
       "2         205.38   0.00  0.00  48.01  \n",
       "3         184.31   0.00  0.00  55.04  \n",
       "4         211.81   7.06  0.00  65.42  \n",
       "5         160.66  43.84  0.00  49.08  \n",
       "6         103.42  55.32  0.00  10.04  \n",
       "7          75.99  46.93  0.00   0.55  \n",
       "8          53.90  34.55  0.00   0.18  \n",
       "9          26.40  37.78  0.00   0.00  \n",
       "10          5.64  35.04  0.00   0.00  \n",
       "11          0.45  17.82  0.00   0.00  \n",
       "12          0.00   7.69  0.00   0.00  \n",
       "13          0.00   3.14  0.00   0.00  \n",
       "14          0.00   0.24  0.00   0.00  \n",
       "15          0.00   0.12  0.00   0.00  "
      ]
     },
     "execution_count": 19,
     "metadata": {},
     "output_type": "execute_result"
    }
   ],
   "source": [
    "# membuat tabel pivot untuk platform yang sudah tidak populer\n",
    "\n",
    "pivot_unpopular_platform = unpopular_platform.pivot_table(columns='platform', index='year_of_release',\n",
    "                                                            values='total_sales',\n",
    "                                                            aggfunc='sum').fillna(0).reset_index()\n",
    "pivot_unpopular_platform"
   ]
  },
  {
   "cell_type": "code",
   "execution_count": 20,
   "metadata": {},
   "outputs": [
    {
     "data": {
      "image/png": "[encoded data removed]",
      "text/plain": [
       "<Figure size 1296x1512 with 11 Axes>"
      ]
     },
     "metadata": {
      "needs_background": "light"
     },
     "output_type": "display_data"
    }
   ],
   "source": [
    "# menampilakan visualisasi pada platform yang sudah tidak populer\n",
    "\n",
    "plt.figure(figsize=(18, 21))\n",
    "i = 1\n",
    "for platform in platforms_with_zero_sales_2016:\n",
    "    total_years = pivot_unpopular_platform[platform].count()\n",
    "    plt.subplot(4, 3, i)\n",
    "    plt.title(f'Trend penjualan di platform {platform}')\n",
    "    sns.lineplot(data=pivot_unpopular_platform, x=\"year_of_release\", y=platform)\n",
    "    i = i + 1\n",
    "plt.show()"
   ]
  },
  {
   "cell_type": "markdown",
   "metadata": {},
   "source": [
    "**Kesimpulan Sementara**\n",
    "\n",
    "\n",
    "banyak platform yang sudah tidak poluper lagi dimana hampir tidak ada penjualan lagi di tahun 2016, seperti platform-platform berikut :'DC', 'DS', 'GB', 'GBA', 'GC', 'N64', 'PS', 'PS2', 'PSP', 'WS', 'XB'."
   ]
  },
  {
   "cell_type": "markdown",
   "metadata": {},
   "source": [
    "**Menghitung rata-rata berapa tahun platform lama mulai memudar**"
   ]
  },
  {
   "cell_type": "code",
   "execution_count": 21,
   "metadata": {},
   "outputs": [
    {
     "data": {
      "text/html": [
       "<div>\n",
       "<style scoped>\n",
       "    .dataframe tbody tr th:only-of-type {\n",
       "        vertical-align: middle;\n",
       "    }\n",
       "\n",
       "    .dataframe tbody tr th {\n",
       "        vertical-align: top;\n",
       "    }\n",
       "\n",
       "    .dataframe thead th {\n",
       "        text-align: right;\n",
       "    }\n",
       "</style>\n",
       "<table border=\"1\" class=\"dataframe\">\n",
       "  <thead>\n",
       "    <tr style=\"text-align: right;\">\n",
       "      <th></th>\n",
       "      <th>platform</th>\n",
       "      <th>min</th>\n",
       "      <th>max</th>\n",
       "    </tr>\n",
       "  </thead>\n",
       "  <tbody>\n",
       "    <tr>\n",
       "      <th>0</th>\n",
       "      <td>3DS</td>\n",
       "      <td>2011</td>\n",
       "      <td>2016</td>\n",
       "    </tr>\n",
       "    <tr>\n",
       "      <th>1</th>\n",
       "      <td>DC</td>\n",
       "      <td>2000</td>\n",
       "      <td>2008</td>\n",
       "    </tr>\n",
       "    <tr>\n",
       "      <th>2</th>\n",
       "      <td>DS</td>\n",
       "      <td>2004</td>\n",
       "      <td>2013</td>\n",
       "    </tr>\n",
       "    <tr>\n",
       "      <th>3</th>\n",
       "      <td>GB</td>\n",
       "      <td>2000</td>\n",
       "      <td>2001</td>\n",
       "    </tr>\n",
       "    <tr>\n",
       "      <th>4</th>\n",
       "      <td>GBA</td>\n",
       "      <td>2000</td>\n",
       "      <td>2007</td>\n",
       "    </tr>\n",
       "    <tr>\n",
       "      <th>5</th>\n",
       "      <td>GC</td>\n",
       "      <td>2001</td>\n",
       "      <td>2007</td>\n",
       "    </tr>\n",
       "    <tr>\n",
       "      <th>6</th>\n",
       "      <td>N64</td>\n",
       "      <td>2000</td>\n",
       "      <td>2002</td>\n",
       "    </tr>\n",
       "    <tr>\n",
       "      <th>7</th>\n",
       "      <td>PC</td>\n",
       "      <td>2000</td>\n",
       "      <td>2016</td>\n",
       "    </tr>\n",
       "    <tr>\n",
       "      <th>8</th>\n",
       "      <td>PS</td>\n",
       "      <td>2000</td>\n",
       "      <td>2003</td>\n",
       "    </tr>\n",
       "    <tr>\n",
       "      <th>9</th>\n",
       "      <td>PS2</td>\n",
       "      <td>2000</td>\n",
       "      <td>2011</td>\n",
       "    </tr>\n",
       "    <tr>\n",
       "      <th>10</th>\n",
       "      <td>PS3</td>\n",
       "      <td>2006</td>\n",
       "      <td>2016</td>\n",
       "    </tr>\n",
       "    <tr>\n",
       "      <th>11</th>\n",
       "      <td>PS4</td>\n",
       "      <td>2013</td>\n",
       "      <td>2016</td>\n",
       "    </tr>\n",
       "    <tr>\n",
       "      <th>12</th>\n",
       "      <td>PSP</td>\n",
       "      <td>2004</td>\n",
       "      <td>2015</td>\n",
       "    </tr>\n",
       "    <tr>\n",
       "      <th>13</th>\n",
       "      <td>PSV</td>\n",
       "      <td>2011</td>\n",
       "      <td>2016</td>\n",
       "    </tr>\n",
       "    <tr>\n",
       "      <th>14</th>\n",
       "      <td>WS</td>\n",
       "      <td>2000</td>\n",
       "      <td>2001</td>\n",
       "    </tr>\n",
       "    <tr>\n",
       "      <th>15</th>\n",
       "      <td>Wii</td>\n",
       "      <td>2006</td>\n",
       "      <td>2016</td>\n",
       "    </tr>\n",
       "    <tr>\n",
       "      <th>16</th>\n",
       "      <td>WiiU</td>\n",
       "      <td>2012</td>\n",
       "      <td>2016</td>\n",
       "    </tr>\n",
       "    <tr>\n",
       "      <th>17</th>\n",
       "      <td>X360</td>\n",
       "      <td>2005</td>\n",
       "      <td>2016</td>\n",
       "    </tr>\n",
       "    <tr>\n",
       "      <th>18</th>\n",
       "      <td>XB</td>\n",
       "      <td>2000</td>\n",
       "      <td>2008</td>\n",
       "    </tr>\n",
       "    <tr>\n",
       "      <th>19</th>\n",
       "      <td>XOne</td>\n",
       "      <td>2013</td>\n",
       "      <td>2016</td>\n",
       "    </tr>\n",
       "  </tbody>\n",
       "</table>\n",
       "</div>"
      ],
      "text/plain": [
       "   platform   min   max\n",
       "0       3DS  2011  2016\n",
       "1        DC  2000  2008\n",
       "2        DS  2004  2013\n",
       "3        GB  2000  2001\n",
       "4       GBA  2000  2007\n",
       "5        GC  2001  2007\n",
       "6       N64  2000  2002\n",
       "7        PC  2000  2016\n",
       "8        PS  2000  2003\n",
       "9       PS2  2000  2011\n",
       "10      PS3  2006  2016\n",
       "11      PS4  2013  2016\n",
       "12      PSP  2004  2015\n",
       "13      PSV  2011  2016\n",
       "14       WS  2000  2001\n",
       "15      Wii  2006  2016\n",
       "16     WiiU  2012  2016\n",
       "17     X360  2005  2016\n",
       "18       XB  2000  2008\n",
       "19     XOne  2013  2016"
      ]
     },
     "execution_count": 21,
     "metadata": {},
     "output_type": "execute_result"
    }
   ],
   "source": [
    "# menghitung perisilan games platrorm dari tahun 2000 sampai sekarang\n",
    "\n",
    "df1=df.groupby(['platform'])['year_of_release'].agg(['min','max']).reset_index()\n",
    "df1"
   ]
  },
  {
   "cell_type": "code",
   "execution_count": 22,
   "metadata": {},
   "outputs": [
    {
     "name": "stdout",
     "output_type": "stream",
     "text": [
      "Rata-rata umur platform: 6.5\n"
     ]
    }
   ],
   "source": [
    "# mengihtung rata-rata platform akan memudar\n",
    "\n",
    "df1['age']=df1.apply(lambda row:row['max']-row['min'],axis=1)\n",
    "print('Rata-rata umur platform:', df1['age'].median())"
   ]
  },
  {
   "cell_type": "markdown",
   "metadata": {},
   "source": [
    "**Kesimpulan Sementara**\n",
    "\n",
    "terhitung sejak tahun 2000 rata-rata platform akan memudar sekitar 6,5 tahun, maka masuk akal untuk mempertimbangkan jangka waktu tidak lebih dari periode ini untuk perkiraan penjualan tahun 2017."
   ]
  },
  {
   "cell_type": "markdown",
   "metadata": {},
   "source": [
    "##  Periode Waktu Pengambilan Data dan Mengerjakan Data yang Relevan\n",
    "\n",
    "Berdasarkan analisi sebelumnya, dimana rata-rata waktu platform memudar adalah sekitar 6.5 tahun, maka untuk analisis selanjutnya kita hanya akan mengambil data 5 tahun terakhir, yaitu dari 2012 s/d 2016 guna membangun acuan bagi tahun 2017. Kita menganggap dalam 5 tahun terakhir trend nya tidak terpaut terlalu jauh."
   ]
  },
  {
   "cell_type": "code",
   "execution_count": 23,
   "metadata": {},
   "outputs": [],
   "source": [
    "# membuat dataframe baru dengan data dari 2012/2016\n",
    "\n",
    "df_new = df[df['year_of_release'] >= 2012].reset_index(drop=True)"
   ]
  },
  {
   "cell_type": "code",
   "execution_count": 24,
   "metadata": {},
   "outputs": [
    {
     "data": {
      "text/plain": [
       "((14470, 12), (2886, 12))"
      ]
     },
     "execution_count": 24,
     "metadata": {},
     "output_type": "execute_result"
    }
   ],
   "source": [
    "# memeriksa len data\n",
    "\n",
    "df.shape, df_new.shape"
   ]
  },
  {
   "cell_type": "markdown",
   "metadata": {},
   "source": [
    "## Platform mana saja yang memiliki penjualan terbanyak? Platform mana saja yang tumbuh atau menyusut?"
   ]
  },
  {
   "cell_type": "markdown",
   "metadata": {},
   "source": [
    "**Platform mana saja yang memiliki penjualan terbanyak?**"
   ]
  },
  {
   "cell_type": "code",
   "execution_count": 25,
   "metadata": {},
   "outputs": [
    {
     "data": {
      "image/png": "[encoded data removed]",
      "text/plain": [
       "<Figure size 1080x720 with 1 Axes>"
      ]
     },
     "metadata": {
      "needs_background": "light"
     },
     "output_type": "display_data"
    }
   ],
   "source": [
    "# melakukan pengelompokan penjumlahan platfrom dan total_sales\n",
    "total_sales_platform_new = df_new.groupby('platform')['total_sales'].agg('sum').reset_index().sort_values('total_sales', ascending=False)\n",
    "\n",
    "# membuat diagram batang\n",
    "plt.figure(figsize=(15, 10))\n",
    "a = sns.barplot(data=total_sales_platform_new, x='platform', y='total_sales', palette='flare')\n",
    "\n",
    "# menampilkan label pada diagram batang\n",
    "for g in a.patches:\n",
    "    a.annotate(format(g.get_height(), '.1f'),\n",
    "                   (g.get_x() + g.get_width() / 2., g.get_height()),\n",
    "                   ha = 'center', va = 'center', \n",
    "                   xytext = (0, 10), rotation=0, \n",
    "                   textcoords = 'offset points')\n",
    "\n",
    "plt.title('Variasi penjualan games antar platform');"
   ]
  },
  {
   "cell_type": "markdown",
   "metadata": {},
   "source": [
    "**Kesimpulan sementara**\n",
    "\n",
    "berdasarkan data lima tahun terakhir, PS4 memiliki penjualan games terbanyak dengan total 314 juta USD"
   ]
  },
  {
   "cell_type": "markdown",
   "metadata": {},
   "source": [
    "**Platform mana saja yang tumbuh atau menyusut?**"
   ]
  },
  {
   "cell_type": "code",
   "execution_count": 26,
   "metadata": {},
   "outputs": [
    {
     "data": {
      "image/png": "[encoded data removed]",
      "text/plain": [
       "<Figure size 1080x576 with 1 Axes>"
      ]
     },
     "metadata": {
      "needs_background": "light"
     },
     "output_type": "display_data"
    }
   ],
   "source": [
    "# mengelompokan data platform dan year_of_release\n",
    "\n",
    "df_platform=df_new.groupby(['platform','year_of_release'])['total_sales'].sum().reset_index().sort_values(by='year_of_release')\n",
    "\n",
    "# membuat visualisasi platform yang tumbuh dan platform yang menyusut\n",
    "\n",
    "plt.figure(figsize=(15,8))\n",
    "ax = sns.lineplot(data=df_platform, x=\"year_of_release\", y=\"total_sales\",hue=\"platform\")"
   ]
  },
  {
   "cell_type": "markdown",
   "metadata": {},
   "source": [
    "**Kesimpulan sementara**\n",
    "\n",
    "PS4 menjadi platform yang terus tumbuh sejak peluncurannya di tahun 2013 yangmana membuat PS3 mengalami penyusutan penjualan serta platform lain mengalami penyusutan penjualan sejak 5 tahun terakhir. kemungkinan besar dalam lima tahun kemudian PS4 akan terus mengalami peningkatan sebelum nantinya akan digantikan oleh PS5 yang akan datang"
   ]
  },
  {
   "cell_type": "markdown",
   "metadata": {},
   "source": [
    "## Membuat Boxplot untuk Penjualan Global Semua Game yang Dikelompokan Berdasarkan Platform"
   ]
  },
  {
   "cell_type": "code",
   "execution_count": 27,
   "metadata": {},
   "outputs": [
    {
     "data": {
      "image/png": "[encoded data removed]",
      "text/plain": [
       "<Figure size 1080x648 with 1 Axes>"
      ]
     },
     "metadata": {
      "needs_background": "light"
     },
     "output_type": "display_data"
    }
   ],
   "source": [
    "# membuat bloxplot df_new\n",
    "\n",
    "plt.figure(figsize=(15, 9))\n",
    "sns.boxplot(data=df_new, x='total_sales', y='platform')\n",
    "plt.title('Boxplot total sales selama 2012-2016')\n",
    "plt.xlim(-0, 15)\n",
    "plt.show()"
   ]
  },
  {
   "cell_type": "code",
   "execution_count": 28,
   "metadata": {},
   "outputs": [],
   "source": [
    "# mengeluarkan outlier\n",
    "\n",
    "Q1 = df_new['total_sales'].quantile(.25)\n",
    "Q3 = df_new['total_sales'].quantile(.75)\n",
    "IQR = Q3-Q1\n",
    "df_new_non_outlier = df_new[~((df_new['total_sales'] < (Q1 - 1.5*IQR)) |\n",
    "                               (df_new['total_sales'] > (Q1 + 1.5*IQR)))]"
   ]
  },
  {
   "cell_type": "code",
   "execution_count": 29,
   "metadata": {},
   "outputs": [
    {
     "data": {
      "image/png": "[encoded data removed]",
      "text/plain": [
       "<Figure size 1080x576 with 1 Axes>"
      ]
     },
     "metadata": {
      "needs_background": "light"
     },
     "output_type": "display_data"
    }
   ],
   "source": [
    "# membuat bloxplot df_new tanpa outlier\n",
    "\n",
    "plt.figure(figsize=(15, 8))\n",
    "sns.boxplot(data=df_new_non_outlier, x='total_sales', y='platform')\n",
    "plt.title('Boxplot total sales selama 2012-2016 tanpa outlier')\n",
    "plt.show()"
   ]
  },
  {
   "cell_type": "code",
   "execution_count": 30,
   "metadata": {},
   "outputs": [
    {
     "data": {
      "text/html": [
       "<div>\n",
       "<style scoped>\n",
       "    .dataframe tbody tr th:only-of-type {\n",
       "        vertical-align: middle;\n",
       "    }\n",
       "\n",
       "    .dataframe tbody tr th {\n",
       "        vertical-align: top;\n",
       "    }\n",
       "\n",
       "    .dataframe thead th {\n",
       "        text-align: right;\n",
       "    }\n",
       "</style>\n",
       "<table border=\"1\" class=\"dataframe\">\n",
       "  <thead>\n",
       "    <tr style=\"text-align: right;\">\n",
       "      <th></th>\n",
       "      <th>platform</th>\n",
       "      <th>total_sales</th>\n",
       "    </tr>\n",
       "  </thead>\n",
       "  <tbody>\n",
       "    <tr>\n",
       "      <th>0</th>\n",
       "      <td>X360</td>\n",
       "      <td>0.208543</td>\n",
       "    </tr>\n",
       "    <tr>\n",
       "      <th>1</th>\n",
       "      <td>WiiU</td>\n",
       "      <td>0.191565</td>\n",
       "    </tr>\n",
       "    <tr>\n",
       "      <th>2</th>\n",
       "      <td>XOne</td>\n",
       "      <td>0.173876</td>\n",
       "    </tr>\n",
       "    <tr>\n",
       "      <th>3</th>\n",
       "      <td>PS3</td>\n",
       "      <td>0.168360</td>\n",
       "    </tr>\n",
       "    <tr>\n",
       "      <th>4</th>\n",
       "      <td>PS4</td>\n",
       "      <td>0.154265</td>\n",
       "    </tr>\n",
       "    <tr>\n",
       "      <th>5</th>\n",
       "      <td>Wii</td>\n",
       "      <td>0.145000</td>\n",
       "    </tr>\n",
       "    <tr>\n",
       "      <th>6</th>\n",
       "      <td>3DS</td>\n",
       "      <td>0.138988</td>\n",
       "    </tr>\n",
       "    <tr>\n",
       "      <th>7</th>\n",
       "      <td>PC</td>\n",
       "      <td>0.117500</td>\n",
       "    </tr>\n",
       "    <tr>\n",
       "      <th>8</th>\n",
       "      <td>DS</td>\n",
       "      <td>0.099286</td>\n",
       "    </tr>\n",
       "    <tr>\n",
       "      <th>9</th>\n",
       "      <td>PSV</td>\n",
       "      <td>0.093800</td>\n",
       "    </tr>\n",
       "    <tr>\n",
       "      <th>10</th>\n",
       "      <td>PSP</td>\n",
       "      <td>0.064682</td>\n",
       "    </tr>\n",
       "  </tbody>\n",
       "</table>\n",
       "</div>"
      ],
      "text/plain": [
       "   platform  total_sales\n",
       "0      X360     0.208543\n",
       "1      WiiU     0.191565\n",
       "2      XOne     0.173876\n",
       "3       PS3     0.168360\n",
       "4       PS4     0.154265\n",
       "5       Wii     0.145000\n",
       "6       3DS     0.138988\n",
       "7        PC     0.117500\n",
       "8        DS     0.099286\n",
       "9       PSV     0.093800\n",
       "10      PSP     0.064682"
      ]
     },
     "execution_count": 30,
     "metadata": {},
     "output_type": "execute_result"
    }
   ],
   "source": [
    "# melihat rata-rata penjualan dari masing-masing platform\n",
    "\n",
    "avg_sales = df_new_non_outlier.pivot_table(index='platform', values='total_sales').sort_values(\n",
    "    by='total_sales', ascending=False).reset_index()\n",
    "avg_sales"
   ]
  },
  {
   "cell_type": "markdown",
   "metadata": {},
   "source": [
    "**Kesimpulan Sementara**\n",
    "\n",
    "Nilai-nilai ini menunjukkan rata-rata penjualan per game dalam setiap platform. Platform-platform seperti X360, WiiU, dan XOne memiliki nilai rata-rata penjualan yang lebih tinggi dibandingkan dengan platform-platform lainnya."
   ]
  },
  {
   "cell_type": "markdown",
   "metadata": {},
   "source": [
    "## Korelasi antara ulasan dan penjualan\n",
    "\n",
    "Pada bagian ini, analis hanya akan melihat data dari PS4 karena platform ini merupakan platform dengan pendapatan terbesar saat ini, pertumbuhan tercepat, dan paling potensial untuk tahun mendatang. Data dengan nilai yang hilang pada `critic_score`, `user_score`, dan `rating` juga akan dikecualikan dari analisis ini."
   ]
  },
  {
   "cell_type": "code",
   "execution_count": 31,
   "metadata": {},
   "outputs": [
    {
     "data": {
      "text/html": [
       "<div>\n",
       "<style scoped>\n",
       "    .dataframe tbody tr th:only-of-type {\n",
       "        vertical-align: middle;\n",
       "    }\n",
       "\n",
       "    .dataframe tbody tr th {\n",
       "        vertical-align: top;\n",
       "    }\n",
       "\n",
       "    .dataframe thead th {\n",
       "        text-align: right;\n",
       "    }\n",
       "</style>\n",
       "<table border=\"1\" class=\"dataframe\">\n",
       "  <thead>\n",
       "    <tr style=\"text-align: right;\">\n",
       "      <th></th>\n",
       "      <th>name</th>\n",
       "      <th>platform</th>\n",
       "      <th>year_of_release</th>\n",
       "      <th>genre</th>\n",
       "      <th>na_sales</th>\n",
       "      <th>eu_sales</th>\n",
       "      <th>jp_sales</th>\n",
       "      <th>other_sales</th>\n",
       "      <th>critic_score</th>\n",
       "      <th>user_score</th>\n",
       "      <th>rating</th>\n",
       "      <th>total_sales</th>\n",
       "    </tr>\n",
       "  </thead>\n",
       "  <tbody>\n",
       "    <tr>\n",
       "      <th>0</th>\n",
       "      <td>Grand Theft Auto V</td>\n",
       "      <td>PS4</td>\n",
       "      <td>2014</td>\n",
       "      <td>Action</td>\n",
       "      <td>3.96</td>\n",
       "      <td>6.31</td>\n",
       "      <td>0.38</td>\n",
       "      <td>1.97</td>\n",
       "      <td>97.0</td>\n",
       "      <td>8.3</td>\n",
       "      <td>M</td>\n",
       "      <td>12.62</td>\n",
       "    </tr>\n",
       "    <tr>\n",
       "      <th>1</th>\n",
       "      <td>FIFA 16</td>\n",
       "      <td>PS4</td>\n",
       "      <td>2015</td>\n",
       "      <td>Sports</td>\n",
       "      <td>1.12</td>\n",
       "      <td>6.12</td>\n",
       "      <td>0.06</td>\n",
       "      <td>1.28</td>\n",
       "      <td>82.0</td>\n",
       "      <td>4.3</td>\n",
       "      <td>E</td>\n",
       "      <td>8.58</td>\n",
       "    </tr>\n",
       "    <tr>\n",
       "      <th>2</th>\n",
       "      <td>Call of Duty: Advanced Warfare</td>\n",
       "      <td>PS4</td>\n",
       "      <td>2014</td>\n",
       "      <td>Shooter</td>\n",
       "      <td>2.81</td>\n",
       "      <td>3.48</td>\n",
       "      <td>0.14</td>\n",
       "      <td>1.23</td>\n",
       "      <td>83.0</td>\n",
       "      <td>5.7</td>\n",
       "      <td>M</td>\n",
       "      <td>7.66</td>\n",
       "    </tr>\n",
       "    <tr>\n",
       "      <th>3</th>\n",
       "      <td>FIFA 17</td>\n",
       "      <td>PS4</td>\n",
       "      <td>2016</td>\n",
       "      <td>Sports</td>\n",
       "      <td>0.66</td>\n",
       "      <td>5.75</td>\n",
       "      <td>0.08</td>\n",
       "      <td>1.11</td>\n",
       "      <td>85.0</td>\n",
       "      <td>5.0</td>\n",
       "      <td>E</td>\n",
       "      <td>7.60</td>\n",
       "    </tr>\n",
       "    <tr>\n",
       "      <th>4</th>\n",
       "      <td>Fallout 4</td>\n",
       "      <td>PS4</td>\n",
       "      <td>2015</td>\n",
       "      <td>Role-Playing</td>\n",
       "      <td>2.53</td>\n",
       "      <td>3.27</td>\n",
       "      <td>0.24</td>\n",
       "      <td>1.13</td>\n",
       "      <td>87.0</td>\n",
       "      <td>6.5</td>\n",
       "      <td>M</td>\n",
       "      <td>7.17</td>\n",
       "    </tr>\n",
       "    <tr>\n",
       "      <th>...</th>\n",
       "      <td>...</td>\n",
       "      <td>...</td>\n",
       "      <td>...</td>\n",
       "      <td>...</td>\n",
       "      <td>...</td>\n",
       "      <td>...</td>\n",
       "      <td>...</td>\n",
       "      <td>...</td>\n",
       "      <td>...</td>\n",
       "      <td>...</td>\n",
       "      <td>...</td>\n",
       "      <td>...</td>\n",
       "    </tr>\n",
       "    <tr>\n",
       "      <th>234</th>\n",
       "      <td>Super Stardust Ultra VR</td>\n",
       "      <td>PS4</td>\n",
       "      <td>2016</td>\n",
       "      <td>Shooter</td>\n",
       "      <td>0.00</td>\n",
       "      <td>0.01</td>\n",
       "      <td>0.00</td>\n",
       "      <td>0.00</td>\n",
       "      <td>66.0</td>\n",
       "      <td>6.2</td>\n",
       "      <td>E10+</td>\n",
       "      <td>0.01</td>\n",
       "    </tr>\n",
       "    <tr>\n",
       "      <th>235</th>\n",
       "      <td>Super Dungeon Bros</td>\n",
       "      <td>PS4</td>\n",
       "      <td>2016</td>\n",
       "      <td>Action</td>\n",
       "      <td>0.01</td>\n",
       "      <td>0.00</td>\n",
       "      <td>0.00</td>\n",
       "      <td>0.00</td>\n",
       "      <td>42.0</td>\n",
       "      <td>2.3</td>\n",
       "      <td>E10+</td>\n",
       "      <td>0.01</td>\n",
       "    </tr>\n",
       "    <tr>\n",
       "      <th>236</th>\n",
       "      <td>Sherlock Holmes: The Devil's Daughter</td>\n",
       "      <td>PS4</td>\n",
       "      <td>2016</td>\n",
       "      <td>Adventure</td>\n",
       "      <td>0.01</td>\n",
       "      <td>0.00</td>\n",
       "      <td>0.00</td>\n",
       "      <td>0.00</td>\n",
       "      <td>70.0</td>\n",
       "      <td>6.8</td>\n",
       "      <td>T</td>\n",
       "      <td>0.01</td>\n",
       "    </tr>\n",
       "    <tr>\n",
       "      <th>237</th>\n",
       "      <td>Dungeons 2</td>\n",
       "      <td>PS4</td>\n",
       "      <td>2016</td>\n",
       "      <td>Role-Playing</td>\n",
       "      <td>0.01</td>\n",
       "      <td>0.00</td>\n",
       "      <td>0.00</td>\n",
       "      <td>0.00</td>\n",
       "      <td>61.0</td>\n",
       "      <td>7.9</td>\n",
       "      <td>T</td>\n",
       "      <td>0.01</td>\n",
       "    </tr>\n",
       "    <tr>\n",
       "      <th>238</th>\n",
       "      <td>Carmageddon: Max Damage</td>\n",
       "      <td>PS4</td>\n",
       "      <td>2016</td>\n",
       "      <td>Action</td>\n",
       "      <td>0.01</td>\n",
       "      <td>0.00</td>\n",
       "      <td>0.00</td>\n",
       "      <td>0.00</td>\n",
       "      <td>51.0</td>\n",
       "      <td>5.5</td>\n",
       "      <td>M</td>\n",
       "      <td>0.01</td>\n",
       "    </tr>\n",
       "  </tbody>\n",
       "</table>\n",
       "<p>239 rows × 12 columns</p>\n",
       "</div>"
      ],
      "text/plain": [
       "                                      name platform  year_of_release  \\\n",
       "0                       Grand Theft Auto V      PS4             2014   \n",
       "1                                  FIFA 16      PS4             2015   \n",
       "2           Call of Duty: Advanced Warfare      PS4             2014   \n",
       "3                                  FIFA 17      PS4             2016   \n",
       "4                                Fallout 4      PS4             2015   \n",
       "..                                     ...      ...              ...   \n",
       "234                Super Stardust Ultra VR      PS4             2016   \n",
       "235                     Super Dungeon Bros      PS4             2016   \n",
       "236  Sherlock Holmes: The Devil's Daughter      PS4             2016   \n",
       "237                             Dungeons 2      PS4             2016   \n",
       "238                Carmageddon: Max Damage      PS4             2016   \n",
       "\n",
       "            genre  na_sales  eu_sales  jp_sales  other_sales  critic_score  \\\n",
       "0          Action      3.96      6.31      0.38         1.97          97.0   \n",
       "1          Sports      1.12      6.12      0.06         1.28          82.0   \n",
       "2         Shooter      2.81      3.48      0.14         1.23          83.0   \n",
       "3          Sports      0.66      5.75      0.08         1.11          85.0   \n",
       "4    Role-Playing      2.53      3.27      0.24         1.13          87.0   \n",
       "..            ...       ...       ...       ...          ...           ...   \n",
       "234       Shooter      0.00      0.01      0.00         0.00          66.0   \n",
       "235        Action      0.01      0.00      0.00         0.00          42.0   \n",
       "236     Adventure      0.01      0.00      0.00         0.00          70.0   \n",
       "237  Role-Playing      0.01      0.00      0.00         0.00          61.0   \n",
       "238        Action      0.01      0.00      0.00         0.00          51.0   \n",
       "\n",
       "     user_score rating  total_sales  \n",
       "0           8.3      M        12.62  \n",
       "1           4.3      E         8.58  \n",
       "2           5.7      M         7.66  \n",
       "3           5.0      E         7.60  \n",
       "4           6.5      M         7.17  \n",
       "..          ...    ...          ...  \n",
       "234         6.2   E10+         0.01  \n",
       "235         2.3   E10+         0.01  \n",
       "236         6.8      T         0.01  \n",
       "237         7.9      T         0.01  \n",
       "238         5.5      M         0.01  \n",
       "\n",
       "[239 rows x 12 columns]"
      ]
     },
     "execution_count": 31,
     "metadata": {},
     "output_type": "execute_result"
    }
   ],
   "source": [
    "# membuat dataframe PS4\n",
    "\n",
    "df_ps4 = df[df['platform'] == 'PS4'].dropna().reset_index(drop=True)\n",
    "df_ps4"
   ]
  },
  {
   "cell_type": "code",
   "execution_count": 32,
   "metadata": {},
   "outputs": [
    {
     "data": {
      "text/plain": [
       "Text(0, 0.5, 'Total sales (US$ juta)')"
      ]
     },
     "execution_count": 32,
     "metadata": {},
     "output_type": "execute_result"
    },
    {
     "data": {
      "image/png": "[encoded data removed]",
      "text/plain": [
       "<Figure size 1080x576 with 1 Axes>"
      ]
     },
     "metadata": {
      "needs_background": "light"
     },
     "output_type": "display_data"
    }
   ],
   "source": [
    "# scatter plot PS4 antara critic_score vs total_sales\n",
    "\n",
    "plt.figure(figsize=(15, 8))\n",
    "sns.scatterplot(data=df_ps4,x='critic_score',y='total_sales')\n",
    "plt.title('Scatter Plot PS4 antara critic score vs total sales')\n",
    "plt.xlabel('Critic Score')\n",
    "plt.ylabel('Total sales (US$ juta)')"
   ]
  },
  {
   "cell_type": "code",
   "execution_count": 33,
   "metadata": {},
   "outputs": [
    {
     "data": {
      "text/plain": [
       "Text(0, 0.5, 'Total sales (US$ juta)')"
      ]
     },
     "execution_count": 33,
     "metadata": {},
     "output_type": "execute_result"
    },
    {
     "data": {
      "image/png": "[encoded data removed]",
      "text/plain": [
       "<Figure size 1080x576 with 1 Axes>"
      ]
     },
     "metadata": {
      "needs_background": "light"
     },
     "output_type": "display_data"
    }
   ],
   "source": [
    "# scatter plot PS4 antara user_score vs total_sales\n",
    "\n",
    "plt.figure(figsize=(15, 8))\n",
    "sns.scatterplot(data=df_ps4,x='user_score',y='total_sales')\n",
    "plt.title('Scatter Plot PS4 antara critic score vs total sales')\n",
    "plt.xlabel('User Score')\n",
    "plt.ylabel('Total sales (US$ juta)')"
   ]
  },
  {
   "cell_type": "code",
   "execution_count": 34,
   "metadata": {},
   "outputs": [
    {
     "data": {
      "text/html": [
       "<div>\n",
       "<style scoped>\n",
       "    .dataframe tbody tr th:only-of-type {\n",
       "        vertical-align: middle;\n",
       "    }\n",
       "\n",
       "    .dataframe tbody tr th {\n",
       "        vertical-align: top;\n",
       "    }\n",
       "\n",
       "    .dataframe thead th {\n",
       "        text-align: right;\n",
       "    }\n",
       "</style>\n",
       "<table border=\"1\" class=\"dataframe\">\n",
       "  <thead>\n",
       "    <tr style=\"text-align: right;\">\n",
       "      <th></th>\n",
       "      <th>year_of_release</th>\n",
       "      <th>na_sales</th>\n",
       "      <th>eu_sales</th>\n",
       "      <th>jp_sales</th>\n",
       "      <th>other_sales</th>\n",
       "      <th>critic_score</th>\n",
       "      <th>user_score</th>\n",
       "      <th>total_sales</th>\n",
       "    </tr>\n",
       "  </thead>\n",
       "  <tbody>\n",
       "    <tr>\n",
       "      <th>year_of_release</th>\n",
       "      <td>1.000000</td>\n",
       "      <td>-0.260023</td>\n",
       "      <td>-0.187866</td>\n",
       "      <td>-0.122026</td>\n",
       "      <td>-0.229202</td>\n",
       "      <td>-0.002748</td>\n",
       "      <td>0.148270</td>\n",
       "      <td>-0.231540</td>\n",
       "    </tr>\n",
       "    <tr>\n",
       "      <th>na_sales</th>\n",
       "      <td>-0.260023</td>\n",
       "      <td>1.000000</td>\n",
       "      <td>0.712361</td>\n",
       "      <td>0.528266</td>\n",
       "      <td>0.914296</td>\n",
       "      <td>0.411197</td>\n",
       "      <td>-0.019951</td>\n",
       "      <td>0.892574</td>\n",
       "    </tr>\n",
       "    <tr>\n",
       "      <th>eu_sales</th>\n",
       "      <td>-0.187866</td>\n",
       "      <td>0.712361</td>\n",
       "      <td>1.000000</td>\n",
       "      <td>0.518152</td>\n",
       "      <td>0.934677</td>\n",
       "      <td>0.344032</td>\n",
       "      <td>-0.048178</td>\n",
       "      <td>0.951346</td>\n",
       "    </tr>\n",
       "    <tr>\n",
       "      <th>jp_sales</th>\n",
       "      <td>-0.122026</td>\n",
       "      <td>0.528266</td>\n",
       "      <td>0.518152</td>\n",
       "      <td>1.000000</td>\n",
       "      <td>0.565064</td>\n",
       "      <td>0.321016</td>\n",
       "      <td>0.176156</td>\n",
       "      <td>0.590673</td>\n",
       "    </tr>\n",
       "    <tr>\n",
       "      <th>other_sales</th>\n",
       "      <td>-0.229202</td>\n",
       "      <td>0.914296</td>\n",
       "      <td>0.934677</td>\n",
       "      <td>0.565064</td>\n",
       "      <td>1.000000</td>\n",
       "      <td>0.406075</td>\n",
       "      <td>-0.034432</td>\n",
       "      <td>0.997777</td>\n",
       "    </tr>\n",
       "    <tr>\n",
       "      <th>critic_score</th>\n",
       "      <td>-0.002748</td>\n",
       "      <td>0.411197</td>\n",
       "      <td>0.344032</td>\n",
       "      <td>0.321016</td>\n",
       "      <td>0.406075</td>\n",
       "      <td>1.000000</td>\n",
       "      <td>0.572802</td>\n",
       "      <td>0.403573</td>\n",
       "    </tr>\n",
       "    <tr>\n",
       "      <th>user_score</th>\n",
       "      <td>0.148270</td>\n",
       "      <td>-0.019951</td>\n",
       "      <td>-0.048178</td>\n",
       "      <td>0.176156</td>\n",
       "      <td>-0.034432</td>\n",
       "      <td>0.572802</td>\n",
       "      <td>1.000000</td>\n",
       "      <td>-0.030888</td>\n",
       "    </tr>\n",
       "    <tr>\n",
       "      <th>total_sales</th>\n",
       "      <td>-0.231540</td>\n",
       "      <td>0.892574</td>\n",
       "      <td>0.951346</td>\n",
       "      <td>0.590673</td>\n",
       "      <td>0.997777</td>\n",
       "      <td>0.403573</td>\n",
       "      <td>-0.030888</td>\n",
       "      <td>1.000000</td>\n",
       "    </tr>\n",
       "  </tbody>\n",
       "</table>\n",
       "</div>"
      ],
      "text/plain": [
       "                 year_of_release  na_sales  eu_sales  jp_sales  other_sales  \\\n",
       "year_of_release         1.000000 -0.260023 -0.187866 -0.122026    -0.229202   \n",
       "na_sales               -0.260023  1.000000  0.712361  0.528266     0.914296   \n",
       "eu_sales               -0.187866  0.712361  1.000000  0.518152     0.934677   \n",
       "jp_sales               -0.122026  0.528266  0.518152  1.000000     0.565064   \n",
       "other_sales            -0.229202  0.914296  0.934677  0.565064     1.000000   \n",
       "critic_score           -0.002748  0.411197  0.344032  0.321016     0.406075   \n",
       "user_score              0.148270 -0.019951 -0.048178  0.176156    -0.034432   \n",
       "total_sales            -0.231540  0.892574  0.951346  0.590673     0.997777   \n",
       "\n",
       "                 critic_score  user_score  total_sales  \n",
       "year_of_release     -0.002748    0.148270    -0.231540  \n",
       "na_sales             0.411197   -0.019951     0.892574  \n",
       "eu_sales             0.344032   -0.048178     0.951346  \n",
       "jp_sales             0.321016    0.176156     0.590673  \n",
       "other_sales          0.406075   -0.034432     0.997777  \n",
       "critic_score         1.000000    0.572802     0.403573  \n",
       "user_score           0.572802    1.000000    -0.030888  \n",
       "total_sales          0.403573   -0.030888     1.000000  "
      ]
     },
     "execution_count": 34,
     "metadata": {},
     "output_type": "execute_result"
    }
   ],
   "source": [
    "# menghitung korelasi\n",
    "\n",
    "df_ps4.corr()"
   ]
  },
  {
   "cell_type": "code",
   "execution_count": 35,
   "metadata": {},
   "outputs": [
    {
     "data": {
      "image/png": "[encoded data removed]",
      "text/plain": [
       "<Figure size 720x576 with 2 Axes>"
      ]
     },
     "metadata": {
      "needs_background": "light"
     },
     "output_type": "display_data"
    }
   ],
   "source": [
    "# melihat korelasi di platform PS4\n",
    "\n",
    "plt.figure(figsize=(10, 8))\n",
    "sns.heatmap(df_ps4.corr(), annot=True)\n",
    "plt.show()"
   ]
  },
  {
   "cell_type": "markdown",
   "metadata": {},
   "source": [
    "**Kesimpulan sementara**\n",
    "\n",
    "bahwa critic_score memiliki korelasi positif terhadap total_sales, sementara user_score tidak menunjukkan korelasi yang signifikan dengan total_sales. yang artinya critic_score cukup menentukan peningkatan dari total_sales terhadap platform PS4"
   ]
  },
  {
   "cell_type": "markdown",
   "metadata": {},
   "source": [
    "## Membandingkan penjualan game yang sama di platform lain.\n",
    "\n",
    "membandingkan penjualan game yang sama di platform lainnya"
   ]
  },
  {
   "cell_type": "code",
   "execution_count": 36,
   "metadata": {},
   "outputs": [
    {
     "data": {
      "text/plain": [
       "LEGO Marvel Super Heroes                         9\n",
       "FIFA 14                                          9\n",
       "LEGO The Hobbit                                  8\n",
       "The LEGO Movie Videogame                         8\n",
       "Angry Birds Star Wars                            8\n",
       "                                                ..\n",
       "Senran Kagura Burst: Guren no Sh?jo-tachi        1\n",
       "Ansatsu Kyoushitsu: Assassin Ikusei Keikaku!!    1\n",
       "Stellaris                                        1\n",
       "Darius Burst: Chronicle Saviours                 1\n",
       "Donkey Kong Country: Tropical Freeze             1\n",
       "Name: name, Length: 1671, dtype: int64"
      ]
     },
     "execution_count": 36,
     "metadata": {},
     "output_type": "execute_result"
    }
   ],
   "source": [
    "# mencari game dengan frekuensi yang sering muncul\n",
    "\n",
    "df_new['name'].value_counts()"
   ]
  },
  {
   "cell_type": "code",
   "execution_count": 37,
   "metadata": {},
   "outputs": [
    {
     "data": {
      "image/png": "[encoded data removed]",
      "text/plain": [
       "<Figure size 1080x720 with 1 Axes>"
      ]
     },
     "metadata": {
      "needs_background": "light"
     },
     "output_type": "display_data"
    }
   ],
   "source": [
    "# membuat diagram batang penjualan game FIFA 14 pada setiap platform\n",
    "\n",
    "plt.figure(figsize=(15,10))\n",
    "fifa14 = sns.barplot(data=df_new[df_new['name'] == 'FIFA 14'], x='platform', y='total_sales', ci=None,palette='flare')\n",
    "\n",
    "# membuat label diagram batang\n",
    "for g in fifa14.patches:\n",
    "    fifa14.annotate(format(g.get_height(), '.1f'),\n",
    "                   (g.get_x() + g.get_width() / 2., g.get_height()),\n",
    "                   ha = 'center', va = 'center', \n",
    "                   xytext = (0, 10), rotation=0, \n",
    "                   textcoords = 'offset points')\n",
    "    \n",
    "plt.title('Total Penjualan game FIFA 14 pada setiap platform');\n",
    "plt.xlabel('Platform')\n",
    "plt.ylabel('Total Penjualan (US$ Juta)')\n",
    "plt.show()"
   ]
  },
  {
   "cell_type": "markdown",
   "metadata": {},
   "source": [
    "**Kesimpulan Sementara**\n",
    "\n",
    "Game FIFA 14 dirilis pada September 2013 untuk PlayStation 2, PlayStation 3, PlayStation Portable, PlayStation Vita, Xbox 360, Wii, Nintendo 3DS dan Microsoft Windows. tetapi penjualan game FIFA 14 ini lebih laris pada platform PS3 dibandingkan dengan platform lainnya"
   ]
  },
  {
   "cell_type": "markdown",
   "metadata": {},
   "source": [
    "## Distribusi umum game berdasarkan genre"
   ]
  },
  {
   "cell_type": "code",
   "execution_count": 38,
   "metadata": {},
   "outputs": [
    {
     "name": "stdout",
     "output_type": "stream",
     "text": [
      "           genre  total_sales\n",
      "0         Action       441.12\n",
      "1        Shooter       304.73\n",
      "2   Role-Playing       192.80\n",
      "3         Sports       181.07\n",
      "4           Misc        85.04\n",
      "5       Platform        61.00\n",
      "6         Racing        53.50\n",
      "7       Fighting        44.49\n",
      "8     Simulation        35.12\n",
      "9      Adventure        29.43\n",
      "10      Strategy        13.34\n",
      "11        Puzzle         4.89\n"
     ]
    }
   ],
   "source": [
    "# mengelompokan genre game terhadap total penjaualn\n",
    "\n",
    "genre_agg = df_new.groupby('genre')['total_sales'].agg('sum').sort_values(ascending=False).reset_index()\n",
    "print(genre_agg)"
   ]
  },
  {
   "cell_type": "code",
   "execution_count": 39,
   "metadata": {},
   "outputs": [
    {
     "data": {
      "image/png": "[encoded data removed]",
      "text/plain": [
       "<Figure size 1080x720 with 1 Axes>"
      ]
     },
     "metadata": {
      "needs_background": "light"
     },
     "output_type": "display_data"
    }
   ],
   "source": [
    "# membuat diagram total penjualan game berdasarkan genre\n",
    "\n",
    "plt.figure(figsize=(15,10))\n",
    "genre = sns.barplot(data=genre_agg, x='genre', y='total_sales', palette='flare')\n",
    "\n",
    "# membuat label diagram batang\n",
    "for g in genre.patches:\n",
    "    genre.annotate(format(g.get_height(), '.1f'),\n",
    "                   (g.get_x() + g.get_width() / 2., g.get_height()),\n",
    "                   ha = 'center', va = 'center', \n",
    "                   xytext = (0, 10), rotation=0, \n",
    "                   textcoords = 'offset points')\n",
    "    \n",
    "plt.title('Ditribusi penjualan game berdasarkan genre');\n",
    "plt.xlabel('Genre')\n",
    "plt.ylabel('Total Penjualan (US$ Juta)')\n",
    "plt.show()"
   ]
  },
  {
   "cell_type": "markdown",
   "metadata": {},
   "source": [
    "**Kesimpulan Sementara**\n",
    "\n",
    "dari tahun 2012 - 2016 game dengan genre Action lebih banyak peminatnya jika dibandingkan dengan genre lainnya dan game dengan genre Puzzle memiliki peminat yang sedikit"
   ]
  },
  {
   "cell_type": "markdown",
   "metadata": {},
   "source": [
    "## Kesimpulan Data Analyst\n",
    "\n",
    "Dari analisis yang dilakukan, dapat disimpulkan bahwa industri permainan video mengalami puncak jumlah perilisan pada tahun 2008-2009, namun setelah itu terjadi penurunan. Platform PS2 memimpin dalam angka penjualan sepanjang tahun 2000-2016 dengan total penjualan sebesar 1.233 juta USD, menandakan dominasinya dalam industri. \n",
    "\n",
    "Analisis lima tahun terakhir (2012-2016) menunjukkan bahwa PS4 mendominasi penjualan games dengan total 314 juta USD, sementara platform lain seperti X360, WiiU, dan XOne juga menunjukkan penjualan yang tinggi. Korelasi positif antara critic_score dan total_sales pada platform PS4 menyarankan bahwa peningkatan critic_score berkorelasi dengan peningkatan penjualan, sementara user_score tidak memiliki dampak yang signifikan.\n",
    "\n",
    "Game FIFA 14, yang dirilis pada 2013, lebih laris terjual di platform PS3 dibandingkan dengan platform lainnya. Selain itu, dalam rentang 2012-2016, genre Action menjadi favorit peminat, sementara genre Puzzle memiliki peminat yang lebih sedikit. \n",
    "\n",
    "Kesimpulan ini memberikan gambaran komprehensif tentang tren perilisan, penjualan, dan preferensi peminat dalam industri permainan video selama beberapa tahun terakhir."
   ]
  },
  {
   "cell_type": "markdown",
   "metadata": {},
   "source": [
    "# Pemrofilan pengguna untuk masing-masing wilayah\n",
    "\n",
    "tahap ini analisa akan melakukan pemrofilan platform game untuk setiap wilayah, menganalisa game teratas dan apakah rating ESRB mempengaruhi penjualan dimasing-masing wilyah (NA, EU, JP)."
   ]
  },
  {
   "cell_type": "markdown",
   "metadata": {},
   "source": [
    "## 5 Platform Teratas"
   ]
  },
  {
   "cell_type": "code",
   "execution_count": 40,
   "metadata": {},
   "outputs": [
    {
     "name": "stdout",
     "output_type": "stream",
     "text": [
      "   platform  na_sales  eu_sales  jp_sales\n",
      "0       3DS     55.31     42.64     87.79\n",
      "1        DS      4.59      3.53      3.72\n",
      "2        PC     19.12     37.76      0.00\n",
      "3       PS3    103.38    106.86     35.29\n",
      "4       PS4    108.74    141.09     15.96\n",
      "5       PSP      0.13      0.42     10.47\n",
      "6       PSV     10.98     11.36     21.04\n",
      "7       Wii     17.45     11.92      3.39\n",
      "8      WiiU     38.10     25.13     13.01\n",
      "9      X360    140.05     74.52      1.57\n",
      "10     XOne     93.12     51.59      0.34\n"
     ]
    }
   ],
   "source": [
    "# melihat penjualan platform pada setiap wilayah\n",
    "\n",
    "platform_region = df_new.groupby('platform')[['na_sales','eu_sales','jp_sales']].agg('sum').reset_index()\n",
    "print(platform_region)"
   ]
  },
  {
   "cell_type": "markdown",
   "metadata": {},
   "source": [
    "**Penjualan Platform pada Wilayah Amerika Utara**"
   ]
  },
  {
   "cell_type": "code",
   "execution_count": 41,
   "metadata": {},
   "outputs": [
    {
     "data": {
      "image/png": "[encoded data removed]",
      "text/plain": [
       "<Figure size 1080x720 with 1 Axes>"
      ]
     },
     "metadata": {
      "needs_background": "light"
     },
     "output_type": "display_data"
    }
   ],
   "source": [
    "# melihat penjualan platform pada wilayah Amerika Utara\n",
    "\n",
    "plt.figure(figsize=(15,10))\n",
    "na = sns.barplot(data=platform_region.nlargest(5,'na_sales'), x='platform', y='na_sales', palette='flare')\n",
    "\n",
    "# membuat label diagram batang\n",
    "for g in na.patches:\n",
    "    na.annotate(format(g.get_height(), '.1f'),\n",
    "                   (g.get_x() + g.get_width() / 2., g.get_height()),\n",
    "                   ha = 'center', va = 'center', \n",
    "                   xytext = (0, 5), rotation=0, \n",
    "                   textcoords = 'offset points')\n",
    "plt.title('5 Platform Teratas di Amerika Utara',fontsize=15)\n",
    "plt.xlabel('Platform')\n",
    "plt.ylabel('Penjualan di Amerika Utara (US$ Juta)')\n",
    "plt.show()"
   ]
  },
  {
   "cell_type": "markdown",
   "metadata": {},
   "source": [
    "**Penjualan Platform pada Wilayah Eropa**"
   ]
  },
  {
   "cell_type": "code",
   "execution_count": 42,
   "metadata": {},
   "outputs": [
    {
     "data": {
      "image/png": "[encoded data removed]",
      "text/plain": [
       "<Figure size 1080x720 with 1 Axes>"
      ]
     },
     "metadata": {
      "needs_background": "light"
     },
     "output_type": "display_data"
    }
   ],
   "source": [
    "# melihat penjualan platform pada wilayah Eropa\n",
    "\n",
    "plt.figure(figsize=(15,10))\n",
    "eu = sns.barplot(data=platform_region.nlargest(5,'eu_sales'), x='platform', y='eu_sales', palette='flare')\n",
    "\n",
    "# membuat label diagram batang\n",
    "for g in eu.patches:\n",
    "    eu.annotate(format(g.get_height(), '.1f'),\n",
    "                   (g.get_x() + g.get_width() / 2., g.get_height()),\n",
    "                   ha = 'center', va = 'center', \n",
    "                   xytext = (0, 5), rotation=0, \n",
    "                   textcoords = 'offset points')\n",
    "plt.title('5 Platform Teratas di Eropa',fontsize=15)\n",
    "plt.xlabel('Platform')\n",
    "plt.ylabel('Penjualan di Eropa (US$ Juta)')\n",
    "plt.show()"
   ]
  },
  {
   "cell_type": "markdown",
   "metadata": {},
   "source": [
    "**Penjualan Platform pada Wilayah Jepang**"
   ]
  },
  {
   "cell_type": "code",
   "execution_count": 43,
   "metadata": {},
   "outputs": [
    {
     "data": {
      "image/png": "[encoded data removed]",
      "text/plain": [
       "<Figure size 1080x720 with 1 Axes>"
      ]
     },
     "metadata": {
      "needs_background": "light"
     },
     "output_type": "display_data"
    }
   ],
   "source": [
    "# melihat penjualan platform pada wilayah Jepang\n",
    "\n",
    "plt.figure(figsize=(15,10))\n",
    "jp = sns.barplot(data=platform_region.nlargest(5,'jp_sales'), x='platform', y='jp_sales', palette='flare')\n",
    "\n",
    "# membuat label diagram batang\n",
    "for g in jp.patches:\n",
    "    jp.annotate(format(g.get_height(), '.1f'),\n",
    "                   (g.get_x() + g.get_width() / 2., g.get_height()),\n",
    "                   ha = 'center', va = 'center', \n",
    "                   xytext = (0, 5), rotation=0, \n",
    "                   textcoords = 'offset points')\n",
    "plt.title('5 Platform Teratas di Jepang',fontsize=15)\n",
    "plt.xlabel('Platform')\n",
    "plt.ylabel('Penjualan di Jepang (US$ Juta)')\n",
    "plt.show()"
   ]
  },
  {
   "cell_type": "markdown",
   "metadata": {},
   "source": [
    "**Kesimpulan Sementara**\n",
    "\n",
    "- Di Amerika Tiga platform teratas (X360, PS2, Wii) berasal dari pengembang yang berbeda, penjualan di Amerika Utara menghasilkan pendapatan tertinggi dengan persaingan platform yang seimbang.\n",
    "- Di Eropa, dominasi platform dari Sony dan Nintendo menandakan preferensi regional dengan pendapatan sekitar setengah dari Amerika Utara.\n",
    "- Di Jepang, Nintendo dan Sony mendominasi. Preferensi yang tajam tercermin dalam pendapatan lebih rendah dan kesenjangan antar platform yang lebih besar. Konsol genggam mendominasi pasar Jepang."
   ]
  },
  {
   "cell_type": "markdown",
   "metadata": {},
   "source": [
    "## 5 Genre Teratas"
   ]
  },
  {
   "cell_type": "code",
   "execution_count": 44,
   "metadata": {},
   "outputs": [
    {
     "name": "stdout",
     "output_type": "stream",
     "text": [
      "           genre  na_sales  eu_sales  jp_sales\n",
      "0         Action    177.84    159.34     52.80\n",
      "1      Adventure      8.92      9.46      8.24\n",
      "2       Fighting     19.79     10.79      9.44\n",
      "3           Misc     38.19     26.32     12.86\n",
      "4       Platform     25.38     21.41      8.63\n",
      "5         Puzzle      1.13      1.40      2.14\n",
      "6         Racing     17.22     27.29      2.50\n",
      "7   Role-Playing     64.00     48.53     65.44\n",
      "8        Shooter    144.77    113.47      9.23\n",
      "9     Simulation      7.97     14.55     10.41\n",
      "10        Sports     81.53     69.09      8.01\n",
      "11      Strategy      4.23      5.17      2.88\n"
     ]
    }
   ],
   "source": [
    "# melihat Genre pada setiap wilayah\n",
    "\n",
    "genre_region = df_new.groupby('genre')[['na_sales','eu_sales','jp_sales']].agg('sum').reset_index()\n",
    "print(genre_region)"
   ]
  },
  {
   "cell_type": "markdown",
   "metadata": {},
   "source": [
    "**Penjualan Genre pada Wilayah Amerika Utara**"
   ]
  },
  {
   "cell_type": "code",
   "execution_count": 45,
   "metadata": {},
   "outputs": [
    {
     "data": {
      "image/png": "[encoded data removed]",
      "text/plain": [
       "<Figure size 1080x720 with 1 Axes>"
      ]
     },
     "metadata": {
      "needs_background": "light"
     },
     "output_type": "display_data"
    }
   ],
   "source": [
    "# melihat penjualan Genre games pada wilayah Amerika Utara\n",
    "\n",
    "plt.figure(figsize=(15,10))\n",
    "na = sns.barplot(data=genre_region.nlargest(5,'na_sales'), x='genre', y='na_sales', palette='flare')\n",
    "\n",
    "# membuat label diagram batang\n",
    "for g in na.patches:\n",
    "    na.annotate(format(g.get_height(), '.1f'),\n",
    "                   (g.get_x() + g.get_width() / 2., g.get_height()),\n",
    "                   ha = 'center', va = 'center', \n",
    "                   xytext = (0, 5), rotation=0, \n",
    "                   textcoords = 'offset points')\n",
    "plt.title('5 Genre Teratas di Amerika Utara',fontsize=15)\n",
    "plt.xlabel('Genre')\n",
    "plt.ylabel('Penjualan di Amerika Utara (US$ Juta)')\n",
    "plt.show()"
   ]
  },
  {
   "cell_type": "markdown",
   "metadata": {},
   "source": [
    "**Penjualan Genre pada Wilayah Eropa**"
   ]
  },
  {
   "cell_type": "code",
   "execution_count": 46,
   "metadata": {},
   "outputs": [
    {
     "data": {
      "image/png": "[encoded data removed]",
      "text/plain": [
       "<Figure size 1080x720 with 1 Axes>"
      ]
     },
     "metadata": {
      "needs_background": "light"
     },
     "output_type": "display_data"
    }
   ],
   "source": [
    "# melihat penjualan Genre games pada wilayah Eropa\n",
    "\n",
    "plt.figure(figsize=(15,10))\n",
    "eu = sns.barplot(data=genre_region.nlargest(5,'eu_sales'), x='genre', y='eu_sales', palette='flare')\n",
    "\n",
    "# membuat label diagram batang\n",
    "for g in eu.patches:\n",
    "    eu.annotate(format(g.get_height(), '.1f'),\n",
    "                   (g.get_x() + g.get_width() / 2., g.get_height()),\n",
    "                   ha = 'center', va = 'center', \n",
    "                   xytext = (0, 5), rotation=0, \n",
    "                   textcoords = 'offset points')\n",
    "plt.title('5 Genre Teratas di Eropa',fontsize=15)\n",
    "plt.xlabel('Genre')\n",
    "plt.ylabel('Penjualan di Eropa (US$ Juta)')\n",
    "plt.show()"
   ]
  },
  {
   "cell_type": "markdown",
   "metadata": {},
   "source": [
    "**Penjualan Genre pada Wilayah Jepang**"
   ]
  },
  {
   "cell_type": "code",
   "execution_count": 47,
   "metadata": {},
   "outputs": [
    {
     "data": {
      "image/png": "[encoded data removed]",
      "text/plain": [
       "<Figure size 1080x720 with 1 Axes>"
      ]
     },
     "metadata": {
      "needs_background": "light"
     },
     "output_type": "display_data"
    }
   ],
   "source": [
    "# melihat penjualan Genre games pada wilayah Jepang\n",
    "\n",
    "plt.figure(figsize=(15,10))\n",
    "jp = sns.barplot(data=genre_region.nlargest(5,'jp_sales'), x='genre', y='jp_sales', palette='flare')\n",
    "\n",
    "# membuat label diagram batang\n",
    "for g in jp.patches:\n",
    "    jp.annotate(format(g.get_height(), '.1f'),\n",
    "                   (g.get_x() + g.get_width() / 2., g.get_height()),\n",
    "                   ha = 'center', va = 'center', \n",
    "                   xytext = (0, 5), rotation=0, \n",
    "                   textcoords = 'offset points')\n",
    "plt.title('5 Genre Teratas di Jepang',fontsize=15)\n",
    "plt.xlabel('Genre')\n",
    "plt.ylabel('Penjualan di Jepang (US$ Juta)')\n",
    "plt.show()"
   ]
  },
  {
   "cell_type": "markdown",
   "metadata": {},
   "source": [
    "**Kesimpulan Sementara**\n",
    "\n",
    "Secara umum Game Action dan Role-playing masuk di 5 besar genre teratas disetiap wilayah. untuk Genre di wilayah Eropa dan Amerika Utara memiliki 4 genre teratas yang sama. sedangkan Genre wilayah jepang memiliki 3 genre teratas yang berbeda dengan kedua wilayah lainnya, Genre Role-Playing ternyata lebih diminati di wilayah jepang sedangkan untuk genre action lebih diminati di wilayah Amerika Utara dan Eropa"
   ]
  },
  {
   "cell_type": "markdown",
   "metadata": {},
   "source": [
    "## Apakah rating ESRB memengaruhi penjualan di masing-masing wilayah?"
   ]
  },
  {
   "cell_type": "code",
   "execution_count": 48,
   "metadata": {},
   "outputs": [
    {
     "name": "stdout",
     "output_type": "stream",
     "text": [
      "   rating region   sales\n",
      "0       E     na  114.37\n",
      "1    E10+     na   75.70\n",
      "2       M     na  231.57\n",
      "3       T     na   66.02\n",
      "4       E     eu  113.03\n",
      "5    E10+     eu   55.37\n",
      "6       M     eu  193.96\n",
      "7       T     eu   52.96\n",
      "8       E     jp   28.33\n",
      "9    E10+     jp    8.19\n",
      "10      M     jp   21.20\n",
      "11      T     jp   26.02\n"
     ]
    }
   ],
   "source": [
    "# mengelompokan rating ESRB dan wilayah\n",
    "\n",
    "esrb_rating = df_new.groupby('rating')[['na_sales','eu_sales','jp_sales']].agg('sum').reset_index()\n",
    "esrb_rating = esrb_rating.rename(columns={'na_sales':'sales_na','eu_sales':'sales_eu','jp_sales':'sales_jp'})\n",
    "esrb_rating = pd.wide_to_long(esrb_rating, stubnames=\"sales\",i=\"rating\",j=\"region\",sep='_', suffix=r'\\w+').reset_index()\n",
    "print(esrb_rating)"
   ]
  },
  {
   "cell_type": "code",
   "execution_count": 49,
   "metadata": {},
   "outputs": [
    {
     "data": {
      "image/png": "[encoded data removed]",
      "text/plain": [
       "<Figure size 864x432 with 1 Axes>"
      ]
     },
     "metadata": {
      "needs_background": "light"
     },
     "output_type": "display_data"
    }
   ],
   "source": [
    "# melihat penjualan games berdasarkan rating pada setiap wilayah\n",
    "\n",
    "plt.figure(figsize=(12,6))\n",
    "esrb = sns.barplot(data=esrb_rating, x='rating', y='sales', hue='region')\n",
    "\n",
    "# membuat label diagram batang\n",
    "for g in esrb.patches:\n",
    "    esrb.annotate(format(g.get_height(), '.1f'),\n",
    "                   (g.get_x() + g.get_width() / 2., g.get_height()),\n",
    "                   ha = 'center', va = 'center', \n",
    "                   xytext = (0, 5), rotation=0, \n",
    "                   textcoords = 'offset points')\n",
    "plt.title('ESRB Rating vs Penjualan Setiap Wilayah',fontsize=15)\n",
    "plt.xlabel('Rating')\n",
    "plt.ylabel('Total Penjualan (US$ Juta)')\n",
    "esrb_legend = plt.legend()\n",
    "esrb_legend.get_texts()[0].set_text('Amerika Utara')\n",
    "esrb_legend.get_texts()[1].set_text('Eropa')\n",
    "esrb_legend.get_texts()[2].set_text('Jepang')\n",
    "plt.show()"
   ]
  },
  {
   "cell_type": "markdown",
   "metadata": {},
   "source": [
    "**Kesimpulan Sementara**\n",
    "\n",
    "secara keseluruhan penjualan rating M memiliki pendapatan lebih tinggi di wilayah Eropa dan Amerika Utara. sedangkan di Jepang Rating E dan T lebih populer dibandingkan rating M"
   ]
  },
  {
   "cell_type": "markdown",
   "metadata": {},
   "source": [
    "## Kesimpulan Pemrofilan pengguna untuk masing-masing wilayah\n",
    "\n",
    "Kesimpulan dari analisis pasar game di berbagai wilayah dapat diambil dari beberapa pola yang menonjol. Di Amerika Utara, persaingan platform yang seimbang antara tiga platform teratas (X360, PS2, Wii) dari pengembang yang berbeda menghasilkan pendapatan tertinggi. Di Eropa, dominasi platform dari Sony dan Nintendo mencerminkan preferensi regional, walaupun pendapatannya sekitar setengah dari Amerika Utara. Di Jepang, Nintendo dan Sony mendominasi pasar dengan preferensi yang tajam, tercermin dari pendapatan yang lebih rendah dan kesenjangan antar platform yang lebih besar, dengan konsol genggam mendominasi pasar.\n",
    "\n",
    "Secara keseluruhan, genre game Action dan Role-playing menduduki peringkat teratas di setiap wilayah. Meskipun Eropa dan Amerika Utara memiliki empat genre teratas yang sama, Jepang memiliki tiga genre teratas yang berbeda, menunjukkan perbedaan preferensi. Role-Playing lebih diminati di Jepang, sementara Action lebih diminati di Amerika Utara dan Eropa.\n",
    "\n",
    "Ketika melihat rating game, penjualan dengan rating M memiliki pendapatan lebih tinggi di Eropa dan Amerika Utara secara keseluruhan. Di Jepang, rating E dan T lebih populer dibandingkan dengan rating M"
   ]
  },
  {
   "cell_type": "markdown",
   "metadata": {},
   "source": [
    "# Melakukan Uji Hipotesis"
   ]
  },
  {
   "cell_type": "markdown",
   "metadata": {},
   "source": [
    "Dalam analisa ini ada 2 hipotesis yang akan diuji:\n",
    "\n",
    "- Rata-rata rating pengguna platform Xbox One dan PC adalah sama. \n",
    "- Rata-rata rating pengguna genre Action dan Sports berbeda.\n",
    "- Menggunakan pendekatan hipotesis dua sample Independent (Independent T-Test) karena menggunakan dua sample yang berbeda\n"
   ]
  },
  {
   "cell_type": "markdown",
   "metadata": {},
   "source": [
    "## Rata-rata rating pengguna platform Xbox One dan PC adalah sama.\n",
    "\n",
    "- Nilai \"alpha\" yang akan digunakan = 0.05, karena merupakan salah satu pengukuran umum signifikansi statistik.\n",
    "- H0 = Rata-rata rating pengguna platform Xbox One dan PC sama\n",
    "- H1 = Rata-rata rating pengguna platform Xbox One dan PC tidak sama"
   ]
  },
  {
   "cell_type": "code",
   "execution_count": 50,
   "metadata": {},
   "outputs": [
    {
     "name": "stdout",
     "output_type": "stream",
     "text": [
      "Varians rating pengguna XOne: 1.9\n",
      "Varians rating pengguna PC: 2.76\n"
     ]
    }
   ],
   "source": [
    "# menghitung varioans dari Xbox One dan PC\n",
    "\n",
    "rating_user_xone = df_new[df_new['platform'] == 'XOne']['user_score']\n",
    "rating_user_pc = df_new[df_new['platform'] == 'PC']['user_score']\n",
    "\n",
    "print('Varians rating pengguna XOne:', np.var(rating_user_xone).round(2))\n",
    "print('Varians rating pengguna PC:', np.var(rating_user_pc).round(2))"
   ]
  },
  {
   "cell_type": "markdown",
   "metadata": {},
   "source": [
    "Variasi antara pengguna PC dan pengguna XBox One berbeda, oleh karena maka untuk perhitungan uji hipotesis, equal_var diisi dengan = False."
   ]
  },
  {
   "cell_type": "code",
   "execution_count": 51,
   "metadata": {},
   "outputs": [
    {
     "name": "stdout",
     "output_type": "stream",
     "text": [
      "p-value: 0.5489537965134987\n",
      "Kita tidak dapat menolak hipotesis nol\n"
     ]
    }
   ],
   "source": [
    "# menguji hipotesis - Rata-rata rating pengguna platform Xbox One dan PC adalah sama\n",
    "\n",
    "alpha = 0.05\n",
    "results_1 = st.ttest_ind(rating_user_xone, rating_user_pc, equal_var=False, nan_policy='omit')\n",
    "\n",
    "# print p-value\n",
    "print('p-value:', results_1.pvalue)\n",
    "\n",
    "# membandingkan nilai p dengan tingkat signifikansi\n",
    "if results_1.pvalue < alpha:\n",
    "    print(\"Kita menolak hipotesis nol\")\n",
    "else:\n",
    "    print(\"Kita tidak dapat menolak hipotesis nol\")"
   ]
  },
  {
   "cell_type": "markdown",
   "metadata": {},
   "source": [
    "Hasil uji hipotesis pertama adalah kita tidak dapat menolak hipotesis nol, yang berarti rata-rata rating pengguna platform Xbox One dan PC adalah sama."
   ]
  },
  {
   "cell_type": "markdown",
   "metadata": {},
   "source": [
    "## Rata-rata rating pengguna genre Action dan Sports berbeda.\n",
    "\n",
    "- Nilai \"alpha\" yang akan digunakan = 0.05, karena merupakan salah satu pengukuran umum signifikansi statistik.\n",
    "- H0 = Rata-rata rating pengguna genre Action dan Sports sama\n",
    "- H1 = Rata-rata rating pengguna genre Action dan Sports tidak sama"
   ]
  },
  {
   "cell_type": "code",
   "execution_count": 52,
   "metadata": {},
   "outputs": [
    {
     "name": "stdout",
     "output_type": "stream",
     "text": [
      "Varians rating Genre Action: 1.89\n",
      "Varians rating Genre Sports: 3.01\n"
     ]
    }
   ],
   "source": [
    "# menghitung varioans dari Genre Action dan Sports\n",
    "\n",
    "rating_user_action = df_new[df_new['genre'] == 'Action']['user_score']\n",
    "rating_user_sports = df_new[df_new['genre'] == 'Sports']['user_score']\n",
    "\n",
    "print('Varians rating Genre Action:', np.var(rating_user_action).round(2))\n",
    "print('Varians rating Genre Sports:', np.var(rating_user_sports).round(2))"
   ]
  },
  {
   "cell_type": "markdown",
   "metadata": {},
   "source": [
    "Variasi antara genre Action dan Sports berbeda, oleh karena maka untuk perhitungan uji hipotesis, equal_var diisi dengan = False."
   ]
  },
  {
   "cell_type": "code",
   "execution_count": 53,
   "metadata": {},
   "outputs": [
    {
     "name": "stdout",
     "output_type": "stream",
     "text": [
      "p-value: 4.24307776572644e-20\n",
      "Kita menolak hipotesis nol\n"
     ]
    }
   ],
   "source": [
    "# menguji hipotesis - Rata-rata rating Genre Action dan Sports adalah berbeda\n",
    "\n",
    "alpha = 0.05\n",
    "results_2 = st.ttest_ind(rating_user_action, rating_user_sports, equal_var=False, nan_policy='omit')\n",
    "\n",
    "# print p-value\n",
    "print('p-value:',results_2.pvalue) \n",
    "\n",
    "# membandingkan nilai p dengan tingkat signifikansi\n",
    "if results_2.pvalue < alpha:\n",
    "    print(\"Kita menolak hipotesis nol\")\n",
    "else:\n",
    "    print(\"Kita tidak dapat menolak hipotesis nol\")"
   ]
  },
  {
   "cell_type": "markdown",
   "metadata": {},
   "source": [
    "Hasil uji hipotesis kedua juga adalah kita tidak dapat menolak hipotesis nol, yang berarti rata-rata rating pengguna rating pengguna genre Action dan Sports adalah tidak sama."
   ]
  },
  {
   "cell_type": "markdown",
   "metadata": {},
   "source": [
    "## Kesimpulan Uji Hipotesis\n",
    "\n",
    "**Kesimpulan Hipotesis Pertama:**\n",
    "Kita tidak dapat menolak hipotesis nol. Ini berarti tidak ada cukup bukti statistik yang mendukung perbedaan yang signifikan antara varians rating pengguna platform Xbox One dan PC. Dengan kata lain, rata-rata rating pengguna keduanya mungkin sama.\n",
    "\n",
    "\n",
    "**Kesimpulan Hipotesis Kedua:**\n",
    "Kita menolak hipotesis nol. Terdapat cukup bukti statistik yang mendukung perbedaan yang signifikan antara varians rating pengguna genre Action dan Sports. Dengan kata lain, rata-rata rating pengguna antara genre Action dan Sports adalah berbeda."
   ]
  },
  {
   "cell_type": "markdown",
   "metadata": {},
   "source": [
    "# Kesimpulan Umum"
   ]
  },
  {
   "cell_type": "markdown",
   "metadata": {},
   "source": [
    "Berdasarkan hasil analisis yang telah dilakukan terhadap industri permainan video dengan fokus pada toko online \"Ice\" dan data tahun 2016, kami berhasil mengidentifikasi pola-pola yang dapat memberikan wawasan strategis untuk perencanaan kampanye iklan pada tahun 2017.\n",
    "\n",
    "Dari segi perilisan game, industri mengalami puncak pada tahun 2008-2009, namun setelah itu terjadi penurunan. Platform PS2 menonjol sebagai pemimpin dengan total penjualan sebesar 1.233 juta USD, menunjukkan dominasinya dalam industri selama rentang waktu 2000-2016.\n",
    "\n",
    "Ketika mengevaluasi lima tahun terakhir (2012-2016), PS4 muncul sebagai pemimpin penjualan games dengan total 314 juta USD. Korelasi positif antara critic_score dan total_sales pada platform PS4 menunjukkan bahwa peningkatan critic_score berkorelasi dengan peningkatan penjualan, sedangkan user_score tidak memiliki dampak yang signifikan.\n",
    "\n",
    "Selama periode 2012-2016, genre Action menjadi favorit peminat, sementara genre Puzzle memiliki peminat yang lebih sedikit.\n",
    "\n",
    "Melihat pasar game di berbagai wilayah, Amerika Utara menunjukkan persaingan platform yang seimbang, sementara di Eropa terlihat dominasi platform dari Sony dan Nintendo. Di Jepang, Nintendo dan Sony mendominasi dengan preferensi yang tajam, tercermin dalam pendapatan lebih rendah dan kesenjangan antar platform yang lebih besar, dengan konsol genggam mendominasi pasar.\n",
    "\n",
    "Dalam hal genre game, Action dan Role-playing menduduki peringkat teratas di setiap wilayah, meskipun terdapat perbedaan preferensi di Jepang. Role-Playing lebih diminati di Jepang, sementara Action lebih diminati di Amerika Utara dan Eropa.\n",
    "\n",
    "Terakhir, ketika melihat rating game, penjualan dengan rating M memiliki pendapatan lebih tinggi di Eropa dan Amerika Utara secara keseluruhan. Di Jepang, rating E dan T lebih populer dibandingkan dengan rating M.\n",
    "\n",
    "Berdasarkan hasil uji hipotesis, dapat disimpulkan bahwa hipotesis pertama, yang menguji perbedaan varians rating pengguna antara platform Xbox One dan PC, tidak dapat ditolak. Artinya, tidak ada cukup bukti statistik yang mendukung perbedaan yang signifikan antara varians rating pengguna kedua platform tersebut. Secara sederhana, kita dapat menyimpulkan bahwa rata-rata rating pengguna pada platform Xbox One dan PC mungkin sama.\n",
    "\n",
    "Sementara itu, hipotesis kedua menunjukkan hasil yang berbeda. Dengan menolak hipotesis nol, terdapat cukup bukti statistik yang mendukung perbedaan yang signifikan antara varians rating pengguna genre Action dan Sports. Jadi, dapat diartikan bahwa rata-rata rating pengguna antara genre Action dan Sports memang berbeda. Hasil ini memberikan wawasan yang berharga tentang preferensi pengguna antara kedua genre tersebut.\n",
    "\n",
    "**Rekomendasi strategi penjualan yang dapat meningkatkan performa toko:**\n",
    "\n",
    "1. Fokus pada Platform Unggulan:\n",
    "    - Mengingat dominasi PS4 dalam lima tahun terakhir, disarankan untuk meningkatkan stok dan promosi game-game yang dirilis di platform ini. Dimana rata-rata waktu platform memudar adalah sekitar 6.5 tahun sebelum adanya platform baru\n",
    "    \n",
    "    \n",
    "2. Optimalkan Kualitas Game:\n",
    "    - Game yang memiliki ulasan kritikus yang baik memiliki kinerja yang lebih baik di pasar, sementara ulasan pengguna tidak berdampak pada penjualan. Performa penjualan game yang sama berbeda di setiap platform. Investasikan pada pengembangan game berkualitas tinggi dan fokus pada penerimaan kritis untuk meningkatkan daya tarik pelanggan.\n",
    "    \n",
    "    \n",
    "3. Pemanfaatan Genre Populer:\n",
    "    - Berdasarkan analisis genre, perhatikan pemasaran dan promosi khusus untuk game-game dengan genre Action, Shooter, Sports dan Role-playing. Ini dapat mencakup paket bundel atau diskon untuk game-game populer dalam kategori ini.\n",
    "    \n",
    "    \n",
    "4. Pengoptimalan Rating Usia:\n",
    "    - Manfaatkan popularitas rating M di Eropa dan Amerika Utara dengan menonjolkan game-game dengan rating tersebut. Di Jepang, pertimbangkan strategi khusus untuk menarik pemain dengan rating E dan T."
   ]
  },
  {
   "cell_type": "markdown",
   "metadata": {},
   "source": []
  }
 ],
 "metadata": {
  "kernelspec": {
   "display_name": "Python 3 (ipykernel)",
   "language": "python",
   "name": "python3"
  },
  "language_info": {
   "codemirror_mode": {
    "name": "ipython",
    "version": 3
   },
   "file_extension": ".py",
   "mimetype": "text/x-python",
   "name": "python",
   "nbconvert_exporter": "python",
   "pygments_lexer": "ipython3",
   "version": "3.11.2"
  },
  "toc": {
   "base_numbering": 1,
   "nav_menu": {
    "height": "565px",
    "width": "289.278px"
   },
   "number_sections": false,
   "sideBar": true,
   "skip_h1_title": false,
   "title_cell": "Konten",
   "title_sidebar": "Contents",
   "toc_cell": true,
   "toc_position": {
    "height": "calc(100% - 180px)",
    "left": "10px",
    "top": "150px",
    "width": "410.653px"
   },
   "toc_section_display": true,
   "toc_window_display": true
  }
 },
 "nbformat": 4,
 "nbformat_minor": 4
}
